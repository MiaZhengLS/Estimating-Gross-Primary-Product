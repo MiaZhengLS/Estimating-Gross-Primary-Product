{
 "cells": [
  {
   "cell_type": "code",
   "execution_count": 1,
   "id": "e2c153e4-a15e-4bfa-bf76-7bc44627f072",
   "metadata": {
    "tags": []
   },
   "outputs": [
    {
     "name": "stdout",
     "output_type": "stream",
     "text": [
      "['LC_Type1', 'LST_Day_1km', 'pr', 'aet', 'NDVI', 'EVI']\n",
      "['LST_Day_1km', 'pr', 'aet', 'NDVI', 'EVI']\n",
      "['LC_Type1']\n"
     ]
    }
   ],
   "source": [
    "%run common.ipynb"
   ]
  },
  {
   "cell_type": "code",
   "execution_count": 2,
   "id": "9e6a6fcb-63d4-4dc9-9405-9705dfc40c90",
   "metadata": {
    "tags": []
   },
   "outputs": [
    {
     "name": "stdout",
     "output_type": "stream",
     "text": [
      "Using TensorFlow backend\n"
     ]
    }
   ],
   "source": [
    "%run tuning_common.ipynb"
   ]
  },
  {
   "cell_type": "code",
   "execution_count": 3,
   "id": "b77a947f-f027-4edc-b608-6a104a280472",
   "metadata": {
    "tags": []
   },
   "outputs": [],
   "source": [
    "MODEL_SAVE_DIR = f'{DOWNSTREAM_E2E_DIR}model'"
   ]
  },
  {
   "cell_type": "code",
   "execution_count": 4,
   "id": "132ffa51-c9c7-4863-a813-07623c487e48",
   "metadata": {
    "tags": []
   },
   "outputs": [],
   "source": [
    "downstream_train_df = pd.read_csv(f'{DATA_FOLDER}{DOWNSTREAM_TRAIN_FILENAME}')\n",
    "downstream_test_df = pd.read_csv(f'{DATA_FOLDER}{DOWNSTREAM_TEST_FILENAME}')"
   ]
  },
  {
   "cell_type": "code",
   "execution_count": 5,
   "id": "d9b0e733-4734-49e9-b353-c246206c0701",
   "metadata": {
    "tags": []
   },
   "outputs": [],
   "source": [
    "downstream_train_df = embed_catgorical_features(downstream_train_df, CATEGORICAL_FEATURES)\n",
    "downstream_test_df = embed_catgorical_features(downstream_test_df, CATEGORICAL_FEATURES)"
   ]
  },
  {
   "cell_type": "code",
   "execution_count": 6,
   "id": "74481fb8-a0b0-47be-b6da-09f8a84dffc4",
   "metadata": {
    "tags": []
   },
   "outputs": [
    {
     "name": "stdout",
     "output_type": "stream",
     "text": [
      "LC_Type1        object\n",
      "LST_Day_1km    float64\n",
      "pr             float64\n",
      "aet            float64\n",
      "NDVI           float64\n",
      "EVI            float64\n",
      "Gpp            float64\n",
      "dtype: object\n",
      "['LC_Type1']\n"
     ]
    }
   ],
   "source": [
    "print(downstream_test_df.dtypes)\n",
    "print(CATEGORICAL_FEATURES)"
   ]
  },
  {
   "cell_type": "code",
   "execution_count": 7,
   "id": "c0ef5330-003e-4427-9e34-cfb50accf0e0",
   "metadata": {
    "tags": []
   },
   "outputs": [],
   "source": [
    "from sklearn.model_selection import train_test_split\n",
    "split_train_df, split_val_df = train_test_split(downstream_train_df, test_size=0.2, shuffle=True, random_state=8)"
   ]
  },
  {
   "cell_type": "code",
   "execution_count": 8,
   "id": "c6440f83-4c27-4ed6-9a1a-6b749f68d1be",
   "metadata": {
    "tags": []
   },
   "outputs": [
    {
     "name": "stderr",
     "output_type": "stream",
     "text": [
      "/home/zheng.yant/ML-LUE/fttransformer/utils/preprocessing.py:21: FutureWarning: Support for multi-dimensional indexing (e.g. `obj[:, None]`) is deprecated and will be removed in a future version.  Convert to a numpy array before indexing instead.\n",
      "  dataset[key] = value[:, tf.newaxis]\n",
      "/home/zheng.yant/ML-LUE/fttransformer/utils/preprocessing.py:21: FutureWarning: Support for multi-dimensional indexing (e.g. `obj[:, None]`) is deprecated and will be removed in a future version.  Convert to a numpy array before indexing instead.\n",
      "  dataset[key] = value[:, tf.newaxis]\n"
     ]
    }
   ],
   "source": [
    "split_train_tf = df_to_dataset(split_train_df[FEATURES + [TARGET_FEATURE]], TARGET_FEATURE, shuffle=True, batch_size=256)\n",
    "split_val_tf = df_to_dataset(split_val_df[FEATURES + [TARGET_FEATURE]], TARGET_FEATURE, shuffle=False, batch_size=256)"
   ]
  },
  {
   "cell_type": "code",
   "execution_count": 9,
   "id": "39773134-98ad-4935-a1fa-d6224f9beb29",
   "metadata": {
    "tags": []
   },
   "outputs": [],
   "source": [
    "pretrained_model = tf.keras.models.load_model(f'{UPSTREAM_FINETUNE_OPTUNA_DIR}/model_backup')"
   ]
  },
  {
   "cell_type": "markdown",
   "id": "e681f585-8ba3-4b63-b387-539cd4b2d769",
   "metadata": {},
   "source": [
    "## End to end tuning"
   ]
  },
  {
   "cell_type": "code",
   "execution_count": 10,
   "id": "9827df27-344d-439c-ad47-6f9a867e3ca7",
   "metadata": {
    "tags": []
   },
   "outputs": [
    {
     "name": "stdout",
     "output_type": "stream",
     "text": [
      "Model: \"model\"\n",
      "__________________________________________________________________________________________________\n",
      " Layer (type)                   Output Shape         Param #     Connected to                     \n",
      "==================================================================================================\n",
      " EVI (InputLayer)               [(None, 1)]          0           []                               \n",
      "                                                                                                  \n",
      " LC_Type1 (InputLayer)          [(None, 1)]          0           []                               \n",
      "                                                                                                  \n",
      " LST_Day_1km (InputLayer)       [(None, 1)]          0           []                               \n",
      "                                                                                                  \n",
      " NDVI (InputLayer)              [(None, 1)]          0           []                               \n",
      "                                                                                                  \n",
      " aet (InputLayer)               [(None, 1)]          0           []                               \n",
      "                                                                                                  \n",
      " pr (InputLayer)                [(None, 1)]          0           []                               \n",
      "                                                                                                  \n",
      " ft_transformer (FTTransformer)  {'output': (None, 1  17837988   ['EVI[0][0]',                    \n",
      "                                ),                                'LC_Type1[0][0]',               \n",
      "                                 'importances': (No               'LST_Day_1km[0][0]',            \n",
      "                                ne, 7)}                           'NDVI[0][0]',                   \n",
      "                                                                  'aet[0][0]',                    \n",
      "                                                                  'pr[0][0]']                     \n",
      "                                                                                                  \n",
      "==================================================================================================\n",
      "Total params: 17,837,988\n",
      "Trainable params: 17,837,988\n",
      "Non-trainable params: 0\n",
      "__________________________________________________________________________________________________\n",
      "None\n"
     ]
    }
   ],
   "source": [
    "input_tensors = get_input_tensors(split_train_tf)\n",
    "outputs = pretrained_model(input_tensors, training=False)\n",
    "model = tf.keras.Model(input_tensors, outputs)\n",
    "print(model.summary())"
   ]
  },
  {
   "cell_type": "code",
   "execution_count": 11,
   "id": "b922ebe8-4cde-42ed-a8c0-6e4865b73876",
   "metadata": {
    "collapsed": true,
    "jupyter": {
     "outputs_hidden": true
    },
    "tags": []
   },
   "outputs": [
    {
     "name": "stdout",
     "output_type": "stream",
     "text": [
      "Epoch 1/1000\n",
      "4/4 [==============================] - ETA: 0s - loss: 164095056.0000 - ft_transformer_loss: 145342032.0000 - ft_transformer_1_loss: 18753038.0000 - ft_transformer_root_mean_squared_error: 12055.7881 - ft_transformer_1_root_mean_squared_error: 4330.4780"
     ]
    },
    {
     "name": "stderr",
     "output_type": "stream",
     "text": [
      "WARNING:absl:Function `_wrapped_model` contains input name(s) args_0 with unsupported characters which will be renamed to args_0_2 in the SavedModel.\n",
      "WARNING:absl:Found untraced functions such as _update_step_xla, _update_step_xla, flatten_layer_call_fn, flatten_layer_call_and_return_conditional_losses, dense_layer_call_fn while saving (showing 5 of 56). These functions will not be directly callable after loading.\n"
     ]
    },
    {
     "name": "stdout",
     "output_type": "stream",
     "text": [
      "4/4 [==============================] - 12s 2s/step - loss: 164095056.0000 - ft_transformer_loss: 145342032.0000 - ft_transformer_1_loss: 18753038.0000 - ft_transformer_root_mean_squared_error: 12055.7881 - ft_transformer_1_root_mean_squared_error: 4330.4780 - val_loss: 169947104.0000 - val_ft_transformer_loss: 148593408.0000 - val_ft_transformer_1_loss: 21353704.0000 - val_ft_transformer_root_mean_squared_error: 12189.8906 - val_ft_transformer_1_root_mean_squared_error: 4621.0068\n",
      "Epoch 2/1000\n",
      "4/4 [==============================] - ETA: 0s - loss: 162534688.0000 - ft_transformer_loss: 145342016.0000 - ft_transformer_1_loss: 17192670.0000 - ft_transformer_root_mean_squared_error: 12055.7881 - ft_transformer_1_root_mean_squared_error: 4146.4043"
     ]
    },
    {
     "name": "stderr",
     "output_type": "stream",
     "text": [
      "WARNING:absl:Function `_wrapped_model` contains input name(s) args_0 with unsupported characters which will be renamed to args_0_2 in the SavedModel.\n",
      "WARNING:absl:Found untraced functions such as _update_step_xla, _update_step_xla, flatten_layer_call_fn, flatten_layer_call_and_return_conditional_losses, dense_layer_call_fn while saving (showing 5 of 56). These functions will not be directly callable after loading.\n"
     ]
    },
    {
     "name": "stdout",
     "output_type": "stream",
     "text": [
      "4/4 [==============================] - 7s 2s/step - loss: 162534688.0000 - ft_transformer_loss: 145342016.0000 - ft_transformer_1_loss: 17192670.0000 - ft_transformer_root_mean_squared_error: 12055.7881 - ft_transformer_1_root_mean_squared_error: 4146.4043 - val_loss: 168841600.0000 - val_ft_transformer_loss: 148593424.0000 - val_ft_transformer_1_loss: 20248180.0000 - val_ft_transformer_root_mean_squared_error: 12189.8896 - val_ft_transformer_1_root_mean_squared_error: 4499.7979\n",
      "Epoch 3/1000\n",
      "4/4 [==============================] - ETA: 0s - loss: 161723024.0000 - ft_transformer_loss: 145342000.0000 - ft_transformer_1_loss: 16381017.0000 - ft_transformer_root_mean_squared_error: 12055.7881 - ft_transformer_1_root_mean_squared_error: 4047.3469"
     ]
    },
    {
     "name": "stderr",
     "output_type": "stream",
     "text": [
      "WARNING:absl:Function `_wrapped_model` contains input name(s) args_0 with unsupported characters which will be renamed to args_0_2 in the SavedModel.\n",
      "WARNING:absl:Found untraced functions such as _update_step_xla, _update_step_xla, flatten_layer_call_fn, flatten_layer_call_and_return_conditional_losses, dense_layer_call_fn while saving (showing 5 of 56). These functions will not be directly callable after loading.\n"
     ]
    },
    {
     "name": "stdout",
     "output_type": "stream",
     "text": [
      "4/4 [==============================] - 7s 2s/step - loss: 161723024.0000 - ft_transformer_loss: 145342000.0000 - ft_transformer_1_loss: 16381017.0000 - ft_transformer_root_mean_squared_error: 12055.7881 - ft_transformer_1_root_mean_squared_error: 4047.3469 - val_loss: 168088000.0000 - val_ft_transformer_loss: 148593392.0000 - val_ft_transformer_1_loss: 19494610.0000 - val_ft_transformer_root_mean_squared_error: 12189.8896 - val_ft_transformer_1_root_mean_squared_error: 4415.2700\n",
      "Epoch 4/1000\n",
      "4/4 [==============================] - ETA: 0s - loss: 160803088.0000 - ft_transformer_loss: 145342016.0000 - ft_transformer_1_loss: 15461078.0000 - ft_transformer_root_mean_squared_error: 12055.7881 - ft_transformer_1_root_mean_squared_error: 3932.0576"
     ]
    },
    {
     "name": "stderr",
     "output_type": "stream",
     "text": [
      "WARNING:absl:Function `_wrapped_model` contains input name(s) args_0 with unsupported characters which will be renamed to args_0_2 in the SavedModel.\n",
      "WARNING:absl:Found untraced functions such as _update_step_xla, _update_step_xla, flatten_layer_call_fn, flatten_layer_call_and_return_conditional_losses, dense_layer_call_fn while saving (showing 5 of 56). These functions will not be directly callable after loading.\n"
     ]
    },
    {
     "name": "stdout",
     "output_type": "stream",
     "text": [
      "4/4 [==============================] - 7s 2s/step - loss: 160803088.0000 - ft_transformer_loss: 145342016.0000 - ft_transformer_1_loss: 15461078.0000 - ft_transformer_root_mean_squared_error: 12055.7881 - ft_transformer_1_root_mean_squared_error: 3932.0576 - val_loss: 167670272.0000 - val_ft_transformer_loss: 148593408.0000 - val_ft_transformer_1_loss: 19076870.0000 - val_ft_transformer_root_mean_squared_error: 12189.8896 - val_ft_transformer_1_root_mean_squared_error: 4367.7075\n",
      "Epoch 5/1000\n",
      "4/4 [==============================] - ETA: 0s - loss: 160275744.0000 - ft_transformer_loss: 145342016.0000 - ft_transformer_1_loss: 14933720.0000 - ft_transformer_root_mean_squared_error: 12055.7881 - ft_transformer_1_root_mean_squared_error: 3864.4172"
     ]
    },
    {
     "name": "stderr",
     "output_type": "stream",
     "text": [
      "WARNING:absl:Function `_wrapped_model` contains input name(s) args_0 with unsupported characters which will be renamed to args_0_2 in the SavedModel.\n",
      "WARNING:absl:Found untraced functions such as _update_step_xla, _update_step_xla, flatten_layer_call_fn, flatten_layer_call_and_return_conditional_losses, dense_layer_call_fn while saving (showing 5 of 56). These functions will not be directly callable after loading.\n"
     ]
    },
    {
     "name": "stdout",
     "output_type": "stream",
     "text": [
      "4/4 [==============================] - 7s 2s/step - loss: 160275744.0000 - ft_transformer_loss: 145342016.0000 - ft_transformer_1_loss: 14933720.0000 - ft_transformer_root_mean_squared_error: 12055.7881 - ft_transformer_1_root_mean_squared_error: 3864.4172 - val_loss: 167522624.0000 - val_ft_transformer_loss: 148593392.0000 - val_ft_transformer_1_loss: 18929232.0000 - val_ft_transformer_root_mean_squared_error: 12189.8896 - val_ft_transformer_1_root_mean_squared_error: 4350.7739\n",
      "Epoch 6/1000\n",
      "4/4 [==============================] - ETA: 0s - loss: 160461648.0000 - ft_transformer_loss: 145342016.0000 - ft_transformer_1_loss: 15119628.0000 - ft_transformer_root_mean_squared_error: 12055.7881 - ft_transformer_1_root_mean_squared_error: 3888.3965"
     ]
    },
    {
     "name": "stderr",
     "output_type": "stream",
     "text": [
      "WARNING:absl:Function `_wrapped_model` contains input name(s) args_0 with unsupported characters which will be renamed to args_0_2 in the SavedModel.\n",
      "WARNING:absl:Found untraced functions such as _update_step_xla, _update_step_xla, flatten_layer_call_fn, flatten_layer_call_and_return_conditional_losses, dense_layer_call_fn while saving (showing 5 of 56). These functions will not be directly callable after loading.\n"
     ]
    },
    {
     "name": "stdout",
     "output_type": "stream",
     "text": [
      "4/4 [==============================] - 7s 2s/step - loss: 160461648.0000 - ft_transformer_loss: 145342016.0000 - ft_transformer_1_loss: 15119628.0000 - ft_transformer_root_mean_squared_error: 12055.7881 - ft_transformer_1_root_mean_squared_error: 3888.3965 - val_loss: 167381088.0000 - val_ft_transformer_loss: 148593408.0000 - val_ft_transformer_1_loss: 18787678.0000 - val_ft_transformer_root_mean_squared_error: 12189.8896 - val_ft_transformer_1_root_mean_squared_error: 4334.4756\n",
      "Epoch 7/1000\n",
      "4/4 [==============================] - ETA: 0s - loss: 160346960.0000 - ft_transformer_loss: 145342016.0000 - ft_transformer_1_loss: 15004954.0000 - ft_transformer_root_mean_squared_error: 12055.7881 - ft_transformer_1_root_mean_squared_error: 3873.6228"
     ]
    },
    {
     "name": "stderr",
     "output_type": "stream",
     "text": [
      "WARNING:absl:Function `_wrapped_model` contains input name(s) args_0 with unsupported characters which will be renamed to args_0_2 in the SavedModel.\n",
      "WARNING:absl:Found untraced functions such as _update_step_xla, _update_step_xla, flatten_layer_call_fn, flatten_layer_call_and_return_conditional_losses, dense_layer_call_fn while saving (showing 5 of 56). These functions will not be directly callable after loading.\n"
     ]
    },
    {
     "name": "stdout",
     "output_type": "stream",
     "text": [
      "4/4 [==============================] - 7s 2s/step - loss: 160346960.0000 - ft_transformer_loss: 145342016.0000 - ft_transformer_1_loss: 15004954.0000 - ft_transformer_root_mean_squared_error: 12055.7881 - ft_transformer_1_root_mean_squared_error: 3873.6228 - val_loss: 167284864.0000 - val_ft_transformer_loss: 148593424.0000 - val_ft_transformer_1_loss: 18691438.0000 - val_ft_transformer_root_mean_squared_error: 12189.8896 - val_ft_transformer_1_root_mean_squared_error: 4323.3594\n",
      "Epoch 8/1000\n",
      "4/4 [==============================] - ETA: 0s - loss: 160365968.0000 - ft_transformer_loss: 145342016.0000 - ft_transformer_1_loss: 15023957.0000 - ft_transformer_root_mean_squared_error: 12055.7871 - ft_transformer_1_root_mean_squared_error: 3876.0750"
     ]
    },
    {
     "name": "stderr",
     "output_type": "stream",
     "text": [
      "WARNING:absl:Function `_wrapped_model` contains input name(s) args_0 with unsupported characters which will be renamed to args_0_2 in the SavedModel.\n",
      "WARNING:absl:Found untraced functions such as _update_step_xla, _update_step_xla, flatten_layer_call_fn, flatten_layer_call_and_return_conditional_losses, dense_layer_call_fn while saving (showing 5 of 56). These functions will not be directly callable after loading.\n"
     ]
    },
    {
     "name": "stdout",
     "output_type": "stream",
     "text": [
      "4/4 [==============================] - 7s 2s/step - loss: 160365968.0000 - ft_transformer_loss: 145342016.0000 - ft_transformer_1_loss: 15023957.0000 - ft_transformer_root_mean_squared_error: 12055.7871 - ft_transformer_1_root_mean_squared_error: 3876.0750 - val_loss: 167134368.0000 - val_ft_transformer_loss: 148593408.0000 - val_ft_transformer_1_loss: 18540958.0000 - val_ft_transformer_root_mean_squared_error: 12189.8896 - val_ft_transformer_1_root_mean_squared_error: 4305.9214\n",
      "Epoch 9/1000\n",
      "4/4 [==============================] - 4s 834ms/step - loss: 159959328.0000 - ft_transformer_loss: 145342016.0000 - ft_transformer_1_loss: 14617317.0000 - ft_transformer_root_mean_squared_error: 12055.7881 - ft_transformer_1_root_mean_squared_error: 3823.2600 - val_loss: 167189440.0000 - val_ft_transformer_loss: 148593392.0000 - val_ft_transformer_1_loss: 18596040.0000 - val_ft_transformer_root_mean_squared_error: 12189.8896 - val_ft_transformer_1_root_mean_squared_error: 4312.3125\n",
      "Epoch 10/1000\n",
      "4/4 [==============================] - 3s 809ms/step - loss: 159697120.0000 - ft_transformer_loss: 145342016.0000 - ft_transformer_1_loss: 14355097.0000 - ft_transformer_root_mean_squared_error: 12055.7881 - ft_transformer_1_root_mean_squared_error: 3788.8120 - val_loss: 167270464.0000 - val_ft_transformer_loss: 148593392.0000 - val_ft_transformer_1_loss: 18677076.0000 - val_ft_transformer_root_mean_squared_error: 12189.8896 - val_ft_transformer_1_root_mean_squared_error: 4321.6982\n",
      "Epoch 11/1000\n",
      "4/4 [==============================] - ETA: 0s - loss: 159645936.0000 - ft_transformer_loss: 145342016.0000 - ft_transformer_1_loss: 14303919.0000 - ft_transformer_root_mean_squared_error: 12055.7881 - ft_transformer_1_root_mean_squared_error: 3782.0522"
     ]
    },
    {
     "name": "stderr",
     "output_type": "stream",
     "text": [
      "WARNING:absl:Function `_wrapped_model` contains input name(s) args_0 with unsupported characters which will be renamed to args_0_2 in the SavedModel.\n",
      "WARNING:absl:Found untraced functions such as _update_step_xla, _update_step_xla, flatten_layer_call_fn, flatten_layer_call_and_return_conditional_losses, dense_layer_call_fn while saving (showing 5 of 56). These functions will not be directly callable after loading.\n"
     ]
    },
    {
     "name": "stdout",
     "output_type": "stream",
     "text": [
      "4/4 [==============================] - 7s 2s/step - loss: 159645936.0000 - ft_transformer_loss: 145342016.0000 - ft_transformer_1_loss: 14303919.0000 - ft_transformer_root_mean_squared_error: 12055.7881 - ft_transformer_1_root_mean_squared_error: 3782.0522 - val_loss: 166982080.0000 - val_ft_transformer_loss: 148593408.0000 - val_ft_transformer_1_loss: 18388680.0000 - val_ft_transformer_root_mean_squared_error: 12189.8906 - val_ft_transformer_1_root_mean_squared_error: 4288.2026\n",
      "Epoch 12/1000\n",
      "4/4 [==============================] - ETA: 0s - loss: 159406496.0000 - ft_transformer_loss: 145342016.0000 - ft_transformer_1_loss: 14064465.0000 - ft_transformer_root_mean_squared_error: 12055.7871 - ft_transformer_1_root_mean_squared_error: 3750.2620"
     ]
    },
    {
     "name": "stderr",
     "output_type": "stream",
     "text": [
      "WARNING:absl:Function `_wrapped_model` contains input name(s) args_0 with unsupported characters which will be renamed to args_0_2 in the SavedModel.\n",
      "WARNING:absl:Found untraced functions such as _update_step_xla, _update_step_xla, flatten_layer_call_fn, flatten_layer_call_and_return_conditional_losses, dense_layer_call_fn while saving (showing 5 of 56). These functions will not be directly callable after loading.\n"
     ]
    },
    {
     "name": "stdout",
     "output_type": "stream",
     "text": [
      "4/4 [==============================] - 7s 2s/step - loss: 159406496.0000 - ft_transformer_loss: 145342016.0000 - ft_transformer_1_loss: 14064465.0000 - ft_transformer_root_mean_squared_error: 12055.7871 - ft_transformer_1_root_mean_squared_error: 3750.2620 - val_loss: 166849120.0000 - val_ft_transformer_loss: 148593392.0000 - val_ft_transformer_1_loss: 18255724.0000 - val_ft_transformer_root_mean_squared_error: 12189.8896 - val_ft_transformer_1_root_mean_squared_error: 4272.6719\n",
      "Epoch 13/1000\n",
      "4/4 [==============================] - ETA: 0s - loss: 159327184.0000 - ft_transformer_loss: 145342016.0000 - ft_transformer_1_loss: 13985173.0000 - ft_transformer_root_mean_squared_error: 12055.7881 - ft_transformer_1_root_mean_squared_error: 3739.6755"
     ]
    },
    {
     "name": "stderr",
     "output_type": "stream",
     "text": [
      "WARNING:absl:Function `_wrapped_model` contains input name(s) args_0 with unsupported characters which will be renamed to args_0_2 in the SavedModel.\n",
      "WARNING:absl:Found untraced functions such as _update_step_xla, _update_step_xla, flatten_layer_call_fn, flatten_layer_call_and_return_conditional_losses, dense_layer_call_fn while saving (showing 5 of 56). These functions will not be directly callable after loading.\n"
     ]
    },
    {
     "name": "stdout",
     "output_type": "stream",
     "text": [
      "4/4 [==============================] - 7s 2s/step - loss: 159327184.0000 - ft_transformer_loss: 145342016.0000 - ft_transformer_1_loss: 13985173.0000 - ft_transformer_root_mean_squared_error: 12055.7881 - ft_transformer_1_root_mean_squared_error: 3739.6755 - val_loss: 166779024.0000 - val_ft_transformer_loss: 148593392.0000 - val_ft_transformer_1_loss: 18185638.0000 - val_ft_transformer_root_mean_squared_error: 12189.8896 - val_ft_transformer_1_root_mean_squared_error: 4264.4624\n",
      "Epoch 14/1000\n",
      "4/4 [==============================] - ETA: 0s - loss: 159631040.0000 - ft_transformer_loss: 145342016.0000 - ft_transformer_1_loss: 14289007.0000 - ft_transformer_root_mean_squared_error: 12055.7881 - ft_transformer_1_root_mean_squared_error: 3780.0803"
     ]
    },
    {
     "name": "stderr",
     "output_type": "stream",
     "text": [
      "WARNING:absl:Function `_wrapped_model` contains input name(s) args_0 with unsupported characters which will be renamed to args_0_2 in the SavedModel.\n",
      "WARNING:absl:Found untraced functions such as _update_step_xla, _update_step_xla, flatten_layer_call_fn, flatten_layer_call_and_return_conditional_losses, dense_layer_call_fn while saving (showing 5 of 56). These functions will not be directly callable after loading.\n"
     ]
    },
    {
     "name": "stdout",
     "output_type": "stream",
     "text": [
      "4/4 [==============================] - 7s 2s/step - loss: 159631040.0000 - ft_transformer_loss: 145342016.0000 - ft_transformer_1_loss: 14289007.0000 - ft_transformer_root_mean_squared_error: 12055.7881 - ft_transformer_1_root_mean_squared_error: 3780.0803 - val_loss: 166617152.0000 - val_ft_transformer_loss: 148593424.0000 - val_ft_transformer_1_loss: 18023732.0000 - val_ft_transformer_root_mean_squared_error: 12189.8896 - val_ft_transformer_1_root_mean_squared_error: 4245.4365\n",
      "Epoch 15/1000\n",
      "4/4 [==============================] - ETA: 0s - loss: 159016208.0000 - ft_transformer_loss: 145342016.0000 - ft_transformer_1_loss: 13674196.0000 - ft_transformer_root_mean_squared_error: 12055.7881 - ft_transformer_1_root_mean_squared_error: 3697.8638"
     ]
    },
    {
     "name": "stderr",
     "output_type": "stream",
     "text": [
      "WARNING:absl:Function `_wrapped_model` contains input name(s) args_0 with unsupported characters which will be renamed to args_0_2 in the SavedModel.\n",
      "WARNING:absl:Found untraced functions such as _update_step_xla, _update_step_xla, flatten_layer_call_fn, flatten_layer_call_and_return_conditional_losses, dense_layer_call_fn while saving (showing 5 of 56). These functions will not be directly callable after loading.\n"
     ]
    },
    {
     "name": "stdout",
     "output_type": "stream",
     "text": [
      "4/4 [==============================] - 7s 2s/step - loss: 159016208.0000 - ft_transformer_loss: 145342016.0000 - ft_transformer_1_loss: 13674196.0000 - ft_transformer_root_mean_squared_error: 12055.7881 - ft_transformer_1_root_mean_squared_error: 3697.8638 - val_loss: 166504560.0000 - val_ft_transformer_loss: 148593392.0000 - val_ft_transformer_1_loss: 17911168.0000 - val_ft_transformer_root_mean_squared_error: 12189.8896 - val_ft_transformer_1_root_mean_squared_error: 4232.1587\n",
      "Epoch 16/1000\n",
      "4/4 [==============================] - ETA: 0s - loss: 158912560.0000 - ft_transformer_loss: 145342016.0000 - ft_transformer_1_loss: 13570561.0000 - ft_transformer_root_mean_squared_error: 12055.7881 - ft_transformer_1_root_mean_squared_error: 3683.8242"
     ]
    },
    {
     "name": "stderr",
     "output_type": "stream",
     "text": [
      "WARNING:absl:Function `_wrapped_model` contains input name(s) args_0 with unsupported characters which will be renamed to args_0_2 in the SavedModel.\n",
      "WARNING:absl:Found untraced functions such as _update_step_xla, _update_step_xla, flatten_layer_call_fn, flatten_layer_call_and_return_conditional_losses, dense_layer_call_fn while saving (showing 5 of 56). These functions will not be directly callable after loading.\n"
     ]
    },
    {
     "name": "stdout",
     "output_type": "stream",
     "text": [
      "4/4 [==============================] - 7s 2s/step - loss: 158912560.0000 - ft_transformer_loss: 145342016.0000 - ft_transformer_1_loss: 13570561.0000 - ft_transformer_root_mean_squared_error: 12055.7881 - ft_transformer_1_root_mean_squared_error: 3683.8242 - val_loss: 166407712.0000 - val_ft_transformer_loss: 148593408.0000 - val_ft_transformer_1_loss: 17814298.0000 - val_ft_transformer_root_mean_squared_error: 12189.8896 - val_ft_transformer_1_root_mean_squared_error: 4220.6987\n",
      "Epoch 17/1000\n",
      "4/4 [==============================] - ETA: 0s - loss: 158988816.0000 - ft_transformer_loss: 145342016.0000 - ft_transformer_1_loss: 13646809.0000 - ft_transformer_root_mean_squared_error: 12055.7881 - ft_transformer_1_root_mean_squared_error: 3694.1587"
     ]
    },
    {
     "name": "stderr",
     "output_type": "stream",
     "text": [
      "WARNING:absl:Function `_wrapped_model` contains input name(s) args_0 with unsupported characters which will be renamed to args_0_2 in the SavedModel.\n",
      "WARNING:absl:Found untraced functions such as _update_step_xla, _update_step_xla, flatten_layer_call_fn, flatten_layer_call_and_return_conditional_losses, dense_layer_call_fn while saving (showing 5 of 56). These functions will not be directly callable after loading.\n"
     ]
    },
    {
     "name": "stdout",
     "output_type": "stream",
     "text": [
      "4/4 [==============================] - 7s 2s/step - loss: 158988816.0000 - ft_transformer_loss: 145342016.0000 - ft_transformer_1_loss: 13646809.0000 - ft_transformer_root_mean_squared_error: 12055.7881 - ft_transformer_1_root_mean_squared_error: 3694.1587 - val_loss: 166327872.0000 - val_ft_transformer_loss: 148593392.0000 - val_ft_transformer_1_loss: 17734476.0000 - val_ft_transformer_root_mean_squared_error: 12189.8896 - val_ft_transformer_1_root_mean_squared_error: 4211.2319\n",
      "Epoch 18/1000\n",
      "4/4 [==============================] - ETA: 0s - loss: 158975376.0000 - ft_transformer_loss: 145342016.0000 - ft_transformer_1_loss: 13633360.0000 - ft_transformer_root_mean_squared_error: 12055.7871 - ft_transformer_1_root_mean_squared_error: 3692.3381"
     ]
    },
    {
     "name": "stderr",
     "output_type": "stream",
     "text": [
      "WARNING:absl:Function `_wrapped_model` contains input name(s) args_0 with unsupported characters which will be renamed to args_0_2 in the SavedModel.\n",
      "WARNING:absl:Found untraced functions such as _update_step_xla, _update_step_xla, flatten_layer_call_fn, flatten_layer_call_and_return_conditional_losses, dense_layer_call_fn while saving (showing 5 of 56). These functions will not be directly callable after loading.\n"
     ]
    },
    {
     "name": "stdout",
     "output_type": "stream",
     "text": [
      "4/4 [==============================] - 7s 2s/step - loss: 158975376.0000 - ft_transformer_loss: 145342016.0000 - ft_transformer_1_loss: 13633360.0000 - ft_transformer_root_mean_squared_error: 12055.7871 - ft_transformer_1_root_mean_squared_error: 3692.3381 - val_loss: 166312272.0000 - val_ft_transformer_loss: 148593392.0000 - val_ft_transformer_1_loss: 17718886.0000 - val_ft_transformer_root_mean_squared_error: 12189.8906 - val_ft_transformer_1_root_mean_squared_error: 4209.3809\n",
      "Epoch 19/1000\n",
      "4/4 [==============================] - 3s 680ms/step - loss: 158863024.0000 - ft_transformer_loss: 145342016.0000 - ft_transformer_1_loss: 13521007.0000 - ft_transformer_root_mean_squared_error: 12055.7891 - ft_transformer_1_root_mean_squared_error: 3677.0923 - val_loss: 166704624.0000 - val_ft_transformer_loss: 148593392.0000 - val_ft_transformer_1_loss: 18111234.0000 - val_ft_transformer_root_mean_squared_error: 12189.8896 - val_ft_transformer_1_root_mean_squared_error: 4255.7295\n",
      "Epoch 20/1000\n",
      "4/4 [==============================] - 3s 722ms/step - loss: 159552720.0000 - ft_transformer_loss: 145342016.0000 - ft_transformer_1_loss: 14210705.0000 - ft_transformer_root_mean_squared_error: 12055.7881 - ft_transformer_1_root_mean_squared_error: 3769.7090 - val_loss: 166372512.0000 - val_ft_transformer_loss: 148593408.0000 - val_ft_transformer_1_loss: 17779106.0000 - val_ft_transformer_root_mean_squared_error: 12189.8896 - val_ft_transformer_1_root_mean_squared_error: 4216.5278\n",
      "Epoch 21/1000\n",
      "4/4 [==============================] - ETA: 0s - loss: 158740784.0000 - ft_transformer_loss: 145342016.0000 - ft_transformer_1_loss: 13398779.0000 - ft_transformer_root_mean_squared_error: 12055.7881 - ft_transformer_1_root_mean_squared_error: 3660.4343"
     ]
    },
    {
     "name": "stderr",
     "output_type": "stream",
     "text": [
      "WARNING:absl:Function `_wrapped_model` contains input name(s) args_0 with unsupported characters which will be renamed to args_0_2 in the SavedModel.\n",
      "WARNING:absl:Found untraced functions such as _update_step_xla, _update_step_xla, flatten_layer_call_fn, flatten_layer_call_and_return_conditional_losses, dense_layer_call_fn while saving (showing 5 of 56). These functions will not be directly callable after loading.\n"
     ]
    },
    {
     "name": "stdout",
     "output_type": "stream",
     "text": [
      "4/4 [==============================] - 7s 2s/step - loss: 158740784.0000 - ft_transformer_loss: 145342016.0000 - ft_transformer_1_loss: 13398779.0000 - ft_transformer_root_mean_squared_error: 12055.7881 - ft_transformer_1_root_mean_squared_error: 3660.4343 - val_loss: 166115152.0000 - val_ft_transformer_loss: 148593392.0000 - val_ft_transformer_1_loss: 17521754.0000 - val_ft_transformer_root_mean_squared_error: 12189.8906 - val_ft_transformer_1_root_mean_squared_error: 4185.8994\n",
      "Epoch 22/1000\n",
      "4/4 [==============================] - 3s 794ms/step - loss: 158648624.0000 - ft_transformer_loss: 145342016.0000 - ft_transformer_1_loss: 13306611.0000 - ft_transformer_root_mean_squared_error: 12055.7881 - ft_transformer_1_root_mean_squared_error: 3647.8228 - val_loss: 166197248.0000 - val_ft_transformer_loss: 148593424.0000 - val_ft_transformer_1_loss: 17603820.0000 - val_ft_transformer_root_mean_squared_error: 12189.8896 - val_ft_transformer_1_root_mean_squared_error: 4195.6904\n",
      "Epoch 23/1000\n",
      "4/4 [==============================] - 3s 746ms/step - loss: 159120880.0000 - ft_transformer_loss: 145342016.0000 - ft_transformer_1_loss: 13778868.0000 - ft_transformer_root_mean_squared_error: 12055.7881 - ft_transformer_1_root_mean_squared_error: 3711.9897 - val_loss: 166248224.0000 - val_ft_transformer_loss: 148593408.0000 - val_ft_transformer_1_loss: 17654808.0000 - val_ft_transformer_root_mean_squared_error: 12189.8896 - val_ft_transformer_1_root_mean_squared_error: 4201.7627\n",
      "Epoch 24/1000\n",
      "4/4 [==============================] - 3s 717ms/step - loss: 158507152.0000 - ft_transformer_loss: 145342016.0000 - ft_transformer_1_loss: 13165129.0000 - ft_transformer_root_mean_squared_error: 12055.7881 - ft_transformer_1_root_mean_squared_error: 3628.3782 - val_loss: 166459952.0000 - val_ft_transformer_loss: 148593424.0000 - val_ft_transformer_1_loss: 17866522.0000 - val_ft_transformer_root_mean_squared_error: 12189.8896 - val_ft_transformer_1_root_mean_squared_error: 4226.8809\n",
      "Epoch 25/1000\n",
      "4/4 [==============================] - 3s 653ms/step - loss: 158448064.0000 - ft_transformer_loss: 145342016.0000 - ft_transformer_1_loss: 13106025.0000 - ft_transformer_root_mean_squared_error: 12055.7881 - ft_transformer_1_root_mean_squared_error: 3620.2244 - val_loss: 166687328.0000 - val_ft_transformer_loss: 148593392.0000 - val_ft_transformer_1_loss: 18093930.0000 - val_ft_transformer_root_mean_squared_error: 12189.8896 - val_ft_transformer_1_root_mean_squared_error: 4253.6958\n",
      "Epoch 26/1000\n",
      "4/4 [==============================] - 3s 756ms/step - loss: 158250816.0000 - ft_transformer_loss: 145342016.0000 - ft_transformer_1_loss: 12908795.0000 - ft_transformer_root_mean_squared_error: 12055.7881 - ft_transformer_1_root_mean_squared_error: 3592.8811 - val_loss: 166849600.0000 - val_ft_transformer_loss: 148593408.0000 - val_ft_transformer_1_loss: 18256190.0000 - val_ft_transformer_root_mean_squared_error: 12189.8896 - val_ft_transformer_1_root_mean_squared_error: 4272.7261\n",
      "Epoch 27/1000\n",
      "4/4 [==============================] - 3s 681ms/step - loss: 158658672.0000 - ft_transformer_loss: 145342032.0000 - ft_transformer_1_loss: 13316644.0000 - ft_transformer_root_mean_squared_error: 12055.7881 - ft_transformer_1_root_mean_squared_error: 3649.1978 - val_loss: 166480160.0000 - val_ft_transformer_loss: 148593392.0000 - val_ft_transformer_1_loss: 17886764.0000 - val_ft_transformer_root_mean_squared_error: 12189.8896 - val_ft_transformer_1_root_mean_squared_error: 4229.2744\n",
      "Epoch 28/1000\n",
      "4/4 [==============================] - 4s 796ms/step - loss: 158375424.0000 - ft_transformer_loss: 145342016.0000 - ft_transformer_1_loss: 13033409.0000 - ft_transformer_root_mean_squared_error: 12055.7881 - ft_transformer_1_root_mean_squared_error: 3610.1814 - val_loss: 166475920.0000 - val_ft_transformer_loss: 148593392.0000 - val_ft_transformer_1_loss: 17882532.0000 - val_ft_transformer_root_mean_squared_error: 12189.8906 - val_ft_transformer_1_root_mean_squared_error: 4228.7744\n",
      "Epoch 29/1000\n",
      "4/4 [==============================] - 3s 770ms/step - loss: 157960880.0000 - ft_transformer_loss: 145342016.0000 - ft_transformer_1_loss: 12618881.0000 - ft_transformer_root_mean_squared_error: 12055.7881 - ft_transformer_1_root_mean_squared_error: 3552.3064 - val_loss: 166480432.0000 - val_ft_transformer_loss: 148593392.0000 - val_ft_transformer_1_loss: 17887034.0000 - val_ft_transformer_root_mean_squared_error: 12189.8896 - val_ft_transformer_1_root_mean_squared_error: 4229.3066\n",
      "Epoch 30/1000\n",
      "4/4 [==============================] - 3s 680ms/step - loss: 158154528.0000 - ft_transformer_loss: 145342016.0000 - ft_transformer_1_loss: 12812509.0000 - ft_transformer_root_mean_squared_error: 12055.7881 - ft_transformer_1_root_mean_squared_error: 3579.4565 - val_loss: 166288848.0000 - val_ft_transformer_loss: 148593392.0000 - val_ft_transformer_1_loss: 17695460.0000 - val_ft_transformer_root_mean_squared_error: 12189.8906 - val_ft_transformer_1_root_mean_squared_error: 4206.5972\n",
      "Epoch 31/1000\n",
      "4/4 [==============================] - 3s 771ms/step - loss: 158565856.0000 - ft_transformer_loss: 145342016.0000 - ft_transformer_1_loss: 13223825.0000 - ft_transformer_root_mean_squared_error: 12055.7881 - ft_transformer_1_root_mean_squared_error: 3636.4578 - val_loss: 166216032.0000 - val_ft_transformer_loss: 148593392.0000 - val_ft_transformer_1_loss: 17622640.0000 - val_ft_transformer_root_mean_squared_error: 12189.8906 - val_ft_transformer_1_root_mean_squared_error: 4197.9326\n",
      "Epoch 32/1000\n",
      "4/4 [==============================] - ETA: 0s - loss: 158306096.0000 - ft_transformer_loss: 145342016.0000 - ft_transformer_1_loss: 12964078.0000 - ft_transformer_root_mean_squared_error: 12055.7881 - ft_transformer_1_root_mean_squared_error: 3600.5664"
     ]
    },
    {
     "name": "stderr",
     "output_type": "stream",
     "text": [
      "WARNING:absl:Function `_wrapped_model` contains input name(s) args_0 with unsupported characters which will be renamed to args_0_2 in the SavedModel.\n",
      "WARNING:absl:Found untraced functions such as _update_step_xla, _update_step_xla, flatten_layer_call_fn, flatten_layer_call_and_return_conditional_losses, dense_layer_call_fn while saving (showing 5 of 56). These functions will not be directly callable after loading.\n"
     ]
    },
    {
     "name": "stdout",
     "output_type": "stream",
     "text": [
      "4/4 [==============================] - 7s 2s/step - loss: 158306096.0000 - ft_transformer_loss: 145342016.0000 - ft_transformer_1_loss: 12964078.0000 - ft_transformer_root_mean_squared_error: 12055.7881 - ft_transformer_1_root_mean_squared_error: 3600.5664 - val_loss: 166059424.0000 - val_ft_transformer_loss: 148593392.0000 - val_ft_transformer_1_loss: 17466024.0000 - val_ft_transformer_root_mean_squared_error: 12189.8906 - val_ft_transformer_1_root_mean_squared_error: 4179.2373\n",
      "Epoch 33/1000\n",
      "4/4 [==============================] - 4s 820ms/step - loss: 158211184.0000 - ft_transformer_loss: 145342032.0000 - ft_transformer_1_loss: 12869171.0000 - ft_transformer_root_mean_squared_error: 12055.7881 - ft_transformer_1_root_mean_squared_error: 3587.3628 - val_loss: 166151952.0000 - val_ft_transformer_loss: 148593392.0000 - val_ft_transformer_1_loss: 17558556.0000 - val_ft_transformer_root_mean_squared_error: 12189.8906 - val_ft_transformer_1_root_mean_squared_error: 4190.2930\n",
      "Epoch 34/1000\n",
      "4/4 [==============================] - 3s 789ms/step - loss: 158101152.0000 - ft_transformer_loss: 145342016.0000 - ft_transformer_1_loss: 12759136.0000 - ft_transformer_root_mean_squared_error: 12055.7881 - ft_transformer_1_root_mean_squared_error: 3571.9932 - val_loss: 166220288.0000 - val_ft_transformer_loss: 148593392.0000 - val_ft_transformer_1_loss: 17626896.0000 - val_ft_transformer_root_mean_squared_error: 12189.8906 - val_ft_transformer_1_root_mean_squared_error: 4198.4399\n",
      "Epoch 35/1000\n",
      "4/4 [==============================] - 3s 817ms/step - loss: 158078880.0000 - ft_transformer_loss: 145342016.0000 - ft_transformer_1_loss: 12736862.0000 - ft_transformer_root_mean_squared_error: 12055.7871 - ft_transformer_1_root_mean_squared_error: 3568.8740 - val_loss: 166664208.0000 - val_ft_transformer_loss: 148593408.0000 - val_ft_transformer_1_loss: 18070802.0000 - val_ft_transformer_root_mean_squared_error: 12189.8906 - val_ft_transformer_1_root_mean_squared_error: 4250.9766\n",
      "Epoch 36/1000\n",
      "4/4 [==============================] - 3s 784ms/step - loss: 157822816.0000 - ft_transformer_loss: 145342016.0000 - ft_transformer_1_loss: 12480795.0000 - ft_transformer_root_mean_squared_error: 12055.7881 - ft_transformer_1_root_mean_squared_error: 3532.8169 - val_loss: 166488112.0000 - val_ft_transformer_loss: 148593392.0000 - val_ft_transformer_1_loss: 17894720.0000 - val_ft_transformer_root_mean_squared_error: 12189.8896 - val_ft_transformer_1_root_mean_squared_error: 4230.2153\n",
      "Epoch 37/1000\n",
      "4/4 [==============================] - 3s 839ms/step - loss: 157861824.0000 - ft_transformer_loss: 145342016.0000 - ft_transformer_1_loss: 12519796.0000 - ft_transformer_root_mean_squared_error: 12055.7881 - ft_transformer_1_root_mean_squared_error: 3538.3323 - val_loss: 166403888.0000 - val_ft_transformer_loss: 148593392.0000 - val_ft_transformer_1_loss: 17810500.0000 - val_ft_transformer_root_mean_squared_error: 12189.8896 - val_ft_transformer_1_root_mean_squared_error: 4220.2490\n",
      "Epoch 38/1000\n",
      "4/4 [==============================] - 3s 819ms/step - loss: 157874192.0000 - ft_transformer_loss: 145342016.0000 - ft_transformer_1_loss: 12532164.0000 - ft_transformer_root_mean_squared_error: 12055.7881 - ft_transformer_1_root_mean_squared_error: 3540.0796 - val_loss: 166212960.0000 - val_ft_transformer_loss: 148593392.0000 - val_ft_transformer_1_loss: 17619576.0000 - val_ft_transformer_root_mean_squared_error: 12189.8896 - val_ft_transformer_1_root_mean_squared_error: 4197.5679\n",
      "Epoch 39/1000\n",
      "4/4 [==============================] - ETA: 0s - loss: 157723216.0000 - ft_transformer_loss: 145342016.0000 - ft_transformer_1_loss: 12381205.0000 - ft_transformer_root_mean_squared_error: 12055.7881 - ft_transformer_1_root_mean_squared_error: 3518.6936"
     ]
    },
    {
     "name": "stderr",
     "output_type": "stream",
     "text": [
      "WARNING:absl:Function `_wrapped_model` contains input name(s) args_0 with unsupported characters which will be renamed to args_0_2 in the SavedModel.\n",
      "WARNING:absl:Found untraced functions such as _update_step_xla, _update_step_xla, flatten_layer_call_fn, flatten_layer_call_and_return_conditional_losses, dense_layer_call_fn while saving (showing 5 of 56). These functions will not be directly callable after loading.\n"
     ]
    },
    {
     "name": "stdout",
     "output_type": "stream",
     "text": [
      "4/4 [==============================] - 7s 2s/step - loss: 157723216.0000 - ft_transformer_loss: 145342016.0000 - ft_transformer_1_loss: 12381205.0000 - ft_transformer_root_mean_squared_error: 12055.7881 - ft_transformer_1_root_mean_squared_error: 3518.6936 - val_loss: 166003760.0000 - val_ft_transformer_loss: 148593408.0000 - val_ft_transformer_1_loss: 17410352.0000 - val_ft_transformer_root_mean_squared_error: 12189.8906 - val_ft_transformer_1_root_mean_squared_error: 4172.5713\n",
      "Epoch 40/1000\n",
      "4/4 [==============================] - ETA: 0s - loss: 157767840.0000 - ft_transformer_loss: 145342016.0000 - ft_transformer_1_loss: 12425833.0000 - ft_transformer_root_mean_squared_error: 12055.7881 - ft_transformer_1_root_mean_squared_error: 3525.0295"
     ]
    },
    {
     "name": "stderr",
     "output_type": "stream",
     "text": [
      "WARNING:absl:Function `_wrapped_model` contains input name(s) args_0 with unsupported characters which will be renamed to args_0_2 in the SavedModel.\n",
      "WARNING:absl:Found untraced functions such as _update_step_xla, _update_step_xla, flatten_layer_call_fn, flatten_layer_call_and_return_conditional_losses, dense_layer_call_fn while saving (showing 5 of 56). These functions will not be directly callable after loading.\n"
     ]
    },
    {
     "name": "stdout",
     "output_type": "stream",
     "text": [
      "4/4 [==============================] - 7s 2s/step - loss: 157767840.0000 - ft_transformer_loss: 145342016.0000 - ft_transformer_1_loss: 12425833.0000 - ft_transformer_root_mean_squared_error: 12055.7881 - ft_transformer_1_root_mean_squared_error: 3525.0295 - val_loss: 165919904.0000 - val_ft_transformer_loss: 148593392.0000 - val_ft_transformer_1_loss: 17326516.0000 - val_ft_transformer_root_mean_squared_error: 12189.8906 - val_ft_transformer_1_root_mean_squared_error: 4162.5132\n",
      "Epoch 41/1000\n",
      "4/4 [==============================] - ETA: 0s - loss: 157597696.0000 - ft_transformer_loss: 145342016.0000 - ft_transformer_1_loss: 12255671.0000 - ft_transformer_root_mean_squared_error: 12055.7871 - ft_transformer_1_root_mean_squared_error: 3500.8101"
     ]
    },
    {
     "name": "stderr",
     "output_type": "stream",
     "text": [
      "WARNING:absl:Function `_wrapped_model` contains input name(s) args_0 with unsupported characters which will be renamed to args_0_2 in the SavedModel.\n",
      "WARNING:absl:Found untraced functions such as _update_step_xla, _update_step_xla, flatten_layer_call_fn, flatten_layer_call_and_return_conditional_losses, dense_layer_call_fn while saving (showing 5 of 56). These functions will not be directly callable after loading.\n"
     ]
    },
    {
     "name": "stdout",
     "output_type": "stream",
     "text": [
      "4/4 [==============================] - 7s 2s/step - loss: 157597696.0000 - ft_transformer_loss: 145342016.0000 - ft_transformer_1_loss: 12255671.0000 - ft_transformer_root_mean_squared_error: 12055.7871 - ft_transformer_1_root_mean_squared_error: 3500.8101 - val_loss: 165773056.0000 - val_ft_transformer_loss: 148593392.0000 - val_ft_transformer_1_loss: 17179664.0000 - val_ft_transformer_root_mean_squared_error: 12189.8896 - val_ft_transformer_1_root_mean_squared_error: 4144.8359\n",
      "Epoch 42/1000\n",
      "4/4 [==============================] - ETA: 0s - loss: 157241360.0000 - ft_transformer_loss: 145342016.0000 - ft_transformer_1_loss: 11899364.0000 - ft_transformer_root_mean_squared_error: 12055.7881 - ft_transformer_1_root_mean_squared_error: 3449.5454"
     ]
    },
    {
     "name": "stderr",
     "output_type": "stream",
     "text": [
      "WARNING:absl:Function `_wrapped_model` contains input name(s) args_0 with unsupported characters which will be renamed to args_0_2 in the SavedModel.\n",
      "WARNING:absl:Found untraced functions such as _update_step_xla, _update_step_xla, flatten_layer_call_fn, flatten_layer_call_and_return_conditional_losses, dense_layer_call_fn while saving (showing 5 of 56). These functions will not be directly callable after loading.\n"
     ]
    },
    {
     "name": "stdout",
     "output_type": "stream",
     "text": [
      "4/4 [==============================] - 7s 2s/step - loss: 157241360.0000 - ft_transformer_loss: 145342016.0000 - ft_transformer_1_loss: 11899364.0000 - ft_transformer_root_mean_squared_error: 12055.7881 - ft_transformer_1_root_mean_squared_error: 3449.5454 - val_loss: 165772304.0000 - val_ft_transformer_loss: 148593392.0000 - val_ft_transformer_1_loss: 17178918.0000 - val_ft_transformer_root_mean_squared_error: 12189.8896 - val_ft_transformer_1_root_mean_squared_error: 4144.7456\n",
      "Epoch 43/1000\n",
      "4/4 [==============================] - 4s 836ms/step - loss: 157393840.0000 - ft_transformer_loss: 145342016.0000 - ft_transformer_1_loss: 12051821.0000 - ft_transformer_root_mean_squared_error: 12055.7881 - ft_transformer_1_root_mean_squared_error: 3471.5732 - val_loss: 165988736.0000 - val_ft_transformer_loss: 148593408.0000 - val_ft_transformer_1_loss: 17395336.0000 - val_ft_transformer_root_mean_squared_error: 12189.8896 - val_ft_transformer_1_root_mean_squared_error: 4170.7715\n",
      "Epoch 44/1000\n",
      "4/4 [==============================] - 3s 773ms/step - loss: 157775248.0000 - ft_transformer_loss: 145342016.0000 - ft_transformer_1_loss: 12433241.0000 - ft_transformer_root_mean_squared_error: 12055.7881 - ft_transformer_1_root_mean_squared_error: 3526.0801 - val_loss: 166247008.0000 - val_ft_transformer_loss: 148593392.0000 - val_ft_transformer_1_loss: 17653612.0000 - val_ft_transformer_root_mean_squared_error: 12189.8896 - val_ft_transformer_1_root_mean_squared_error: 4201.6201\n",
      "Epoch 45/1000\n",
      "4/4 [==============================] - 3s 776ms/step - loss: 157398928.0000 - ft_transformer_loss: 145342016.0000 - ft_transformer_1_loss: 12056903.0000 - ft_transformer_root_mean_squared_error: 12055.7881 - ft_transformer_1_root_mean_squared_error: 3472.3052 - val_loss: 165896224.0000 - val_ft_transformer_loss: 148593392.0000 - val_ft_transformer_1_loss: 17302828.0000 - val_ft_transformer_root_mean_squared_error: 12189.8896 - val_ft_transformer_1_root_mean_squared_error: 4159.6670\n",
      "Epoch 46/1000\n",
      "4/4 [==============================] - 3s 785ms/step - loss: 157018528.0000 - ft_transformer_loss: 145342016.0000 - ft_transformer_1_loss: 11676523.0000 - ft_transformer_root_mean_squared_error: 12055.7881 - ft_transformer_1_root_mean_squared_error: 3417.0928 - val_loss: 166013120.0000 - val_ft_transformer_loss: 148593424.0000 - val_ft_transformer_1_loss: 17419694.0000 - val_ft_transformer_root_mean_squared_error: 12189.8896 - val_ft_transformer_1_root_mean_squared_error: 4173.6909\n",
      "Epoch 47/1000\n",
      "4/4 [==============================] - 3s 725ms/step - loss: 157566736.0000 - ft_transformer_loss: 145342016.0000 - ft_transformer_1_loss: 12224710.0000 - ft_transformer_root_mean_squared_error: 12055.7881 - ft_transformer_1_root_mean_squared_error: 3496.3853 - val_loss: 166205008.0000 - val_ft_transformer_loss: 148593392.0000 - val_ft_transformer_1_loss: 17611614.0000 - val_ft_transformer_root_mean_squared_error: 12189.8906 - val_ft_transformer_1_root_mean_squared_error: 4196.6191\n",
      "Epoch 48/1000\n",
      "4/4 [==============================] - 3s 790ms/step - loss: 157278256.0000 - ft_transformer_loss: 145342016.0000 - ft_transformer_1_loss: 11936246.0000 - ft_transformer_root_mean_squared_error: 12055.7881 - ft_transformer_1_root_mean_squared_error: 3454.8872 - val_loss: 166205312.0000 - val_ft_transformer_loss: 148593408.0000 - val_ft_transformer_1_loss: 17611898.0000 - val_ft_transformer_root_mean_squared_error: 12189.8896 - val_ft_transformer_1_root_mean_squared_error: 4196.6533\n",
      "Epoch 49/1000\n",
      "4/4 [==============================] - 3s 722ms/step - loss: 157224432.0000 - ft_transformer_loss: 145342032.0000 - ft_transformer_1_loss: 11882415.0000 - ft_transformer_root_mean_squared_error: 12055.7881 - ft_transformer_1_root_mean_squared_error: 3447.0879 - val_loss: 166309136.0000 - val_ft_transformer_loss: 148593408.0000 - val_ft_transformer_1_loss: 17715732.0000 - val_ft_transformer_root_mean_squared_error: 12189.8906 - val_ft_transformer_1_root_mean_squared_error: 4209.0059\n",
      "Epoch 50/1000\n",
      "4/4 [==============================] - 3s 790ms/step - loss: 157116032.0000 - ft_transformer_loss: 145342016.0000 - ft_transformer_1_loss: 11774010.0000 - ft_transformer_root_mean_squared_error: 12055.7881 - ft_transformer_1_root_mean_squared_error: 3431.3276 - val_loss: 166453648.0000 - val_ft_transformer_loss: 148593408.0000 - val_ft_transformer_1_loss: 17860234.0000 - val_ft_transformer_root_mean_squared_error: 12189.8906 - val_ft_transformer_1_root_mean_squared_error: 4226.1372\n",
      "Epoch 51/1000\n",
      "4/4 [==============================] - 3s 848ms/step - loss: 157666960.0000 - ft_transformer_loss: 145342016.0000 - ft_transformer_1_loss: 12324936.0000 - ft_transformer_root_mean_squared_error: 12055.7871 - ft_transformer_1_root_mean_squared_error: 3510.6887 - val_loss: 165942848.0000 - val_ft_transformer_loss: 148593392.0000 - val_ft_transformer_1_loss: 17349452.0000 - val_ft_transformer_root_mean_squared_error: 12189.8896 - val_ft_transformer_1_root_mean_squared_error: 4165.2676\n",
      "Epoch 52/1000\n",
      "4/4 [==============================] - 3s 791ms/step - loss: 157236192.0000 - ft_transformer_loss: 145342016.0000 - ft_transformer_1_loss: 11894170.0000 - ft_transformer_root_mean_squared_error: 12055.7881 - ft_transformer_1_root_mean_squared_error: 3448.7925 - val_loss: 165955888.0000 - val_ft_transformer_loss: 148593408.0000 - val_ft_transformer_1_loss: 17362482.0000 - val_ft_transformer_root_mean_squared_error: 12189.8896 - val_ft_transformer_1_root_mean_squared_error: 4166.8311\n",
      "Epoch 53/1000\n",
      "4/4 [==============================] - 3s 785ms/step - loss: 157160144.0000 - ft_transformer_loss: 145342016.0000 - ft_transformer_1_loss: 11818138.0000 - ft_transformer_root_mean_squared_error: 12055.7881 - ft_transformer_1_root_mean_squared_error: 3437.7520 - val_loss: 165899440.0000 - val_ft_transformer_loss: 148593424.0000 - val_ft_transformer_1_loss: 17306018.0000 - val_ft_transformer_root_mean_squared_error: 12189.8896 - val_ft_transformer_1_root_mean_squared_error: 4160.0503\n",
      "Epoch 54/1000\n",
      "4/4 [==============================] - 4s 842ms/step - loss: 157827456.0000 - ft_transformer_loss: 145342016.0000 - ft_transformer_1_loss: 12485440.0000 - ft_transformer_root_mean_squared_error: 12055.7881 - ft_transformer_1_root_mean_squared_error: 3533.4741 - val_loss: 165973856.0000 - val_ft_transformer_loss: 148593392.0000 - val_ft_transformer_1_loss: 17380464.0000 - val_ft_transformer_root_mean_squared_error: 12189.8906 - val_ft_transformer_1_root_mean_squared_error: 4168.9883\n",
      "Epoch 55/1000\n",
      "4/4 [==============================] - ETA: 0s - loss: 157527408.0000 - ft_transformer_loss: 145342016.0000 - ft_transformer_1_loss: 12185377.0000 - ft_transformer_root_mean_squared_error: 12055.7871 - ft_transformer_1_root_mean_squared_error: 3490.7559"
     ]
    },
    {
     "name": "stderr",
     "output_type": "stream",
     "text": [
      "WARNING:absl:Function `_wrapped_model` contains input name(s) args_0 with unsupported characters which will be renamed to args_0_2 in the SavedModel.\n",
      "WARNING:absl:Found untraced functions such as _update_step_xla, _update_step_xla, flatten_layer_call_fn, flatten_layer_call_and_return_conditional_losses, dense_layer_call_fn while saving (showing 5 of 56). These functions will not be directly callable after loading.\n"
     ]
    },
    {
     "name": "stdout",
     "output_type": "stream",
     "text": [
      "4/4 [==============================] - 7s 2s/step - loss: 157527408.0000 - ft_transformer_loss: 145342016.0000 - ft_transformer_1_loss: 12185377.0000 - ft_transformer_root_mean_squared_error: 12055.7871 - ft_transformer_1_root_mean_squared_error: 3490.7559 - val_loss: 165682064.0000 - val_ft_transformer_loss: 148593392.0000 - val_ft_transformer_1_loss: 17088668.0000 - val_ft_transformer_root_mean_squared_error: 12189.8896 - val_ft_transformer_1_root_mean_squared_error: 4133.8442\n",
      "Epoch 56/1000\n",
      "4/4 [==============================] - ETA: 0s - loss: 156799744.0000 - ft_transformer_loss: 145342016.0000 - ft_transformer_1_loss: 11457742.0000 - ft_transformer_root_mean_squared_error: 12055.7881 - ft_transformer_1_root_mean_squared_error: 3384.9287"
     ]
    },
    {
     "name": "stderr",
     "output_type": "stream",
     "text": [
      "WARNING:absl:Function `_wrapped_model` contains input name(s) args_0 with unsupported characters which will be renamed to args_0_2 in the SavedModel.\n",
      "WARNING:absl:Found untraced functions such as _update_step_xla, _update_step_xla, flatten_layer_call_fn, flatten_layer_call_and_return_conditional_losses, dense_layer_call_fn while saving (showing 5 of 56). These functions will not be directly callable after loading.\n"
     ]
    },
    {
     "name": "stdout",
     "output_type": "stream",
     "text": [
      "4/4 [==============================] - 8s 2s/step - loss: 156799744.0000 - ft_transformer_loss: 145342016.0000 - ft_transformer_1_loss: 11457742.0000 - ft_transformer_root_mean_squared_error: 12055.7881 - ft_transformer_1_root_mean_squared_error: 3384.9287 - val_loss: 165681376.0000 - val_ft_transformer_loss: 148593392.0000 - val_ft_transformer_1_loss: 17087984.0000 - val_ft_transformer_root_mean_squared_error: 12189.8896 - val_ft_transformer_1_root_mean_squared_error: 4133.7617\n",
      "Epoch 57/1000\n",
      "4/4 [==============================] - 3s 737ms/step - loss: 156811536.0000 - ft_transformer_loss: 145342016.0000 - ft_transformer_1_loss: 11469537.0000 - ft_transformer_root_mean_squared_error: 12055.7881 - ft_transformer_1_root_mean_squared_error: 3386.6704 - val_loss: 165731056.0000 - val_ft_transformer_loss: 148593392.0000 - val_ft_transformer_1_loss: 17137662.0000 - val_ft_transformer_root_mean_squared_error: 12189.8896 - val_ft_transformer_1_root_mean_squared_error: 4139.7661\n",
      "Epoch 58/1000\n",
      "4/4 [==============================] - ETA: 0s - loss: 156884112.0000 - ft_transformer_loss: 145342016.0000 - ft_transformer_1_loss: 11542096.0000 - ft_transformer_root_mean_squared_error: 12055.7881 - ft_transformer_1_root_mean_squared_error: 3397.3660"
     ]
    },
    {
     "name": "stderr",
     "output_type": "stream",
     "text": [
      "WARNING:absl:Function `_wrapped_model` contains input name(s) args_0 with unsupported characters which will be renamed to args_0_2 in the SavedModel.\n",
      "WARNING:absl:Found untraced functions such as _update_step_xla, _update_step_xla, flatten_layer_call_fn, flatten_layer_call_and_return_conditional_losses, dense_layer_call_fn while saving (showing 5 of 56). These functions will not be directly callable after loading.\n"
     ]
    },
    {
     "name": "stdout",
     "output_type": "stream",
     "text": [
      "4/4 [==============================] - 7s 2s/step - loss: 156884112.0000 - ft_transformer_loss: 145342016.0000 - ft_transformer_1_loss: 11542096.0000 - ft_transformer_root_mean_squared_error: 12055.7881 - ft_transformer_1_root_mean_squared_error: 3397.3660 - val_loss: 165647488.0000 - val_ft_transformer_loss: 148593392.0000 - val_ft_transformer_1_loss: 17054092.0000 - val_ft_transformer_root_mean_squared_error: 12189.8906 - val_ft_transformer_1_root_mean_squared_error: 4129.6602\n",
      "Epoch 59/1000\n",
      "4/4 [==============================] - ETA: 0s - loss: 157111632.0000 - ft_transformer_loss: 145342032.0000 - ft_transformer_1_loss: 11769595.0000 - ft_transformer_root_mean_squared_error: 12055.7881 - ft_transformer_1_root_mean_squared_error: 3430.6843"
     ]
    },
    {
     "name": "stderr",
     "output_type": "stream",
     "text": [
      "WARNING:absl:Function `_wrapped_model` contains input name(s) args_0 with unsupported characters which will be renamed to args_0_2 in the SavedModel.\n",
      "WARNING:absl:Found untraced functions such as _update_step_xla, _update_step_xla, flatten_layer_call_fn, flatten_layer_call_and_return_conditional_losses, dense_layer_call_fn while saving (showing 5 of 56). These functions will not be directly callable after loading.\n"
     ]
    },
    {
     "name": "stdout",
     "output_type": "stream",
     "text": [
      "4/4 [==============================] - 6s 2s/step - loss: 157111632.0000 - ft_transformer_loss: 145342032.0000 - ft_transformer_1_loss: 11769595.0000 - ft_transformer_root_mean_squared_error: 12055.7881 - ft_transformer_1_root_mean_squared_error: 3430.6843 - val_loss: 165622288.0000 - val_ft_transformer_loss: 148593408.0000 - val_ft_transformer_1_loss: 17028882.0000 - val_ft_transformer_root_mean_squared_error: 12189.8896 - val_ft_transformer_1_root_mean_squared_error: 4126.6064\n",
      "Epoch 60/1000\n",
      "4/4 [==============================] - ETA: 0s - loss: 156940768.0000 - ft_transformer_loss: 145342032.0000 - ft_transformer_1_loss: 11598739.0000 - ft_transformer_root_mean_squared_error: 12055.7881 - ft_transformer_1_root_mean_squared_error: 3405.6921"
     ]
    },
    {
     "name": "stderr",
     "output_type": "stream",
     "text": [
      "WARNING:absl:Function `_wrapped_model` contains input name(s) args_0 with unsupported characters which will be renamed to args_0_2 in the SavedModel.\n",
      "WARNING:absl:Found untraced functions such as _update_step_xla, _update_step_xla, flatten_layer_call_fn, flatten_layer_call_and_return_conditional_losses, dense_layer_call_fn while saving (showing 5 of 56). These functions will not be directly callable after loading.\n"
     ]
    },
    {
     "name": "stdout",
     "output_type": "stream",
     "text": [
      "4/4 [==============================] - 7s 2s/step - loss: 156940768.0000 - ft_transformer_loss: 145342032.0000 - ft_transformer_1_loss: 11598739.0000 - ft_transformer_root_mean_squared_error: 12055.7881 - ft_transformer_1_root_mean_squared_error: 3405.6921 - val_loss: 165561664.0000 - val_ft_transformer_loss: 148593408.0000 - val_ft_transformer_1_loss: 16968250.0000 - val_ft_transformer_root_mean_squared_error: 12189.8896 - val_ft_transformer_1_root_mean_squared_error: 4119.2534\n",
      "Epoch 61/1000\n",
      "4/4 [==============================] - 3s 798ms/step - loss: 156509712.0000 - ft_transformer_loss: 145342016.0000 - ft_transformer_1_loss: 11167700.0000 - ft_transformer_root_mean_squared_error: 12055.7881 - ft_transformer_1_root_mean_squared_error: 3341.8108 - val_loss: 165712544.0000 - val_ft_transformer_loss: 148593408.0000 - val_ft_transformer_1_loss: 17119142.0000 - val_ft_transformer_root_mean_squared_error: 12189.8896 - val_ft_transformer_1_root_mean_squared_error: 4137.5283\n",
      "Epoch 62/1000\n",
      "4/4 [==============================] - ETA: 0s - loss: 156475952.0000 - ft_transformer_loss: 145342016.0000 - ft_transformer_1_loss: 11133940.0000 - ft_transformer_root_mean_squared_error: 12055.7881 - ft_transformer_1_root_mean_squared_error: 3336.7559"
     ]
    },
    {
     "name": "stderr",
     "output_type": "stream",
     "text": [
      "WARNING:absl:Function `_wrapped_model` contains input name(s) args_0 with unsupported characters which will be renamed to args_0_2 in the SavedModel.\n",
      "WARNING:absl:Found untraced functions such as _update_step_xla, _update_step_xla, flatten_layer_call_fn, flatten_layer_call_and_return_conditional_losses, dense_layer_call_fn while saving (showing 5 of 56). These functions will not be directly callable after loading.\n"
     ]
    },
    {
     "name": "stdout",
     "output_type": "stream",
     "text": [
      "4/4 [==============================] - 6s 2s/step - loss: 156475952.0000 - ft_transformer_loss: 145342016.0000 - ft_transformer_1_loss: 11133940.0000 - ft_transformer_root_mean_squared_error: 12055.7881 - ft_transformer_1_root_mean_squared_error: 3336.7559 - val_loss: 165532528.0000 - val_ft_transformer_loss: 148593392.0000 - val_ft_transformer_1_loss: 16939134.0000 - val_ft_transformer_root_mean_squared_error: 12189.8896 - val_ft_transformer_1_root_mean_squared_error: 4115.7178\n",
      "Epoch 63/1000\n",
      "4/4 [==============================] - 3s 772ms/step - loss: 157099920.0000 - ft_transformer_loss: 145342016.0000 - ft_transformer_1_loss: 11757888.0000 - ft_transformer_root_mean_squared_error: 12055.7881 - ft_transformer_1_root_mean_squared_error: 3428.9778 - val_loss: 165672592.0000 - val_ft_transformer_loss: 148593392.0000 - val_ft_transformer_1_loss: 17079202.0000 - val_ft_transformer_root_mean_squared_error: 12189.8906 - val_ft_transformer_1_root_mean_squared_error: 4132.6992\n",
      "Epoch 64/1000\n",
      "4/4 [==============================] - 3s 781ms/step - loss: 156649168.0000 - ft_transformer_loss: 145342016.0000 - ft_transformer_1_loss: 11307137.0000 - ft_transformer_root_mean_squared_error: 12055.7881 - ft_transformer_1_root_mean_squared_error: 3362.6086 - val_loss: 165666992.0000 - val_ft_transformer_loss: 148593408.0000 - val_ft_transformer_1_loss: 17073586.0000 - val_ft_transformer_root_mean_squared_error: 12189.8896 - val_ft_transformer_1_root_mean_squared_error: 4132.0195\n",
      "Epoch 65/1000\n",
      "4/4 [==============================] - 3s 775ms/step - loss: 156643920.0000 - ft_transformer_loss: 145342016.0000 - ft_transformer_1_loss: 11301898.0000 - ft_transformer_root_mean_squared_error: 12055.7881 - ft_transformer_1_root_mean_squared_error: 3361.8296 - val_loss: 165713200.0000 - val_ft_transformer_loss: 148593408.0000 - val_ft_transformer_1_loss: 17119794.0000 - val_ft_transformer_root_mean_squared_error: 12189.8896 - val_ft_transformer_1_root_mean_squared_error: 4137.6074\n",
      "Epoch 66/1000\n",
      "4/4 [==============================] - 3s 635ms/step - loss: 156759168.0000 - ft_transformer_loss: 145342016.0000 - ft_transformer_1_loss: 11417152.0000 - ft_transformer_root_mean_squared_error: 12055.7881 - ft_transformer_1_root_mean_squared_error: 3378.9277 - val_loss: 166243232.0000 - val_ft_transformer_loss: 148593424.0000 - val_ft_transformer_1_loss: 17649804.0000 - val_ft_transformer_root_mean_squared_error: 12189.8896 - val_ft_transformer_1_root_mean_squared_error: 4201.1670\n",
      "Epoch 67/1000\n",
      "4/4 [==============================] - 3s 693ms/step - loss: 157012016.0000 - ft_transformer_loss: 145342016.0000 - ft_transformer_1_loss: 11669995.0000 - ft_transformer_root_mean_squared_error: 12055.7881 - ft_transformer_1_root_mean_squared_error: 3416.1375 - val_loss: 165764208.0000 - val_ft_transformer_loss: 148593392.0000 - val_ft_transformer_1_loss: 17170814.0000 - val_ft_transformer_root_mean_squared_error: 12189.8896 - val_ft_transformer_1_root_mean_squared_error: 4143.7681\n",
      "Epoch 68/1000\n",
      "4/4 [==============================] - 3s 750ms/step - loss: 156366048.0000 - ft_transformer_loss: 145342016.0000 - ft_transformer_1_loss: 11024039.0000 - ft_transformer_root_mean_squared_error: 12055.7881 - ft_transformer_1_root_mean_squared_error: 3320.2468 - val_loss: 165566640.0000 - val_ft_transformer_loss: 148593392.0000 - val_ft_transformer_1_loss: 16973246.0000 - val_ft_transformer_root_mean_squared_error: 12189.8896 - val_ft_transformer_1_root_mean_squared_error: 4119.8599\n",
      "Epoch 69/1000\n",
      "4/4 [==============================] - ETA: 0s - loss: 156731952.0000 - ft_transformer_loss: 145342016.0000 - ft_transformer_1_loss: 11389942.0000 - ft_transformer_root_mean_squared_error: 12055.7881 - ft_transformer_1_root_mean_squared_error: 3374.8989"
     ]
    },
    {
     "name": "stderr",
     "output_type": "stream",
     "text": [
      "WARNING:absl:Function `_wrapped_model` contains input name(s) args_0 with unsupported characters which will be renamed to args_0_2 in the SavedModel.\n",
      "WARNING:absl:Found untraced functions such as _update_step_xla, _update_step_xla, flatten_layer_call_fn, flatten_layer_call_and_return_conditional_losses, dense_layer_call_fn while saving (showing 5 of 56). These functions will not be directly callable after loading.\n"
     ]
    },
    {
     "name": "stdout",
     "output_type": "stream",
     "text": [
      "4/4 [==============================] - 7s 2s/step - loss: 156731952.0000 - ft_transformer_loss: 145342016.0000 - ft_transformer_1_loss: 11389942.0000 - ft_transformer_root_mean_squared_error: 12055.7881 - ft_transformer_1_root_mean_squared_error: 3374.8989 - val_loss: 165500192.0000 - val_ft_transformer_loss: 148593424.0000 - val_ft_transformer_1_loss: 16906764.0000 - val_ft_transformer_root_mean_squared_error: 12189.8906 - val_ft_transformer_1_root_mean_squared_error: 4111.7837\n",
      "Epoch 70/1000\n",
      "4/4 [==============================] - ETA: 0s - loss: 157680304.0000 - ft_transformer_loss: 145342016.0000 - ft_transformer_1_loss: 12338293.0000 - ft_transformer_root_mean_squared_error: 12055.7881 - ft_transformer_1_root_mean_squared_error: 3512.5906"
     ]
    },
    {
     "name": "stderr",
     "output_type": "stream",
     "text": [
      "WARNING:absl:Function `_wrapped_model` contains input name(s) args_0 with unsupported characters which will be renamed to args_0_2 in the SavedModel.\n",
      "WARNING:absl:Found untraced functions such as _update_step_xla, _update_step_xla, flatten_layer_call_fn, flatten_layer_call_and_return_conditional_losses, dense_layer_call_fn while saving (showing 5 of 56). These functions will not be directly callable after loading.\n"
     ]
    },
    {
     "name": "stdout",
     "output_type": "stream",
     "text": [
      "4/4 [==============================] - 7s 2s/step - loss: 157680304.0000 - ft_transformer_loss: 145342016.0000 - ft_transformer_1_loss: 12338293.0000 - ft_transformer_root_mean_squared_error: 12055.7881 - ft_transformer_1_root_mean_squared_error: 3512.5906 - val_loss: 165325648.0000 - val_ft_transformer_loss: 148593392.0000 - val_ft_transformer_1_loss: 16732257.0000 - val_ft_transformer_root_mean_squared_error: 12189.8896 - val_ft_transformer_1_root_mean_squared_error: 4090.5081\n",
      "Epoch 71/1000\n",
      "4/4 [==============================] - 4s 839ms/step - loss: 157393680.0000 - ft_transformer_loss: 145342016.0000 - ft_transformer_1_loss: 12051655.0000 - ft_transformer_root_mean_squared_error: 12055.7871 - ft_transformer_1_root_mean_squared_error: 3471.5493 - val_loss: 166241968.0000 - val_ft_transformer_loss: 148593392.0000 - val_ft_transformer_1_loss: 17648578.0000 - val_ft_transformer_root_mean_squared_error: 12189.8896 - val_ft_transformer_1_root_mean_squared_error: 4201.0210\n",
      "Epoch 72/1000\n",
      "4/4 [==============================] - 3s 752ms/step - loss: 156642336.0000 - ft_transformer_loss: 145342032.0000 - ft_transformer_1_loss: 11300306.0000 - ft_transformer_root_mean_squared_error: 12055.7881 - ft_transformer_1_root_mean_squared_error: 3361.5928 - val_loss: 165670192.0000 - val_ft_transformer_loss: 148593392.0000 - val_ft_transformer_1_loss: 17076802.0000 - val_ft_transformer_root_mean_squared_error: 12189.8896 - val_ft_transformer_1_root_mean_squared_error: 4132.4087\n",
      "Epoch 73/1000\n",
      "4/4 [==============================] - ETA: 0s - loss: 156664176.0000 - ft_transformer_loss: 145342016.0000 - ft_transformer_1_loss: 11322145.0000 - ft_transformer_root_mean_squared_error: 12055.7881 - ft_transformer_1_root_mean_squared_error: 3364.8396"
     ]
    },
    {
     "name": "stderr",
     "output_type": "stream",
     "text": [
      "WARNING:absl:Function `_wrapped_model` contains input name(s) args_0 with unsupported characters which will be renamed to args_0_2 in the SavedModel.\n",
      "WARNING:absl:Found untraced functions such as _update_step_xla, _update_step_xla, flatten_layer_call_fn, flatten_layer_call_and_return_conditional_losses, dense_layer_call_fn while saving (showing 5 of 56). These functions will not be directly callable after loading.\n"
     ]
    },
    {
     "name": "stdout",
     "output_type": "stream",
     "text": [
      "4/4 [==============================] - 7s 2s/step - loss: 156664176.0000 - ft_transformer_loss: 145342016.0000 - ft_transformer_1_loss: 11322145.0000 - ft_transformer_root_mean_squared_error: 12055.7881 - ft_transformer_1_root_mean_squared_error: 3364.8396 - val_loss: 165287376.0000 - val_ft_transformer_loss: 148593392.0000 - val_ft_transformer_1_loss: 16693983.0000 - val_ft_transformer_root_mean_squared_error: 12189.8896 - val_ft_transformer_1_root_mean_squared_error: 4085.8271\n",
      "Epoch 74/1000\n",
      "4/4 [==============================] - 3s 785ms/step - loss: 156198592.0000 - ft_transformer_loss: 145342016.0000 - ft_transformer_1_loss: 10856587.0000 - ft_transformer_root_mean_squared_error: 12055.7881 - ft_transformer_1_root_mean_squared_error: 3294.9336 - val_loss: 165815376.0000 - val_ft_transformer_loss: 148593408.0000 - val_ft_transformer_1_loss: 17221962.0000 - val_ft_transformer_root_mean_squared_error: 12189.8896 - val_ft_transformer_1_root_mean_squared_error: 4149.9351\n",
      "Epoch 75/1000\n",
      "4/4 [==============================] - 3s 667ms/step - loss: 156716096.0000 - ft_transformer_loss: 145342016.0000 - ft_transformer_1_loss: 11374079.0000 - ft_transformer_root_mean_squared_error: 12055.7871 - ft_transformer_1_root_mean_squared_error: 3372.5479 - val_loss: 165812048.0000 - val_ft_transformer_loss: 148593408.0000 - val_ft_transformer_1_loss: 17218636.0000 - val_ft_transformer_root_mean_squared_error: 12189.8896 - val_ft_transformer_1_root_mean_squared_error: 4149.5347\n",
      "Epoch 76/1000\n",
      "4/4 [==============================] - 3s 740ms/step - loss: 156552448.0000 - ft_transformer_loss: 145342016.0000 - ft_transformer_1_loss: 11210441.0000 - ft_transformer_root_mean_squared_error: 12055.7881 - ft_transformer_1_root_mean_squared_error: 3348.1997 - val_loss: 165521904.0000 - val_ft_transformer_loss: 148593408.0000 - val_ft_transformer_1_loss: 16928494.0000 - val_ft_transformer_root_mean_squared_error: 12189.8896 - val_ft_transformer_1_root_mean_squared_error: 4114.4253\n",
      "Epoch 77/1000\n",
      "4/4 [==============================] - 3s 767ms/step - loss: 156792512.0000 - ft_transformer_loss: 145342016.0000 - ft_transformer_1_loss: 11450507.0000 - ft_transformer_root_mean_squared_error: 12055.7871 - ft_transformer_1_root_mean_squared_error: 3383.8599 - val_loss: 165873600.0000 - val_ft_transformer_loss: 148593392.0000 - val_ft_transformer_1_loss: 17280204.0000 - val_ft_transformer_root_mean_squared_error: 12189.8896 - val_ft_transformer_1_root_mean_squared_error: 4156.9463\n",
      "Epoch 78/1000\n",
      "4/4 [==============================] - 3s 652ms/step - loss: 156504016.0000 - ft_transformer_loss: 145342016.0000 - ft_transformer_1_loss: 11161994.0000 - ft_transformer_root_mean_squared_error: 12055.7881 - ft_transformer_1_root_mean_squared_error: 3340.9570 - val_loss: 165967600.0000 - val_ft_transformer_loss: 148593392.0000 - val_ft_transformer_1_loss: 17374206.0000 - val_ft_transformer_root_mean_squared_error: 12189.8896 - val_ft_transformer_1_root_mean_squared_error: 4168.2378\n",
      "Epoch 79/1000\n",
      "4/4 [==============================] - 3s 775ms/step - loss: 156151408.0000 - ft_transformer_loss: 145342016.0000 - ft_transformer_1_loss: 10809385.0000 - ft_transformer_root_mean_squared_error: 12055.7881 - ft_transformer_1_root_mean_squared_error: 3287.7629 - val_loss: 165353504.0000 - val_ft_transformer_loss: 148593392.0000 - val_ft_transformer_1_loss: 16760106.0000 - val_ft_transformer_root_mean_squared_error: 12189.8896 - val_ft_transformer_1_root_mean_squared_error: 4093.9109\n",
      "Epoch 80/1000\n",
      "4/4 [==============================] - 3s 820ms/step - loss: 156223712.0000 - ft_transformer_loss: 145342016.0000 - ft_transformer_1_loss: 10881688.0000 - ft_transformer_root_mean_squared_error: 12055.7881 - ft_transformer_1_root_mean_squared_error: 3298.7405 - val_loss: 165481344.0000 - val_ft_transformer_loss: 148593392.0000 - val_ft_transformer_1_loss: 16887956.0000 - val_ft_transformer_root_mean_squared_error: 12189.8896 - val_ft_transformer_1_root_mean_squared_error: 4109.4956\n",
      "Epoch 81/1000\n",
      "4/4 [==============================] - ETA: 0s - loss: 156982672.0000 - ft_transformer_loss: 145342016.0000 - ft_transformer_1_loss: 11640667.0000 - ft_transformer_root_mean_squared_error: 12055.7881 - ft_transformer_1_root_mean_squared_error: 3411.8423"
     ]
    },
    {
     "name": "stderr",
     "output_type": "stream",
     "text": [
      "WARNING:absl:Function `_wrapped_model` contains input name(s) args_0 with unsupported characters which will be renamed to args_0_2 in the SavedModel.\n",
      "WARNING:absl:Found untraced functions such as _update_step_xla, _update_step_xla, flatten_layer_call_fn, flatten_layer_call_and_return_conditional_losses, dense_layer_call_fn while saving (showing 5 of 56). These functions will not be directly callable after loading.\n"
     ]
    },
    {
     "name": "stdout",
     "output_type": "stream",
     "text": [
      "4/4 [==============================] - 7s 2s/step - loss: 156982672.0000 - ft_transformer_loss: 145342016.0000 - ft_transformer_1_loss: 11640667.0000 - ft_transformer_root_mean_squared_error: 12055.7881 - ft_transformer_1_root_mean_squared_error: 3411.8423 - val_loss: 165270320.0000 - val_ft_transformer_loss: 148593408.0000 - val_ft_transformer_1_loss: 16676908.0000 - val_ft_transformer_root_mean_squared_error: 12189.8896 - val_ft_transformer_1_root_mean_squared_error: 4083.7371\n",
      "Epoch 82/1000\n",
      "4/4 [==============================] - 3s 719ms/step - loss: 156420736.0000 - ft_transformer_loss: 145342016.0000 - ft_transformer_1_loss: 11078705.0000 - ft_transformer_root_mean_squared_error: 12055.7881 - ft_transformer_1_root_mean_squared_error: 3328.4688 - val_loss: 165727200.0000 - val_ft_transformer_loss: 148593392.0000 - val_ft_transformer_1_loss: 17133814.0000 - val_ft_transformer_root_mean_squared_error: 12189.8896 - val_ft_transformer_1_root_mean_squared_error: 4139.3013\n",
      "Epoch 83/1000\n",
      "4/4 [==============================] - 3s 676ms/step - loss: 156217952.0000 - ft_transformer_loss: 145342016.0000 - ft_transformer_1_loss: 10875928.0000 - ft_transformer_root_mean_squared_error: 12055.7881 - ft_transformer_1_root_mean_squared_error: 3297.8672 - val_loss: 165771968.0000 - val_ft_transformer_loss: 148593392.0000 - val_ft_transformer_1_loss: 17178570.0000 - val_ft_transformer_root_mean_squared_error: 12189.8896 - val_ft_transformer_1_root_mean_squared_error: 4144.7036\n",
      "Epoch 84/1000\n",
      "4/4 [==============================] - 3s 828ms/step - loss: 156615392.0000 - ft_transformer_loss: 145342016.0000 - ft_transformer_1_loss: 11273374.0000 - ft_transformer_root_mean_squared_error: 12055.7881 - ft_transformer_1_root_mean_squared_error: 3357.5845 - val_loss: 165351280.0000 - val_ft_transformer_loss: 148593392.0000 - val_ft_transformer_1_loss: 16757891.0000 - val_ft_transformer_root_mean_squared_error: 12189.8906 - val_ft_transformer_1_root_mean_squared_error: 4093.6404\n",
      "Epoch 85/1000\n",
      "4/4 [==============================] - 3s 766ms/step - loss: 156102528.0000 - ft_transformer_loss: 145342016.0000 - ft_transformer_1_loss: 10760517.0000 - ft_transformer_root_mean_squared_error: 12055.7881 - ft_transformer_1_root_mean_squared_error: 3280.3228 - val_loss: 165772320.0000 - val_ft_transformer_loss: 148593424.0000 - val_ft_transformer_1_loss: 17178900.0000 - val_ft_transformer_root_mean_squared_error: 12189.8896 - val_ft_transformer_1_root_mean_squared_error: 4144.7437\n",
      "Epoch 86/1000\n",
      "4/4 [==============================] - 3s 700ms/step - loss: 156442864.0000 - ft_transformer_loss: 145342016.0000 - ft_transformer_1_loss: 11100848.0000 - ft_transformer_root_mean_squared_error: 12055.7881 - ft_transformer_1_root_mean_squared_error: 3331.7935 - val_loss: 165536928.0000 - val_ft_transformer_loss: 148593392.0000 - val_ft_transformer_1_loss: 16943538.0000 - val_ft_transformer_root_mean_squared_error: 12189.8906 - val_ft_transformer_1_root_mean_squared_error: 4116.2529\n",
      "Epoch 87/1000\n",
      "4/4 [==============================] - 3s 778ms/step - loss: 155947968.0000 - ft_transformer_loss: 145342016.0000 - ft_transformer_1_loss: 10605939.0000 - ft_transformer_root_mean_squared_error: 12055.7881 - ft_transformer_1_root_mean_squared_error: 3256.6760 - val_loss: 165643776.0000 - val_ft_transformer_loss: 148593392.0000 - val_ft_transformer_1_loss: 17050378.0000 - val_ft_transformer_root_mean_squared_error: 12189.8906 - val_ft_transformer_1_root_mean_squared_error: 4129.2104\n",
      "Epoch 88/1000\n",
      "4/4 [==============================] - 3s 769ms/step - loss: 156603920.0000 - ft_transformer_loss: 145342016.0000 - ft_transformer_1_loss: 11261898.0000 - ft_transformer_root_mean_squared_error: 12055.7881 - ft_transformer_1_root_mean_squared_error: 3355.8752 - val_loss: 165546816.0000 - val_ft_transformer_loss: 148593392.0000 - val_ft_transformer_1_loss: 16953420.0000 - val_ft_transformer_root_mean_squared_error: 12189.8896 - val_ft_transformer_1_root_mean_squared_error: 4117.4531\n",
      "Epoch 89/1000\n",
      "4/4 [==============================] - 3s 812ms/step - loss: 156234240.0000 - ft_transformer_loss: 145342016.0000 - ft_transformer_1_loss: 10892206.0000 - ft_transformer_root_mean_squared_error: 12055.7881 - ft_transformer_1_root_mean_squared_error: 3300.3342 - val_loss: 165592976.0000 - val_ft_transformer_loss: 148593392.0000 - val_ft_transformer_1_loss: 16999588.0000 - val_ft_transformer_root_mean_squared_error: 12189.8906 - val_ft_transformer_1_root_mean_squared_error: 4123.0557\n",
      "Epoch 90/1000\n",
      "4/4 [==============================] - 3s 788ms/step - loss: 156033104.0000 - ft_transformer_loss: 145342016.0000 - ft_transformer_1_loss: 10691078.0000 - ft_transformer_root_mean_squared_error: 12055.7881 - ft_transformer_1_root_mean_squared_error: 3269.7214 - val_loss: 165632448.0000 - val_ft_transformer_loss: 148593392.0000 - val_ft_transformer_1_loss: 17039064.0000 - val_ft_transformer_root_mean_squared_error: 12189.8896 - val_ft_transformer_1_root_mean_squared_error: 4127.8403\n",
      "Epoch 91/1000\n",
      "4/4 [==============================] - 3s 750ms/step - loss: 155660304.0000 - ft_transformer_loss: 145342016.0000 - ft_transformer_1_loss: 10318282.0000 - ft_transformer_root_mean_squared_error: 12055.7881 - ft_transformer_1_root_mean_squared_error: 3212.2083 - val_loss: 165349152.0000 - val_ft_transformer_loss: 148593408.0000 - val_ft_transformer_1_loss: 16755749.0000 - val_ft_transformer_root_mean_squared_error: 12189.8896 - val_ft_transformer_1_root_mean_squared_error: 4093.3787\n",
      "Epoch 92/1000\n",
      "4/4 [==============================] - 3s 664ms/step - loss: 155495456.0000 - ft_transformer_loss: 145342016.0000 - ft_transformer_1_loss: 10153433.0000 - ft_transformer_root_mean_squared_error: 12055.7881 - ft_transformer_1_root_mean_squared_error: 3186.4453 - val_loss: 165364224.0000 - val_ft_transformer_loss: 148593392.0000 - val_ft_transformer_1_loss: 16770836.0000 - val_ft_transformer_root_mean_squared_error: 12189.8906 - val_ft_transformer_1_root_mean_squared_error: 4095.2212\n",
      "Epoch 93/1000\n",
      "4/4 [==============================] - 3s 793ms/step - loss: 155801328.0000 - ft_transformer_loss: 145342016.0000 - ft_transformer_1_loss: 10459306.0000 - ft_transformer_root_mean_squared_error: 12055.7881 - ft_transformer_1_root_mean_squared_error: 3234.0850 - val_loss: 165455744.0000 - val_ft_transformer_loss: 148593408.0000 - val_ft_transformer_1_loss: 16862342.0000 - val_ft_transformer_root_mean_squared_error: 12189.8896 - val_ft_transformer_1_root_mean_squared_error: 4106.3784\n",
      "Epoch 94/1000\n",
      "4/4 [==============================] - 3s 688ms/step - loss: 156712672.0000 - ft_transformer_loss: 145342032.0000 - ft_transformer_1_loss: 11370645.0000 - ft_transformer_root_mean_squared_error: 12055.7881 - ft_transformer_1_root_mean_squared_error: 3372.0388 - val_loss: 165333856.0000 - val_ft_transformer_loss: 148593408.0000 - val_ft_transformer_1_loss: 16740445.0000 - val_ft_transformer_root_mean_squared_error: 12189.8896 - val_ft_transformer_1_root_mean_squared_error: 4091.5088\n",
      "Epoch 95/1000\n",
      "4/4 [==============================] - 3s 801ms/step - loss: 155743232.0000 - ft_transformer_loss: 145342016.0000 - ft_transformer_1_loss: 10401221.0000 - ft_transformer_root_mean_squared_error: 12055.7881 - ft_transformer_1_root_mean_squared_error: 3225.0923 - val_loss: 165583072.0000 - val_ft_transformer_loss: 148593392.0000 - val_ft_transformer_1_loss: 16989680.0000 - val_ft_transformer_root_mean_squared_error: 12189.8896 - val_ft_transformer_1_root_mean_squared_error: 4121.8540\n",
      "Epoch 96/1000\n",
      "4/4 [==============================] - 3s 739ms/step - loss: 156129728.0000 - ft_transformer_loss: 145342016.0000 - ft_transformer_1_loss: 10787725.0000 - ft_transformer_root_mean_squared_error: 12055.7881 - ft_transformer_1_root_mean_squared_error: 3284.4673 - val_loss: 165524240.0000 - val_ft_transformer_loss: 148593392.0000 - val_ft_transformer_1_loss: 16930854.0000 - val_ft_transformer_root_mean_squared_error: 12189.8896 - val_ft_transformer_1_root_mean_squared_error: 4114.7119\n",
      "Epoch 97/1000\n",
      "4/4 [==============================] - 3s 701ms/step - loss: 155820928.0000 - ft_transformer_loss: 145342000.0000 - ft_transformer_1_loss: 10478923.0000 - ft_transformer_root_mean_squared_error: 12055.7881 - ft_transformer_1_root_mean_squared_error: 3237.1165 - val_loss: 165828816.0000 - val_ft_transformer_loss: 148593392.0000 - val_ft_transformer_1_loss: 17235430.0000 - val_ft_transformer_root_mean_squared_error: 12189.8896 - val_ft_transformer_1_root_mean_squared_error: 4151.5576\n",
      "Epoch 98/1000\n",
      "4/4 [==============================] - 3s 764ms/step - loss: 156084416.0000 - ft_transformer_loss: 145342016.0000 - ft_transformer_1_loss: 10742409.0000 - ft_transformer_root_mean_squared_error: 12055.7881 - ft_transformer_1_root_mean_squared_error: 3277.5615 - val_loss: 165742192.0000 - val_ft_transformer_loss: 148593408.0000 - val_ft_transformer_1_loss: 17148780.0000 - val_ft_transformer_root_mean_squared_error: 12189.8896 - val_ft_transformer_1_root_mean_squared_error: 4141.1084\n",
      "Epoch 99/1000\n",
      "4/4 [==============================] - 4s 799ms/step - loss: 155701584.0000 - ft_transformer_loss: 145342016.0000 - ft_transformer_1_loss: 10359555.0000 - ft_transformer_root_mean_squared_error: 12055.7881 - ft_transformer_1_root_mean_squared_error: 3218.6262 - val_loss: 166306592.0000 - val_ft_transformer_loss: 148593392.0000 - val_ft_transformer_1_loss: 17713200.0000 - val_ft_transformer_root_mean_squared_error: 12189.8896 - val_ft_transformer_1_root_mean_squared_error: 4208.7051\n",
      "Epoch 100/1000\n",
      "4/4 [==============================] - 3s 783ms/step - loss: 156089328.0000 - ft_transformer_loss: 145342016.0000 - ft_transformer_1_loss: 10747320.0000 - ft_transformer_root_mean_squared_error: 12055.7881 - ft_transformer_1_root_mean_squared_error: 3278.3105 - val_loss: 165813888.0000 - val_ft_transformer_loss: 148593392.0000 - val_ft_transformer_1_loss: 17220496.0000 - val_ft_transformer_root_mean_squared_error: 12189.8896 - val_ft_transformer_1_root_mean_squared_error: 4149.7588\n",
      "Epoch 101/1000\n",
      "4/4 [==============================] - 3s 778ms/step - loss: 155701728.0000 - ft_transformer_loss: 145342016.0000 - ft_transformer_1_loss: 10359715.0000 - ft_transformer_root_mean_squared_error: 12055.7881 - ft_transformer_1_root_mean_squared_error: 3218.6511 - val_loss: 165780336.0000 - val_ft_transformer_loss: 148593408.0000 - val_ft_transformer_1_loss: 17186924.0000 - val_ft_transformer_root_mean_squared_error: 12189.8896 - val_ft_transformer_1_root_mean_squared_error: 4145.7114\n",
      "Epoch 102/1000\n",
      "4/4 [==============================] - 3s 737ms/step - loss: 156212768.0000 - ft_transformer_loss: 145342016.0000 - ft_transformer_1_loss: 10870744.0000 - ft_transformer_root_mean_squared_error: 12055.7871 - ft_transformer_1_root_mean_squared_error: 3297.0811 - val_loss: 165810400.0000 - val_ft_transformer_loss: 148593392.0000 - val_ft_transformer_1_loss: 17217008.0000 - val_ft_transformer_root_mean_squared_error: 12189.8896 - val_ft_transformer_1_root_mean_squared_error: 4149.3384\n",
      "Epoch 103/1000\n",
      "4/4 [==============================] - 3s 759ms/step - loss: 156135568.0000 - ft_transformer_loss: 145342016.0000 - ft_transformer_1_loss: 10793559.0000 - ft_transformer_root_mean_squared_error: 12055.7881 - ft_transformer_1_root_mean_squared_error: 3285.3552 - val_loss: 165779552.0000 - val_ft_transformer_loss: 148593408.0000 - val_ft_transformer_1_loss: 17186136.0000 - val_ft_transformer_root_mean_squared_error: 12189.8896 - val_ft_transformer_1_root_mean_squared_error: 4145.6167\n",
      "Epoch 104/1000\n",
      "4/4 [==============================] - 3s 776ms/step - loss: 155950928.0000 - ft_transformer_loss: 145342016.0000 - ft_transformer_1_loss: 10608926.0000 - ft_transformer_root_mean_squared_error: 12055.7871 - ft_transformer_1_root_mean_squared_error: 3257.1345 - val_loss: 165755968.0000 - val_ft_transformer_loss: 148593392.0000 - val_ft_transformer_1_loss: 17162584.0000 - val_ft_transformer_root_mean_squared_error: 12189.8896 - val_ft_transformer_1_root_mean_squared_error: 4142.7749\n",
      "Epoch 105/1000\n",
      "4/4 [==============================] - 4s 759ms/step - loss: 155639104.0000 - ft_transformer_loss: 145342016.0000 - ft_transformer_1_loss: 10297097.0000 - ft_transformer_root_mean_squared_error: 12055.7881 - ft_transformer_1_root_mean_squared_error: 3208.9089 - val_loss: 165711600.0000 - val_ft_transformer_loss: 148593424.0000 - val_ft_transformer_1_loss: 17118172.0000 - val_ft_transformer_root_mean_squared_error: 12189.8896 - val_ft_transformer_1_root_mean_squared_error: 4137.4111\n",
      "Epoch 106/1000\n",
      "4/4 [==============================] - 3s 833ms/step - loss: 155563488.0000 - ft_transformer_loss: 145342016.0000 - ft_transformer_1_loss: 10221473.0000 - ft_transformer_root_mean_squared_error: 12055.7881 - ft_transformer_1_root_mean_squared_error: 3197.1038 - val_loss: 165728832.0000 - val_ft_transformer_loss: 148593424.0000 - val_ft_transformer_1_loss: 17135404.0000 - val_ft_transformer_root_mean_squared_error: 12189.8896 - val_ft_transformer_1_root_mean_squared_error: 4139.4932\n",
      "Epoch 107/1000\n",
      "4/4 [==============================] - 4s 824ms/step - loss: 156040992.0000 - ft_transformer_loss: 145342016.0000 - ft_transformer_1_loss: 10698966.0000 - ft_transformer_root_mean_squared_error: 12055.7881 - ft_transformer_1_root_mean_squared_error: 3270.9275 - val_loss: 165689024.0000 - val_ft_transformer_loss: 148593392.0000 - val_ft_transformer_1_loss: 17095636.0000 - val_ft_transformer_root_mean_squared_error: 12189.8896 - val_ft_transformer_1_root_mean_squared_error: 4134.6870\n",
      "Epoch 108/1000\n",
      "4/4 [==============================] - 4s 791ms/step - loss: 156259056.0000 - ft_transformer_loss: 145342016.0000 - ft_transformer_1_loss: 10917034.0000 - ft_transformer_root_mean_squared_error: 12055.7871 - ft_transformer_1_root_mean_squared_error: 3304.0935 - val_loss: 165398880.0000 - val_ft_transformer_loss: 148593392.0000 - val_ft_transformer_1_loss: 16805496.0000 - val_ft_transformer_root_mean_squared_error: 12189.8896 - val_ft_transformer_1_root_mean_squared_error: 4099.4507\n",
      "Epoch 109/1000\n",
      "4/4 [==============================] - ETA: 0s - loss: 155541056.0000 - ft_transformer_loss: 145342016.0000 - ft_transformer_1_loss: 10199045.0000 - ft_transformer_root_mean_squared_error: 12055.7881 - ft_transformer_1_root_mean_squared_error: 3193.5945"
     ]
    },
    {
     "name": "stderr",
     "output_type": "stream",
     "text": [
      "WARNING:absl:Function `_wrapped_model` contains input name(s) args_0 with unsupported characters which will be renamed to args_0_2 in the SavedModel.\n",
      "WARNING:absl:Found untraced functions such as _update_step_xla, _update_step_xla, flatten_layer_call_fn, flatten_layer_call_and_return_conditional_losses, dense_layer_call_fn while saving (showing 5 of 56). These functions will not be directly callable after loading.\n"
     ]
    },
    {
     "name": "stdout",
     "output_type": "stream",
     "text": [
      "4/4 [==============================] - 7s 2s/step - loss: 155541056.0000 - ft_transformer_loss: 145342016.0000 - ft_transformer_1_loss: 10199045.0000 - ft_transformer_root_mean_squared_error: 12055.7881 - ft_transformer_1_root_mean_squared_error: 3193.5945 - val_loss: 165267648.0000 - val_ft_transformer_loss: 148593424.0000 - val_ft_transformer_1_loss: 16674230.0000 - val_ft_transformer_root_mean_squared_error: 12189.8896 - val_ft_transformer_1_root_mean_squared_error: 4083.4092\n",
      "Epoch 110/1000\n",
      "4/4 [==============================] - 4s 839ms/step - loss: 155310320.0000 - ft_transformer_loss: 145342032.0000 - ft_transformer_1_loss: 9968293.0000 - ft_transformer_root_mean_squared_error: 12055.7881 - ft_transformer_1_root_mean_squared_error: 3157.2603 - val_loss: 165270144.0000 - val_ft_transformer_loss: 148593392.0000 - val_ft_transformer_1_loss: 16676749.0000 - val_ft_transformer_root_mean_squared_error: 12189.8896 - val_ft_transformer_1_root_mean_squared_error: 4083.7175\n",
      "Epoch 111/1000\n",
      "4/4 [==============================] - 3s 782ms/step - loss: 155453760.0000 - ft_transformer_loss: 145342000.0000 - ft_transformer_1_loss: 10111736.0000 - ft_transformer_root_mean_squared_error: 12055.7881 - ft_transformer_1_root_mean_squared_error: 3179.8955 - val_loss: 165322112.0000 - val_ft_transformer_loss: 148593408.0000 - val_ft_transformer_1_loss: 16728709.0000 - val_ft_transformer_root_mean_squared_error: 12189.8896 - val_ft_transformer_1_root_mean_squared_error: 4090.0745\n",
      "Epoch 112/1000\n",
      "4/4 [==============================] - 3s 804ms/step - loss: 155784832.0000 - ft_transformer_loss: 145342016.0000 - ft_transformer_1_loss: 10442806.0000 - ft_transformer_root_mean_squared_error: 12055.7881 - ft_transformer_1_root_mean_squared_error: 3231.5330 - val_loss: 165688064.0000 - val_ft_transformer_loss: 148593392.0000 - val_ft_transformer_1_loss: 17094680.0000 - val_ft_transformer_root_mean_squared_error: 12189.8896 - val_ft_transformer_1_root_mean_squared_error: 4134.5713\n",
      "Epoch 113/1000\n",
      "4/4 [==============================] - 3s 729ms/step - loss: 156110832.0000 - ft_transformer_loss: 145342016.0000 - ft_transformer_1_loss: 10768817.0000 - ft_transformer_root_mean_squared_error: 12055.7881 - ft_transformer_1_root_mean_squared_error: 3281.5876 - val_loss: 166078624.0000 - val_ft_transformer_loss: 148593408.0000 - val_ft_transformer_1_loss: 17485220.0000 - val_ft_transformer_root_mean_squared_error: 12189.8896 - val_ft_transformer_1_root_mean_squared_error: 4181.5332\n",
      "Epoch 114/1000\n",
      "4/4 [==============================] - 3s 807ms/step - loss: 156085136.0000 - ft_transformer_loss: 145342032.0000 - ft_transformer_1_loss: 10743107.0000 - ft_transformer_root_mean_squared_error: 12055.7881 - ft_transformer_1_root_mean_squared_error: 3277.6680 - val_loss: 165430816.0000 - val_ft_transformer_loss: 148593392.0000 - val_ft_transformer_1_loss: 16837424.0000 - val_ft_transformer_root_mean_squared_error: 12189.8896 - val_ft_transformer_1_root_mean_squared_error: 4103.3433\n",
      "Epoch 115/1000\n",
      "4/4 [==============================] - 3s 794ms/step - loss: 155639824.0000 - ft_transformer_loss: 145342016.0000 - ft_transformer_1_loss: 10297810.0000 - ft_transformer_root_mean_squared_error: 12055.7881 - ft_transformer_1_root_mean_squared_error: 3209.0200 - val_loss: 165624448.0000 - val_ft_transformer_loss: 148593392.0000 - val_ft_transformer_1_loss: 17031050.0000 - val_ft_transformer_root_mean_squared_error: 12189.8896 - val_ft_transformer_1_root_mean_squared_error: 4126.8691\n",
      "Epoch 116/1000\n",
      "4/4 [==============================] - 4s 833ms/step - loss: 156113888.0000 - ft_transformer_loss: 145342016.0000 - ft_transformer_1_loss: 10771878.0000 - ft_transformer_root_mean_squared_error: 12055.7881 - ft_transformer_1_root_mean_squared_error: 3282.0540 - val_loss: 165380352.0000 - val_ft_transformer_loss: 148593408.0000 - val_ft_transformer_1_loss: 16786938.0000 - val_ft_transformer_root_mean_squared_error: 12189.8896 - val_ft_transformer_1_root_mean_squared_error: 4097.1865\n",
      "Epoch 117/1000\n",
      "4/4 [==============================] - 3s 798ms/step - loss: 155278032.0000 - ft_transformer_loss: 145342016.0000 - ft_transformer_1_loss: 9936015.0000 - ft_transformer_root_mean_squared_error: 12055.7881 - ft_transformer_1_root_mean_squared_error: 3152.1445 - val_loss: 165845664.0000 - val_ft_transformer_loss: 148593392.0000 - val_ft_transformer_1_loss: 17252264.0000 - val_ft_transformer_root_mean_squared_error: 12189.8896 - val_ft_transformer_1_root_mean_squared_error: 4153.5845\n",
      "Epoch 118/1000\n",
      "4/4 [==============================] - 3s 767ms/step - loss: 155678064.0000 - ft_transformer_loss: 145342016.0000 - ft_transformer_1_loss: 10336048.0000 - ft_transformer_root_mean_squared_error: 12055.7881 - ft_transformer_1_root_mean_squared_error: 3214.9724 - val_loss: 165380960.0000 - val_ft_transformer_loss: 148593392.0000 - val_ft_transformer_1_loss: 16787564.0000 - val_ft_transformer_root_mean_squared_error: 12189.8896 - val_ft_transformer_1_root_mean_squared_error: 4097.2632\n",
      "Epoch 119/1000\n",
      "4/4 [==============================] - 3s 789ms/step - loss: 155502672.0000 - ft_transformer_loss: 145342016.0000 - ft_transformer_1_loss: 10160655.0000 - ft_transformer_root_mean_squared_error: 12055.7881 - ft_transformer_1_root_mean_squared_error: 3187.5781 - val_loss: 165526672.0000 - val_ft_transformer_loss: 148593392.0000 - val_ft_transformer_1_loss: 16933274.0000 - val_ft_transformer_root_mean_squared_error: 12189.8896 - val_ft_transformer_1_root_mean_squared_error: 4115.0059\n",
      "Epoch 120/1000\n",
      "4/4 [==============================] - 4s 804ms/step - loss: 155126112.0000 - ft_transformer_loss: 145342016.0000 - ft_transformer_1_loss: 9784088.0000 - ft_transformer_root_mean_squared_error: 12055.7881 - ft_transformer_1_root_mean_squared_error: 3127.9526 - val_loss: 165690016.0000 - val_ft_transformer_loss: 148593424.0000 - val_ft_transformer_1_loss: 17096596.0000 - val_ft_transformer_root_mean_squared_error: 12189.8896 - val_ft_transformer_1_root_mean_squared_error: 4134.8032\n",
      "Epoch 121/1000\n",
      "4/4 [==============================] - 3s 738ms/step - loss: 155410672.0000 - ft_transformer_loss: 145342016.0000 - ft_transformer_1_loss: 10068661.0000 - ft_transformer_root_mean_squared_error: 12055.7881 - ft_transformer_1_root_mean_squared_error: 3173.1152 - val_loss: 165666288.0000 - val_ft_transformer_loss: 148593392.0000 - val_ft_transformer_1_loss: 17072900.0000 - val_ft_transformer_root_mean_squared_error: 12189.8906 - val_ft_transformer_1_root_mean_squared_error: 4131.9365\n",
      "Epoch 122/1000\n",
      "4/4 [==============================] - 4s 874ms/step - loss: 155680992.0000 - ft_transformer_loss: 145342016.0000 - ft_transformer_1_loss: 10338979.0000 - ft_transformer_root_mean_squared_error: 12055.7871 - ft_transformer_1_root_mean_squared_error: 3215.4282 - val_loss: 165916272.0000 - val_ft_transformer_loss: 148593408.0000 - val_ft_transformer_1_loss: 17322860.0000 - val_ft_transformer_root_mean_squared_error: 12189.8906 - val_ft_transformer_1_root_mean_squared_error: 4162.0742\n",
      "Epoch 123/1000\n",
      "4/4 [==============================] - 3s 815ms/step - loss: 155586272.0000 - ft_transformer_loss: 145342016.0000 - ft_transformer_1_loss: 10244254.0000 - ft_transformer_root_mean_squared_error: 12055.7871 - ft_transformer_1_root_mean_squared_error: 3200.6646 - val_loss: 165973888.0000 - val_ft_transformer_loss: 148593392.0000 - val_ft_transformer_1_loss: 17380500.0000 - val_ft_transformer_root_mean_squared_error: 12189.8906 - val_ft_transformer_1_root_mean_squared_error: 4168.9927\n",
      "Epoch 124/1000\n",
      "4/4 [==============================] - 4s 786ms/step - loss: 155079824.0000 - ft_transformer_loss: 145342016.0000 - ft_transformer_1_loss: 9737805.0000 - ft_transformer_root_mean_squared_error: 12055.7881 - ft_transformer_1_root_mean_squared_error: 3120.5457 - val_loss: 165802800.0000 - val_ft_transformer_loss: 148593392.0000 - val_ft_transformer_1_loss: 17209408.0000 - val_ft_transformer_root_mean_squared_error: 12189.8906 - val_ft_transformer_1_root_mean_squared_error: 4148.4224\n",
      "Epoch 125/1000\n",
      "4/4 [==============================] - 4s 814ms/step - loss: 155189808.0000 - ft_transformer_loss: 145342016.0000 - ft_transformer_1_loss: 9847779.0000 - ft_transformer_root_mean_squared_error: 12055.7881 - ft_transformer_1_root_mean_squared_error: 3138.1172 - val_loss: 165855808.0000 - val_ft_transformer_loss: 148593392.0000 - val_ft_transformer_1_loss: 17262416.0000 - val_ft_transformer_root_mean_squared_error: 12189.8906 - val_ft_transformer_1_root_mean_squared_error: 4154.8062\n",
      "Epoch 126/1000\n",
      "4/4 [==============================] - 3s 768ms/step - loss: 155442016.0000 - ft_transformer_loss: 145342032.0000 - ft_transformer_1_loss: 10099990.0000 - ft_transformer_root_mean_squared_error: 12055.7881 - ft_transformer_1_root_mean_squared_error: 3178.0481 - val_loss: 165943808.0000 - val_ft_transformer_loss: 148593392.0000 - val_ft_transformer_1_loss: 17350412.0000 - val_ft_transformer_root_mean_squared_error: 12189.8906 - val_ft_transformer_1_root_mean_squared_error: 4165.3828\n",
      "Epoch 127/1000\n",
      "4/4 [==============================] - 3s 795ms/step - loss: 154948032.0000 - ft_transformer_loss: 145342016.0000 - ft_transformer_1_loss: 9606006.0000 - ft_transformer_root_mean_squared_error: 12055.7871 - ft_transformer_1_root_mean_squared_error: 3099.3557 - val_loss: 166150240.0000 - val_ft_transformer_loss: 148593392.0000 - val_ft_transformer_1_loss: 17556856.0000 - val_ft_transformer_root_mean_squared_error: 12189.8906 - val_ft_transformer_1_root_mean_squared_error: 4190.0903\n",
      "Epoch 128/1000\n",
      "4/4 [==============================] - 3s 789ms/step - loss: 155700560.0000 - ft_transformer_loss: 145342016.0000 - ft_transformer_1_loss: 10358545.0000 - ft_transformer_root_mean_squared_error: 12055.7881 - ft_transformer_1_root_mean_squared_error: 3218.4692 - val_loss: 166172144.0000 - val_ft_transformer_loss: 148593392.0000 - val_ft_transformer_1_loss: 17578746.0000 - val_ft_transformer_root_mean_squared_error: 12189.8906 - val_ft_transformer_1_root_mean_squared_error: 4192.7017\n",
      "Epoch 129/1000\n",
      "4/4 [==============================] - 3s 834ms/step - loss: 155533600.0000 - ft_transformer_loss: 145342000.0000 - ft_transformer_1_loss: 10191588.0000 - ft_transformer_root_mean_squared_error: 12055.7881 - ft_transformer_1_root_mean_squared_error: 3192.4268 - val_loss: 166821216.0000 - val_ft_transformer_loss: 148593392.0000 - val_ft_transformer_1_loss: 18227822.0000 - val_ft_transformer_root_mean_squared_error: 12189.8906 - val_ft_transformer_1_root_mean_squared_error: 4269.4053\n",
      "Epoch 130/1000\n",
      "4/4 [==============================] - 3s 801ms/step - loss: 155885376.0000 - ft_transformer_loss: 145342016.0000 - ft_transformer_1_loss: 10543351.0000 - ft_transformer_root_mean_squared_error: 12055.7881 - ft_transformer_1_root_mean_squared_error: 3247.0527 - val_loss: 166363936.0000 - val_ft_transformer_loss: 148593392.0000 - val_ft_transformer_1_loss: 17770550.0000 - val_ft_transformer_root_mean_squared_error: 12189.8906 - val_ft_transformer_1_root_mean_squared_error: 4215.5132\n",
      "Epoch 131/1000\n",
      "4/4 [==============================] - 4s 937ms/step - loss: 156162144.0000 - ft_transformer_loss: 145342016.0000 - ft_transformer_1_loss: 10820129.0000 - ft_transformer_root_mean_squared_error: 12055.7881 - ft_transformer_1_root_mean_squared_error: 3289.3965 - val_loss: 166245184.0000 - val_ft_transformer_loss: 148593392.0000 - val_ft_transformer_1_loss: 17651800.0000 - val_ft_transformer_root_mean_squared_error: 12189.8906 - val_ft_transformer_1_root_mean_squared_error: 4201.4043\n",
      "Epoch 132/1000\n",
      "4/4 [==============================] - 3s 789ms/step - loss: 155553632.0000 - ft_transformer_loss: 145342016.0000 - ft_transformer_1_loss: 10211619.0000 - ft_transformer_root_mean_squared_error: 12055.7871 - ft_transformer_1_root_mean_squared_error: 3195.5625 - val_loss: 166177232.0000 - val_ft_transformer_loss: 148593392.0000 - val_ft_transformer_1_loss: 17583844.0000 - val_ft_transformer_root_mean_squared_error: 12189.8896 - val_ft_transformer_1_root_mean_squared_error: 4193.3096\n",
      "Epoch 133/1000\n",
      "4/4 [==============================] - 3s 766ms/step - loss: 155915712.0000 - ft_transformer_loss: 145342016.0000 - ft_transformer_1_loss: 10573690.0000 - ft_transformer_root_mean_squared_error: 12055.7881 - ft_transformer_1_root_mean_squared_error: 3251.7212 - val_loss: 166311008.0000 - val_ft_transformer_loss: 148593392.0000 - val_ft_transformer_1_loss: 17717616.0000 - val_ft_transformer_root_mean_squared_error: 12189.8896 - val_ft_transformer_1_root_mean_squared_error: 4209.2300\n",
      "Epoch 134/1000\n",
      "4/4 [==============================] - 3s 805ms/step - loss: 154898960.0000 - ft_transformer_loss: 145342016.0000 - ft_transformer_1_loss: 9556924.0000 - ft_transformer_root_mean_squared_error: 12055.7881 - ft_transformer_1_root_mean_squared_error: 3091.4275 - val_loss: 166050816.0000 - val_ft_transformer_loss: 148593392.0000 - val_ft_transformer_1_loss: 17457418.0000 - val_ft_transformer_root_mean_squared_error: 12189.8896 - val_ft_transformer_1_root_mean_squared_error: 4178.2075\n",
      "Epoch 135/1000\n",
      "4/4 [==============================] - 3s 737ms/step - loss: 155272176.0000 - ft_transformer_loss: 145342016.0000 - ft_transformer_1_loss: 9930161.0000 - ft_transformer_root_mean_squared_error: 12055.7881 - ft_transformer_1_root_mean_squared_error: 3151.2158 - val_loss: 166057376.0000 - val_ft_transformer_loss: 148593392.0000 - val_ft_transformer_1_loss: 17463980.0000 - val_ft_transformer_root_mean_squared_error: 12189.8896 - val_ft_transformer_1_root_mean_squared_error: 4178.9927\n",
      "Epoch 136/1000\n",
      "4/4 [==============================] - 3s 774ms/step - loss: 155051632.0000 - ft_transformer_loss: 145342016.0000 - ft_transformer_1_loss: 9709609.0000 - ft_transformer_root_mean_squared_error: 12055.7881 - ft_transformer_1_root_mean_squared_error: 3116.0247 - val_loss: 165952256.0000 - val_ft_transformer_loss: 148593424.0000 - val_ft_transformer_1_loss: 17358840.0000 - val_ft_transformer_root_mean_squared_error: 12189.8896 - val_ft_transformer_1_root_mean_squared_error: 4166.3940\n",
      "Epoch 137/1000\n",
      "4/4 [==============================] - 3s 791ms/step - loss: 155277776.0000 - ft_transformer_loss: 145342016.0000 - ft_transformer_1_loss: 9935763.0000 - ft_transformer_root_mean_squared_error: 12055.7881 - ft_transformer_1_root_mean_squared_error: 3152.1045 - val_loss: 165788656.0000 - val_ft_transformer_loss: 148593408.0000 - val_ft_transformer_1_loss: 17195250.0000 - val_ft_transformer_root_mean_squared_error: 12189.8896 - val_ft_transformer_1_root_mean_squared_error: 4146.7153\n",
      "Epoch 138/1000\n",
      "4/4 [==============================] - 4s 771ms/step - loss: 155341552.0000 - ft_transformer_loss: 145342016.0000 - ft_transformer_1_loss: 9999529.0000 - ft_transformer_root_mean_squared_error: 12055.7881 - ft_transformer_1_root_mean_squared_error: 3162.2031 - val_loss: 166419008.0000 - val_ft_transformer_loss: 148593392.0000 - val_ft_transformer_1_loss: 17825616.0000 - val_ft_transformer_root_mean_squared_error: 12189.8896 - val_ft_transformer_1_root_mean_squared_error: 4222.0396\n",
      "Epoch 139/1000\n",
      "4/4 [==============================] - 3s 766ms/step - loss: 155647184.0000 - ft_transformer_loss: 145342016.0000 - ft_transformer_1_loss: 10305178.0000 - ft_transformer_root_mean_squared_error: 12055.7881 - ft_transformer_1_root_mean_squared_error: 3210.1680 - val_loss: 165984576.0000 - val_ft_transformer_loss: 148593392.0000 - val_ft_transformer_1_loss: 17391186.0000 - val_ft_transformer_root_mean_squared_error: 12189.8906 - val_ft_transformer_1_root_mean_squared_error: 4170.2739\n",
      "Epoch 140/1000\n",
      "4/4 [==============================] - 3s 763ms/step - loss: 155363584.0000 - ft_transformer_loss: 145342016.0000 - ft_transformer_1_loss: 10021573.0000 - ft_transformer_root_mean_squared_error: 12055.7881 - ft_transformer_1_root_mean_squared_error: 3165.6868 - val_loss: 165952592.0000 - val_ft_transformer_loss: 148593392.0000 - val_ft_transformer_1_loss: 17359194.0000 - val_ft_transformer_root_mean_squared_error: 12189.8896 - val_ft_transformer_1_root_mean_squared_error: 4166.4365\n",
      "Epoch 141/1000\n",
      "4/4 [==============================] - 3s 817ms/step - loss: 155740640.0000 - ft_transformer_loss: 145342016.0000 - ft_transformer_1_loss: 10398615.0000 - ft_transformer_root_mean_squared_error: 12055.7871 - ft_transformer_1_root_mean_squared_error: 3224.6885 - val_loss: 166041664.0000 - val_ft_transformer_loss: 148593392.0000 - val_ft_transformer_1_loss: 17448276.0000 - val_ft_transformer_root_mean_squared_error: 12189.8896 - val_ft_transformer_1_root_mean_squared_error: 4177.1133\n",
      "Epoch 142/1000\n",
      "4/4 [==============================] - 4s 819ms/step - loss: 154803440.0000 - ft_transformer_loss: 145342016.0000 - ft_transformer_1_loss: 9461419.0000 - ft_transformer_root_mean_squared_error: 12055.7881 - ft_transformer_1_root_mean_squared_error: 3075.9419 - val_loss: 165842176.0000 - val_ft_transformer_loss: 148593392.0000 - val_ft_transformer_1_loss: 17248776.0000 - val_ft_transformer_root_mean_squared_error: 12189.8896 - val_ft_transformer_1_root_mean_squared_error: 4153.1646\n",
      "Epoch 143/1000\n",
      "4/4 [==============================] - 3s 809ms/step - loss: 154956128.0000 - ft_transformer_loss: 145342032.0000 - ft_transformer_1_loss: 9614099.0000 - ft_transformer_root_mean_squared_error: 12055.7871 - ft_transformer_1_root_mean_squared_error: 3100.6611 - val_loss: 165668112.0000 - val_ft_transformer_loss: 148593408.0000 - val_ft_transformer_1_loss: 17074698.0000 - val_ft_transformer_root_mean_squared_error: 12189.8896 - val_ft_transformer_1_root_mean_squared_error: 4132.1543\n",
      "Epoch 144/1000\n",
      "4/4 [==============================] - 4s 810ms/step - loss: 155191408.0000 - ft_transformer_loss: 145342016.0000 - ft_transformer_1_loss: 9849388.0000 - ft_transformer_root_mean_squared_error: 12055.7871 - ft_transformer_1_root_mean_squared_error: 3138.3735 - val_loss: 165742464.0000 - val_ft_transformer_loss: 148593408.0000 - val_ft_transformer_1_loss: 17149054.0000 - val_ft_transformer_root_mean_squared_error: 12189.8896 - val_ft_transformer_1_root_mean_squared_error: 4141.1416\n",
      "Epoch 145/1000\n",
      "4/4 [==============================] - 4s 837ms/step - loss: 155321168.0000 - ft_transformer_loss: 145342016.0000 - ft_transformer_1_loss: 9979162.0000 - ft_transformer_root_mean_squared_error: 12055.7881 - ft_transformer_1_root_mean_squared_error: 3158.9812 - val_loss: 165905328.0000 - val_ft_transformer_loss: 148593392.0000 - val_ft_transformer_1_loss: 17311938.0000 - val_ft_transformer_root_mean_squared_error: 12189.8896 - val_ft_transformer_1_root_mean_squared_error: 4160.7617\n",
      "Epoch 146/1000\n",
      "4/4 [==============================] - 4s 857ms/step - loss: 154713200.0000 - ft_transformer_loss: 145342032.0000 - ft_transformer_1_loss: 9371186.0000 - ft_transformer_root_mean_squared_error: 12055.7881 - ft_transformer_1_root_mean_squared_error: 3061.2393 - val_loss: 166058016.0000 - val_ft_transformer_loss: 148593392.0000 - val_ft_transformer_1_loss: 17464622.0000 - val_ft_transformer_root_mean_squared_error: 12189.8896 - val_ft_transformer_1_root_mean_squared_error: 4179.0693\n",
      "Epoch 147/1000\n",
      "4/4 [==============================] - 3s 787ms/step - loss: 155460704.0000 - ft_transformer_loss: 145342016.0000 - ft_transformer_1_loss: 10118684.0000 - ft_transformer_root_mean_squared_error: 12055.7881 - ft_transformer_1_root_mean_squared_error: 3180.9878 - val_loss: 166095600.0000 - val_ft_transformer_loss: 148593408.0000 - val_ft_transformer_1_loss: 17502194.0000 - val_ft_transformer_root_mean_squared_error: 12189.8896 - val_ft_transformer_1_root_mean_squared_error: 4183.5625\n",
      "Epoch 148/1000\n",
      "4/4 [==============================] - 3s 819ms/step - loss: 155441808.0000 - ft_transformer_loss: 145342016.0000 - ft_transformer_1_loss: 10099789.0000 - ft_transformer_root_mean_squared_error: 12055.7871 - ft_transformer_1_root_mean_squared_error: 3178.0166 - val_loss: 166012128.0000 - val_ft_transformer_loss: 148593392.0000 - val_ft_transformer_1_loss: 17418744.0000 - val_ft_transformer_root_mean_squared_error: 12189.8896 - val_ft_transformer_1_root_mean_squared_error: 4173.5767\n",
      "Epoch 149/1000\n",
      "4/4 [==============================] - 3s 819ms/step - loss: 154635552.0000 - ft_transformer_loss: 145342016.0000 - ft_transformer_1_loss: 9293540.0000 - ft_transformer_root_mean_squared_error: 12055.7881 - ft_transformer_1_root_mean_squared_error: 3048.5308 - val_loss: 166201312.0000 - val_ft_transformer_loss: 148593424.0000 - val_ft_transformer_1_loss: 17607894.0000 - val_ft_transformer_root_mean_squared_error: 12189.8896 - val_ft_transformer_1_root_mean_squared_error: 4196.1763\n",
      "Epoch 150/1000\n",
      "4/4 [==============================] - 3s 794ms/step - loss: 154863664.0000 - ft_transformer_loss: 145342016.0000 - ft_transformer_1_loss: 9521632.0000 - ft_transformer_root_mean_squared_error: 12055.7881 - ft_transformer_1_root_mean_squared_error: 3085.7141 - val_loss: 166257472.0000 - val_ft_transformer_loss: 148593392.0000 - val_ft_transformer_1_loss: 17664080.0000 - val_ft_transformer_root_mean_squared_error: 12189.8896 - val_ft_transformer_1_root_mean_squared_error: 4202.8657\n",
      "Epoch 151/1000\n",
      "4/4 [==============================] - 4s 808ms/step - loss: 154784640.0000 - ft_transformer_loss: 145342016.0000 - ft_transformer_1_loss: 9442617.0000 - ft_transformer_root_mean_squared_error: 12055.7881 - ft_transformer_1_root_mean_squared_error: 3072.8840 - val_loss: 166049696.0000 - val_ft_transformer_loss: 148593408.0000 - val_ft_transformer_1_loss: 17456296.0000 - val_ft_transformer_root_mean_squared_error: 12189.8896 - val_ft_transformer_1_root_mean_squared_error: 4178.0732\n",
      "Epoch 152/1000\n",
      "4/4 [==============================] - 3s 831ms/step - loss: 155194000.0000 - ft_transformer_loss: 145342016.0000 - ft_transformer_1_loss: 9851986.0000 - ft_transformer_root_mean_squared_error: 12055.7881 - ft_transformer_1_root_mean_squared_error: 3138.7874 - val_loss: 165853696.0000 - val_ft_transformer_loss: 148593392.0000 - val_ft_transformer_1_loss: 17260312.0000 - val_ft_transformer_root_mean_squared_error: 12189.8896 - val_ft_transformer_1_root_mean_squared_error: 4154.5532\n",
      "Epoch 153/1000\n",
      "4/4 [==============================] - 3s 751ms/step - loss: 155193104.0000 - ft_transformer_loss: 145342016.0000 - ft_transformer_1_loss: 9851097.0000 - ft_transformer_root_mean_squared_error: 12055.7881 - ft_transformer_1_root_mean_squared_error: 3138.6458 - val_loss: 165661472.0000 - val_ft_transformer_loss: 148593408.0000 - val_ft_transformer_1_loss: 17068068.0000 - val_ft_transformer_root_mean_squared_error: 12189.8906 - val_ft_transformer_1_root_mean_squared_error: 4131.3521\n",
      "Epoch 154/1000\n",
      "4/4 [==============================] - 3s 779ms/step - loss: 155055312.0000 - ft_transformer_loss: 145342016.0000 - ft_transformer_1_loss: 9713294.0000 - ft_transformer_root_mean_squared_error: 12055.7881 - ft_transformer_1_root_mean_squared_error: 3116.6157 - val_loss: 165720432.0000 - val_ft_transformer_loss: 148593392.0000 - val_ft_transformer_1_loss: 17127038.0000 - val_ft_transformer_root_mean_squared_error: 12189.8896 - val_ft_transformer_1_root_mean_squared_error: 4138.4824\n",
      "Epoch 155/1000\n",
      "4/4 [==============================] - 3s 773ms/step - loss: 154870656.0000 - ft_transformer_loss: 145342016.0000 - ft_transformer_1_loss: 9528645.0000 - ft_transformer_root_mean_squared_error: 12055.7881 - ft_transformer_1_root_mean_squared_error: 3086.8503 - val_loss: 165926864.0000 - val_ft_transformer_loss: 148593424.0000 - val_ft_transformer_1_loss: 17333442.0000 - val_ft_transformer_root_mean_squared_error: 12189.8906 - val_ft_transformer_1_root_mean_squared_error: 4163.3452\n",
      "Epoch 156/1000\n",
      "4/4 [==============================] - 3s 717ms/step - loss: 155206480.0000 - ft_transformer_loss: 145342016.0000 - ft_transformer_1_loss: 9864446.0000 - ft_transformer_root_mean_squared_error: 12055.7881 - ft_transformer_1_root_mean_squared_error: 3140.7715 - val_loss: 165580800.0000 - val_ft_transformer_loss: 148593408.0000 - val_ft_transformer_1_loss: 16987392.0000 - val_ft_transformer_root_mean_squared_error: 12189.8906 - val_ft_transformer_1_root_mean_squared_error: 4121.5762\n",
      "Epoch 157/1000\n",
      "4/4 [==============================] - 4s 807ms/step - loss: 154938480.0000 - ft_transformer_loss: 145342016.0000 - ft_transformer_1_loss: 9596486.0000 - ft_transformer_root_mean_squared_error: 12055.7881 - ft_transformer_1_root_mean_squared_error: 3097.8196 - val_loss: 165765968.0000 - val_ft_transformer_loss: 148593392.0000 - val_ft_transformer_1_loss: 17172580.0000 - val_ft_transformer_root_mean_squared_error: 12189.8896 - val_ft_transformer_1_root_mean_squared_error: 4143.9810\n",
      "Epoch 158/1000\n",
      "4/4 [==============================] - 4s 897ms/step - loss: 155466048.0000 - ft_transformer_loss: 145342016.0000 - ft_transformer_1_loss: 10124020.0000 - ft_transformer_root_mean_squared_error: 12055.7881 - ft_transformer_1_root_mean_squared_error: 3181.8264 - val_loss: 165686784.0000 - val_ft_transformer_loss: 148593392.0000 - val_ft_transformer_1_loss: 17093400.0000 - val_ft_transformer_root_mean_squared_error: 12189.8906 - val_ft_transformer_1_root_mean_squared_error: 4134.4165\n",
      "Epoch 159/1000\n",
      "4/4 [==============================] - 4s 851ms/step - loss: 154892608.0000 - ft_transformer_loss: 145342016.0000 - ft_transformer_1_loss: 9550593.0000 - ft_transformer_root_mean_squared_error: 12055.7881 - ft_transformer_1_root_mean_squared_error: 3090.4033 - val_loss: 165674752.0000 - val_ft_transformer_loss: 148593392.0000 - val_ft_transformer_1_loss: 17081360.0000 - val_ft_transformer_root_mean_squared_error: 12189.8906 - val_ft_transformer_1_root_mean_squared_error: 4132.9600\n"
     ]
    }
   ],
   "source": [
    "new_data_metrics = 'val_ft_transformer_1_root_mean_squared_error'\n",
    "mode = 'min'\n",
    "callbacks = [\n",
    "    tf.keras.callbacks.EarlyStopping(monitor=new_data_metrics, mode=mode, patience=50, restore_best_weights=True),\n",
    "    tf.keras.callbacks.ModelCheckpoint(\n",
    "        monitor=new_data_metrics,\n",
    "        mode=mode,\n",
    "        filepath=MODEL_SAVE_DIR,\n",
    "        save_best_only=True,\n",
    "        save_freq='epoch')\n",
    "]\n",
    "\n",
    "model.compile(\n",
    "    optimizer=tf.keras.optimizers.Adam(learning_rate=5e-5),\n",
    "    loss = tf.keras.losses.MeanSquaredError(),\n",
    "    metrics= [tf.keras.metrics.RootMeanSquaredError()]\n",
    ")\n",
    "tf.keras.backend.clear_session()\n",
    "history = model.fit(\n",
    "    split_train_tf, \n",
    "    epochs=1000, \n",
    "    validation_data=split_val_tf,\n",
    "    callbacks=[callbacks]\n",
    ")"
   ]
  },
  {
   "cell_type": "code",
   "execution_count": 12,
   "id": "023874a0-6be9-4775-860a-b7cd7ce512ea",
   "metadata": {
    "tags": []
   },
   "outputs": [
    {
     "data": {
      "image/png": "[encoded data removed]",
      "text/plain": [
       "<Figure size 432x288 with 1 Axes>"
      ]
     },
     "metadata": {
      "needs_background": "light"
     },
     "output_type": "display_data"
    }
   ],
   "source": [
    "plot_model_history(history, 'ft_transformer_1_root_mean_squared_error', new_data_metrics,'RMSE')"
   ]
  },
  {
   "cell_type": "code",
   "execution_count": 16,
   "id": "725b3f89-76b9-4b08-96f5-3efbf7ea4e4b",
   "metadata": {
    "tags": []
   },
   "outputs": [],
   "source": [
    "model_reload = tf.keras.models.load_model(MODEL_SAVE_DIR)"
   ]
  },
  {
   "cell_type": "code",
   "execution_count": 17,
   "id": "b1079b73-93cf-46a6-8647-c5be387ee1cc",
   "metadata": {
    "tags": []
   },
   "outputs": [
    {
     "name": "stderr",
     "output_type": "stream",
     "text": [
      "/home/zheng.yant/ML-LUE/fttransformer/utils/preprocessing.py:27: FutureWarning: Support for multi-dimensional indexing (e.g. `obj[:, None]`) is deprecated and will be removed in a future version.  Convert to a numpy array before indexing instead.\n",
      "  dataset[key] = value[:, tf.newaxis]\n"
     ]
    },
    {
     "name": "stdout",
     "output_type": "stream",
     "text": [
      "156/156 [==============================] - 2s 9ms/step\n",
      "RMSE prediction: 3760.3045\n",
      "RMSE MOD17: 4553.6565\n",
      "R-Squared prediction: 0.660331134625151\n",
      "R-Squared MOD17: 0.5018842973195095\n",
      "Max error prediction: 11849.962453125001\n",
      "Max error MOD17: 15912.398000000001\n",
      "Mean poisson deviance prediction: 1211.8268374592437\n",
      "Mean poisson deviance MOD17: 1798.8400467873778\n",
      "Mean gamma deviance prediction: 0.14518373642523288\n",
      "Mean gamma deviance MOD17: 0.2386320768239554\n",
      "Mean pinball loss with alpha = 0.9 prediction: 1562.0972423314806\n",
      "Mean pinball loss with alpha = 0.9 MOD17: 2446.825938601763\n",
      "Mean pinball loss with alpha = 0.09999999999999998 prediction: 1228.2488206067208\n",
      "Mean pinball loss with alpha = 0.09999999999999998 MOD17: 946.820942608173\n"
     ]
    }
   ],
   "source": [
    "test_df = df_to_dataset(downstream_test_df[FEATURES], shuffle=False, batch_size=1)\n",
    "predict_results = model_reload.predict(test_df)\n",
    "y_pred = predict_results['output'].ravel()\n",
    "modis_compare_data = get_modis_compare_data(y_pred)\n",
    "get_all_metrics(y_pred, modis_compare_data[TARGET_FEATURE], downstream_test_df[TARGET_FEATURE])"
   ]
  },
  {
   "cell_type": "code",
   "execution_count": 18,
   "id": "0b08b276-e5bf-40af-bb29-d3571792974a",
   "metadata": {
    "tags": []
   },
   "outputs": [
    {
     "data": {
      "image/png": "[encoded data removed]",
      "text/plain": [
       "<Figure size 432x288 with 1 Axes>"
      ]
     },
     "metadata": {
      "needs_background": "light"
     },
     "output_type": "display_data"
    }
   ],
   "source": [
    "plot_result_distribution(downstream_test_df[TARGET_FEATURE], y_pred, modis_compare_data[TARGET_FEATURE], save_dir=f'{MODEL_RESULT_PLT_DIR}FT-Transformer_e2e.png', title='FT-Transformer(end-to-end) vs. MOD17')"
   ]
  },
  {
   "cell_type": "code",
   "execution_count": null,
   "id": "377c4e95-2302-4808-9aec-21e7adfee66a",
   "metadata": {},
   "outputs": [],
   "source": []
  }
 ],
 "metadata": {
  "kernelspec": {
   "display_name": "Python 3",
   "language": "python",
   "name": "python3"
  },
  "language_info": {
   "codemirror_mode": {
    "name": "ipython",
    "version": 3
   },
   "file_extension": ".py",
   "mimetype": "text/x-python",
   "name": "python",
   "nbconvert_exporter": "python",
   "pygments_lexer": "ipython3",
   "version": "3.9.18"
  }
 },
 "nbformat": 4,
 "nbformat_minor": 5
}
