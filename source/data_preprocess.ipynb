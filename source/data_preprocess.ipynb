{
 "cells": [
  {
   "cell_type": "markdown",
   "metadata": {
    "id": "p5S1SQzKVcnR"
   },
   "source": [
    "# Common code necessary to run"
   ]
  },
  {
   "cell_type": "markdown",
   "metadata": {
    "id": "gyghvfK_1RvC"
   },
   "source": [
    "## Define inputs"
   ]
  },
  {
   "cell_type": "markdown",
   "metadata": {
    "id": "9-4qjpOwddhD"
   },
   "source": [
    "### Define feature information"
   ]
  },
  {
   "cell_type": "code",
   "execution_count": 2,
   "metadata": {},
   "outputs": [
    {
     "name": "stdout",
     "output_type": "stream",
     "text": [
      "['LC_Type1', 'LST_Day_1km', 'pr', 'aet', 'NDVI', 'EVI']\n",
      "['LST_Day_1km', 'pr', 'aet', 'NDVI', 'EVI']\n",
      "['LC_Type1']\n"
     ]
    }
   ],
   "source": [
    "%run common.ipynb"
   ]
  },
  {
   "cell_type": "markdown",
   "metadata": {
    "id": "ZJKmYTagWLIr"
   },
   "source": [
    "### Define global variables"
   ]
  },
  {
   "cell_type": "code",
   "execution_count": 3,
   "metadata": {
    "tags": []
   },
   "outputs": [],
   "source": [
    "upstream_train_start_year = 2015\n",
    "upstream_train_end_year = 2021\n",
    "downstream_train_start_year = 2000\n",
    "downstream_train_end_year = 2022"
   ]
  },
  {
   "cell_type": "code",
   "execution_count": 4,
   "metadata": {
    "tags": []
   },
   "outputs": [],
   "source": [
    "BUCKET_NAME = 'lue-model'\n",
    "BUCKET_FOLDER = 'annual'\n",
    "UPSTREAM_SUB_FOLDER = 'MODIS_Gpp_Unnormalized'\n",
    "DOWNSTREAM_SUB_FOLDER = 'fluxnet'\n",
    "COMPARE_UPSTREAM_SUB_FOLDER = 'MODIS_in_fluxnet'"
   ]
  },
  {
   "cell_type": "markdown",
   "metadata": {
    "tags": []
   },
   "source": [
    "# Sample & Export"
   ]
  },
  {
   "cell_type": "code",
   "execution_count": null,
   "metadata": {
    "tags": []
   },
   "outputs": [],
   "source": [
    "import ee\n",
    "import os\n",
    "project = \"carbonsequestration\"\n",
    "os.environ[\"GOOGLE_CLOUD_PROJECT\"] = project\n",
    "ee.Authenticate()\n",
    "ee.Initialize(\n",
    "    project=project,\n",
    "    opt_url=\"https://earthengine-highvolume.googleapis.com\")"
   ]
  },
  {
   "cell_type": "code",
   "execution_count": 6,
   "metadata": {
    "id": "gVwffjmYovaE",
    "tags": []
   },
   "outputs": [],
   "source": [
    "SAMPLE_SCALE = 500\n",
    "SAMPLE_POINT_DEFAULT = 400\n",
    "# SAMPLE_POINT_DEFAULT = 800"
   ]
  },
  {
   "cell_type": "code",
   "execution_count": 7,
   "metadata": {
    "id": "qvxo02VovW6I",
    "tags": []
   },
   "outputs": [],
   "source": [
    "countries = ee.FeatureCollection(\"USDOS/LSIB_SIMPLE/2017\")\n",
    "country_names = ['Canada', 'United States', 'Belgium', 'Czechia', 'Denmark', 'Finland', 'France', 'Germany', 'Greenland', 'Italy', 'Netherlands', 'Norway', 'Spain', 'Sweden', 'Switzerland']\n",
    "country_sample_point = {'Canada': 1000, 'United States': 2000}\n",
    "# country_sample_point = {'Canada': 3000, 'United States': 5000}"
   ]
  },
  {
   "cell_type": "markdown",
   "metadata": {
    "tags": []
   },
   "source": [
    "## Define global functions"
   ]
  },
  {
   "cell_type": "code",
   "execution_count": 9,
   "metadata": {
    "tags": []
   },
   "outputs": [],
   "source": [
    "def get_range_start_from_month(year, month, gap=1):\n",
    "    start = ee.Date(f'{year}-{month:02d}-01')\n",
    "    end = start.advance(gap, 'month')\n",
    "    return (start, end)\n",
    "\n",
    "def get_range_from_year(year):\n",
    "  return (f'{year}-01-01', f'{year}-12-31')"
   ]
  },
  {
   "cell_type": "code",
   "execution_count": 10,
   "metadata": {
    "id": "qICcjOSIIxsL",
    "tags": []
   },
   "outputs": [],
   "source": [
    "# aggregate monthly precipitation into annual\n",
    "def sum_maps(map_info, start_date, end_date):\n",
    "    collection = ee.ImageCollection(map_info['name']).filterDate(start_date, end_date).select(map_info['band'])\n",
    "    if collection.size().getInfo()>0:\n",
    "        img = collection.reduce(ee.Reducer.sum()).select(map_info['band']+'_sum')\n",
    "        img = img.rename(map_info['band'])\n",
    "        return img\n",
    "    else:\n",
    "        print(f\"no {map_info['band']} in {start_date}-{end_date}\")\n",
    "        return None        \n",
    "\n",
    "def median_maps(map_info, start_date, end_date):\n",
    "    collection = ee.ImageCollection(map_info['name']).filterDate(start_date, end_date)\n",
    "    if collection.size().getInfo()>0:\n",
    "        return collection.select(map_info['band']).median()\n",
    "    else:\n",
    "        print(f\"no {map_info['band']} in {start_date}-{end_date}\")\n",
    "        return None"
   ]
  },
  {
   "cell_type": "code",
   "execution_count": 23,
   "metadata": {
    "tags": []
   },
   "outputs": [],
   "source": [
    "def process_img_value(img, map_info):\n",
    "    # unmask_value = map_info['min'] - (map_info['max'] - map_info['min'])*0.1\n",
    "    # return img.clamp(map_info['min'], map_info['max']).float().unmask(unmask_value)    \n",
    "    # return img.unitScale(map_info['min'], map_info['max']).float()   \n",
    "    return img.float()"
   ]
  },
  {
   "cell_type": "code",
   "execution_count": 12,
   "metadata": {
    "id": "XB0FDpLDp3VH",
    "tags": []
   },
   "outputs": [],
   "source": [
    "def get_img_from_collection(map_info, start_date, end_date):\n",
    "    if map_info.get('sum'):\n",
    "        img = sum_maps(map_info, start_date, end_date)\n",
    "    else:\n",
    "        img = median_maps(map_info, start_date, end_date)\n",
    "    \n",
    "    if img:\n",
    "        return process_img_value(img, map_info)\n",
    "    return None"
   ]
  },
  {
   "cell_type": "code",
   "execution_count": 13,
   "metadata": {
    "id": "-NA--4Asl43b",
    "tags": []
   },
   "outputs": [],
   "source": [
    "def get_input_image(start_date, end_date) -> ee.Image:\n",
    "    combined_image = get_img_from_collection(feature_list[0], start_date, end_date)\n",
    "    if combined_image:\n",
    "        for i in range(1, len(feature_list)):\n",
    "            img = get_img_from_collection(feature_list[i], start_date, end_date)\n",
    "            if img:\n",
    "                combined_image = ee.Image.cat([combined_image, img])\n",
    "            else:\n",
    "                combined_image = None\n",
    "                break\n",
    "    return combined_image"
   ]
  },
  {
   "cell_type": "code",
   "execution_count": 14,
   "metadata": {
    "id": "IsyKPJOKl-7e",
    "tags": []
   },
   "outputs": [],
   "source": [
    "def get_label_image(start_date, end_date) -> ee.Image:\n",
    "  return get_img_from_collection(gpp_map_info, start_date, end_date)"
   ]
  },
  {
   "cell_type": "code",
   "execution_count": 16,
   "metadata": {},
   "outputs": [],
   "source": [
    "# !jupyter trust Natural_Factors_Impacting_Carbon_Sequestration.ipynb"
   ]
  },
  {
   "cell_type": "code",
   "execution_count": 17,
   "metadata": {
    "colab": {
     "base_uri": "https://localhost:8080/",
     "height": 702
    },
    "id": "KVx1NR_r1Gd8",
    "outputId": "d94a2822-d24a-4601-8699-59a18c150525"
   },
   "outputs": [],
   "source": [
    "# import folium\n",
    "\n",
    "# (visualize_start_date, visualize_end_date) = get_range_from_year(train_start_year)\n",
    "# def get_tile_layer(map_info):\n",
    "#   if map_info.get('sum'):\n",
    "#     image = sum_maps(map_info, visualize_start_date, visualize_end_date)\n",
    "#   else:\n",
    "#     image = median_maps(map_info, visualize_start_date, visualize_end_date)\n",
    "#   image=image.clip(Canada)\n",
    "#   vis_params = {\n",
    "#     'bands': [map_info['band']],\n",
    "#     'min': map_info['min'],\n",
    "#     'max': map_info['max'],\n",
    "#     }\n",
    "#   if isinstance(map_info['vis'], dict):\n",
    "#     vis_params['palette'] = list(map_info['vis'].values())\n",
    "#   else:\n",
    "#     vis_params['palette'] = map_info['vis']\n",
    "#   mapid = image.getMapId(vis_params)\n",
    "#   return folium.TileLayer(\n",
    "#     tiles=mapid['tile_fetcher'].url_format,\n",
    "#     attr='Map Data &copy; <a href=\"https://earthengine.google.com/\">Google Earth Engine</a>',\n",
    "#     overlay=True,\n",
    "#     name=map_info['band'],\n",
    "#   )\n",
    "\n",
    "# map = folium.Map(location=(center[1], center[0]), zoom_start=7)\n",
    "# for map_info in feature_list:\n",
    "#   get_tile_layer(map_info).add_to(map)\n",
    "\n",
    "# get_tile_layer(gpp_map_info).add_to(map)\n",
    "\n",
    "# folium.LayerControl().add_to(map)\n",
    "# map"
   ]
  },
  {
   "cell_type": "markdown",
   "metadata": {
    "id": "tTqRlT_1hz5l"
   },
   "source": [
    "## Export data"
   ]
  },
  {
   "cell_type": "code",
   "execution_count": 18,
   "metadata": {
    "tags": []
   },
   "outputs": [],
   "source": [
    "def get_combined_data(start_year, end_year, include_target=True):\n",
    "    combine_image_list = []\n",
    "    time_desc_list = []\n",
    "    for year in range(start_year, end_year+1):\n",
    "        time_range=get_range_from_year(year)\n",
    "        input_image = get_input_image(time_range[0], time_range[1])\n",
    "        combine_image = input_image\n",
    "        if combine_image:\n",
    "            if include_target:\n",
    "                target_image = get_label_image(time_range[0], time_range[1])\n",
    "                combine_image = ee.Image.cat([combine_image, target_image])\n",
    "            # print(input_image.bandNames().getInfo())\n",
    "            combine_image_list.append(combine_image)\n",
    "            time_desc_list.append(year)\n",
    "    return combine_image_list, time_desc_list"
   ]
  },
  {
   "cell_type": "code",
   "execution_count": 19,
   "metadata": {
    "tags": []
   },
   "outputs": [],
   "source": [
    "def add_coordinate_to_feature(feature):\n",
    "    centroid = feature.geometry().centroid()\n",
    "    return ee.Feature(centroid, {'cx': centroid.coordinates().get(0),'cy': centroid.coordinates().get(1)}).copyProperties(feature)"
   ]
  },
  {
   "cell_type": "code",
   "execution_count": 20,
   "metadata": {
    "tags": []
   },
   "outputs": [],
   "source": [
    "def get_proper_shards(sample_num):\n",
    "    sample_per_shard = 50\n",
    "    return sample_num / sample_per_shard"
   ]
  },
  {
   "cell_type": "markdown",
   "metadata": {},
   "source": [
    "### Export training data"
   ]
  },
  {
   "cell_type": "code",
   "execution_count": 21,
   "metadata": {
    "id": "Y-6oh4ROAhaG",
    "tags": []
   },
   "outputs": [],
   "source": [
    "import time\n",
    "import random\n",
    "\n",
    "random.seed(int(time.time()))\n",
    "max_shard_per_file = 10\n",
    "\n",
    "def export_feature_collections(collection, desc, export_path_prefix: str):\n",
    "    # print(desc)\n",
    "    task = ee.batch.Export.table.toCloudStorage(\n",
    "            collection = collection,\n",
    "            description = f'{desc}',\n",
    "            bucket = BUCKET_NAME,\n",
    "            fileNamePrefix = f'annual/{export_path_prefix}{desc}',\n",
    "            fileFormat = 'TFRecord'\n",
    "        )\n",
    "    task.start()\n",
    "\n",
    "def sample_points(\n",
    "    region: ee.Geometry, num_pixels: int, scale: int, folder: str, country_name:str \n",
    "):\n",
    "    sample_shard = int(get_proper_shards(num_pixels))\n",
    "    num_pixels = int(num_pixels/sample_shard)\n",
    "    print(f'sample_shard={sample_shard}')\n",
    "    combine_image_list, time_desc_list = get_combined_data(upstream_train_start_year, upstream_train_end_year)\n",
    "    for i,image in enumerate(combine_image_list):\n",
    "        collection = ee.FeatureCollection([])\n",
    "        for j in range(sample_shard):\n",
    "            is_new_shard = j%max_shard_per_file == 0\n",
    "            if is_new_shard:\n",
    "                collection = ee.FeatureCollection([])\n",
    "            seed = int(random.random() * random.randint(0, int(time.time())))\n",
    "            geometry = image.sample(\n",
    "                region=region,\n",
    "                scale=scale,\n",
    "                numPixels=num_pixels,\n",
    "                seed=int(random.random() * random.randint(0, int(time.time()))),\n",
    "                geometries=True\n",
    "            )\n",
    "            collection = collection.merge(geometry)\n",
    "            collection = collection.map(add_coordinate_to_feature)\n",
    "            export_cur_collection = (j+1)%max_shard_per_file == 0 or (j+1) == sample_shard\n",
    "            if export_cur_collection:\n",
    "                export_feature_collections(collection, f'{country_name}_{time_desc_list[i]}_{int(j/max_shard_per_file)}', f'{folder}/')\n",
    "    "
   ]
  },
  {
   "cell_type": "code",
   "execution_count": 24,
   "metadata": {
    "tags": []
   },
   "outputs": [
    {
     "name": "stdout",
     "output_type": "stream",
     "text": [
      "sample_shard=20\n",
      "sample_shard=40\n",
      "sample_shard=8\n",
      "sample_shard=8\n",
      "sample_shard=8\n",
      "sample_shard=8\n",
      "sample_shard=8\n",
      "sample_shard=8\n",
      "sample_shard=8\n",
      "sample_shard=8\n",
      "sample_shard=8\n",
      "sample_shard=8\n",
      "sample_shard=8\n",
      "sample_shard=8\n",
      "sample_shard=8\n"
     ]
    }
   ],
   "source": [
    "def export_data():\n",
    "    for i, country_name in enumerate(country_names):\n",
    "        geometry = countries.filter(ee.Filter.eq('country_na', country_name)).geometry()\n",
    "        samples = country_sample_point.get(country_name) if country_sample_point.get(country_name) else SAMPLE_POINT_DEFAULT\n",
    "        sample_points(geometry, samples, SAMPLE_SCALE, UPSTREAM_SUB_FOLDER+'_extra', country_name)\n",
    "        \n",
    "export_data()"
   ]
  },
  {
   "cell_type": "markdown",
   "metadata": {
    "tags": []
   },
   "source": [
    "### Export FLUXNET features"
   ]
  },
  {
   "cell_type": "markdown",
   "metadata": {
    "tags": []
   },
   "source": [
    "#### Read FLUXNET data"
   ]
  },
  {
   "cell_type": "code",
   "execution_count": 5,
   "metadata": {
    "tags": []
   },
   "outputs": [],
   "source": [
    "FLUX_FOLDER = \"../fluxnet_data/\"\n",
    "EU_SITE_FILE = \"Euro-sites.csv\"\n",
    "EU_GPP_FOLDER = \"euro/\"\n",
    "NA_SITE_FILE = \"AmeriFlux-sites.tsv\"\n",
    "NA_GPP_FOLDER = \"north-america/\"\n",
    "\n",
    "EU_SITE_HEADER  = [\"Site Code\", \"Site Latitude\", \"Site Longitude\"]\n",
    "NA_SITE_HEADER  = [\"Site ID\", \"Latitude (degrees)\", \"Longitude (degrees)\"]\n",
    "\n",
    "SITE_HEADER = [\"site\", \"latitude\", \"longitude\"]\n",
    "GPP_HEADER = [\"site\", \"year\", \"GPP\"]\n",
    "GPP_COLUMN = 'GPP_DT_VUT_REF'\n",
    "YEAR_COLUMN = 'TIMESTAMP'\n",
    "\n",
    "EU_SITE_NAME_START_INDEX = 8\n",
    "NA_SITE_NAME_START_INDEX = 4\n",
    "SITE_NAME_LEN = 5"
   ]
  },
  {
   "cell_type": "code",
   "execution_count": 6,
   "metadata": {
    "tags": []
   },
   "outputs": [],
   "source": [
    "import glob\n",
    "import pandas as pd\n",
    "import os\n",
    "\n",
    "# Need lat/lot to get features from GEE\n",
    "def read_fluxnet_loc(site_file, column_header):\n",
    "    # site_info_file = glob.glob(\"./fluxnet_data/AmeriFlux-sites.tsv\")\n",
    "    # df = pd.read_table(site_info_file[0])\n",
    "    site_info_file = glob.glob(site_file)[0]\n",
    "    if site_info_file.endswith('tsv'):\n",
    "        df = pd.read_table(site_info_file)\n",
    "    else:\n",
    "        df = pd.read_csv(site_info_file, on_bad_lines='skip')\n",
    "    site_loc_info = df[column_header]\n",
    "    column_map = {}\n",
    "    for old_col, new_col in zip(column_header, SITE_HEADER):\n",
    "        column_map[old_col]=new_col\n",
    "    site_loc_info = site_loc_info.rename(columns=column_map)\n",
    "    return site_loc_info\n",
    "    \n",
    "def read_fluxnet_gpp(gpp_folder, site_name_start, min_year):\n",
    "    all_csv_files = glob.glob(f\"{gpp_folder}/*.csv\")\n",
    "    all_gpp_extracted = []\n",
    "    all_site_name = []\n",
    "    combined_df = pd.DataFrame(columns=GPP_HEADER)\n",
    "    for f in all_csv_files:\n",
    "        df = pd.read_csv(f)\n",
    "        if GPP_COLUMN in df.columns:\n",
    "            extract_fname = os.path.basename(f)\n",
    "            site_name = extract_fname[site_name_start:site_name_start+SITE_NAME_LEN+1]\n",
    "            valid_year_records = df[df[YEAR_COLUMN] >= min_year]\n",
    "            for index, row in valid_year_records.iterrows():\n",
    "                if row[GPP_COLUMN]>-9999.0:\n",
    "                    combined_df.loc[combined_df.shape[0]] = [site_name, row[YEAR_COLUMN], row[GPP_COLUMN]]\n",
    "    combined_df['year'] = combined_df['year'].astype(int) \n",
    "    print(len(combined_df))\n",
    "    return combined_df"
   ]
  },
  {
   "cell_type": "code",
   "execution_count": 9,
   "metadata": {
    "tags": []
   },
   "outputs": [
    {
     "name": "stdout",
     "output_type": "stream",
     "text": [
      "998\n",
      "     site  year       GPP\n",
      "0  AR-TF1  2016   719.305\n",
      "1  AR-TF1  2017   630.953\n",
      "2  AR-TF1  2018   839.941\n",
      "3  BR-Npw  2013  3044.130\n",
      "4  BR-Npw  2014  2450.220\n",
      "     site  latitude  longitude\n",
      "0  CA-AF1   46.0092   -66.3627\n",
      "1  CA-ARB   52.6950   -83.9452\n",
      "2  CA-ARF   52.7008   -83.9550\n",
      "3  CA-BOU   50.5244   -63.2064\n",
      "4  CA-Ca1   49.8673  -125.3336\n",
      "['AR-TF1' 'BR-Npw' 'CA-ARB' 'CA-Ca1' 'CA-Ca2' 'CA-Cbo' 'CA-DB2' 'CA-DBB'\n",
      " 'CA-ER1' 'CA-Gro' 'CA-LP1' 'CA-MA1' 'CA-MA2' 'CA-MA3' 'CA-NS1' 'CA-NS2'\n",
      " 'CA-NS3' 'CA-NS4' 'CA-NS5' 'CA-NS6' 'CA-NS7' 'CA-Qfo' 'CA-SF1' 'CA-SF2'\n",
      " 'CA-TP1' 'CA-TP3' 'CA-TPD' 'MX-Tes' 'PE-QFR' 'US-A32' 'US-A74' 'US-ALQ'\n",
      " 'US-AR1' 'US-AR2' 'US-ARM' 'US-ARb' 'US-ARc' 'US-BRG' 'US-BZB' 'US-BZF'\n",
      " 'US-BZS' 'US-BZo' 'US-Bar' 'US-Bi1' 'US-Bi2' 'US-CF1' 'US-CF2' 'US-CF3'\n",
      " 'US-CF4' 'US-CRT' 'US-CS1' 'US-CS2' 'US-CS3' 'US-CS4' 'US-Cop' 'US-DFC'\n",
      " 'US-EDN' 'US-EML' 'US-Fcr' 'US-Fmf' 'US-Fuf' 'US-GLE' 'US-HB1' 'US-HWB'\n",
      " 'US-Ha1' 'US-Hn2' 'US-Hn3' 'US-Ho2' 'US-ICh' 'US-ICs' 'US-ICt' 'US-Jo1'\n",
      " 'US-Jo2' 'US-KFS' 'US-KLS' 'US-KS3' 'US-MMS' 'US-MOz' 'US-Me1' 'US-Me2'\n",
      " 'US-Me3' 'US-Mpj' 'US-Myb' 'US-NC1' 'US-NC4' 'US-NGB' 'US-NGC' 'US-NR1'\n",
      " 'US-Ne1' 'US-ONA' 'US-ORv' 'US-OWC' 'US-Rms' 'US-Ro1' 'US-Ro4' 'US-Ro5'\n",
      " 'US-Ro6' 'US-Rwe' 'US-Rwf' 'US-Rws' 'US-SRC' 'US-Seg' 'US-Ses' 'US-Sne'\n",
      " 'US-Snf' 'US-Tw1' 'US-Tw2' 'US-Tw3' 'US-Tw5' 'US-UM3' 'US-UMd' 'US-Var'\n",
      " 'US-Whs' 'US-Wjs' 'US-Wkg' 'US-xAE' 'US-xBR' 'US-xCL' 'US-xCP' 'US-xDC'\n",
      " 'US-xDL' 'US-xDS' 'US-xGR' 'US-xHA' 'US-xHE' 'US-xJE' 'US-xKA' 'US-xKZ'\n",
      " 'US-xMB' 'US-xML' 'US-xNG' 'US-xNQ' 'US-xRM' 'US-xSB' 'US-xSE' 'US-xSR'\n",
      " 'US-xST' 'US-xTA' 'US-xTR' 'US-xUK' 'US-xUN' 'US-xYE']\n",
      "142\n"
     ]
    }
   ],
   "source": [
    "gpp_df_na = read_fluxnet_gpp(f'{FLUX_FOLDER}{NA_GPP_FOLDER}', NA_SITE_NAME_START_INDEX, min_year=downstream_train_start_year)\n",
    "site_loc_df_na = read_fluxnet_loc(f'{FLUX_FOLDER}{NA_SITE_FILE}', NA_SITE_HEADER)\n",
    "\n",
    "print(gpp_df_na.head())\n",
    "print(site_loc_df_na.head())\n",
    "print(gpp_df_na['site'].unique())\n",
    "print(len(gpp_df_na['site'].unique()))"
   ]
  },
  {
   "cell_type": "code",
   "execution_count": 10,
   "metadata": {
    "tags": []
   },
   "outputs": [
    {
     "name": "stdout",
     "output_type": "stream",
     "text": [
      "244\n",
      "     site  year      GPP\n",
      "0  BE-Bra  2020  1973.70\n",
      "1  BE-Bra  2021  1763.02\n",
      "2  BE-Bra  2022  1915.36\n",
      "3  BE-Dor  2023  1723.55\n",
      "4  BE-Lcr  2019  1606.29\n",
      "     site   latitude  longitude\n",
      "0  AE-ADb  24.450883  54.428792\n",
      "1  AT-Fue  47.367374  11.854709\n",
      "2  AT-Hnb  47.803333  13.591389\n",
      "3  AT-Inn  47.264096  11.385816\n",
      "4  AT-Lan  47.061221  10.963454\n",
      "['BE-Bra' 'BE-Dor' 'BE-Lcr' 'BE-Lon' 'BE-Maa' 'BE-Vie' 'CD-Ygb' 'CH-Dav'\n",
      " 'CZ-BK1' 'CZ-Lnz' 'CZ-wet' 'DE-Geb' 'DE-Gri' 'DE-Hai' 'DE-Har' 'DE-HoH'\n",
      " 'DE-Kli' 'DE-Msr' 'DE-RuR' 'DE-RuS' 'DE-RuW' 'DE-Tha' 'DK-Gds' 'DK-Skj'\n",
      " 'DK-Sor' 'DK-Vng' 'FI-Hyy' 'FI-Ken' 'FI-Let' 'FI-Sii' 'FI-Sod' 'FI-Var'\n",
      " 'FR-Aur' 'FR-Bil' 'FR-EM2' 'FR-FBn' 'FR-Fon' 'FR-Gri' 'FR-Hes' 'FR-LGt'\n",
      " 'FR-Lam' 'FR-Lus' 'FR-Mej' 'FR-Pue' 'FR-Tou' 'GF-Guy' 'GL-Dsk' 'GL-NuF'\n",
      " 'GL-ZaF' 'GL-ZaH' 'IT-BFt' 'IT-Cp2' 'IT-Lsn' 'IT-Niv' 'IT-Ren' 'IT-SR2'\n",
      " 'IT-Tor' 'NL-Loo' 'SE-Deg' 'SE-Htm' 'SE-Nor' 'SE-Sto' 'SE-Svb' 'UK-AMo']\n",
      "64\n"
     ]
    }
   ],
   "source": [
    "gpp_df_eu = read_fluxnet_gpp(f'{FLUX_FOLDER}{EU_GPP_FOLDER}', EU_SITE_NAME_START_INDEX, min_year=downstream_train_start_year)\n",
    "site_loc_df_eu = read_fluxnet_loc(f'{FLUX_FOLDER}{EU_SITE_FILE}', EU_SITE_HEADER)\n",
    "\n",
    "print(gpp_df_eu.head())\n",
    "print(site_loc_df_eu.head())\n",
    "print(gpp_df_eu['site'].unique())\n",
    "print(len(gpp_df_eu['site'].unique()))"
   ]
  },
  {
   "cell_type": "code",
   "execution_count": 44,
   "metadata": {
    "tags": []
   },
   "outputs": [
    {
     "data": {
      "image/png": "[encoded data removed]",
      "text/plain": [
       "<Figure size 700x500 with 1 Axes>"
      ]
     },
     "metadata": {
      "needs_background": "light"
     },
     "output_type": "display_data"
    },
    {
     "data": {
      "image/png": "[encoded data removed]",
      "text/plain": [
       "<Figure size 700x500 with 1 Axes>"
      ]
     },
     "metadata": {
      "needs_background": "light"
     },
     "output_type": "display_data"
    }
   ],
   "source": [
    "import matplotlib.pyplot as plt\n",
    "def visualize_histogram(df, feature, save_dir=None):\n",
    "    value_list = df[feature].tolist()\n",
    "    plt.rcParams.update({'figure.figsize':(7,5), 'figure.dpi':100})\n",
    "    # Plot Histogram on x\n",
    "    plt.hist(value_list, bins=50)\n",
    "    plt.gca().set(title=f'{feature} Frequency Histogram', ylabel='Frequency')\n",
    "    plt.show()\n",
    "    if save_dir:\n",
    "        plt.savefig(save_dir)\n",
    "visualize_histogram(gpp_df, 'GPP')\n",
    "visualize_histogram(gpp_df, 'year')"
   ]
  },
  {
   "cell_type": "markdown",
   "metadata": {},
   "source": [
    "#### Export FLUXNET data"
   ]
  },
  {
   "cell_type": "code",
   "execution_count": 60,
   "metadata": {
    "tags": []
   },
   "outputs": [],
   "source": [
    "EU_FILE_PREFIX = 'euronet'\n",
    "NA_FILE_PREFIX = 'amerinet'\n",
    "\n",
    "\n",
    "def sample_features_fluxnet(site_loc_df, gpp_df, file_prefix, scale: int):\n",
    "    combine_image_only_feature_list, time_desc_list = get_combined_data(downstream_train_start_year, downstream_train_end_year, False)\n",
    "    combine_image_modis_list, _ = get_combined_data(downstream_train_start_year, downstream_train_end_year)\n",
    "    # combine_image_only_feature_list, time_desc_list = get_combined_data(2022, 2022, False)\n",
    "    # combine_image_modis_list, _ = get_combined_data(2022, 2022)\n",
    "    \n",
    "    collection = ee.FeatureCollection([])\n",
    "    for i,(image_flux, image_modis, time) in enumerate(zip(combine_image_only_feature_list, combine_image_modis_list, time_desc_list)):\n",
    "        list_features_flux = []\n",
    "        list_features_modis = []\n",
    "        rows_from_this_year = gpp_df[gpp_df['year'] == time]\n",
    "        for index, row in rows_from_this_year.iterrows():  \n",
    "            site_loc = site_loc_df.loc[site_loc_df['site']==row['site']]\n",
    "            if site_loc.shape[0] == 0:\n",
    "                print(f\"{row['site']} can't be found in df\")\n",
    "                continue\n",
    "            point = ee.Geometry.Point([site_loc.iloc[0]['longitude'], site_loc.iloc[0]['latitude']])\n",
    "            feature_collection = image_flux.sample(\n",
    "                region=point,\n",
    "                scale=scale,\n",
    "                numPixels=1,\n",
    "                geometries=True,\n",
    "            )\n",
    "            if feature_collection.size().getInfo() == 0:\n",
    "                print(f\"{row['site']} can't be sampled\")\n",
    "                continue\n",
    "            feature = ee.Feature(feature_collection.toList(2).get(0))\n",
    "            centroid = feature.geometry().centroid()\n",
    "            feature = ee.Feature(centroid, {'Gpp': row['GPP'], 'cx': centroid.coordinates().get(0),'cy': centroid.coordinates().get(1)}).copyProperties(feature)                         \n",
    "            list_features_flux.append(feature)\n",
    "            \n",
    "            feature_collection = image_modis.sample(\n",
    "                region=point,\n",
    "                scale=scale,\n",
    "                numPixels=1,\n",
    "            )\n",
    "            feature = ee.Feature(feature_collection.toList(2).get(0))\n",
    "            feature = ee.Feature(centroid, {'cx': centroid.coordinates().get(0),'cy': centroid.coordinates().get(1)}).copyProperties(feature)                         \n",
    "            list_features_modis.append(feature)\n",
    "            \n",
    "                                     \n",
    "        print(f'{time}:{len(list_features_flux)}')    \n",
    "        if len(list_features_flux) ==0 or len(list_features_modis) ==0:\n",
    "            continue\n",
    "        collection = ee.FeatureCollection(list_features_flux)                               \n",
    "        task = ee.batch.Export.table.toCloudStorage(\n",
    "                collection = collection,\n",
    "                description = f'{file_prefix}_{time}',\n",
    "                bucket = BUCKET_NAME,\n",
    "                fileNamePrefix = f'annual/{FLUX_FOLDER}{file_prefix}_{time}',\n",
    "                fileFormat = 'TFRecord'\n",
    "            )\n",
    "        task.start()\n",
    "        \n",
    "        collection = ee.FeatureCollection(list_features_modis)                               \n",
    "        task = ee.batch.Export.table.toCloudStorage(\n",
    "                collection = collection,\n",
    "                description = f'{file_prefix}_{time}',\n",
    "                bucket = BUCKET_NAME,\n",
    "                fileNamePrefix = f'annual/{COMPARE_UPSTREAM_SUB_FOLDER}/{file_prefix}_{time}',\n",
    "                fileFormat = 'TFRecord'\n",
    "            )\n",
    "        task.start()"
   ]
  },
  {
   "cell_type": "code",
   "execution_count": null,
   "metadata": {
    "tags": []
   },
   "outputs": [],
   "source": [
    "sample_features_fluxnet(site_loc_df_eu, gpp_df_eu, EU_FILE_PREFIX, SAMPLE_SCALE)"
   ]
  },
  {
   "cell_type": "code",
   "execution_count": 67,
   "metadata": {
    "tags": []
   },
   "outputs": [
    {
     "name": "stdout",
     "output_type": "stream",
     "text": [
      "no LC_Type1 in 2000-01-01-2000-12-31\n",
      "no LC_Type1 in 2000-01-01-2000-12-31\n",
      "no Gpp in 2001-01-01-2001-12-31\n",
      "no Gpp in 2002-01-01-2002-12-31\n",
      "2001:13\n",
      "2002:17\n",
      "2003:24\n",
      "MX-Tes can't be found in df\n",
      "2004:30\n",
      "MX-Tes can't be found in df\n",
      "2005:36\n",
      "MX-Tes can't be found in df\n",
      "2006:27\n",
      "MX-Tes can't be found in df\n",
      "2007:34\n",
      "MX-Tes can't be found in df\n",
      "2008:35\n",
      "2009:41\n",
      "2010:41\n",
      "2011:46\n",
      "2012:47\n",
      "BR-Npw can't be found in df\n",
      "2013:46\n",
      "BR-Npw can't be found in df\n",
      "2014:49\n",
      "BR-Npw can't be found in df\n",
      "2015:50\n",
      "AR-TF1 can't be found in df\n",
      "BR-Npw can't be found in df\n",
      "2016:55\n",
      "AR-TF1 can't be found in df\n",
      "BR-Npw can't be found in df\n",
      "2017:79\n",
      "AR-TF1 can't be found in df\n",
      "PE-QFR can't be found in df\n",
      "US-Snf can't be sampled\n",
      "2018:84\n",
      "PE-QFR can't be found in df\n",
      "US-HB1 can't be sampled\n",
      "US-Snf can't be sampled\n",
      "2019:86\n",
      "US-Snf can't be sampled\n",
      "2020:80\n",
      "2021:52\n",
      "2022:0\n"
     ]
    }
   ],
   "source": [
    "sample_features_fluxnet(site_loc_df_na, gpp_df_na, NA_FILE_PREFIX, SAMPLE_SCALE)"
   ]
  },
  {
   "cell_type": "markdown",
   "metadata": {
    "id": "Eq8MGNwOYhOg"
   },
   "source": [
    "# Preprocess data"
   ]
  },
  {
   "cell_type": "markdown",
   "metadata": {
    "tags": []
   },
   "source": [
    "## Try normalizing input"
   ]
  },
  {
   "cell_type": "code",
   "execution_count": 5,
   "metadata": {
    "tags": []
   },
   "outputs": [],
   "source": [
    "import tensorflow as tf\n",
    "import matplotlib.pyplot as plt\n",
    "import numpy as np\n",
    "import pandas as pd\n",
    "import random\n",
    "import tensorflow_datasets as tfds\n",
    "\n",
    "ALL_COLUMNS = FEATURES + [TARGET_FEATURE] + ['cx', 'cy']\n",
    "columns = [tf.io.FixedLenFeature(shape=[], dtype=tf.float32) for k in ALL_COLUMNS]\n",
    "FEATURES_DICT = dict(zip(ALL_COLUMNS, columns))\n"
   ]
  },
  {
   "cell_type": "code",
   "execution_count": 6,
   "metadata": {
    "colab": {
     "base_uri": "https://localhost:8080/",
     "height": 1000
    },
    "id": "a5kwqeres-X_",
    "outputId": "6709b4da-c5d0-4566-fcfc-85192fbe7607",
    "tags": []
   },
   "outputs": [],
   "source": [
    "def parse_tfrecord(example_proto):\n",
    "    \"\"\"The parsing function.\n",
    "    Read a serialized example into the structure defined by FEATURES_DICT.\n",
    "    Args:\n",
    "    example_proto: a serialized Example.\n",
    "    Returns:\n",
    "    A dictionary of tensors, keyed by feature name.\n",
    "    \"\"\"\n",
    "    parsed_features = tf.io.parse_single_example(example_proto, FEATURES_DICT)\n",
    "    # print(f'Parsed features: {parsed_features}')\n",
    "    return parsed_features\n",
    "\n",
    "def get_dataframe(pattern):\n",
    "    \"\"\"Function to read, parse and format to tuple a set of input tfrecord files.\n",
    "    Get all the files matching the pattern, parse and convert to tuple.\n",
    "    Args:\n",
    "    pattern: A file pattern to match in a Cloud Storage bucket.\n",
    "    Returns:\n",
    "    A tf.data.Dataset\n",
    "    \"\"\"\n",
    "    glob = tf.io.gfile.glob(pattern)\n",
    "    # print(glob)\n",
    "    dataset = tf.data.TFRecordDataset(glob, compression_type='GZIP')\n",
    "    dataset = dataset.map(parse_tfrecord, num_parallel_calls=5)\n",
    "    # dataset = dataset.map(to_tuple, num_parallel_calls=5)\n",
    "    df = tfds.as_dataframe(dataset)\n",
    "    return df"
   ]
  },
  {
   "cell_type": "code",
   "execution_count": 7,
   "metadata": {
    "tags": []
   },
   "outputs": [],
   "source": [
    "import geemap\n",
    "def visualize_sample_geo_loc(df):\n",
    "    m = geemap.Map()\n",
    "    m.add_points_from_xy(df, x='cx', y='cy')\n",
    "    return m"
   ]
  },
  {
   "cell_type": "code",
   "execution_count": 8,
   "metadata": {
    "tags": []
   },
   "outputs": [
    {
     "data": {
      "text/html": [
       "\n",
       "            <style>\n",
       "                .geemap-dark {\n",
       "                    --jp-widgets-color: white;\n",
       "                    --jp-widgets-label-color: white;\n",
       "                    --jp-ui-font-color1: white;\n",
       "                    --jp-layout-color2: #454545;\n",
       "                    background-color: #383838;\n",
       "                }\n",
       "                    \n",
       "                .geemap-dark .jupyter-button {\n",
       "                    --jp-layout-color3: #383838;\n",
       "                }\n",
       "                \n",
       "                .geemap-colab {\n",
       "                    background-color: var(--colab-primary-surface-color, white);\n",
       "                }\n",
       "                    \n",
       "                .geemap-colab .jupyter-button {\n",
       "                    --jp-layout-color3: var(--colab-primary-surface-color, white);\n",
       "                }\n",
       "            </style>\n",
       "            "
      ],
      "text/plain": [
       "<IPython.core.display.HTML object>"
      ]
     },
     "metadata": {},
     "output_type": "display_data"
    }
   ],
   "source": [
    "def visualize_feature_distribution(df_list, df_name_list, single_feature = None, exaggerate_indics=[2,3], save_dir=None):\n",
    "    for feature in ALL_COLUMNS:\n",
    "        if single_feature and feature != single_feature or feature == 'cx' or feature == 'cy':\n",
    "            continue\n",
    "        plt.rcParams.update({'figure.figsize':(7,5), 'figure.dpi':100})\n",
    "        for i, (df,df_name) in enumerate(zip(df_list, df_name_list)):\n",
    "            if feature not in df.columns:\n",
    "                print(f'{feature} is not in {df_name}')\n",
    "                continue\n",
    "            value_list = df[feature].tolist()\n",
    "            \n",
    "            if i in exaggerate_indics:\n",
    "                # To make the bar more obvious for small dataset\n",
    "                for m in range(5):\n",
    "                    value_list.extend(value_list)\n",
    "                    \n",
    "            plt.hist(value_list, label=f'{df_name}', alpha=.7, edgecolor='yellow', bins=50)\n",
    "        plt.title(f'{feature} Frequency Histogram')\n",
    "        plt.legend()                \n",
    "        plt.show()    \n",
    "        if save_dir:\n",
    "            plt.savefig(f'{save_dir}{feature}.png')"
   ]
  },
  {
   "cell_type": "markdown",
   "metadata": {},
   "source": [
    "## Read upstream & downstream data"
   ]
  },
  {
   "cell_type": "code",
   "execution_count": 12,
   "metadata": {
    "tags": []
   },
   "outputs": [
    {
     "data": {
      "text/html": [
       "\n",
       "            <style>\n",
       "                .geemap-dark {\n",
       "                    --jp-widgets-color: white;\n",
       "                    --jp-widgets-label-color: white;\n",
       "                    --jp-ui-font-color1: white;\n",
       "                    --jp-layout-color2: #454545;\n",
       "                    background-color: #383838;\n",
       "                }\n",
       "                    \n",
       "                .geemap-dark .jupyter-button {\n",
       "                    --jp-layout-color3: #383838;\n",
       "                }\n",
       "                \n",
       "                .geemap-colab {\n",
       "                    background-color: var(--colab-primary-surface-color, white);\n",
       "                }\n",
       "                    \n",
       "                .geemap-colab .jupyter-button {\n",
       "                    --jp-layout-color3: var(--colab-primary-surface-color, white);\n",
       "                }\n",
       "            </style>\n",
       "            "
      ],
      "text/plain": [
       "<IPython.core.display.HTML object>"
      ]
     },
     "metadata": {},
     "output_type": "display_data"
    }
   ],
   "source": [
    "UPSTREAM_DATA_PATH = f'{BUCKET_FOLDER}/{UPSTREAM_SUB_FOLDER}/'\n",
    "DOWNSTREAM_DATA_PATH = f'{BUCKET_FOLDER}/{DOWNSTREAM_SUB_FOLDER}/'\n",
    "COMPARE_DATA_PATH = f'{BUCKET_FOLDER}/{COMPARE_UPSTREAM_SUB_FOLDER}/'"
   ]
  },
  {
   "cell_type": "code",
   "execution_count": 24,
   "metadata": {
    "tags": []
   },
   "outputs": [
    {
     "data": {
      "text/html": [
       "\n",
       "            <style>\n",
       "                .geemap-dark {\n",
       "                    --jp-widgets-color: white;\n",
       "                    --jp-widgets-label-color: white;\n",
       "                    --jp-ui-font-color1: white;\n",
       "                    --jp-layout-color2: #454545;\n",
       "                    background-color: #383838;\n",
       "                }\n",
       "                    \n",
       "                .geemap-dark .jupyter-button {\n",
       "                    --jp-layout-color3: #383838;\n",
       "                }\n",
       "                \n",
       "                .geemap-colab {\n",
       "                    background-color: var(--colab-primary-surface-color, white);\n",
       "                }\n",
       "                    \n",
       "                .geemap-colab .jupyter-button {\n",
       "                    --jp-layout-color3: var(--colab-primary-surface-color, white);\n",
       "                }\n",
       "            </style>\n",
       "            "
      ],
      "text/plain": [
       "<IPython.core.display.HTML object>"
      ]
     },
     "metadata": {},
     "output_type": "display_data"
    },
    {
     "name": "stdout",
     "output_type": "stream",
     "text": [
      "158603\n",
      "26435\n"
     ]
    }
   ],
   "source": [
    "UPSTREAM_EXTRA_DATA_PATH = f'{BUCKET_FOLDER}/{UPSTREAM_SUB_FOLDER}_extra/'\n",
    "df_upstream_train = concat([\n",
    "    get_dataframe(f'{UPSTREAM_DATA_PATH}*_201*.tfrecord.gz'), \n",
    "    get_dataframe(f'{UPSTREAM_DATA_PATH}*_2020*.tfrecord.gz'),\n",
    "    get_dataframe(f'{UPSTREAM_EXTRA_DATA_PATH}*_201*.tfrecord.gz'),\n",
    "    get_dataframe(f'{UPSTREAM_EXTRA_DATA_PATH}*_2020*.tfrecord.gz'),\n",
    "])\n",
    "\n",
    "df_upstream_val = concat([\n",
    "    get_dataframe(f'{UPSTREAM_DATA_PATH}*_2021*.tfrecord.gz'),\n",
    "    get_dataframe(f'{UPSTREAM_EXTRA_DATA_PATH}*_2021*.tfrecord.gz')\n",
    "])\n",
    "# df_train = tfds.as_dataframe(dataset_upstream_train)\n",
    "print(len(df_upstream_train))\n",
    "print(len(df_upstream_val))"
   ]
  },
  {
   "cell_type": "markdown",
   "metadata": {},
   "source": [
    "Remove invalid Gpp"
   ]
  },
  {
   "cell_type": "code",
   "execution_count": 10,
   "metadata": {
    "tags": []
   },
   "outputs": [
    {
     "data": {
      "text/html": [
       "\n",
       "            <style>\n",
       "                .geemap-dark {\n",
       "                    --jp-widgets-color: white;\n",
       "                    --jp-widgets-label-color: white;\n",
       "                    --jp-ui-font-color1: white;\n",
       "                    --jp-layout-color2: #454545;\n",
       "                    background-color: #383838;\n",
       "                }\n",
       "                    \n",
       "                .geemap-dark .jupyter-button {\n",
       "                    --jp-layout-color3: #383838;\n",
       "                }\n",
       "                \n",
       "                .geemap-colab {\n",
       "                    background-color: var(--colab-primary-surface-color, white);\n",
       "                }\n",
       "                    \n",
       "                .geemap-colab .jupyter-button {\n",
       "                    --jp-layout-color3: var(--colab-primary-surface-color, white);\n",
       "                }\n",
       "            </style>\n",
       "            "
      ],
      "text/plain": [
       "<IPython.core.display.HTML object>"
      ]
     },
     "metadata": {},
     "output_type": "display_data"
    }
   ],
   "source": [
    "def drop_invalid_rows(df):\n",
    "    df = df.drop(df[df['Gpp'] > 60000].index)    \n",
    "    return df"
   ]
  },
  {
   "cell_type": "code",
   "execution_count": 25,
   "metadata": {
    "tags": []
   },
   "outputs": [
    {
     "data": {
      "text/html": [
       "\n",
       "            <style>\n",
       "                .geemap-dark {\n",
       "                    --jp-widgets-color: white;\n",
       "                    --jp-widgets-label-color: white;\n",
       "                    --jp-ui-font-color1: white;\n",
       "                    --jp-layout-color2: #454545;\n",
       "                    background-color: #383838;\n",
       "                }\n",
       "                    \n",
       "                .geemap-dark .jupyter-button {\n",
       "                    --jp-layout-color3: #383838;\n",
       "                }\n",
       "                \n",
       "                .geemap-colab {\n",
       "                    background-color: var(--colab-primary-surface-color, white);\n",
       "                }\n",
       "                    \n",
       "                .geemap-colab .jupyter-button {\n",
       "                    --jp-layout-color3: var(--colab-primary-surface-color, white);\n",
       "                }\n",
       "            </style>\n",
       "            "
      ],
      "text/plain": [
       "<IPython.core.display.HTML object>"
      ]
     },
     "metadata": {},
     "output_type": "display_data"
    },
    {
     "name": "stdout",
     "output_type": "stream",
     "text": [
      "upstream training dataset: 141623\n",
      "upstream validation dataset: 23624\n"
     ]
    }
   ],
   "source": [
    "df_upstream_train = drop_invalid_rows(df_upstream_train)\n",
    "df_upstream_val = drop_invalid_rows(df_upstream_val)\n",
    "print(f'upstream training dataset: {len(df_upstream_train)}')\n",
    "print(f'upstream validation dataset: {len(df_upstream_val)}')"
   ]
  },
  {
   "cell_type": "code",
   "execution_count": 13,
   "metadata": {
    "tags": []
   },
   "outputs": [
    {
     "data": {
      "text/html": [
       "\n",
       "            <style>\n",
       "                .geemap-dark {\n",
       "                    --jp-widgets-color: white;\n",
       "                    --jp-widgets-label-color: white;\n",
       "                    --jp-ui-font-color1: white;\n",
       "                    --jp-layout-color2: #454545;\n",
       "                    background-color: #383838;\n",
       "                }\n",
       "                    \n",
       "                .geemap-dark .jupyter-button {\n",
       "                    --jp-layout-color3: #383838;\n",
       "                }\n",
       "                \n",
       "                .geemap-colab {\n",
       "                    background-color: var(--colab-primary-surface-color, white);\n",
       "                }\n",
       "                    \n",
       "                .geemap-colab .jupyter-button {\n",
       "                    --jp-layout-color3: var(--colab-primary-surface-color, white);\n",
       "                }\n",
       "            </style>\n",
       "            "
      ],
      "text/plain": [
       "<IPython.core.display.HTML object>"
      ]
     },
     "metadata": {},
     "output_type": "display_data"
    },
    {
     "name": "stdout",
     "output_type": "stream",
     "text": [
      "996\n",
      "160\n"
     ]
    }
   ],
   "source": [
    "df_downstream_train = concat([\n",
    "    get_dataframe(f'{DOWNSTREAM_DATA_PATH}*_20[0-1]*.tfrecord.gz'), \n",
    "    get_dataframe(f'{DOWNSTREAM_DATA_PATH}*_2020*.tfrecord.gz')\n",
    "])\n",
    "df_downstream_test = get_dataframe(f'{DOWNSTREAM_DATA_PATH}*_202[1-2].tfrecord.gz')\n",
    "print(len(df_downstream_train))\n",
    "print(len(df_downstream_test))"
   ]
  },
  {
   "cell_type": "code",
   "execution_count": 16,
   "metadata": {
    "tags": []
   },
   "outputs": [
    {
     "data": {
      "text/html": [
       "\n",
       "            <style>\n",
       "                .geemap-dark {\n",
       "                    --jp-widgets-color: white;\n",
       "                    --jp-widgets-label-color: white;\n",
       "                    --jp-ui-font-color1: white;\n",
       "                    --jp-layout-color2: #454545;\n",
       "                    background-color: #383838;\n",
       "                }\n",
       "                    \n",
       "                .geemap-dark .jupyter-button {\n",
       "                    --jp-layout-color3: #383838;\n",
       "                }\n",
       "                \n",
       "                .geemap-colab {\n",
       "                    background-color: var(--colab-primary-surface-color, white);\n",
       "                }\n",
       "                    \n",
       "                .geemap-colab .jupyter-button {\n",
       "                    --jp-layout-color3: var(--colab-primary-surface-color, white);\n",
       "                }\n",
       "            </style>\n",
       "            "
      ],
      "text/plain": [
       "<IPython.core.display.HTML object>"
      ]
     },
     "metadata": {},
     "output_type": "display_data"
    },
    {
     "name": "stdout",
     "output_type": "stream",
     "text": [
      "996\n",
      "160\n"
     ]
    }
   ],
   "source": [
    "df_cp_modis_train = concat([\n",
    "    get_dataframe(f'{COMPARE_DATA_PATH}*_20[0-1]*.tfrecord.gz'), \n",
    "    get_dataframe(f'{COMPARE_DATA_PATH}*_2020*.tfrecord.gz')\n",
    "])\n",
    "df_cp_modis_test = get_dataframe(f'{COMPARE_DATA_PATH}*_202[1-2].tfrecord.gz')\n",
    "# df_cp_modis_train = drop_invalid_rows(df_cp_modis_train)\n",
    "# df_cp_modis_test = drop_invalid_rows(df_cp_modis_test)\n",
    "print(len(df_cp_modis_train))\n",
    "print(len(df_cp_modis_test))"
   ]
  },
  {
   "cell_type": "code",
   "execution_count": 35,
   "metadata": {
    "tags": []
   },
   "outputs": [
    {
     "data": {
      "text/html": [
       "\n",
       "            <style>\n",
       "                .geemap-dark {\n",
       "                    --jp-widgets-color: white;\n",
       "                    --jp-widgets-label-color: white;\n",
       "                    --jp-ui-font-color1: white;\n",
       "                    --jp-layout-color2: #454545;\n",
       "                    background-color: #383838;\n",
       "                }\n",
       "                    \n",
       "                .geemap-dark .jupyter-button {\n",
       "                    --jp-layout-color3: #383838;\n",
       "                }\n",
       "                \n",
       "                .geemap-colab {\n",
       "                    background-color: var(--colab-primary-surface-color, white);\n",
       "                }\n",
       "                    \n",
       "                .geemap-colab .jupyter-button {\n",
       "                    --jp-layout-color3: var(--colab-primary-surface-color, white);\n",
       "                }\n",
       "            </style>\n",
       "            "
      ],
      "text/plain": [
       "<IPython.core.display.HTML object>"
      ]
     },
     "metadata": {},
     "output_type": "display_data"
    },
    {
     "name": "stdout",
     "output_type": "stream",
     "text": [
      "Int64Index([823, 836, 860, 955, 984], dtype='int64')\n",
      "Int64Index([57, 89, 109, 144], dtype='int64')\n",
      "        EVI      Gpp  LC_Type1  LST_Day_1km    NDVI      aet         cx  \\\n",
      "823  3866.0  32850.0       2.0     15038.00  7481.0  12050.0 -52.926491   \n",
      "836  3863.0  36017.0       2.0     15018.00  6028.0  12051.0 -52.926491   \n",
      "860  3863.0  33863.0       2.0     15025.00  6777.0  12946.0 -52.926491   \n",
      "955  4834.0  25076.0       2.0     15035.25  8390.0  11457.0  24.503796   \n",
      "984  4042.0  34775.0       2.0     15038.00  6246.0  13114.0 -52.926491   \n",
      "\n",
      "           cy      pr  \n",
      "823  5.279848  2914.0  \n",
      "836  5.279848  2909.0  \n",
      "860  5.279848  2617.0  \n",
      "955  0.815221  1534.0  \n",
      "984  5.279848  3699.0  \n"
     ]
    }
   ],
   "source": [
    "def get_invalid_lat(df): \n",
    "    return df[df['cy'] < 10].index\n",
    "    \n",
    "print(get_invalid_lat(df_cp_modis_train))\n",
    "print(get_invalid_lat(df_cp_modis_test))\n",
    "print(df_cp_modis_train.iloc[get_invalid_lat(df_cp_modis_train)])"
   ]
  },
  {
   "cell_type": "markdown",
   "metadata": {},
   "source": [
    "Remove invalid Gpp"
   ]
  },
  {
   "cell_type": "code",
   "execution_count": 18,
   "metadata": {
    "tags": []
   },
   "outputs": [
    {
     "data": {
      "text/html": [
       "\n",
       "            <style>\n",
       "                .geemap-dark {\n",
       "                    --jp-widgets-color: white;\n",
       "                    --jp-widgets-label-color: white;\n",
       "                    --jp-ui-font-color1: white;\n",
       "                    --jp-layout-color2: #454545;\n",
       "                    background-color: #383838;\n",
       "                }\n",
       "                    \n",
       "                .geemap-dark .jupyter-button {\n",
       "                    --jp-layout-color3: #383838;\n",
       "                }\n",
       "                \n",
       "                .geemap-colab {\n",
       "                    background-color: var(--colab-primary-surface-color, white);\n",
       "                }\n",
       "                    \n",
       "                .geemap-colab .jupyter-button {\n",
       "                    --jp-layout-color3: var(--colab-primary-surface-color, white);\n",
       "                }\n",
       "            </style>\n",
       "            "
      ],
      "text/plain": [
       "<IPython.core.display.HTML object>"
      ]
     },
     "metadata": {},
     "output_type": "display_data"
    },
    {
     "name": "stdout",
     "output_type": "stream",
     "text": [
      "      EVI           Gpp  LC_Type1  LST_Day_1km    NDVI     aet          cx  \\\n",
      "0  4089.0  19629.900391       1.0      14388.5  8747.0  4806.0 -125.335197   \n",
      "1  3057.0   5300.430176       1.0      14603.0  6984.0  5071.0 -125.290276   \n",
      "2  3182.0  12964.699219       5.0      14589.5  6372.0  5690.0  -79.934341   \n",
      "3  2529.0  16307.099609       5.0      14343.0  5465.0  4617.0  -82.157669   \n",
      "4  1922.0   8113.720215       8.0      14218.5  3693.0  4669.0  -98.484550   \n",
      "\n",
      "          cy      pr  \n",
      "0  49.867725  1635.0  \n",
      "1  49.872219  1532.0  \n",
      "2  44.316139   876.0  \n",
      "3  48.214828   732.0  \n",
      "4  55.877457   545.0  \n"
     ]
    }
   ],
   "source": [
    "# Scale of MOD17 is 0.0001 for kg/m^2/year\n",
    "# Scale of FLUX is g/m^2/year\n",
    "# So scale FLUX by 10 to match the two\n",
    "FLUXNET_GPP_SCALE = 10\n",
    "\n",
    "df_downstream_train[TARGET_FEATURE] = df_downstream_train[TARGET_FEATURE]*FLUXNET_GPP_SCALE\n",
    "df_downstream_test[TARGET_FEATURE] = df_downstream_test[TARGET_FEATURE]*FLUXNET_GPP_SCALE\n",
    "print(df_downstream_train.head())"
   ]
  },
  {
   "cell_type": "code",
   "execution_count": 27,
   "metadata": {
    "tags": []
   },
   "outputs": [
    {
     "data": {
      "text/html": [
       "\n",
       "            <style>\n",
       "                .geemap-dark {\n",
       "                    --jp-widgets-color: white;\n",
       "                    --jp-widgets-label-color: white;\n",
       "                    --jp-ui-font-color1: white;\n",
       "                    --jp-layout-color2: #454545;\n",
       "                    background-color: #383838;\n",
       "                }\n",
       "                    \n",
       "                .geemap-dark .jupyter-button {\n",
       "                    --jp-layout-color3: #383838;\n",
       "                }\n",
       "                \n",
       "                .geemap-colab {\n",
       "                    background-color: var(--colab-primary-surface-color, white);\n",
       "                }\n",
       "                    \n",
       "                .geemap-colab .jupyter-button {\n",
       "                    --jp-layout-color3: var(--colab-primary-surface-color, white);\n",
       "                }\n",
       "            </style>\n",
       "            "
      ],
      "text/plain": [
       "<IPython.core.display.HTML object>"
      ]
     },
     "metadata": {},
     "output_type": "display_data"
    }
   ],
   "source": [
    "df_downstream_train = df_downstream_train.drop(df_downstream_train[df_downstream_train['cy'] < 10].index)\n",
    "df_downstream_test = df_downstream_test.drop(df_downstream_test[df_downstream_test['cy'] < 10].index)"
   ]
  },
  {
   "cell_type": "code",
   "execution_count": 28,
   "metadata": {
    "tags": []
   },
   "outputs": [
    {
     "data": {
      "text/html": [
       "\n",
       "            <style>\n",
       "                .geemap-dark {\n",
       "                    --jp-widgets-color: white;\n",
       "                    --jp-widgets-label-color: white;\n",
       "                    --jp-ui-font-color1: white;\n",
       "                    --jp-layout-color2: #454545;\n",
       "                    background-color: #383838;\n",
       "                }\n",
       "                    \n",
       "                .geemap-dark .jupyter-button {\n",
       "                    --jp-layout-color3: #383838;\n",
       "                }\n",
       "                \n",
       "                .geemap-colab {\n",
       "                    background-color: var(--colab-primary-surface-color, white);\n",
       "                }\n",
       "                    \n",
       "                .geemap-colab .jupyter-button {\n",
       "                    --jp-layout-color3: var(--colab-primary-surface-color, white);\n",
       "                }\n",
       "            </style>\n",
       "            "
      ],
      "text/plain": [
       "<IPython.core.display.HTML object>"
      ]
     },
     "metadata": {},
     "output_type": "display_data"
    },
    {
     "name": "stdout",
     "output_type": "stream",
     "text": [
      "upstream training data 2015-2020:   141623\n",
      "upstream validation data 2021:      23624\n",
      "downstream training data 2001-2020: 991\n",
      "downstream test data 2021-2022:     156\n",
      "modis downstream data 2001-2020:    991\n",
      "modis downstream data 2021-2022:    156\n"
     ]
    }
   ],
   "source": [
    "print(f'upstream training data 2015-2020:   {len(df_upstream_train)}')\n",
    "print(f'upstream validation data 2021:      {len(df_upstream_val)}')\n",
    "print(f'downstream training data 2001-2020: {len(df_downstream_train)}')\n",
    "print(f'downstream test data 2021-2022:     {len(df_downstream_test)}')\n",
    "print(f'modis downstream data 2001-2020:    {len(df_cp_modis_train)}')\n",
    "print(f'modis downstream data 2021-2022:    {len(df_cp_modis_test)}')"
   ]
  },
  {
   "cell_type": "markdown",
   "metadata": {},
   "source": [
    "### Inspect data distribution"
   ]
  },
  {
   "cell_type": "code",
   "execution_count": 19,
   "metadata": {
    "collapsed": true,
    "jupyter": {
     "outputs_hidden": true
    },
    "tags": []
   },
   "outputs": [
    {
     "data": {
      "text/html": [
       "\n",
       "            <style>\n",
       "                .geemap-dark {\n",
       "                    --jp-widgets-color: white;\n",
       "                    --jp-widgets-label-color: white;\n",
       "                    --jp-ui-font-color1: white;\n",
       "                    --jp-layout-color2: #454545;\n",
       "                    background-color: #383838;\n",
       "                }\n",
       "                    \n",
       "                .geemap-dark .jupyter-button {\n",
       "                    --jp-layout-color3: #383838;\n",
       "                }\n",
       "                \n",
       "                .geemap-colab {\n",
       "                    background-color: var(--colab-primary-surface-color, white);\n",
       "                }\n",
       "                    \n",
       "                .geemap-colab .jupyter-button {\n",
       "                    --jp-layout-color3: var(--colab-primary-surface-color, white);\n",
       "                }\n",
       "            </style>\n",
       "            "
      ],
      "text/plain": [
       "<IPython.core.display.HTML object>"
      ]
     },
     "metadata": {},
     "output_type": "display_data"
    },
    {
     "data": {
      "image/png": "[encoded data removed]",
      "text/plain": [
       "<Figure size 700x500 with 1 Axes>"
      ]
     },
     "metadata": {
      "needs_background": "light"
     },
     "output_type": "display_data"
    },
    {
     "data": {
      "image/png": "[encoded data removed]",
      "text/plain": [
       "<Figure size 700x500 with 1 Axes>"
      ]
     },
     "metadata": {
      "needs_background": "light"
     },
     "output_type": "display_data"
    },
    {
     "data": {
      "image/png": "[encoded data removed]",
      "text/plain": [
       "<Figure size 700x500 with 1 Axes>"
      ]
     },
     "metadata": {
      "needs_background": "light"
     },
     "output_type": "display_data"
    },
    {
     "data": {
      "image/png": "[encoded data removed]",
      "text/plain": [
       "<Figure size 700x500 with 1 Axes>"
      ]
     },
     "metadata": {
      "needs_background": "light"
     },
     "output_type": "display_data"
    },
    {
     "data": {
      "image/png": "[encoded data removed]",
      "text/plain": [
       "<Figure size 700x500 with 1 Axes>"
      ]
     },
     "metadata": {
      "needs_background": "light"
     },
     "output_type": "display_data"
    },
    {
     "data": {
      "image/png": "[encoded data removed]",
      "text/plain": [
       "<Figure size 700x500 with 1 Axes>"
      ]
     },
     "metadata": {
      "needs_background": "light"
     },
     "output_type": "display_data"
    },
    {
     "data": {
      "image/png": "[encoded data removed]",
      "text/plain": [
       "<Figure size 700x500 with 1 Axes>"
      ]
     },
     "metadata": {
      "needs_background": "light"
     },
     "output_type": "display_data"
    }
   ],
   "source": [
    "visualize_feature_distribution(\n",
    "    [df_upstream_train, df_upstream_val, df_downstream_train, df_downstream_test], \n",
    "    ['upstream training','upstream validation','downstream training', 'downstream test'])"
   ]
  },
  {
   "cell_type": "code",
   "execution_count": 23,
   "metadata": {
    "collapsed": true,
    "jupyter": {
     "outputs_hidden": true
    },
    "tags": []
   },
   "outputs": [
    {
     "data": {
      "text/html": [
       "\n",
       "            <style>\n",
       "                .geemap-dark {\n",
       "                    --jp-widgets-color: white;\n",
       "                    --jp-widgets-label-color: white;\n",
       "                    --jp-ui-font-color1: white;\n",
       "                    --jp-layout-color2: #454545;\n",
       "                    background-color: #383838;\n",
       "                }\n",
       "                    \n",
       "                .geemap-dark .jupyter-button {\n",
       "                    --jp-layout-color3: #383838;\n",
       "                }\n",
       "                \n",
       "                .geemap-colab {\n",
       "                    background-color: var(--colab-primary-surface-color, white);\n",
       "                }\n",
       "                    \n",
       "                .geemap-colab .jupyter-button {\n",
       "                    --jp-layout-color3: var(--colab-primary-surface-color, white);\n",
       "                }\n",
       "            </style>\n",
       "            "
      ],
      "text/plain": [
       "<IPython.core.display.HTML object>"
      ]
     },
     "metadata": {},
     "output_type": "display_data"
    },
    {
     "data": {
      "image/png": "[encoded data removed]",
      "text/plain": [
       "<Figure size 700x500 with 1 Axes>"
      ]
     },
     "metadata": {
      "needs_background": "light"
     },
     "output_type": "display_data"
    }
   ],
   "source": [
    "visualize_feature_distribution(\n",
    "    [concat([df_cp_modis_train,df_cp_modis_test]), concat([df_downstream_train, df_downstream_test])], \n",
    "    ['modis at flux station','real value at flux station'],\n",
    "    'Gpp',\n",
    "    [])"
   ]
  },
  {
   "cell_type": "markdown",
   "metadata": {},
   "source": [
    "### Visualize the samples on geomap"
   ]
  },
  {
   "cell_type": "code",
   "execution_count": 24,
   "metadata": {
    "tags": []
   },
   "outputs": [
    {
     "data": {
      "text/html": [
       "\n",
       "            <style>\n",
       "                .geemap-dark {\n",
       "                    --jp-widgets-color: white;\n",
       "                    --jp-widgets-label-color: white;\n",
       "                    --jp-ui-font-color1: white;\n",
       "                    --jp-layout-color2: #454545;\n",
       "                    background-color: #383838;\n",
       "                }\n",
       "                    \n",
       "                .geemap-dark .jupyter-button {\n",
       "                    --jp-layout-color3: #383838;\n",
       "                }\n",
       "                \n",
       "                .geemap-colab {\n",
       "                    background-color: var(--colab-primary-surface-color, white);\n",
       "                }\n",
       "                    \n",
       "                .geemap-colab .jupyter-button {\n",
       "                    --jp-layout-color3: var(--colab-primary-surface-color, white);\n",
       "                }\n",
       "            </style>\n",
       "            "
      ],
      "text/plain": [
       "<IPython.core.display.HTML object>"
      ]
     },
     "metadata": {},
     "output_type": "display_data"
    }
   ],
   "source": [
    "import plotly.graph_objects as go\n",
    "\n",
    "def plot_samples_on_map(df_to_plot, size=5, colorscale='Viridis'):\n",
    "    fig = go.Figure(go.Scattergeo(\n",
    "        lat=df_to_plot['cy'],\n",
    "        lon=df_to_plot['cx'],\n",
    "        marker=dict(size=size, color=df_to_plot['LC_Type1'], colorscale=colorscale)\n",
    "    ), layout=dict(height=1200, width=1500, margin={\"r\":0,\"t\":0,\"l\":0,\"b\":0}))\n",
    "    fig.show()"
   ]
  },
  {
   "cell_type": "code",
   "execution_count": null,
   "metadata": {
    "tags": []
   },
   "outputs": [],
   "source": [
    "df_cp_modis_train = df_cp_modis_train.drop(df_cp_modis_train[df_cp_modis_train['cy'] < 10].index)\n",
    "df_cp_modis_test = df_cp_modis_test.drop(df_cp_modis_test[df_cp_modis_test['cy'] < 10].index)\n",
    "print(len(df_cp_modis_train))\n",
    "print(len(df_cp_modis_test))\n",
    "plot_samples_on_map(concat([df_cp_modis_train, df_cp_modis_test]), size=7)"
   ]
  },
  {
   "cell_type": "code",
   "execution_count": null,
   "metadata": {
    "tags": []
   },
   "outputs": [
    {
     "data": {
      "text/html": [
       "\n",
       "            <style>\n",
       "                .geemap-dark {\n",
       "                    --jp-widgets-color: white;\n",
       "                    --jp-widgets-label-color: white;\n",
       "                    --jp-ui-font-color1: white;\n",
       "                    --jp-layout-color2: #454545;\n",
       "                    background-color: #383838;\n",
       "                }\n",
       "                    \n",
       "                .geemap-dark .jupyter-button {\n",
       "                    --jp-layout-color3: #383838;\n",
       "                }\n",
       "                \n",
       "                .geemap-colab {\n",
       "                    background-color: var(--colab-primary-surface-color, white);\n",
       "                }\n",
       "                    \n",
       "                .geemap-colab .jupyter-button {\n",
       "                    --jp-layout-color3: var(--colab-primary-surface-color, white);\n",
       "                }\n",
       "            </style>\n",
       "            "
      ],
      "text/plain": [
       "<IPython.core.display.HTML object>"
      ]
     },
     "metadata": {},
     "output_type": "display_data"
    }
   ],
   "source": [
    "plot_samples_on_map(concat([df_upstream_train, df_upstream_val]), size=1)"
   ]
  },
  {
   "cell_type": "code",
   "execution_count": 19,
   "metadata": {
    "tags": []
   },
   "outputs": [
    {
     "data": {
      "text/html": [
       "\n",
       "            <style>\n",
       "                .geemap-dark {\n",
       "                    --jp-widgets-color: white;\n",
       "                    --jp-widgets-label-color: white;\n",
       "                    --jp-ui-font-color1: white;\n",
       "                    --jp-layout-color2: #454545;\n",
       "                    background-color: #383838;\n",
       "                }\n",
       "                    \n",
       "                .geemap-dark .jupyter-button {\n",
       "                    --jp-layout-color3: #383838;\n",
       "                }\n",
       "                \n",
       "                .geemap-colab {\n",
       "                    background-color: var(--colab-primary-surface-color, white);\n",
       "                }\n",
       "                    \n",
       "                .geemap-colab .jupyter-button {\n",
       "                    --jp-layout-color3: var(--colab-primary-surface-color, white);\n",
       "                }\n",
       "            </style>\n",
       "            "
      ],
      "text/plain": [
       "<IPython.core.display.HTML object>"
      ]
     },
     "metadata": {},
     "output_type": "display_data"
    },
    {
     "data": {
      "application/vnd.jupyter.widget-view+json": {
       "model_id": "58c2b49560ea4fac8a6a621f36502df0",
       "version_major": 2,
       "version_minor": 0
      },
      "text/plain": [
       "Map(center=[0, 0], controls=(WidgetControl(options=['position', 'transparent_bg'], widget=SearchDataGUI(childr…"
      ]
     },
     "execution_count": 19,
     "metadata": {},
     "output_type": "execute_result"
    }
   ],
   "source": [
    "visualize_sample_geo_loc(concat([df_cp_modis_train, df_cp_modis_test]))"
   ]
  },
  {
   "cell_type": "code",
   "execution_count": 43,
   "metadata": {
    "tags": []
   },
   "outputs": [
    {
     "data": {
      "text/html": [
       "\n",
       "            <style>\n",
       "                .geemap-dark {\n",
       "                    --jp-widgets-color: white;\n",
       "                    --jp-widgets-label-color: white;\n",
       "                    --jp-ui-font-color1: white;\n",
       "                    --jp-layout-color2: #454545;\n",
       "                    background-color: #383838;\n",
       "                }\n",
       "                    \n",
       "                .geemap-dark .jupyter-button {\n",
       "                    --jp-layout-color3: #383838;\n",
       "                }\n",
       "                \n",
       "                .geemap-colab {\n",
       "                    background-color: var(--colab-primary-surface-color, white);\n",
       "                }\n",
       "                    \n",
       "                .geemap-colab .jupyter-button {\n",
       "                    --jp-layout-color3: var(--colab-primary-surface-color, white);\n",
       "                }\n",
       "            </style>\n",
       "            "
      ],
      "text/plain": [
       "<IPython.core.display.HTML object>"
      ]
     },
     "metadata": {},
     "output_type": "display_data"
    },
    {
     "data": {
      "application/vnd.jupyter.widget-view+json": {
       "model_id": "ee1b072c6a7f45959a2add2b8f0734a2",
       "version_major": 2,
       "version_minor": 0
      },
      "text/plain": [
       "Map(center=[0, 0], controls=(WidgetControl(options=['position', 'transparent_bg'], widget=SearchDataGUI(childr…"
      ]
     },
     "execution_count": 43,
     "metadata": {},
     "output_type": "execute_result"
    }
   ],
   "source": [
    "visualize_sample_geo_loc(concat([df_downstream_train, df_downstream_test]))"
   ]
  },
  {
   "cell_type": "code",
   "execution_count": 24,
   "metadata": {},
   "outputs": [
    {
     "data": {
      "text/html": [
       "\n",
       "            <style>\n",
       "                .geemap-dark {\n",
       "                    --jp-widgets-color: white;\n",
       "                    --jp-widgets-label-color: white;\n",
       "                    --jp-ui-font-color1: white;\n",
       "                    --jp-layout-color2: #454545;\n",
       "                    background-color: #383838;\n",
       "                }\n",
       "                    \n",
       "                .geemap-dark .jupyter-button {\n",
       "                    --jp-layout-color3: #383838;\n",
       "                }\n",
       "                \n",
       "                .geemap-colab {\n",
       "                    background-color: var(--colab-primary-surface-color, white);\n",
       "                }\n",
       "                    \n",
       "                .geemap-colab .jupyter-button {\n",
       "                    --jp-layout-color3: var(--colab-primary-surface-color, white);\n",
       "                }\n",
       "            </style>\n",
       "            "
      ],
      "text/plain": [
       "<IPython.core.display.HTML object>"
      ]
     },
     "metadata": {},
     "output_type": "display_data"
    }
   ],
   "source": [
    "all_dataset_list = [df_upstream_train, df_upstream_val, df_downstream_train, df_downstream_test, df_cp_modis_train, df_cp_modis_test]\n",
    "\n",
    "def seperate_xy():\n",
    "    all_x = []\n",
    "    all_y = []\n",
    "    for dt in all_dataset_list:\n",
    "        x = dt[FEATURES]        \n",
    "        y = dt[[TARGET_FEATURE]]\n",
    "        all_x.append(x)        \n",
    "        all_y.append(y)\n",
    "    return all_x, all_y"
   ]
  },
  {
   "cell_type": "code",
   "execution_count": 25,
   "metadata": {
    "tags": []
   },
   "outputs": [
    {
     "data": {
      "text/html": [
       "\n",
       "            <style>\n",
       "                .geemap-dark {\n",
       "                    --jp-widgets-color: white;\n",
       "                    --jp-widgets-label-color: white;\n",
       "                    --jp-ui-font-color1: white;\n",
       "                    --jp-layout-color2: #454545;\n",
       "                    background-color: #383838;\n",
       "                }\n",
       "                    \n",
       "                .geemap-dark .jupyter-button {\n",
       "                    --jp-layout-color3: #383838;\n",
       "                }\n",
       "                \n",
       "                .geemap-colab {\n",
       "                    background-color: var(--colab-primary-surface-color, white);\n",
       "                }\n",
       "                    \n",
       "                .geemap-colab .jupyter-button {\n",
       "                    --jp-layout-color3: var(--colab-primary-surface-color, white);\n",
       "                }\n",
       "            </style>\n",
       "            "
      ],
      "text/plain": [
       "<IPython.core.display.HTML object>"
      ]
     },
     "metadata": {},
     "output_type": "display_data"
    }
   ],
   "source": [
    "from sklearn.preprocessing import (MinMaxScaler, RobustScaler)\n",
    "\n",
    "def get_normalize_features(numeric_features, fit_target, transform_list):\n",
    "    # fit scaler on training data\n",
    "    # norm = MinMaxScaler().fit(fit_target[numeric_features])\n",
    "    norm = RobustScaler().fit(fit_target[numeric_features])\n",
    "    norm_list=[]\n",
    "    for transform_target in transform_list:\n",
    "        transformed = transform_target.copy()\n",
    "        transformed[numeric_features] = norm.transform(transform_target[numeric_features])\n",
    "        norm_list.append(transformed)\n",
    "    \n",
    "    return norm_list"
   ]
  },
  {
   "cell_type": "code",
   "execution_count": 26,
   "metadata": {
    "tags": []
   },
   "outputs": [
    {
     "data": {
      "text/html": [
       "\n",
       "            <style>\n",
       "                .geemap-dark {\n",
       "                    --jp-widgets-color: white;\n",
       "                    --jp-widgets-label-color: white;\n",
       "                    --jp-ui-font-color1: white;\n",
       "                    --jp-layout-color2: #454545;\n",
       "                    background-color: #383838;\n",
       "                }\n",
       "                    \n",
       "                .geemap-dark .jupyter-button {\n",
       "                    --jp-layout-color3: #383838;\n",
       "                }\n",
       "                \n",
       "                .geemap-colab {\n",
       "                    background-color: var(--colab-primary-surface-color, white);\n",
       "                }\n",
       "                    \n",
       "                .geemap-colab .jupyter-button {\n",
       "                    --jp-layout-color3: var(--colab-primary-surface-color, white);\n",
       "                }\n",
       "            </style>\n",
       "            "
      ],
      "text/plain": [
       "<IPython.core.display.HTML object>"
      ]
     },
     "metadata": {},
     "output_type": "display_data"
    }
   ],
   "source": [
    "separate_x_dataset_list, separate_y_dataset_list = seperate_xy()\n",
    "normalized_dataset_list = get_normalize_features(NUMERIC_FEATURES, separate_x_dataset_list[0], separate_x_dataset_list)"
   ]
  },
  {
   "cell_type": "code",
   "execution_count": 27,
   "metadata": {
    "tags": []
   },
   "outputs": [
    {
     "data": {
      "text/html": [
       "\n",
       "            <style>\n",
       "                .geemap-dark {\n",
       "                    --jp-widgets-color: white;\n",
       "                    --jp-widgets-label-color: white;\n",
       "                    --jp-ui-font-color1: white;\n",
       "                    --jp-layout-color2: #454545;\n",
       "                    background-color: #383838;\n",
       "                }\n",
       "                    \n",
       "                .geemap-dark .jupyter-button {\n",
       "                    --jp-layout-color3: #383838;\n",
       "                }\n",
       "                \n",
       "                .geemap-colab {\n",
       "                    background-color: var(--colab-primary-surface-color, white);\n",
       "                }\n",
       "                    \n",
       "                .geemap-colab .jupyter-button {\n",
       "                    --jp-layout-color3: var(--colab-primary-surface-color, white);\n",
       "                }\n",
       "            </style>\n",
       "            "
      ],
      "text/plain": [
       "<IPython.core.display.HTML object>"
      ]
     },
     "metadata": {},
     "output_type": "display_data"
    },
    {
     "name": "stdout",
     "output_type": "stream",
     "text": [
      "upstream_train: 141623\n",
      "upstream_val: 23624\n",
      "downstream_train: 996\n",
      "downstream_test: 160\n",
      "compare_modis_train: 996\n",
      "compare_modis_test: 160\n"
     ]
    }
   ],
   "source": [
    "PROCESSED_OUTPUT_FOLDER = '../processed-datasets/'\n",
    "names = ['upstream_train', 'upstream_val', 'downstream_train', 'downstream_test', 'compare_modis_train','compare_modis_test']\n",
    "def export_csv_for_future_use():\n",
    "    for name, x, y in zip(names, normalized_dataset_list, separate_y_dataset_list):\n",
    "        combined_df = pd.concat([x, y], axis=1)\n",
    "        print(f'{name}: {len(combined_df)}')\n",
    "        combined_df.to_csv(f'{PROCESSED_OUTPUT_FOLDER}{name}.csv', index=False)\n",
    "    \n",
    "export_csv_for_future_use()"
   ]
  }
 ],
 "metadata": {
  "colab": {
   "provenance": [],
   "toc_visible": true
  },
  "kernelspec": {
   "display_name": "Python 3",
   "language": "python",
   "name": "python3"
  },
  "language_info": {
   "codemirror_mode": {
    "name": "ipython",
    "version": 3
   },
   "file_extension": ".py",
   "mimetype": "text/x-python",
   "name": "python",
   "nbconvert_exporter": "python",
   "pygments_lexer": "ipython3",
   "version": "3.9.18"
  }
 },
 "nbformat": 4,
 "nbformat_minor": 4
}
