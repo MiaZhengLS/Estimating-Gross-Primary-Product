{
 "cells": [
  {
   "cell_type": "code",
   "execution_count": 1,
   "id": "fbe85188-ff97-4837-91bb-d9d097efd7b5",
   "metadata": {
    "tags": []
   },
   "outputs": [
    {
     "name": "stdout",
     "output_type": "stream",
     "text": [
      "['LC_Type1', 'LST_Day_1km', 'pr', 'aet', 'NDVI', 'EVI']\n",
      "['LST_Day_1km', 'pr', 'aet', 'NDVI', 'EVI']\n",
      "['LC_Type1']\n"
     ]
    }
   ],
   "source": [
    "%run common.ipynb"
   ]
  },
  {
   "cell_type": "code",
   "execution_count": 2,
   "id": "4ad6b18a-2807-4b64-b681-d6ea9ddbd7df",
   "metadata": {
    "tags": []
   },
   "outputs": [
    {
     "name": "stdout",
     "output_type": "stream",
     "text": [
      "Using TensorFlow backend\n"
     ]
    }
   ],
   "source": [
    "%run tuning_common.ipynb"
   ]
  },
  {
   "cell_type": "code",
   "execution_count": 3,
   "id": "3907f785-aece-4a34-bc00-e264642b62d6",
   "metadata": {
    "tags": []
   },
   "outputs": [],
   "source": [
    "import tensorflow as tf"
   ]
  },
  {
   "cell_type": "code",
   "execution_count": 4,
   "id": "a601a796-cf7e-40dd-a9fc-8e216812056c",
   "metadata": {
    "tags": []
   },
   "outputs": [],
   "source": [
    "MODEL_SAVE_DIR = f'{UPSTREAM_TRAINING_DIR}model'"
   ]
  },
  {
   "cell_type": "code",
   "execution_count": 5,
   "id": "5bcebf32-a492-4af9-8baf-c1a3b9049041",
   "metadata": {
    "tags": []
   },
   "outputs": [],
   "source": [
    "tf.keras.backend.clear_session()"
   ]
  },
  {
   "cell_type": "code",
   "execution_count": 6,
   "id": "7b95087f-4f4b-45e7-9b3e-670233145908",
   "metadata": {
    "tags": []
   },
   "outputs": [],
   "source": [
    "upstream_train_df = pd.read_csv(f'{DATA_FOLDER}{UPSTREAM_TRAIN_FILENAME}')\n",
    "upstream_val_df = pd.read_csv(f'{DATA_FOLDER}{UPSTREAM_VAL_FILENAME}')"
   ]
  },
  {
   "cell_type": "code",
   "execution_count": 7,
   "id": "7952ba14-9136-4591-882c-ae131d0107f6",
   "metadata": {
    "tags": []
   },
   "outputs": [],
   "source": [
    "upstream_train_df = embed_catgorical_features(upstream_train_df, CATEGORICAL_FEATURES)\n",
    "upstream_val_df = embed_catgorical_features(upstream_val_df, CATEGORICAL_FEATURES)"
   ]
  },
  {
   "cell_type": "code",
   "execution_count": 8,
   "id": "4c49473f-fedc-4a6c-8b51-9e7eaf480688",
   "metadata": {
    "tags": []
   },
   "outputs": [
    {
     "name": "stdout",
     "output_type": "stream",
     "text": [
      "LC_Type1        object\n",
      "LST_Day_1km    float64\n",
      "pr             float64\n",
      "aet            float64\n",
      "NDVI           float64\n",
      "EVI            float64\n",
      "Gpp            float64\n",
      "dtype: object\n"
     ]
    }
   ],
   "source": [
    "print(upstream_val_df.dtypes)"
   ]
  },
  {
   "cell_type": "code",
   "execution_count": 9,
   "id": "c33f1e87-46f4-4d72-b4ce-da94c791af7b",
   "metadata": {
    "tags": []
   },
   "outputs": [
    {
     "name": "stderr",
     "output_type": "stream",
     "text": [
      "/home/zheng.yant/ML-LUE/fttransformer/utils/preprocessing.py:21: FutureWarning: Support for multi-dimensional indexing (e.g. `obj[:, None]`) is deprecated and will be removed in a future version.  Convert to a numpy array before indexing instead.\n",
      "  dataset[key] = value[:, tf.newaxis]\n",
      "/home/zheng.yant/ML-LUE/fttransformer/utils/preprocessing.py:21: FutureWarning: Support for multi-dimensional indexing (e.g. `obj[:, None]`) is deprecated and will be removed in a future version.  Convert to a numpy array before indexing instead.\n",
      "  dataset[key] = value[:, tf.newaxis]\n"
     ]
    }
   ],
   "source": [
    "upstream_train_tf = df_to_dataset(upstream_train_df[FEATURES + [TARGET_FEATURE]], TARGET_FEATURE, shuffle=True, batch_size=256)\n",
    "upstream_val_tf = df_to_dataset(upstream_val_df[FEATURES + [TARGET_FEATURE]], TARGET_FEATURE, shuffle=False, batch_size=256)"
   ]
  },
  {
   "cell_type": "code",
   "execution_count": 10,
   "id": "fe7418e5-7711-4f61-a0e4-24aa24354a9f",
   "metadata": {
    "collapsed": true,
    "jupyter": {
     "outputs_hidden": true
    },
    "tags": []
   },
   "outputs": [
    {
     "name": "stdout",
     "output_type": "stream",
     "text": [
      "Epoch 1/200\n",
      "553/554 [============================>.] - ETA: 0s - loss: 111562504.0000 - importances_loss: 97135472.0000 - output_loss: 14427047.0000 - importances_root_mean_squared_error: 9855.7363 - output_root_mean_squared_error: 3798.2952"
     ]
    },
    {
     "name": "stderr",
     "output_type": "stream",
     "text": [
      "WARNING:absl:Function `_wrapped_model` contains input name(s) EVI, LC_Type1, LST_Day_1km, NDVI with unsupported characters which will be renamed to evi, lc_type1, lst_day_1km, ndvi in the SavedModel.\n",
      "WARNING:absl:Found untraced functions such as _update_step_xla, dense_layer_call_fn, dense_layer_call_and_return_conditional_losses, dense_1_layer_call_fn, dense_1_layer_call_and_return_conditional_losses while saving (showing 5 of 95). These functions will not be directly callable after loading.\n"
     ]
    },
    {
     "name": "stdout",
     "output_type": "stream",
     "text": [
      "554/554 [==============================] - 62s 96ms/step - loss: 111556504.0000 - importances_loss: 97134320.0000 - output_loss: 14422189.0000 - importances_root_mean_squared_error: 9855.6777 - output_root_mean_squared_error: 3797.6558 - val_loss: 99705200.0000 - val_importances_loss: 97465112.0000 - val_output_loss: 2240090.2500 - val_importances_root_mean_squared_error: 9872.4404 - val_output_root_mean_squared_error: 1496.6931\n",
      "Epoch 2/200\n",
      "553/554 [============================>.] - ETA: 0s - loss: 99473608.0000 - importances_loss: 97138032.0000 - output_loss: 2335602.7500 - importances_root_mean_squared_error: 9855.8643 - output_root_mean_squared_error: 1528.2679"
     ]
    },
    {
     "name": "stderr",
     "output_type": "stream",
     "text": [
      "WARNING:absl:Function `_wrapped_model` contains input name(s) EVI, LC_Type1, LST_Day_1km, NDVI with unsupported characters which will be renamed to evi, lc_type1, lst_day_1km, ndvi in the SavedModel.\n",
      "WARNING:absl:Found untraced functions such as _update_step_xla, dense_layer_call_fn, dense_layer_call_and_return_conditional_losses, dense_1_layer_call_fn, dense_1_layer_call_and_return_conditional_losses while saving (showing 5 of 95). These functions will not be directly callable after loading.\n"
     ]
    },
    {
     "name": "stdout",
     "output_type": "stream",
     "text": [
      "554/554 [==============================] - 53s 94ms/step - loss: 99469944.0000 - importances_loss: 97134312.0000 - output_loss: 2335648.5000 - importances_root_mean_squared_error: 9855.6758 - output_root_mean_squared_error: 1528.2828 - val_loss: 99558752.0000 - val_importances_loss: 97465112.0000 - val_output_loss: 2093634.6250 - val_importances_root_mean_squared_error: 9872.4414 - val_output_root_mean_squared_error: 1446.9397\n",
      "Epoch 3/200\n",
      "553/554 [============================>.] - ETA: 0s - loss: 99336416.0000 - importances_loss: 97138168.0000 - output_loss: 2198200.0000 - importances_root_mean_squared_error: 9855.8643 - output_root_mean_squared_error: 1482.6328"
     ]
    },
    {
     "name": "stderr",
     "output_type": "stream",
     "text": [
      "WARNING:absl:Function `_wrapped_model` contains input name(s) EVI, LC_Type1, LST_Day_1km, NDVI with unsupported characters which will be renamed to evi, lc_type1, lst_day_1km, ndvi in the SavedModel.\n",
      "WARNING:absl:Found untraced functions such as _update_step_xla, dense_layer_call_fn, dense_layer_call_and_return_conditional_losses, dense_1_layer_call_fn, dense_1_layer_call_and_return_conditional_losses while saving (showing 5 of 95). These functions will not be directly callable after loading.\n"
     ]
    },
    {
     "name": "stdout",
     "output_type": "stream",
     "text": [
      "554/554 [==============================] - 52s 93ms/step - loss: 99332320.0000 - importances_loss: 97134328.0000 - output_loss: 2197939.5000 - importances_root_mean_squared_error: 9855.6699 - output_root_mean_squared_error: 1482.5449 - val_loss: 99546840.0000 - val_importances_loss: 97465112.0000 - val_output_loss: 2081729.2500 - val_importances_root_mean_squared_error: 9872.4424 - val_output_root_mean_squared_error: 1442.8199\n",
      "Epoch 4/200\n",
      "554/554 [==============================] - 43s 77ms/step - loss: 99268552.0000 - importances_loss: 97134304.0000 - output_loss: 2134222.5000 - importances_root_mean_squared_error: 9855.6758 - output_root_mean_squared_error: 1460.8978 - val_loss: 99571240.0000 - val_importances_loss: 97465112.0000 - val_output_loss: 2106154.5000 - val_importances_root_mean_squared_error: 9872.4404 - val_output_root_mean_squared_error: 1451.2596\n",
      "Epoch 5/200\n",
      "553/554 [============================>.] - ETA: 0s - loss: 99242712.0000 - importances_loss: 97134496.0000 - output_loss: 2108157.2500 - importances_root_mean_squared_error: 9855.6836 - output_root_mean_squared_error: 1451.9495"
     ]
    },
    {
     "name": "stderr",
     "output_type": "stream",
     "text": [
      "WARNING:absl:Function `_wrapped_model` contains input name(s) EVI, LC_Type1, LST_Day_1km, NDVI with unsupported characters which will be renamed to evi, lc_type1, lst_day_1km, ndvi in the SavedModel.\n",
      "WARNING:absl:Found untraced functions such as _update_step_xla, dense_layer_call_fn, dense_layer_call_and_return_conditional_losses, dense_1_layer_call_fn, dense_1_layer_call_and_return_conditional_losses while saving (showing 5 of 95). These functions will not be directly callable after loading.\n"
     ]
    },
    {
     "name": "stdout",
     "output_type": "stream",
     "text": [
      "554/554 [==============================] - 53s 95ms/step - loss: 99242224.0000 - importances_loss: 97134296.0000 - output_loss: 2107877.2500 - importances_root_mean_squared_error: 9855.6729 - output_root_mean_squared_error: 1451.8530 - val_loss: 99498120.0000 - val_importances_loss: 97465112.0000 - val_output_loss: 2032978.1250 - val_importances_root_mean_squared_error: 9872.4414 - val_output_root_mean_squared_error: 1425.8254\n",
      "Epoch 6/200\n",
      "553/554 [============================>.] - ETA: 0s - loss: 99220808.0000 - importances_loss: 97133416.0000 - output_loss: 2087420.7500 - importances_root_mean_squared_error: 9855.6279 - output_root_mean_squared_error: 1444.7909"
     ]
    },
    {
     "name": "stderr",
     "output_type": "stream",
     "text": [
      "WARNING:absl:Function `_wrapped_model` contains input name(s) EVI, LC_Type1, LST_Day_1km, NDVI with unsupported characters which will be renamed to evi, lc_type1, lst_day_1km, ndvi in the SavedModel.\n",
      "WARNING:absl:Found untraced functions such as _update_step_xla, dense_layer_call_fn, dense_layer_call_and_return_conditional_losses, dense_1_layer_call_fn, dense_1_layer_call_and_return_conditional_losses while saving (showing 5 of 95). These functions will not be directly callable after loading.\n"
     ]
    },
    {
     "name": "stdout",
     "output_type": "stream",
     "text": [
      "554/554 [==============================] - 53s 95ms/step - loss: 99221856.0000 - importances_loss: 97134336.0000 - output_loss: 2087549.0000 - importances_root_mean_squared_error: 9855.6748 - output_root_mean_squared_error: 1444.8353 - val_loss: 99414480.0000 - val_importances_loss: 97465112.0000 - val_output_loss: 1949393.1250 - val_importances_root_mean_squared_error: 9872.4414 - val_output_root_mean_squared_error: 1396.2067\n",
      "Epoch 7/200\n",
      "554/554 [==============================] - 57s 102ms/step - loss: 99202528.0000 - importances_loss: 97134352.0000 - output_loss: 2068210.0000 - importances_root_mean_squared_error: 9855.6768 - output_root_mean_squared_error: 1438.1272 - val_loss: 99454072.0000 - val_importances_loss: 97465112.0000 - val_output_loss: 1988999.5000 - val_importances_root_mean_squared_error: 9872.4414 - val_output_root_mean_squared_error: 1410.3190\n",
      "Epoch 8/200\n",
      "554/554 [==============================] - 62s 110ms/step - loss: 99198832.0000 - importances_loss: 97134304.0000 - output_loss: 2064545.7500 - importances_root_mean_squared_error: 9855.6768 - output_root_mean_squared_error: 1436.8528 - val_loss: 99472664.0000 - val_importances_loss: 97465112.0000 - val_output_loss: 2007564.2500 - val_importances_root_mean_squared_error: 9872.4414 - val_output_root_mean_squared_error: 1416.8854\n",
      "Epoch 9/200\n",
      "554/554 [==============================] - 44s 78ms/step - loss: 99184904.0000 - importances_loss: 97134304.0000 - output_loss: 2050540.3750 - importances_root_mean_squared_error: 9855.6729 - output_root_mean_squared_error: 1431.9708 - val_loss: 99427208.0000 - val_importances_loss: 97465112.0000 - val_output_loss: 1962090.7500 - val_importances_root_mean_squared_error: 9872.4414 - val_output_root_mean_squared_error: 1400.7465\n",
      "Epoch 10/200\n",
      "554/554 [==============================] - 44s 78ms/step - loss: 99165512.0000 - importances_loss: 97134320.0000 - output_loss: 2031162.7500 - importances_root_mean_squared_error: 9855.6758 - output_root_mean_squared_error: 1425.1887 - val_loss: 99550352.0000 - val_importances_loss: 97465112.0000 - val_output_loss: 2085235.3750 - val_importances_root_mean_squared_error: 9872.4414 - val_output_root_mean_squared_error: 1444.0344\n",
      "Epoch 11/200\n",
      "554/554 [==============================] - 44s 79ms/step - loss: 99155888.0000 - importances_loss: 97134352.0000 - output_loss: 2021510.5000 - importances_root_mean_squared_error: 9855.6748 - output_root_mean_squared_error: 1421.7983 - val_loss: 99470432.0000 - val_importances_loss: 97465112.0000 - val_output_loss: 2005333.0000 - val_importances_root_mean_squared_error: 9872.4414 - val_output_root_mean_squared_error: 1416.0978\n",
      "Epoch 12/200\n",
      "554/554 [==============================] - 43s 76ms/step - loss: 99151800.0000 - importances_loss: 97134336.0000 - output_loss: 2017481.2500 - importances_root_mean_squared_error: 9855.6748 - output_root_mean_squared_error: 1420.3806 - val_loss: 99493416.0000 - val_importances_loss: 97465112.0000 - val_output_loss: 2028307.5000 - val_importances_root_mean_squared_error: 9872.4404 - val_output_root_mean_squared_error: 1424.1866\n",
      "Epoch 13/200\n",
      "554/554 [==============================] - 43s 77ms/step - loss: 99150456.0000 - importances_loss: 97134304.0000 - output_loss: 2016135.3750 - importances_root_mean_squared_error: 9855.6768 - output_root_mean_squared_error: 1419.9069 - val_loss: 99425632.0000 - val_importances_loss: 97465112.0000 - val_output_loss: 1960534.3750 - val_importances_root_mean_squared_error: 9872.4414 - val_output_root_mean_squared_error: 1400.1908\n",
      "Epoch 14/200\n",
      "554/554 [==============================] - 44s 78ms/step - loss: 99133152.0000 - importances_loss: 97134304.0000 - output_loss: 1998845.0000 - importances_root_mean_squared_error: 9855.6719 - output_root_mean_squared_error: 1413.8052 - val_loss: 99437584.0000 - val_importances_loss: 97465112.0000 - val_output_loss: 1972474.5000 - val_importances_root_mean_squared_error: 9872.4404 - val_output_root_mean_squared_error: 1404.4481\n",
      "Epoch 15/200\n",
      "553/554 [============================>.] - ETA: 0s - loss: 99111624.0000 - importances_loss: 97128424.0000 - output_loss: 1983197.7500 - importances_root_mean_squared_error: 9855.3740 - output_root_mean_squared_error: 1408.2605"
     ]
    },
    {
     "name": "stderr",
     "output_type": "stream",
     "text": [
      "WARNING:absl:Function `_wrapped_model` contains input name(s) EVI, LC_Type1, LST_Day_1km, NDVI with unsupported characters which will be renamed to evi, lc_type1, lst_day_1km, ndvi in the SavedModel.\n",
      "WARNING:absl:Found untraced functions such as _update_step_xla, dense_layer_call_fn, dense_layer_call_and_return_conditional_losses, dense_1_layer_call_fn, dense_1_layer_call_and_return_conditional_losses while saving (showing 5 of 95). These functions will not be directly callable after loading.\n"
     ]
    },
    {
     "name": "stdout",
     "output_type": "stream",
     "text": [
      "554/554 [==============================] - 53s 94ms/step - loss: 99117616.0000 - importances_loss: 97134368.0000 - output_loss: 1983256.1250 - importances_root_mean_squared_error: 9855.6748 - output_root_mean_squared_error: 1408.2812 - val_loss: 99382584.0000 - val_importances_loss: 97465112.0000 - val_output_loss: 1917473.6250 - val_importances_root_mean_squared_error: 9872.4414 - val_output_root_mean_squared_error: 1384.7288\n",
      "Epoch 16/200\n",
      "553/554 [============================>.] - ETA: 0s - loss: 99103520.0000 - importances_loss: 97131832.0000 - output_loss: 1971757.8750 - importances_root_mean_squared_error: 9855.5479 - output_root_mean_squared_error: 1404.1930"
     ]
    },
    {
     "name": "stderr",
     "output_type": "stream",
     "text": [
      "WARNING:absl:Function `_wrapped_model` contains input name(s) EVI, LC_Type1, LST_Day_1km, NDVI with unsupported characters which will be renamed to evi, lc_type1, lst_day_1km, ndvi in the SavedModel.\n",
      "WARNING:absl:Found untraced functions such as _update_step_xla, dense_layer_call_fn, dense_layer_call_and_return_conditional_losses, dense_1_layer_call_fn, dense_1_layer_call_and_return_conditional_losses while saving (showing 5 of 95). These functions will not be directly callable after loading.\n"
     ]
    },
    {
     "name": "stdout",
     "output_type": "stream",
     "text": [
      "554/554 [==============================] - 53s 95ms/step - loss: 99106456.0000 - importances_loss: 97134368.0000 - output_loss: 1972159.3750 - importances_root_mean_squared_error: 9855.6758 - output_root_mean_squared_error: 1404.3359 - val_loss: 99374200.0000 - val_importances_loss: 97465112.0000 - val_output_loss: 1909081.2500 - val_importances_root_mean_squared_error: 9872.4414 - val_output_root_mean_squared_error: 1381.6951\n",
      "Epoch 17/200\n",
      "554/554 [==============================] - 44s 78ms/step - loss: 99103688.0000 - importances_loss: 97134352.0000 - output_loss: 1969412.0000 - importances_root_mean_squared_error: 9855.6738 - output_root_mean_squared_error: 1403.3574 - val_loss: 99410176.0000 - val_importances_loss: 97465112.0000 - val_output_loss: 1945098.0000 - val_importances_root_mean_squared_error: 9872.4414 - val_output_root_mean_squared_error: 1394.6677\n",
      "Epoch 18/200\n",
      "554/554 [==============================] - 55s 99ms/step - loss: 99091648.0000 - importances_loss: 97134400.0000 - output_loss: 1957295.8750 - importances_root_mean_squared_error: 9855.6758 - output_root_mean_squared_error: 1399.0339 - val_loss: 99463808.0000 - val_importances_loss: 97465112.0000 - val_output_loss: 1998697.5000 - val_importances_root_mean_squared_error: 9872.4404 - val_output_root_mean_squared_error: 1413.7529\n",
      "Epoch 19/200\n",
      "554/554 [==============================] - 84s 150ms/step - loss: 99075712.0000 - importances_loss: 97134288.0000 - output_loss: 1941337.2500 - importances_root_mean_squared_error: 9855.6768 - output_root_mean_squared_error: 1393.3188 - val_loss: 99482272.0000 - val_importances_loss: 97465112.0000 - val_output_loss: 2017157.1250 - val_importances_root_mean_squared_error: 9872.4414 - val_output_root_mean_squared_error: 1420.2666\n",
      "Epoch 20/200\n",
      "554/554 [==============================] - 88s 156ms/step - loss: 99083616.0000 - importances_loss: 97134320.0000 - output_loss: 1949326.8750 - importances_root_mean_squared_error: 9855.6729 - output_root_mean_squared_error: 1396.1830 - val_loss: 99391624.0000 - val_importances_loss: 97465112.0000 - val_output_loss: 1926525.6250 - val_importances_root_mean_squared_error: 9872.4404 - val_output_root_mean_squared_error: 1387.9934\n",
      "Epoch 21/200\n",
      "554/554 [==============================] - 77s 136ms/step - loss: 99076440.0000 - importances_loss: 97134368.0000 - output_loss: 1942061.0000 - importances_root_mean_squared_error: 9855.6738 - output_root_mean_squared_error: 1393.5785 - val_loss: 99407328.0000 - val_importances_loss: 97465112.0000 - val_output_loss: 1942200.5000 - val_importances_root_mean_squared_error: 9872.4414 - val_output_root_mean_squared_error: 1393.6285\n",
      "Epoch 22/200\n",
      "554/554 [==============================] - 87s 155ms/step - loss: 99077800.0000 - importances_loss: 97134360.0000 - output_loss: 1943470.7500 - importances_root_mean_squared_error: 9855.6748 - output_root_mean_squared_error: 1394.0842 - val_loss: 99409360.0000 - val_importances_loss: 97465112.0000 - val_output_loss: 1944242.2500 - val_importances_root_mean_squared_error: 9872.4414 - val_output_root_mean_squared_error: 1394.3608\n",
      "Epoch 23/200\n",
      "554/554 [==============================] - ETA: 0s - loss: 99066976.0000 - importances_loss: 97134312.0000 - output_loss: 1932657.2500 - importances_root_mean_squared_error: 9855.6758 - output_root_mean_squared_error: 1390.2004"
     ]
    },
    {
     "name": "stderr",
     "output_type": "stream",
     "text": [
      "WARNING:absl:Function `_wrapped_model` contains input name(s) EVI, LC_Type1, LST_Day_1km, NDVI with unsupported characters which will be renamed to evi, lc_type1, lst_day_1km, ndvi in the SavedModel.\n",
      "WARNING:absl:Found untraced functions such as _update_step_xla, dense_layer_call_fn, dense_layer_call_and_return_conditional_losses, dense_1_layer_call_fn, dense_1_layer_call_and_return_conditional_losses while saving (showing 5 of 95). These functions will not be directly callable after loading.\n"
     ]
    },
    {
     "name": "stdout",
     "output_type": "stream",
     "text": [
      "554/554 [==============================] - 113s 202ms/step - loss: 99066976.0000 - importances_loss: 97134312.0000 - output_loss: 1932657.2500 - importances_root_mean_squared_error: 9855.6758 - output_root_mean_squared_error: 1390.2004 - val_loss: 99372072.0000 - val_importances_loss: 97465112.0000 - val_output_loss: 1907003.8750 - val_importances_root_mean_squared_error: 9872.4414 - val_output_root_mean_squared_error: 1380.9431\n",
      "Epoch 24/200\n",
      "554/554 [==============================] - 104s 184ms/step - loss: 99067472.0000 - importances_loss: 97134272.0000 - output_loss: 1933159.2500 - importances_root_mean_squared_error: 9855.6738 - output_root_mean_squared_error: 1390.3810 - val_loss: 99464296.0000 - val_importances_loss: 97465112.0000 - val_output_loss: 1999174.1250 - val_importances_root_mean_squared_error: 9872.4414 - val_output_root_mean_squared_error: 1413.9215\n",
      "Epoch 25/200\n",
      "554/554 [==============================] - 100s 177ms/step - loss: 99066016.0000 - importances_loss: 97134312.0000 - output_loss: 1931721.0000 - importances_root_mean_squared_error: 9855.6738 - output_root_mean_squared_error: 1389.8636 - val_loss: 99416104.0000 - val_importances_loss: 97465112.0000 - val_output_loss: 1951000.1250 - val_importances_root_mean_squared_error: 9872.4414 - val_output_root_mean_squared_error: 1396.7821\n",
      "Epoch 26/200\n",
      "554/554 [==============================] - 130s 234ms/step - loss: 99056288.0000 - importances_loss: 97134304.0000 - output_loss: 1921948.7500 - importances_root_mean_squared_error: 9855.6729 - output_root_mean_squared_error: 1386.3436 - val_loss: 99493968.0000 - val_importances_loss: 97465112.0000 - val_output_loss: 2028886.1250 - val_importances_root_mean_squared_error: 9872.4414 - val_output_root_mean_squared_error: 1424.3898\n",
      "Epoch 27/200\n",
      "554/554 [==============================] - 134s 240ms/step - loss: 99046392.0000 - importances_loss: 97134352.0000 - output_loss: 1912114.7500 - importances_root_mean_squared_error: 9855.6738 - output_root_mean_squared_error: 1382.7924 - val_loss: 99410512.0000 - val_importances_loss: 97465112.0000 - val_output_loss: 1945422.5000 - val_importances_root_mean_squared_error: 9872.4424 - val_output_root_mean_squared_error: 1394.7841\n",
      "Epoch 28/200\n",
      "554/554 [==============================] - ETA: 0s - loss: 99046368.0000 - importances_loss: 97134312.0000 - output_loss: 1912020.3750 - importances_root_mean_squared_error: 9855.6768 - output_root_mean_squared_error: 1382.7583"
     ]
    },
    {
     "name": "stderr",
     "output_type": "stream",
     "text": [
      "WARNING:absl:Function `_wrapped_model` contains input name(s) EVI, LC_Type1, LST_Day_1km, NDVI with unsupported characters which will be renamed to evi, lc_type1, lst_day_1km, ndvi in the SavedModel.\n",
      "WARNING:absl:Found untraced functions such as _update_step_xla, dense_layer_call_fn, dense_layer_call_and_return_conditional_losses, dense_1_layer_call_fn, dense_1_layer_call_and_return_conditional_losses while saving (showing 5 of 95). These functions will not be directly callable after loading.\n"
     ]
    },
    {
     "name": "stdout",
     "output_type": "stream",
     "text": [
      "554/554 [==============================] - 143s 257ms/step - loss: 99046368.0000 - importances_loss: 97134312.0000 - output_loss: 1912020.3750 - importances_root_mean_squared_error: 9855.6768 - output_root_mean_squared_error: 1382.7583 - val_loss: 99368088.0000 - val_importances_loss: 97465112.0000 - val_output_loss: 1902988.8750 - val_importances_root_mean_squared_error: 9872.4424 - val_output_root_mean_squared_error: 1379.4886\n",
      "Epoch 29/200\n",
      "554/554 [==============================] - 102s 182ms/step - loss: 99051600.0000 - importances_loss: 97134392.0000 - output_loss: 1917200.7500 - importances_root_mean_squared_error: 9855.6748 - output_root_mean_squared_error: 1384.6301 - val_loss: 99483296.0000 - val_importances_loss: 97465112.0000 - val_output_loss: 2018183.5000 - val_importances_root_mean_squared_error: 9872.4414 - val_output_root_mean_squared_error: 1420.6278\n",
      "Epoch 30/200\n",
      "554/554 [==============================] - 76s 134ms/step - loss: 99050016.0000 - importances_loss: 97134288.0000 - output_loss: 1915726.7500 - importances_root_mean_squared_error: 9855.6738 - output_root_mean_squared_error: 1384.0978 - val_loss: 99408104.0000 - val_importances_loss: 97465112.0000 - val_output_loss: 1943007.2500 - val_importances_root_mean_squared_error: 9872.4404 - val_output_root_mean_squared_error: 1393.9180\n",
      "Epoch 31/200\n",
      "554/554 [==============================] - 79s 139ms/step - loss: 99033344.0000 - importances_loss: 97134400.0000 - output_loss: 1898986.1250 - importances_root_mean_squared_error: 9855.6738 - output_root_mean_squared_error: 1378.0371 - val_loss: 99378168.0000 - val_importances_loss: 97465112.0000 - val_output_loss: 1913050.5000 - val_importances_root_mean_squared_error: 9872.4414 - val_output_root_mean_squared_error: 1383.1307\n",
      "Epoch 32/200\n",
      "554/554 [==============================] - 81s 144ms/step - loss: 99037464.0000 - importances_loss: 97134304.0000 - output_loss: 1903095.6250 - importances_root_mean_squared_error: 9855.6777 - output_root_mean_squared_error: 1379.5273 - val_loss: 99383112.0000 - val_importances_loss: 97465112.0000 - val_output_loss: 1918022.3750 - val_importances_root_mean_squared_error: 9872.4414 - val_output_root_mean_squared_error: 1384.9269\n",
      "Epoch 33/200\n",
      "554/554 [==============================] - 85s 151ms/step - loss: 99027720.0000 - importances_loss: 97134360.0000 - output_loss: 1893383.6250 - importances_root_mean_squared_error: 9855.6777 - output_root_mean_squared_error: 1376.0028 - val_loss: 99537112.0000 - val_importances_loss: 97465112.0000 - val_output_loss: 2072029.1250 - val_importances_root_mean_squared_error: 9872.4404 - val_output_root_mean_squared_error: 1439.4545\n",
      "Epoch 34/200\n",
      "554/554 [==============================] - 79s 139ms/step - loss: 99032368.0000 - importances_loss: 97134304.0000 - output_loss: 1898001.0000 - importances_root_mean_squared_error: 9855.6748 - output_root_mean_squared_error: 1377.6796 - val_loss: 99472064.0000 - val_importances_loss: 97465112.0000 - val_output_loss: 2006960.1250 - val_importances_root_mean_squared_error: 9872.4424 - val_output_root_mean_squared_error: 1416.6722\n",
      "Epoch 35/200\n",
      "554/554 [==============================] - 54s 97ms/step - loss: 99022832.0000 - importances_loss: 97134304.0000 - output_loss: 1888519.7500 - importances_root_mean_squared_error: 9855.6748 - output_root_mean_squared_error: 1374.2343 - val_loss: 99388392.0000 - val_importances_loss: 97465112.0000 - val_output_loss: 1923311.1250 - val_importances_root_mean_squared_error: 9872.4414 - val_output_root_mean_squared_error: 1386.8350\n",
      "Epoch 36/200\n",
      "554/554 [==============================] - 144s 257ms/step - loss: 99026928.0000 - importances_loss: 97134328.0000 - output_loss: 1892599.5000 - importances_root_mean_squared_error: 9855.6738 - output_root_mean_squared_error: 1375.7178 - val_loss: 99490440.0000 - val_importances_loss: 97465112.0000 - val_output_loss: 2025324.6250 - val_importances_root_mean_squared_error: 9872.4404 - val_output_root_mean_squared_error: 1423.1390\n",
      "Epoch 37/200\n",
      "554/554 [==============================] - 144s 258ms/step - loss: 99025736.0000 - importances_loss: 97134320.0000 - output_loss: 1891307.7500 - importances_root_mean_squared_error: 9855.6758 - output_root_mean_squared_error: 1375.2483 - val_loss: 99452888.0000 - val_importances_loss: 97465112.0000 - val_output_loss: 1987820.6250 - val_importances_root_mean_squared_error: 9872.4404 - val_output_root_mean_squared_error: 1409.9009\n",
      "Epoch 38/200\n",
      "554/554 [==============================] - 144s 257ms/step - loss: 99021240.0000 - importances_loss: 97134312.0000 - output_loss: 1886886.7500 - importances_root_mean_squared_error: 9855.6738 - output_root_mean_squared_error: 1373.6400 - val_loss: 99443744.0000 - val_importances_loss: 97465112.0000 - val_output_loss: 1978655.6250 - val_importances_root_mean_squared_error: 9872.4414 - val_output_root_mean_squared_error: 1406.6470\n",
      "Epoch 39/200\n",
      "554/554 [==============================] - 112s 199ms/step - loss: 99013408.0000 - importances_loss: 97134336.0000 - output_loss: 1879112.1250 - importances_root_mean_squared_error: 9855.6748 - output_root_mean_squared_error: 1370.8071 - val_loss: 99418176.0000 - val_importances_loss: 97465112.0000 - val_output_loss: 1953088.2500 - val_importances_root_mean_squared_error: 9872.4414 - val_output_root_mean_squared_error: 1397.5293\n",
      "Epoch 40/200\n",
      "554/554 [==============================] - ETA: 0s - loss: 99012880.0000 - importances_loss: 97134392.0000 - output_loss: 1878578.3750 - importances_root_mean_squared_error: 9855.6719 - output_root_mean_squared_error: 1370.6124"
     ]
    },
    {
     "name": "stderr",
     "output_type": "stream",
     "text": [
      "WARNING:absl:Function `_wrapped_model` contains input name(s) EVI, LC_Type1, LST_Day_1km, NDVI with unsupported characters which will be renamed to evi, lc_type1, lst_day_1km, ndvi in the SavedModel.\n",
      "WARNING:absl:Found untraced functions such as _update_step_xla, dense_layer_call_fn, dense_layer_call_and_return_conditional_losses, dense_1_layer_call_fn, dense_1_layer_call_and_return_conditional_losses while saving (showing 5 of 95). These functions will not be directly callable after loading.\n"
     ]
    },
    {
     "name": "stdout",
     "output_type": "stream",
     "text": [
      "554/554 [==============================] - 118s 210ms/step - loss: 99012880.0000 - importances_loss: 97134392.0000 - output_loss: 1878578.3750 - importances_root_mean_squared_error: 9855.6719 - output_root_mean_squared_error: 1370.6124 - val_loss: 99354640.0000 - val_importances_loss: 97465112.0000 - val_output_loss: 1889526.2500 - val_importances_root_mean_squared_error: 9872.4414 - val_output_root_mean_squared_error: 1374.6003\n",
      "Epoch 41/200\n",
      "554/554 [==============================] - 106s 189ms/step - loss: 99003576.0000 - importances_loss: 97134336.0000 - output_loss: 1869234.1250 - importances_root_mean_squared_error: 9855.6729 - output_root_mean_squared_error: 1367.1993 - val_loss: 99544776.0000 - val_importances_loss: 97465112.0000 - val_output_loss: 2079667.2500 - val_importances_root_mean_squared_error: 9872.4424 - val_output_root_mean_squared_error: 1442.1051\n",
      "Epoch 42/200\n",
      "554/554 [==============================] - 79s 140ms/step - loss: 99017440.0000 - importances_loss: 97134304.0000 - output_loss: 1883107.6250 - importances_root_mean_squared_error: 9855.6777 - output_root_mean_squared_error: 1372.2637 - val_loss: 99395808.0000 - val_importances_loss: 97465112.0000 - val_output_loss: 1930699.5000 - val_importances_root_mean_squared_error: 9872.4404 - val_output_root_mean_squared_error: 1389.4961\n",
      "Epoch 43/200\n",
      "554/554 [==============================] - 80s 143ms/step - loss: 99010416.0000 - importances_loss: 97134320.0000 - output_loss: 1876082.2500 - importances_root_mean_squared_error: 9855.6758 - output_root_mean_squared_error: 1369.7015 - val_loss: 99429512.0000 - val_importances_loss: 97465112.0000 - val_output_loss: 1964397.1250 - val_importances_root_mean_squared_error: 9872.4404 - val_output_root_mean_squared_error: 1401.5696\n",
      "Epoch 44/200\n",
      "554/554 [==============================] - 92s 164ms/step - loss: 99015208.0000 - importances_loss: 97134352.0000 - output_loss: 1880854.7500 - importances_root_mean_squared_error: 9855.6797 - output_root_mean_squared_error: 1371.4426 - val_loss: 99417904.0000 - val_importances_loss: 97465112.0000 - val_output_loss: 1952799.7500 - val_importances_root_mean_squared_error: 9872.4414 - val_output_root_mean_squared_error: 1397.4261\n",
      "Epoch 45/200\n",
      "554/554 [==============================] - 114s 203ms/step - loss: 99003600.0000 - importances_loss: 97134312.0000 - output_loss: 1869241.5000 - importances_root_mean_squared_error: 9855.6729 - output_root_mean_squared_error: 1367.2020 - val_loss: 99376264.0000 - val_importances_loss: 97465112.0000 - val_output_loss: 1911151.8750 - val_importances_root_mean_squared_error: 9872.4414 - val_output_root_mean_squared_error: 1382.4442\n",
      "Epoch 46/200\n",
      "554/554 [==============================] - 112s 200ms/step - loss: 99001984.0000 - importances_loss: 97134296.0000 - output_loss: 1867647.3750 - importances_root_mean_squared_error: 9855.6768 - output_root_mean_squared_error: 1366.6189 - val_loss: 99414392.0000 - val_importances_loss: 97465112.0000 - val_output_loss: 1949282.2500 - val_importances_root_mean_squared_error: 9872.4424 - val_output_root_mean_squared_error: 1396.1670\n",
      "Epoch 47/200\n",
      "554/554 [==============================] - 84s 150ms/step - loss: 99003856.0000 - importances_loss: 97134352.0000 - output_loss: 1869554.3750 - importances_root_mean_squared_error: 9855.6729 - output_root_mean_squared_error: 1367.3165 - val_loss: 99429984.0000 - val_importances_loss: 97465112.0000 - val_output_loss: 1964853.5000 - val_importances_root_mean_squared_error: 9872.4414 - val_output_root_mean_squared_error: 1401.7323\n",
      "Epoch 48/200\n",
      "554/554 [==============================] - 116s 206ms/step - loss: 99004448.0000 - importances_loss: 97134320.0000 - output_loss: 1870098.6250 - importances_root_mean_squared_error: 9855.6748 - output_root_mean_squared_error: 1367.5155 - val_loss: 99392072.0000 - val_importances_loss: 97465112.0000 - val_output_loss: 1926989.8750 - val_importances_root_mean_squared_error: 9872.4424 - val_output_root_mean_squared_error: 1388.1606\n",
      "Epoch 49/200\n",
      "554/554 [==============================] - ETA: 0s - loss: 98988136.0000 - importances_loss: 97134352.0000 - output_loss: 1853766.1250 - importances_root_mean_squared_error: 9855.6768 - output_root_mean_squared_error: 1361.5308"
     ]
    },
    {
     "name": "stderr",
     "output_type": "stream",
     "text": [
      "WARNING:absl:Function `_wrapped_model` contains input name(s) EVI, LC_Type1, LST_Day_1km, NDVI with unsupported characters which will be renamed to evi, lc_type1, lst_day_1km, ndvi in the SavedModel.\n",
      "WARNING:absl:Found untraced functions such as _update_step_xla, dense_layer_call_fn, dense_layer_call_and_return_conditional_losses, dense_1_layer_call_fn, dense_1_layer_call_and_return_conditional_losses while saving (showing 5 of 95). These functions will not be directly callable after loading.\n"
     ]
    },
    {
     "name": "stdout",
     "output_type": "stream",
     "text": [
      "554/554 [==============================] - 157s 280ms/step - loss: 98988136.0000 - importances_loss: 97134352.0000 - output_loss: 1853766.1250 - importances_root_mean_squared_error: 9855.6768 - output_root_mean_squared_error: 1361.5308 - val_loss: 99344080.0000 - val_importances_loss: 97465112.0000 - val_output_loss: 1878980.8750 - val_importances_root_mean_squared_error: 9872.4414 - val_output_root_mean_squared_error: 1370.7593\n",
      "Epoch 50/200\n",
      "554/554 [==============================] - 115s 205ms/step - loss: 99003528.0000 - importances_loss: 97134280.0000 - output_loss: 1869199.8750 - importances_root_mean_squared_error: 9855.6758 - output_root_mean_squared_error: 1367.1869 - val_loss: 99402496.0000 - val_importances_loss: 97465112.0000 - val_output_loss: 1937394.2500 - val_importances_root_mean_squared_error: 9872.4424 - val_output_root_mean_squared_error: 1391.9031\n",
      "Epoch 51/200\n",
      "553/554 [============================>.] - ETA: 0s - loss: 98999088.0000 - importances_loss: 97135896.0000 - output_loss: 1863181.0000 - importances_root_mean_squared_error: 9855.7510 - output_root_mean_squared_error: 1364.9839"
     ]
    },
    {
     "name": "stderr",
     "output_type": "stream",
     "text": [
      "WARNING:absl:Function `_wrapped_model` contains input name(s) EVI, LC_Type1, LST_Day_1km, NDVI with unsupported characters which will be renamed to evi, lc_type1, lst_day_1km, ndvi in the SavedModel.\n",
      "WARNING:absl:Found untraced functions such as _update_step_xla, dense_layer_call_fn, dense_layer_call_and_return_conditional_losses, dense_1_layer_call_fn, dense_1_layer_call_and_return_conditional_losses while saving (showing 5 of 95). These functions will not be directly callable after loading.\n"
     ]
    },
    {
     "name": "stdout",
     "output_type": "stream",
     "text": [
      "554/554 [==============================] - 105s 186ms/step - loss: 98997336.0000 - importances_loss: 97134352.0000 - output_loss: 1862976.0000 - importances_root_mean_squared_error: 9855.6729 - output_root_mean_squared_error: 1364.9088 - val_loss: 99323040.0000 - val_importances_loss: 97465112.0000 - val_output_loss: 1857932.0000 - val_importances_root_mean_squared_error: 9872.4414 - val_output_root_mean_squared_error: 1363.0598\n",
      "Epoch 52/200\n",
      "554/554 [==============================] - 58s 104ms/step - loss: 98987888.0000 - importances_loss: 97134336.0000 - output_loss: 1853538.6250 - importances_root_mean_squared_error: 9855.6709 - output_root_mean_squared_error: 1361.4473 - val_loss: 99363152.0000 - val_importances_loss: 97465112.0000 - val_output_loss: 1898057.0000 - val_importances_root_mean_squared_error: 9872.4404 - val_output_root_mean_squared_error: 1377.7000\n",
      "Epoch 53/200\n",
      "554/554 [==============================] - 109s 193ms/step - loss: 98988544.0000 - importances_loss: 97134352.0000 - output_loss: 1854213.1250 - importances_root_mean_squared_error: 9855.6768 - output_root_mean_squared_error: 1361.6949 - val_loss: 99371384.0000 - val_importances_loss: 97465112.0000 - val_output_loss: 1906300.8750 - val_importances_root_mean_squared_error: 9872.4404 - val_output_root_mean_squared_error: 1380.6886\n",
      "Epoch 54/200\n",
      "554/554 [==============================] - 127s 226ms/step - loss: 98990264.0000 - importances_loss: 97134336.0000 - output_loss: 1855908.8750 - importances_root_mean_squared_error: 9855.6748 - output_root_mean_squared_error: 1362.3175 - val_loss: 99381616.0000 - val_importances_loss: 97465112.0000 - val_output_loss: 1916529.6250 - val_importances_root_mean_squared_error: 9872.4424 - val_output_root_mean_squared_error: 1384.3878\n",
      "Epoch 55/200\n",
      "554/554 [==============================] - 122s 218ms/step - loss: 98990816.0000 - importances_loss: 97134320.0000 - output_loss: 1856579.0000 - importances_root_mean_squared_error: 9855.6768 - output_root_mean_squared_error: 1362.5634 - val_loss: 99389496.0000 - val_importances_loss: 97465112.0000 - val_output_loss: 1924388.1250 - val_importances_root_mean_squared_error: 9872.4414 - val_output_root_mean_squared_error: 1387.2231\n",
      "Epoch 56/200\n",
      "554/554 [==============================] - 122s 217ms/step - loss: 98985032.0000 - importances_loss: 97134320.0000 - output_loss: 1850715.8750 - importances_root_mean_squared_error: 9855.6729 - output_root_mean_squared_error: 1360.4102 - val_loss: 99443624.0000 - val_importances_loss: 97465112.0000 - val_output_loss: 1978512.6250 - val_importances_root_mean_squared_error: 9872.4414 - val_output_root_mean_squared_error: 1406.5961\n",
      "Epoch 57/200\n",
      "554/554 [==============================] - 122s 217ms/step - loss: 98989184.0000 - importances_loss: 97134320.0000 - output_loss: 1854906.2500 - importances_root_mean_squared_error: 9855.6758 - output_root_mean_squared_error: 1361.9495 - val_loss: 99385552.0000 - val_importances_loss: 97465112.0000 - val_output_loss: 1920438.8750 - val_importances_root_mean_squared_error: 9872.4424 - val_output_root_mean_squared_error: 1385.7990\n",
      "Epoch 58/200\n",
      "554/554 [==============================] - 121s 216ms/step - loss: 98981344.0000 - importances_loss: 97134312.0000 - output_loss: 1847057.5000 - importances_root_mean_squared_error: 9855.6738 - output_root_mean_squared_error: 1359.0649 - val_loss: 99387008.0000 - val_importances_loss: 97465112.0000 - val_output_loss: 1921895.7500 - val_importances_root_mean_squared_error: 9872.4414 - val_output_root_mean_squared_error: 1386.3246\n",
      "Epoch 59/200\n",
      "554/554 [==============================] - 83s 147ms/step - loss: 98985152.0000 - importances_loss: 97134368.0000 - output_loss: 1850838.1250 - importances_root_mean_squared_error: 9855.6758 - output_root_mean_squared_error: 1360.4551 - val_loss: 99511744.0000 - val_importances_loss: 97465112.0000 - val_output_loss: 2046647.7500 - val_importances_root_mean_squared_error: 9872.4414 - val_output_root_mean_squared_error: 1430.6110\n",
      "Epoch 60/200\n",
      "554/554 [==============================] - 87s 154ms/step - loss: 98981560.0000 - importances_loss: 97134320.0000 - output_loss: 1847237.0000 - importances_root_mean_squared_error: 9855.6738 - output_root_mean_squared_error: 1359.1310 - val_loss: 99411912.0000 - val_importances_loss: 97465112.0000 - val_output_loss: 1946795.5000 - val_importances_root_mean_squared_error: 9872.4404 - val_output_root_mean_squared_error: 1395.2761\n",
      "Epoch 61/200\n",
      "554/554 [==============================] - 99s 177ms/step - loss: 98989856.0000 - importances_loss: 97134352.0000 - output_loss: 1855565.3750 - importances_root_mean_squared_error: 9855.6758 - output_root_mean_squared_error: 1362.1914 - val_loss: 99409032.0000 - val_importances_loss: 97465112.0000 - val_output_loss: 1943909.8750 - val_importances_root_mean_squared_error: 9872.4414 - val_output_root_mean_squared_error: 1394.2417\n",
      "Epoch 62/200\n",
      "554/554 [==============================] - 76s 135ms/step - loss: 98978880.0000 - importances_loss: 97134368.0000 - output_loss: 1844587.2500 - importances_root_mean_squared_error: 9855.6738 - output_root_mean_squared_error: 1358.1559 - val_loss: 99398264.0000 - val_importances_loss: 97465112.0000 - val_output_loss: 1933141.2500 - val_importances_root_mean_squared_error: 9872.4404 - val_output_root_mean_squared_error: 1390.3745\n",
      "Epoch 63/200\n",
      "554/554 [==============================] - 45s 80ms/step - loss: 98985376.0000 - importances_loss: 97134336.0000 - output_loss: 1850965.5000 - importances_root_mean_squared_error: 9855.6777 - output_root_mean_squared_error: 1360.5020 - val_loss: 99387960.0000 - val_importances_loss: 97465112.0000 - val_output_loss: 1922860.2500 - val_importances_root_mean_squared_error: 9872.4414 - val_output_root_mean_squared_error: 1386.6724\n",
      "Epoch 64/200\n",
      "554/554 [==============================] - 137s 245ms/step - loss: 98976392.0000 - importances_loss: 97134400.0000 - output_loss: 1842082.2500 - importances_root_mean_squared_error: 9855.6768 - output_root_mean_squared_error: 1357.2333 - val_loss: 99397072.0000 - val_importances_loss: 97465112.0000 - val_output_loss: 1931964.5000 - val_importances_root_mean_squared_error: 9872.4404 - val_output_root_mean_squared_error: 1389.9513\n",
      "Epoch 65/200\n",
      "554/554 [==============================] - 150s 268ms/step - loss: 98972784.0000 - importances_loss: 97134320.0000 - output_loss: 1838506.0000 - importances_root_mean_squared_error: 9855.6729 - output_root_mean_squared_error: 1355.9152 - val_loss: 99450824.0000 - val_importances_loss: 97465112.0000 - val_output_loss: 1985722.0000 - val_importances_root_mean_squared_error: 9872.4414 - val_output_root_mean_squared_error: 1409.1565\n",
      "Epoch 66/200\n",
      "554/554 [==============================] - 112s 201ms/step - loss: 98971576.0000 - importances_loss: 97134304.0000 - output_loss: 1837236.5000 - importances_root_mean_squared_error: 9855.6777 - output_root_mean_squared_error: 1355.4470 - val_loss: 99398592.0000 - val_importances_loss: 97465112.0000 - val_output_loss: 1933471.5000 - val_importances_root_mean_squared_error: 9872.4414 - val_output_root_mean_squared_error: 1390.4933\n",
      "Epoch 67/200\n",
      "554/554 [==============================] - 138s 247ms/step - loss: 98967024.0000 - importances_loss: 97134368.0000 - output_loss: 1832695.0000 - importances_root_mean_squared_error: 9855.6748 - output_root_mean_squared_error: 1353.7706 - val_loss: 99356480.0000 - val_importances_loss: 97465112.0000 - val_output_loss: 1891373.1250 - val_importances_root_mean_squared_error: 9872.4424 - val_output_root_mean_squared_error: 1375.2720\n",
      "Epoch 68/200\n",
      "554/554 [==============================] - 112s 201ms/step - loss: 98975496.0000 - importances_loss: 97134336.0000 - output_loss: 1841166.7500 - importances_root_mean_squared_error: 9855.6758 - output_root_mean_squared_error: 1356.8960 - val_loss: 99394384.0000 - val_importances_loss: 97465112.0000 - val_output_loss: 1929289.7500 - val_importances_root_mean_squared_error: 9872.4404 - val_output_root_mean_squared_error: 1388.9888\n",
      "Epoch 69/200\n",
      "554/554 [==============================] - 144s 257ms/step - loss: 98970080.0000 - importances_loss: 97134320.0000 - output_loss: 1835750.6250 - importances_root_mean_squared_error: 9855.6748 - output_root_mean_squared_error: 1354.8988 - val_loss: 99416880.0000 - val_importances_loss: 97465112.0000 - val_output_loss: 1951764.1250 - val_importances_root_mean_squared_error: 9872.4424 - val_output_root_mean_squared_error: 1397.0555\n",
      "Epoch 70/200\n",
      "554/554 [==============================] - 129s 230ms/step - loss: 98966064.0000 - importances_loss: 97134336.0000 - output_loss: 1831713.6250 - importances_root_mean_squared_error: 9855.6738 - output_root_mean_squared_error: 1353.4082 - val_loss: 99456680.0000 - val_importances_loss: 97465112.0000 - val_output_loss: 1991571.6250 - val_importances_root_mean_squared_error: 9872.4414 - val_output_root_mean_squared_error: 1411.2306\n",
      "Epoch 71/200\n",
      "554/554 [==============================] - 131s 235ms/step - loss: 98975944.0000 - importances_loss: 97134304.0000 - output_loss: 1841607.7500 - importances_root_mean_squared_error: 9855.6729 - output_root_mean_squared_error: 1357.0585 - val_loss: 99385312.0000 - val_importances_loss: 97465112.0000 - val_output_loss: 1920183.2500 - val_importances_root_mean_squared_error: 9872.4404 - val_output_root_mean_squared_error: 1385.7068\n",
      "Epoch 72/200\n",
      "554/554 [==============================] - 125s 223ms/step - loss: 98965632.0000 - importances_loss: 97134376.0000 - output_loss: 1831309.0000 - importances_root_mean_squared_error: 9855.6768 - output_root_mean_squared_error: 1353.2587 - val_loss: 99345648.0000 - val_importances_loss: 97465112.0000 - val_output_loss: 1880573.6250 - val_importances_root_mean_squared_error: 9872.4414 - val_output_root_mean_squared_error: 1371.3401\n",
      "Epoch 73/200\n",
      "554/554 [==============================] - 104s 186ms/step - loss: 98966832.0000 - importances_loss: 97134288.0000 - output_loss: 1832498.3750 - importances_root_mean_squared_error: 9855.6748 - output_root_mean_squared_error: 1353.6980 - val_loss: 99405840.0000 - val_importances_loss: 97465112.0000 - val_output_loss: 1940714.3750 - val_importances_root_mean_squared_error: 9872.4414 - val_output_root_mean_squared_error: 1393.0952\n",
      "Epoch 74/200\n",
      "554/554 [==============================] - 140s 249ms/step - loss: 98969160.0000 - importances_loss: 97134272.0000 - output_loss: 1834811.1250 - importances_root_mean_squared_error: 9855.6719 - output_root_mean_squared_error: 1354.5520 - val_loss: 99392392.0000 - val_importances_loss: 97465112.0000 - val_output_loss: 1927298.3750 - val_importances_root_mean_squared_error: 9872.4414 - val_output_root_mean_squared_error: 1388.2717\n",
      "Epoch 75/200\n",
      "554/554 [==============================] - 130s 233ms/step - loss: 98965048.0000 - importances_loss: 97134336.0000 - output_loss: 1830711.8750 - importances_root_mean_squared_error: 9855.6729 - output_root_mean_squared_error: 1353.0380 - val_loss: 99397616.0000 - val_importances_loss: 97465112.0000 - val_output_loss: 1932512.8750 - val_importances_root_mean_squared_error: 9872.4424 - val_output_root_mean_squared_error: 1390.1486\n",
      "Epoch 76/200\n",
      "554/554 [==============================] - 152s 271ms/step - loss: 98958952.0000 - importances_loss: 97134344.0000 - output_loss: 1824645.5000 - importances_root_mean_squared_error: 9855.6738 - output_root_mean_squared_error: 1350.7944 - val_loss: 99458096.0000 - val_importances_loss: 97465112.0000 - val_output_loss: 1993011.8750 - val_importances_root_mean_squared_error: 9872.4414 - val_output_root_mean_squared_error: 1411.7407\n",
      "Epoch 77/200\n",
      "554/554 [==============================] - 134s 239ms/step - loss: 98959672.0000 - importances_loss: 97134304.0000 - output_loss: 1825334.1250 - importances_root_mean_squared_error: 9855.6787 - output_root_mean_squared_error: 1351.0493 - val_loss: 99436600.0000 - val_importances_loss: 97465112.0000 - val_output_loss: 1971486.6250 - val_importances_root_mean_squared_error: 9872.4424 - val_output_root_mean_squared_error: 1404.0963\n",
      "Epoch 78/200\n",
      "554/554 [==============================] - 149s 266ms/step - loss: 98961472.0000 - importances_loss: 97134360.0000 - output_loss: 1827110.6250 - importances_root_mean_squared_error: 9855.6777 - output_root_mean_squared_error: 1351.7065 - val_loss: 99449600.0000 - val_importances_loss: 97465112.0000 - val_output_loss: 1984500.0000 - val_importances_root_mean_squared_error: 9872.4424 - val_output_root_mean_squared_error: 1408.7228\n",
      "Epoch 79/200\n",
      "554/554 [==============================] - 145s 259ms/step - loss: 98951904.0000 - importances_loss: 97134376.0000 - output_loss: 1817566.1250 - importances_root_mean_squared_error: 9855.6758 - output_root_mean_squared_error: 1348.1714 - val_loss: 99391104.0000 - val_importances_loss: 97465112.0000 - val_output_loss: 1926010.6250 - val_importances_root_mean_squared_error: 9872.4414 - val_output_root_mean_squared_error: 1387.8079\n",
      "Epoch 80/200\n",
      "554/554 [==============================] - 129s 231ms/step - loss: 98958616.0000 - importances_loss: 97134336.0000 - output_loss: 1824375.7500 - importances_root_mean_squared_error: 9855.6748 - output_root_mean_squared_error: 1350.6946 - val_loss: 99414080.0000 - val_importances_loss: 97465112.0000 - val_output_loss: 1949000.0000 - val_importances_root_mean_squared_error: 9872.4414 - val_output_root_mean_squared_error: 1396.0659\n",
      "Epoch 81/200\n",
      "554/554 [==============================] - 145s 260ms/step - loss: 98952328.0000 - importances_loss: 97134384.0000 - output_loss: 1818035.8750 - importances_root_mean_squared_error: 9855.6748 - output_root_mean_squared_error: 1348.3456 - val_loss: 99404800.0000 - val_importances_loss: 97465112.0000 - val_output_loss: 1939697.8750 - val_importances_root_mean_squared_error: 9872.4424 - val_output_root_mean_squared_error: 1392.7303\n"
     ]
    }
   ],
   "source": [
    "epochs = 200\n",
    "lr = 0.001\n",
    "weight_decay = 0.0001\n",
    "new_data_metrics = 'val_output_root_mean_squared_error'\n",
    "mode = 'min'\n",
    "\n",
    "ft_model = compile_model(\n",
    "    upstream_train_df,\n",
    "    d_embedding=32, \n",
    "    n_layers=4, \n",
    "    ffn_factor=1,\n",
    "    attention_dropout=0.1,\n",
    "    ffn_dropout=0.1,\n",
    "    residual_dropout=0.0,\n",
    "    weight_decay=weight_decay,\n",
    "    lr=lr\n",
    ")\n",
    "\n",
    "\n",
    "callbacks = [\n",
    "    tf.keras.callbacks.EarlyStopping(monitor=new_data_metrics, mode=mode, patience=30, restore_best_weights=True),\n",
    "    tf.keras.callbacks.ModelCheckpoint(\n",
    "        monitor=new_data_metrics,\n",
    "        mode=mode,\n",
    "        filepath=MODEL_SAVE_DIR,\n",
    "        save_best_only=True,\n",
    "        save_freq='epoch')\n",
    "]\n",
    "\n",
    "tf.keras.backend.clear_session()\n",
    "\n",
    "history = ft_model.fit(\n",
    "    upstream_train_tf, \n",
    "    epochs=epochs, \n",
    "    validation_data=upstream_val_tf,\n",
    "    callbacks=[callbacks]\n",
    ")"
   ]
  },
  {
   "cell_type": "code",
   "execution_count": 11,
   "id": "1a4990b2-9366-442b-b7cb-b57821773fc8",
   "metadata": {
    "tags": []
   },
   "outputs": [
    {
     "data": {
      "image/png": "[encoded data removed]",
      "text/plain": [
       "<Figure size 432x288 with 1 Axes>"
      ]
     },
     "metadata": {
      "needs_background": "light"
     },
     "output_type": "display_data"
    }
   ],
   "source": [
    "plot_model_history(history, 'output_root_mean_squared_error', new_data_metrics,'RMSE')"
   ]
  },
  {
   "cell_type": "code",
   "execution_count": 14,
   "id": "4e6f04af-a709-442b-9cbc-b5ed4439c2c8",
   "metadata": {
    "tags": []
   },
   "outputs": [
    {
     "name": "stderr",
     "output_type": "stream",
     "text": [
      "WARNING:absl:Function `_wrapped_model` contains input name(s) EVI, LC_Type1, LST_Day_1km, NDVI with unsupported characters which will be renamed to evi, lc_type1, lst_day_1km, ndvi in the SavedModel.\n",
      "WARNING:absl:Found untraced functions such as _update_step_xla, dense_layer_call_fn, dense_layer_call_and_return_conditional_losses, dense_1_layer_call_fn, dense_1_layer_call_and_return_conditional_losses while saving (showing 5 of 95). These functions will not be directly callable after loading.\n"
     ]
    }
   ],
   "source": [
    "ft_model.save(MODEL_SAVE_DIR)"
   ]
  },
  {
   "cell_type": "code",
   "execution_count": 5,
   "id": "bebd8241-5b23-4e5c-89ec-59d31d04a01c",
   "metadata": {
    "tags": []
   },
   "outputs": [],
   "source": [
    "model_reload = tf.keras.models.load_model(MODEL_SAVE_DIR)\n",
    "get_rmse_on_upstream_val(model_reload, upstream_val_df)"
   ]
  },
  {
   "cell_type": "code",
   "execution_count": 8,
   "id": "3826b29c-b307-49ac-975d-85d77458b730",
   "metadata": {
    "tags": []
   },
   "outputs": [
    {
     "name": "stderr",
     "output_type": "stream",
     "text": [
      "/home/zheng.yant/ML-LUE/fttransformer/utils/preprocessing.py:27: FutureWarning: Support for multi-dimensional indexing (e.g. `obj[:, None]`) is deprecated and will be removed in a future version.  Convert to a numpy array before indexing instead.\n",
      "  dataset[key] = value[:, tf.newaxis]\n"
     ]
    }
   ],
   "source": [
    "downstream_test_df = pd.read_csv(f'{DATA_FOLDER}{DOWNSTREAM_TEST_FILENAME}')\n",
    "downstream_test_df = embed_catgorical_features(downstream_test_df, CATEGORICAL_FEATURES)\n",
    "test_df = df_to_dataset(downstream_test_df[FEATURES], shuffle=False, batch_size=1)"
   ]
  },
  {
   "cell_type": "code",
   "execution_count": 9,
   "id": "85178950-0198-46cb-8c84-857317fe5de5",
   "metadata": {
    "tags": []
   },
   "outputs": [
    {
     "name": "stdout",
     "output_type": "stream",
     "text": [
      "160/160 [==============================] - 1s 4ms/step\n",
      "RMSE prediction: 4967.0817\n",
      "RMSE MOD17: 4589.3427\n",
      "R-Squared prediction: 0.5071367000616096\n",
      "R-Squared MOD17: 0.5792493048831099\n",
      "Max error prediction: 14614.165578125001\n",
      "Max error MOD17: 15912.398000000001\n",
      "Mean poisson deviance prediction: 2020.6304029828036\n",
      "Mean poisson deviance MOD17: 1800.1566367242249\n",
      "Mean gamma deviance prediction: 0.2732355999887132\n",
      "Mean gamma deviance MOD17: 0.23570186864830162\n",
      "Mean pinball loss with alpha = 0.9 prediction: 2884.1290693795777\n",
      "Mean pinball loss with alpha = 0.9 MOD17: 2508.4830668945315\n",
      "Mean pinball loss with alpha = 0.09999999999999998 prediction: 896.6216495187379\n",
      "Mean pinball loss with alpha = 0.09999999999999998 MOD17: 930.2998129882814\n"
     ]
    },
    {
     "name": "stderr",
     "output_type": "stream",
     "text": [
      "<ipython-input-2-73ed0f6d1bee>:2: UserWarning: color is redundantly defined by the 'color' keyword argument and the fmt string \"-g\" (-> color='g'). The keyword argument will take precedence.\n",
      "  plt.plot(actual_df, actual_df, '-g', color='red')\n"
     ]
    },
    {
     "data": {
      "image/png": "[encoded data removed]",
      "text/plain": [
       "<Figure size 432x288 with 1 Axes>"
      ]
     },
     "metadata": {
      "needs_background": "light"
     },
     "output_type": "display_data"
    }
   ],
   "source": [
    "predict_results = model_reload.predict(test_df)\n",
    "y_pred = predict_results['output'].ravel()\n",
    "modis_compare_data = get_modis_compare_data(y_pred)\n",
    "get_all_metrics(y_pred, modis_compare_data[TARGET_FEATURE], downstream_test_df[TARGET_FEATURE])\n",
    "plot_result_distribution(downstream_test_df[TARGET_FEATURE], y_pred, modis_compare_data[TARGET_FEATURE])"
   ]
  },
  {
   "cell_type": "code",
   "execution_count": null,
   "id": "99c9f41c-0727-483e-9f31-575a720a204b",
   "metadata": {},
   "outputs": [],
   "source": []
  }
 ],
 "metadata": {
  "kernelspec": {
   "display_name": "Python 3",
   "language": "python",
   "name": "python3"
  },
  "language_info": {
   "codemirror_mode": {
    "name": "ipython",
    "version": 3
   },
   "file_extension": ".py",
   "mimetype": "text/x-python",
   "name": "python",
   "nbconvert_exporter": "python",
   "pygments_lexer": "ipython3",
   "version": "3.9.18"
  }
 },
 "nbformat": 4,
 "nbformat_minor": 5
}
