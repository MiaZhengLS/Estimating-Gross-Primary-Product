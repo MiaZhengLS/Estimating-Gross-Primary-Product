{
 "cells": [
  {
   "cell_type": "code",
   "execution_count": 1,
   "id": "b1783b24-1ed5-4b56-afba-534344fc1fac",
   "metadata": {
    "tags": []
   },
   "outputs": [
    {
     "name": "stdout",
     "output_type": "stream",
     "text": [
      "Using TensorFlow backend\n"
     ]
    }
   ],
   "source": [
    "import numpy as np # linear algebra\n",
    "import pandas as pd # data processing, CSV file I/O (e.g. pd.read_csv)\n",
    "import matplotlib.pyplot as plt\n",
    "from fttransformer.utils.preprocessing import df_to_dataset, build_categorical_prep\n",
    "from fttransformer.models.fttransformer import FTTransformerEncoder, FTTransformer, MLPBlock\n",
    "import tensorflow as tf\n",
    "import keras_tuner "
   ]
  },
  {
   "cell_type": "code",
   "execution_count": 1,
   "id": "8e9fb4a3-7b1a-46e2-9f98-8c954dfb2c87",
   "metadata": {},
   "outputs": [],
   "source": [
    "DATA_FOLDER = '../processed-datasets/'\n",
    "UPSTREAM_TRAIN_FILENAME = 'upstream_train.csv'\n",
    "UPSTREAM_VAL_FILENAME = 'upstream_val.csv'\n",
    "DOWNSTREAM_TRAIN_FILENAME = 'downstream_train.csv'\n",
    "DOWNSTREAM_TEST_FILENAME = 'downstream_test.csv'\n",
    "\n",
    "MODEL_FOLDER = '../model/'\n",
    "\n",
    "UPSTREAM_TRAINING_DIR = f'{MODEL_FOLDER}upstream-training/'\n",
    "UPSTREAM_FINETUNE_DIR = f'{MODEL_FOLDER}upstream-finetune/'\n",
    "UPSTREAM_FINETUNE_OPTUNA_DIR = f'{MODEL_FOLDER}upstream-finetune-optuna/'\n",
    "DOWNSTREAM_TRAINING_DIR = f'{MODEL_FOLDER}downstream-train/'\n",
    "DOWNSTREAM_E2E_DIR = f'{MODEL_FOLDER}downstream-e2e/'\n",
    "DOWNSTREAM_FINETUNE_DIR = f'{MODEL_FOLDER}downstream-finetune-from-scratch/'\n",
    "DOWNSTREAM_PARTIAL_TUNE_DIR = f'{MODEL_FOLDER}downstream-partial-tune/'\n",
    "\n",
    "MODEL_RESULT_PLT_DIR = '../model_result_plt/'"
   ]
  },
  {
   "cell_type": "code",
   "execution_count": 4,
   "id": "bd47cc5b-e1fd-4c05-944a-b7797dbfb372",
   "metadata": {
    "tags": []
   },
   "outputs": [],
   "source": [
    "tf.get_logger().setLevel('ERROR')"
   ]
  },
  {
   "cell_type": "code",
   "execution_count": 9,
   "id": "4b7144a0-c970-4301-8c9e-1378161de472",
   "metadata": {
    "tags": []
   },
   "outputs": [],
   "source": [
    "finetune_objective = [\n",
    "    keras_tuner.Objective('val_output_root_mean_squared_error', \"min\")]"
   ]
  },
  {
   "cell_type": "code",
   "execution_count": null,
   "id": "b425ebdc-29f3-4286-b6ad-13f7c9ad3b1f",
   "metadata": {},
   "outputs": [],
   "source": [
    "def embed_catgorical_features(df, categorical_columns):\n",
    "    df[categorical_columns] = df[categorical_columns].astype(str)\n",
    "    return df"
   ]
  },
  {
   "cell_type": "code",
   "execution_count": null,
   "id": "396157d5-a645-4506-aba1-e71ab6e66ffc",
   "metadata": {},
   "outputs": [],
   "source": [
    "def compile_model(\n",
    "    df_dataset,\n",
    "    d_embedding:int, \n",
    "    n_layers:int, \n",
    "    ffn_factor:float, \n",
    "    attention_dropout:float, \n",
    "    ffn_dropout:float, \n",
    "    residual_dropout:float, \n",
    "    weight_decay:float, \n",
    "    lr:float,\n",
    "    numerical_embedding_type='linear',\n",
    "    mlp_head_unit_1=32,\n",
    "    mlp_head_unit_2=32,\n",
    "    out_activation='linear'\n",
    "    ):\n",
    "    \n",
    "    head = MLPBlock(\n",
    "        mlp_head_unit_1,\n",
    "        mlp_head_unit_2,\n",
    "        1,\n",
    "        out_activation\n",
    "    )\n",
    "    ft_linear_encoder = FTTransformerEncoder(\n",
    "        numerical_features=NUMERIC_FEATURES,  # list of numeric features\n",
    "        categorical_features=CATEGORICAL_FEATURES,  # list of numeric features\n",
    "        numerical_data=df_dataset[NUMERIC_FEATURES].values,\n",
    "        categorical_data=df_dataset[CATEGORICAL_FEATURES].values,\n",
    "        y = None,\n",
    "        numerical_embedding_type=numerical_embedding_type,\n",
    "        embedding_dim=d_embedding,\n",
    "        depth=n_layers,\n",
    "        ffn_factor=ffn_factor,\n",
    "        attn_dropout=attention_dropout,\n",
    "        ff_dropout=ffn_dropout,\n",
    "        residual_dropout=residual_dropout,\n",
    "        explainable=True,\n",
    "    )\n",
    "\n",
    "    ft_model = FTTransformer(\n",
    "        encoder=ft_linear_encoder,  # Encoder from above\n",
    "        out_dim=1,  # Number of outputs in final layer\n",
    "        head=head\n",
    "    )\n",
    "    \n",
    "    optimizer = tf.keras.optimizers.AdamW(\n",
    "        learning_rate=lr, weight_decay=weight_decay\n",
    "    )\n",
    "\n",
    "    ft_model.compile(\n",
    "        optimizer = optimizer,\n",
    "        loss = tf.keras.losses.MeanSquaredError(),\n",
    "        metrics= [tf.keras.metrics.RootMeanSquaredError()],\n",
    "    )\n",
    "    \n",
    "    return ft_model"
   ]
  },
  {
   "cell_type": "code",
   "execution_count": 5,
   "id": "6342812c-8cbf-49cf-acf7-da59ceccf06a",
   "metadata": {
    "tags": []
   },
   "outputs": [],
   "source": [
    "def get_random_search_instance(objective, save_dir, overwrite=False, hypermodel=None, max_trials=30):\n",
    "    metric_name = ''\n",
    "    if isinstance(objective, str):\n",
    "        metric_name = objective\n",
    "    else:\n",
    "        for i, objective_tune in enumerate(objective):\n",
    "            if i != 0:\n",
    "                metric_name += '_'\n",
    "            metric_name += objective_tune.name\n",
    "    return keras_tuner.RandomSearch(\n",
    "        hypermodel=hypermodel,\n",
    "        objective=objective,\n",
    "        max_trials=max_trials,\n",
    "        overwrite=overwrite,\n",
    "        directory=save_dir,\n",
    "        project_name=f\"finetune_progress\",\n",
    "    )"
   ]
  },
  {
   "cell_type": "code",
   "execution_count": null,
   "id": "4b33aaf0-d175-4cdd-80bd-779194e7d346",
   "metadata": {},
   "outputs": [],
   "source": [
    "def load_best_model(objective, save_dir, hypermodel):\n",
    "    tuner = get_random_search_instance(objective, save_dir, False, hypermodel)\n",
    "    models = tuner.get_best_models()\n",
    "    best_model = models[0]\n",
    "    best_model.build()\n",
    "    best_model.summary()\n",
    "    return best_model"
   ]
  },
  {
   "cell_type": "code",
   "execution_count": null,
   "id": "0f90d1bb-fbd1-4086-921c-653c32027722",
   "metadata": {},
   "outputs": [],
   "source": [
    "def get_predict_result(model, predict_input_df, actual_df):\n",
    "    test_df = df_to_dataset(predict_input_df, shuffle=False, batch_size=1)\n",
    "    predict_result = model.predict(test_df)\n",
    "    linear_rms = mean_squared_error(actual_df, predict_result['output'].ravel(), squared=False)\n",
    "    print(\"Linear Encoding RMSE:\", linear_rms.round(4))\n",
    "    return predict_result"
   ]
  },
  {
   "cell_type": "code",
   "execution_count": null,
   "id": "18b88789-16e5-4f8e-9acf-45f0b370692b",
   "metadata": {},
   "outputs": [],
   "source": [
    "def get_modis_compare_data(predict_df):\n",
    "    fluxnet_modis_test_df = pd.read_csv(f'{DATA_FOLDER}compare_modis_test.csv')\n",
    "    predict_df = pd.DataFrame({TARGET_FEATURE:predict_df})\n",
    "    fluxnet_modis_test_df.update(predict_df, filter_func=lambda df: df>60000)\n",
    "    return fluxnet_modis_test_df"
   ]
  },
  {
   "cell_type": "code",
   "execution_count": null,
   "id": "0de1e64f-bf52-46f9-9505-7d3aab627bd7",
   "metadata": {},
   "outputs": [],
   "source": [
    "def plot_result_distribution(actual_df, predict_df, compare_df, save_dir=None, title=None):\n",
    "    plt.plot(actual_df, actual_df, color='red')\n",
    "    plt.plot(actual_df, predict_df, 'o', color='c', label='prediction')\n",
    "    plt.plot(actual_df, compare_df, 'o', color='orange', label='MOD17', alpha=0.7)\n",
    "    plt.xlabel(\"FLUXNET GPP\")\n",
    "    plt.ylabel(\"Estimated GPP\")\n",
    "    if title:\n",
    "        plt.title(title)\n",
    "    plt.legend()\n",
    "    if save_dir:\n",
    "        plt.savefig(save_dir)\n",
    "    plt.show()    \n",
    "    "
   ]
  },
  {
   "cell_type": "code",
   "execution_count": null,
   "id": "5eb5a0fc-7dd3-4d58-b72f-5ea65cf06081",
   "metadata": {},
   "outputs": [],
   "source": [
    "def get_input_tensors(tf_dataset):\n",
    "    input_tensors = {}\n",
    "    for key,value in tf_dataset.element_spec[0].items():\n",
    "        input_tensors[key] = tf.keras.layers.Input(name=key, type_spec = value)\n",
    "        \n",
    "    return input_tensors"
   ]
  },
  {
   "cell_type": "code",
   "execution_count": null,
   "id": "a62524f8-e5c5-4551-91bc-8ae99f4233e0",
   "metadata": {},
   "outputs": [],
   "source": [
    "def get_rmse_on_upstream_val(model, upstream_val_df):\n",
    "    test_df = df_to_dataset(upstream_val_df[FEATURES], shuffle=False, batch_size=1)\n",
    "    linear_test_preds = model.predict(test_df)    \n",
    "    me = mean_squared_error(upstream_val_df[TARGET_FEATURE], linear_test_preds['output'].ravel(), squared=False).round(4)\n",
    "    print(f'RMSE on upstream validation: {me}')\n",
    "    return me"
   ]
  },
  {
   "cell_type": "code",
   "execution_count": null,
   "id": "353c49c2-a015-4754-9449-5c2fbfe12abf",
   "metadata": {},
   "outputs": [],
   "source": [
    "def get_all_metrics(predict_df, modis_df, actual_df):\n",
    "    get_rmse_metrics(predict_df, modis_df, actual_df)    \n",
    "    get_r2_metrics(predict_df, modis_df, actual_df)    \n",
    "    get_max_error_metrics(predict_df, modis_df, actual_df) \n",
    "    contain_negative = False\n",
    "    if np.any(predict_df < 0):\n",
    "        contain_negative = True\n",
    "        print(f'predict_df contains negative values, skip mean_poisson_deviance metrics')\n",
    "    elif np.any(modis_df < 0):\n",
    "        contain_negative = True\n",
    "        print(f'modis_df contains negative values, skip mean_poisson_deviance metrics')\n",
    "    elif np.any(actual_df < 0):\n",
    "        contain_negative = True\n",
    "        print(f'actual_df contains negative values, skip mean_poisson_deviance metrics')\n",
    "    if not contain_negative:\n",
    "        get_mean_poisson_deviance_metrics(predict_df, modis_df, actual_df)\n",
    "        get_mean_gamma_deviance_metrics(predict_df, modis_df, actual_df)\n",
    "    get_mean_pinball_loss_metrics(predict_df, modis_df, actual_df)\n",
    "    "
   ]
  },
  {
   "cell_type": "code",
   "execution_count": null,
   "id": "4d685d15-c25e-4050-a63c-a1e0d0723f1a",
   "metadata": {},
   "outputs": [],
   "source": [
    "from sklearn.metrics import mean_squared_error\n",
    "\n",
    "# def get_modis_result(modis_df, actual_df):\n",
    "def get_rmse_metrics(predict_df, modis_df, actual_df):\n",
    "    me = mean_squared_error(actual_df, predict_df, squared=False).round(4)\n",
    "    print(f'RMSE prediction: {me}')\n",
    "    print(f'RMSE MOD17: {mean_squared_error(actual_df, modis_df, squared=False).round(4)}')\n",
    "    return me    "
   ]
  },
  {
   "cell_type": "code",
   "execution_count": null,
   "id": "66531cce-b154-4f94-8e35-01707b6ea4dd",
   "metadata": {},
   "outputs": [],
   "source": [
    "from sklearn.metrics import r2_score\n",
    "\n",
    "# def get_r2_compare_data(predict_df, modis_df, actual_df):\n",
    "def get_r2_metrics(predict_df, modis_df, actual_df):\n",
    "    me = r2_score(actual_df, predict_df).round(4)\n",
    "    print(f'R-Squared prediction: {me}')\n",
    "    print(f'R-Squared MOD17: {r2_score(actual_df, modis_df)}')\n",
    "    return me    "
   ]
  },
  {
   "cell_type": "code",
   "execution_count": null,
   "id": "bf8c77a1-a0e9-4983-b4de-a356df7fc9e8",
   "metadata": {},
   "outputs": [],
   "source": [
    "from sklearn.metrics import max_error\n",
    "\n",
    "def get_max_error_metrics(predict_df, modis_df, actual_df):\n",
    "    me = max_error(actual_df, predict_df).round(4)\n",
    "    print(f'Max error prediction: {me}')\n",
    "    print(f'Max error MOD17: {max_error(actual_df, modis_df)}')\n",
    "    return me    "
   ]
  },
  {
   "cell_type": "code",
   "execution_count": null,
   "id": "85bed809-07ee-4071-a534-36c6090d67de",
   "metadata": {},
   "outputs": [],
   "source": [
    "from sklearn.metrics import mean_poisson_deviance\n",
    "\n",
    "# equivalent: mean_tweedie_deviance when power=1\n",
    "def get_mean_poisson_deviance_metrics(predict_df, modis_df, actual_df):\n",
    "    me = mean_poisson_deviance(actual_df, predict_df).round(4)\n",
    "    print(f'Mean poisson deviance prediction: {me}')\n",
    "    print(f'Mean poisson deviance MOD17: {mean_poisson_deviance(actual_df, modis_df)}')\n",
    "    return me    "
   ]
  },
  {
   "cell_type": "code",
   "execution_count": null,
   "id": "5b6f154f-ed42-4c58-bc66-bcfef4f1d0c8",
   "metadata": {},
   "outputs": [],
   "source": [
    "from sklearn.metrics import mean_gamma_deviance\n",
    "\n",
    "# equivalent: mean_tweedie_deviance when power=2\n",
    "def get_mean_gamma_deviance_metrics(predict_df, modis_df, actual_df):\n",
    "    me = mean_gamma_deviance(actual_df, predict_df).round(4)\n",
    "    print(f'Mean gamma deviance prediction: {me}')\n",
    "    print(f'Mean gamma deviance MOD17: {mean_gamma_deviance(actual_df, modis_df)}')\n",
    "    return me"
   ]
  },
  {
   "cell_type": "code",
   "execution_count": null,
   "id": "6e68dd49-74a4-48f8-bcab-1224d8e81807",
   "metadata": {},
   "outputs": [],
   "source": [
    "from sklearn.metrics import mean_pinball_loss\n",
    "\n",
    "def get_mean_pinball_loss_metrics(predict_df, modis_df, actual_df, alpha=0.9):\n",
    "    print(f'Mean pinball loss with alpha = {alpha} prediction: {mean_pinball_loss(actual_df, predict_df, alpha=alpha)}')\n",
    "    print(f'Mean pinball loss with alpha = {alpha} MOD17: {mean_pinball_loss(actual_df, modis_df, alpha=alpha)}')\n",
    "    print(f'Mean pinball loss with alpha = {1-alpha} prediction: {mean_pinball_loss(actual_df, predict_df, alpha=1-alpha)}')\n",
    "    print(f'Mean pinball loss with alpha = {1-alpha} MOD17: {mean_pinball_loss(actual_df, modis_df, alpha=1-alpha)}')"
   ]
  }
 ],
 "metadata": {
  "kernelspec": {
   "display_name": "Python 3",
   "language": "python",
   "name": "python3"
  },
  "language_info": {
   "codemirror_mode": {
    "name": "ipython",
    "version": 3
   },
   "file_extension": ".py",
   "mimetype": "text/x-python",
   "name": "python",
   "nbconvert_exporter": "python",
   "pygments_lexer": "ipython3",
   "version": "3.9.18"
  }
 },
 "nbformat": 4,
 "nbformat_minor": 5
}
