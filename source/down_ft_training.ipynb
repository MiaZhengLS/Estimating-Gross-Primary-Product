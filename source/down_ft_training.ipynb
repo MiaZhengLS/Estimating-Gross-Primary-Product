{
 "cells": [
  {
   "cell_type": "code",
   "execution_count": 1,
   "id": "fbe85188-ff97-4837-91bb-d9d097efd7b5",
   "metadata": {
    "collapsed": true,
    "jupyter": {
     "outputs_hidden": true
    },
    "tags": []
   },
   "outputs": [
    {
     "name": "stdout",
     "output_type": "stream",
     "text": [
      "['LC_Type1', 'LST_Day_1km', 'pr', 'aet', 'NDVI', 'EVI']\n",
      "['LST_Day_1km', 'pr', 'aet', 'NDVI', 'EVI']\n",
      "['LC_Type1']\n"
     ]
    }
   ],
   "source": [
    "%run common.ipynb"
   ]
  },
  {
   "cell_type": "code",
   "execution_count": 2,
   "id": "4ad6b18a-2807-4b64-b681-d6ea9ddbd7df",
   "metadata": {
    "collapsed": true,
    "jupyter": {
     "outputs_hidden": true
    },
    "tags": []
   },
   "outputs": [
    {
     "name": "stdout",
     "output_type": "stream",
     "text": [
      "Using TensorFlow backend\n"
     ]
    }
   ],
   "source": [
    "%run tuning_common.ipynb"
   ]
  },
  {
   "cell_type": "code",
   "execution_count": 3,
   "id": "3907f785-aece-4a34-bc00-e264642b62d6",
   "metadata": {
    "collapsed": true,
    "jupyter": {
     "outputs_hidden": true
    },
    "tags": []
   },
   "outputs": [],
   "source": [
    "import tensorflow as tf"
   ]
  },
  {
   "cell_type": "code",
   "execution_count": 4,
   "id": "a601a796-cf7e-40dd-a9fc-8e216812056c",
   "metadata": {
    "collapsed": true,
    "jupyter": {
     "outputs_hidden": true
    },
    "tags": []
   },
   "outputs": [],
   "source": [
    "MODEL_SAVE_DIR = f'{DOWNSTREAM_TRAINING_DIR}model'"
   ]
  },
  {
   "cell_type": "code",
   "execution_count": 5,
   "id": "68abda37-d431-46bc-aaeb-cc3350be9121",
   "metadata": {
    "collapsed": true,
    "jupyter": {
     "outputs_hidden": true
    },
    "tags": []
   },
   "outputs": [],
   "source": [
    "downstream_train_df = pd.read_csv(f'{DATA_FOLDER}{DOWNSTREAM_TRAIN_FILENAME}')\n",
    "downstream_test_df = pd.read_csv(f'{DATA_FOLDER}{DOWNSTREAM_TEST_FILENAME}')\n",
    "downstream_train_df = embed_catgorical_features(downstream_train_df, CATEGORICAL_FEATURES)\n",
    "downstream_test_df = embed_catgorical_features(downstream_test_df, CATEGORICAL_FEATURES)"
   ]
  },
  {
   "cell_type": "code",
   "execution_count": 6,
   "id": "5bcebf32-a492-4af9-8baf-c1a3b9049041",
   "metadata": {
    "collapsed": true,
    "jupyter": {
     "outputs_hidden": true
    },
    "tags": []
   },
   "outputs": [],
   "source": [
    "tf.keras.backend.clear_session()"
   ]
  },
  {
   "cell_type": "code",
   "execution_count": 7,
   "id": "4c49473f-fedc-4a6c-8b51-9e7eaf480688",
   "metadata": {
    "collapsed": true,
    "jupyter": {
     "outputs_hidden": true
    },
    "tags": []
   },
   "outputs": [
    {
     "name": "stdout",
     "output_type": "stream",
     "text": [
      "LC_Type1        object\n",
      "LST_Day_1km    float64\n",
      "pr             float64\n",
      "aet            float64\n",
      "NDVI           float64\n",
      "EVI            float64\n",
      "Gpp            float64\n",
      "dtype: object\n"
     ]
    }
   ],
   "source": [
    "print(downstream_train_df.dtypes)"
   ]
  },
  {
   "cell_type": "code",
   "execution_count": 8,
   "id": "0162a80f-c854-4f66-87c1-ebde852f7d98",
   "metadata": {
    "collapsed": true,
    "jupyter": {
     "outputs_hidden": true
    },
    "tags": []
   },
   "outputs": [],
   "source": [
    "from sklearn.model_selection import train_test_split\n",
    "split_train_df, split_val_df = train_test_split(downstream_train_df, test_size=0.2, shuffle=True, random_state=8)"
   ]
  },
  {
   "cell_type": "code",
   "execution_count": 9,
   "id": "85e17933-8a81-4ddc-9a9a-befc58513320",
   "metadata": {
    "collapsed": true,
    "jupyter": {
     "outputs_hidden": true
    },
    "tags": []
   },
   "outputs": [
    {
     "name": "stderr",
     "output_type": "stream",
     "text": [
      "/home/zheng.yant/ML-LUE/fttransformer/utils/preprocessing.py:21: FutureWarning: Support for multi-dimensional indexing (e.g. `obj[:, None]`) is deprecated and will be removed in a future version.  Convert to a numpy array before indexing instead.\n",
      "  dataset[key] = value[:, tf.newaxis]\n",
      "/home/zheng.yant/ML-LUE/fttransformer/utils/preprocessing.py:21: FutureWarning: Support for multi-dimensional indexing (e.g. `obj[:, None]`) is deprecated and will be removed in a future version.  Convert to a numpy array before indexing instead.\n",
      "  dataset[key] = value[:, tf.newaxis]\n"
     ]
    }
   ],
   "source": [
    "split_train_tf = df_to_dataset(split_train_df[FEATURES + [TARGET_FEATURE]], TARGET_FEATURE, shuffle=True, batch_size=256)\n",
    "split_val_tf = df_to_dataset(split_val_df[FEATURES + [TARGET_FEATURE]], TARGET_FEATURE, shuffle=False, batch_size=256)"
   ]
  },
  {
   "cell_type": "code",
   "execution_count": 10,
   "id": "fe7418e5-7711-4f61-a0e4-24aa24354a9f",
   "metadata": {
    "collapsed": true,
    "jupyter": {
     "outputs_hidden": true
    },
    "tags": []
   },
   "outputs": [
    {
     "name": "stdout",
     "output_type": "stream",
     "text": [
      "Epoch 1/200\n",
      "3/4 [=====================>........] - ETA: 0s - loss: 290448384.0000 - importances_loss: 145238224.0000 - output_loss: 145210176.0000 - importances_root_mean_squared_error: 12051.4824 - output_root_mean_squared_error: 12050.3184 "
     ]
    },
    {
     "name": "stderr",
     "output_type": "stream",
     "text": [
      "WARNING:absl:Function `_wrapped_model` contains input name(s) EVI, LC_Type1, LST_Day_1km, NDVI with unsupported characters which will be renamed to evi, lc_type1, lst_day_1km, ndvi in the SavedModel.\n",
      "WARNING:absl:Found untraced functions such as _update_step_xla, dense_layer_call_fn, dense_layer_call_and_return_conditional_losses, dense_1_layer_call_fn, dense_1_layer_call_and_return_conditional_losses while saving (showing 5 of 95). These functions will not be directly callable after loading.\n"
     ]
    },
    {
     "name": "stdout",
     "output_type": "stream",
     "text": [
      "4/4 [==============================] - 56s 10s/step - loss: 290653696.0000 - importances_loss: 145342016.0000 - output_loss: 145311680.0000 - importances_root_mean_squared_error: 12055.7881 - output_root_mean_squared_error: 12054.5293 - val_loss: 297068224.0000 - val_importances_loss: 148593392.0000 - val_output_loss: 148474816.0000 - val_importances_root_mean_squared_error: 12189.8906 - val_output_root_mean_squared_error: 12185.0244\n",
      "Epoch 2/200\n",
      "4/4 [==============================] - ETA: 0s - loss: 290537152.0000 - importances_loss: 145342016.0000 - output_loss: 145195104.0000 - importances_root_mean_squared_error: 12055.7881 - output_root_mean_squared_error: 12049.6934"
     ]
    },
    {
     "name": "stderr",
     "output_type": "stream",
     "text": [
      "WARNING:absl:Function `_wrapped_model` contains input name(s) EVI, LC_Type1, LST_Day_1km, NDVI with unsupported characters which will be renamed to evi, lc_type1, lst_day_1km, ndvi in the SavedModel.\n",
      "WARNING:absl:Found untraced functions such as _update_step_xla, dense_layer_call_fn, dense_layer_call_and_return_conditional_losses, dense_1_layer_call_fn, dense_1_layer_call_and_return_conditional_losses while saving (showing 5 of 95). These functions will not be directly callable after loading.\n"
     ]
    },
    {
     "name": "stdout",
     "output_type": "stream",
     "text": [
      "4/4 [==============================] - 28s 9s/step - loss: 290537152.0000 - importances_loss: 145342016.0000 - output_loss: 145195104.0000 - importances_root_mean_squared_error: 12055.7881 - output_root_mean_squared_error: 12049.6934 - val_loss: 296930880.0000 - val_importances_loss: 148593392.0000 - val_output_loss: 148337504.0000 - val_importances_root_mean_squared_error: 12189.8906 - val_output_root_mean_squared_error: 12179.3887\n",
      "Epoch 3/200\n",
      "4/4 [==============================] - ETA: 0s - loss: 290390912.0000 - importances_loss: 145342032.0000 - output_loss: 145048912.0000 - importances_root_mean_squared_error: 12055.7881 - output_root_mean_squared_error: 12043.6250"
     ]
    },
    {
     "name": "stderr",
     "output_type": "stream",
     "text": [
      "WARNING:absl:Function `_wrapped_model` contains input name(s) EVI, LC_Type1, LST_Day_1km, NDVI with unsupported characters which will be renamed to evi, lc_type1, lst_day_1km, ndvi in the SavedModel.\n",
      "WARNING:absl:Found untraced functions such as _update_step_xla, dense_layer_call_fn, dense_layer_call_and_return_conditional_losses, dense_1_layer_call_fn, dense_1_layer_call_and_return_conditional_losses while saving (showing 5 of 95). These functions will not be directly callable after loading.\n"
     ]
    },
    {
     "name": "stdout",
     "output_type": "stream",
     "text": [
      "4/4 [==============================] - 31s 10s/step - loss: 290390912.0000 - importances_loss: 145342032.0000 - output_loss: 145048912.0000 - importances_root_mean_squared_error: 12055.7881 - output_root_mean_squared_error: 12043.6250 - val_loss: 296733760.0000 - val_importances_loss: 148593392.0000 - val_output_loss: 148140384.0000 - val_importances_root_mean_squared_error: 12189.8906 - val_output_root_mean_squared_error: 12171.2930\n",
      "Epoch 4/200\n",
      "4/4 [==============================] - ETA: 0s - loss: 290167296.0000 - importances_loss: 145342016.0000 - output_loss: 144825264.0000 - importances_root_mean_squared_error: 12055.7881 - output_root_mean_squared_error: 12034.3369"
     ]
    },
    {
     "name": "stderr",
     "output_type": "stream",
     "text": [
      "WARNING:absl:Function `_wrapped_model` contains input name(s) EVI, LC_Type1, LST_Day_1km, NDVI with unsupported characters which will be renamed to evi, lc_type1, lst_day_1km, ndvi in the SavedModel.\n",
      "WARNING:absl:Found untraced functions such as _update_step_xla, dense_layer_call_fn, dense_layer_call_and_return_conditional_losses, dense_1_layer_call_fn, dense_1_layer_call_and_return_conditional_losses while saving (showing 5 of 95). These functions will not be directly callable after loading.\n"
     ]
    },
    {
     "name": "stdout",
     "output_type": "stream",
     "text": [
      "4/4 [==============================] - 28s 9s/step - loss: 290167296.0000 - importances_loss: 145342016.0000 - output_loss: 144825264.0000 - importances_root_mean_squared_error: 12055.7881 - output_root_mean_squared_error: 12034.3369 - val_loss: 296413664.0000 - val_importances_loss: 148593392.0000 - val_output_loss: 147820272.0000 - val_importances_root_mean_squared_error: 12189.8906 - val_output_root_mean_squared_error: 12158.1357\n",
      "Epoch 5/200\n",
      "3/4 [=====================>........] - ETA: 0s - loss: 291186784.0000 - importances_loss: 146028384.0000 - output_loss: 145158384.0000 - importances_root_mean_squared_error: 12084.2207 - output_root_mean_squared_error: 12048.1689"
     ]
    },
    {
     "name": "stderr",
     "output_type": "stream",
     "text": [
      "WARNING:absl:Function `_wrapped_model` contains input name(s) EVI, LC_Type1, LST_Day_1km, NDVI with unsupported characters which will be renamed to evi, lc_type1, lst_day_1km, ndvi in the SavedModel.\n",
      "WARNING:absl:Found untraced functions such as _update_step_xla, dense_layer_call_fn, dense_layer_call_and_return_conditional_losses, dense_1_layer_call_fn, dense_1_layer_call_and_return_conditional_losses while saving (showing 5 of 95). These functions will not be directly callable after loading.\n"
     ]
    },
    {
     "name": "stdout",
     "output_type": "stream",
     "text": [
      "4/4 [==============================] - 26s 8s/step - loss: 289809504.0000 - importances_loss: 145342016.0000 - output_loss: 144467488.0000 - importances_root_mean_squared_error: 12055.7881 - output_root_mean_squared_error: 12019.4629 - val_loss: 295916096.0000 - val_importances_loss: 148593392.0000 - val_output_loss: 147322688.0000 - val_importances_root_mean_squared_error: 12189.8906 - val_output_root_mean_squared_error: 12137.6562\n",
      "Epoch 6/200\n",
      "4/4 [==============================] - ETA: 0s - loss: 289259200.0000 - importances_loss: 145342016.0000 - output_loss: 143917184.0000 - importances_root_mean_squared_error: 12055.7881 - output_root_mean_squared_error: 11996.5488"
     ]
    },
    {
     "name": "stderr",
     "output_type": "stream",
     "text": [
      "WARNING:absl:Function `_wrapped_model` contains input name(s) EVI, LC_Type1, LST_Day_1km, NDVI with unsupported characters which will be renamed to evi, lc_type1, lst_day_1km, ndvi in the SavedModel.\n",
      "WARNING:absl:Found untraced functions such as _update_step_xla, dense_layer_call_fn, dense_layer_call_and_return_conditional_losses, dense_1_layer_call_fn, dense_1_layer_call_and_return_conditional_losses while saving (showing 5 of 95). These functions will not be directly callable after loading.\n"
     ]
    },
    {
     "name": "stdout",
     "output_type": "stream",
     "text": [
      "4/4 [==============================] - 28s 9s/step - loss: 289259200.0000 - importances_loss: 145342016.0000 - output_loss: 143917184.0000 - importances_root_mean_squared_error: 12055.7881 - output_root_mean_squared_error: 11996.5488 - val_loss: 295149568.0000 - val_importances_loss: 148593424.0000 - val_output_loss: 146556128.0000 - val_importances_root_mean_squared_error: 12189.8896 - val_output_root_mean_squared_error: 12106.0371\n",
      "Epoch 7/200\n",
      "3/4 [=====================>........] - ETA: 0s - loss: 291918560.0000 - importances_loss: 147099728.0000 - output_loss: 144818816.0000 - importances_root_mean_squared_error: 12128.4678 - output_root_mean_squared_error: 12034.0693"
     ]
    },
    {
     "name": "stderr",
     "output_type": "stream",
     "text": [
      "WARNING:absl:Function `_wrapped_model` contains input name(s) EVI, LC_Type1, LST_Day_1km, NDVI with unsupported characters which will be renamed to evi, lc_type1, lst_day_1km, ndvi in the SavedModel.\n",
      "WARNING:absl:Found untraced functions such as _update_step_xla, dense_layer_call_fn, dense_layer_call_and_return_conditional_losses, dense_1_layer_call_fn, dense_1_layer_call_and_return_conditional_losses while saving (showing 5 of 95). These functions will not be directly callable after loading.\n"
     ]
    },
    {
     "name": "stdout",
     "output_type": "stream",
     "text": [
      "4/4 [==============================] - 26s 9s/step - loss: 288401248.0000 - importances_loss: 145342016.0000 - output_loss: 143059216.0000 - importances_root_mean_squared_error: 12055.7871 - output_root_mean_squared_error: 11960.7363 - val_loss: 293971392.0000 - val_importances_loss: 148593392.0000 - val_output_loss: 145378000.0000 - val_importances_root_mean_squared_error: 12189.8896 - val_output_root_mean_squared_error: 12057.2803\n",
      "Epoch 8/200\n",
      "4/4 [==============================] - ETA: 0s - loss: 287102784.0000 - importances_loss: 145342016.0000 - output_loss: 141760768.0000 - importances_root_mean_squared_error: 12055.7881 - output_root_mean_squared_error: 11906.3330"
     ]
    },
    {
     "name": "stderr",
     "output_type": "stream",
     "text": [
      "WARNING:absl:Function `_wrapped_model` contains input name(s) EVI, LC_Type1, LST_Day_1km, NDVI with unsupported characters which will be renamed to evi, lc_type1, lst_day_1km, ndvi in the SavedModel.\n",
      "WARNING:absl:Found untraced functions such as _update_step_xla, dense_layer_call_fn, dense_layer_call_and_return_conditional_losses, dense_1_layer_call_fn, dense_1_layer_call_and_return_conditional_losses while saving (showing 5 of 95). These functions will not be directly callable after loading.\n"
     ]
    },
    {
     "name": "stdout",
     "output_type": "stream",
     "text": [
      "4/4 [==============================] - 29s 10s/step - loss: 287102784.0000 - importances_loss: 145342016.0000 - output_loss: 141760768.0000 - importances_root_mean_squared_error: 12055.7881 - output_root_mean_squared_error: 11906.3330 - val_loss: 292185984.0000 - val_importances_loss: 148593424.0000 - val_output_loss: 143592544.0000 - val_importances_root_mean_squared_error: 12189.8896 - val_output_root_mean_squared_error: 11983.0107\n",
      "Epoch 9/200\n",
      "3/4 [=====================>........] - ETA: 0s - loss: 287236608.0000 - importances_loss: 146404128.0000 - output_loss: 140832496.0000 - importances_root_mean_squared_error: 12099.7578 - output_root_mean_squared_error: 11867.2871"
     ]
    },
    {
     "name": "stderr",
     "output_type": "stream",
     "text": [
      "WARNING:absl:Function `_wrapped_model` contains input name(s) EVI, LC_Type1, LST_Day_1km, NDVI with unsupported characters which will be renamed to evi, lc_type1, lst_day_1km, ndvi in the SavedModel.\n",
      "WARNING:absl:Found untraced functions such as _update_step_xla, dense_layer_call_fn, dense_layer_call_and_return_conditional_losses, dense_1_layer_call_fn, dense_1_layer_call_and_return_conditional_losses while saving (showing 5 of 95). These functions will not be directly callable after loading.\n"
     ]
    },
    {
     "name": "stdout",
     "output_type": "stream",
     "text": [
      "4/4 [==============================] - 29s 9s/step - loss: 285105248.0000 - importances_loss: 145342016.0000 - output_loss: 139763248.0000 - importances_root_mean_squared_error: 12055.7881 - output_root_mean_squared_error: 11822.1504 - val_loss: 289521856.0000 - val_importances_loss: 148593408.0000 - val_output_loss: 140928448.0000 - val_importances_root_mean_squared_error: 12189.8896 - val_output_root_mean_squared_error: 11871.3291\n",
      "Epoch 10/200\n",
      "4/4 [==============================] - ETA: 0s - loss: 282198400.0000 - importances_loss: 145342016.0000 - output_loss: 136856368.0000 - importances_root_mean_squared_error: 12055.7881 - output_root_mean_squared_error: 11698.5625"
     ]
    },
    {
     "name": "stderr",
     "output_type": "stream",
     "text": [
      "WARNING:absl:Function `_wrapped_model` contains input name(s) EVI, LC_Type1, LST_Day_1km, NDVI with unsupported characters which will be renamed to evi, lc_type1, lst_day_1km, ndvi in the SavedModel.\n",
      "WARNING:absl:Found untraced functions such as _update_step_xla, dense_layer_call_fn, dense_layer_call_and_return_conditional_losses, dense_1_layer_call_fn, dense_1_layer_call_and_return_conditional_losses while saving (showing 5 of 95). These functions will not be directly callable after loading.\n"
     ]
    },
    {
     "name": "stdout",
     "output_type": "stream",
     "text": [
      "4/4 [==============================] - 29s 10s/step - loss: 282198400.0000 - importances_loss: 145342016.0000 - output_loss: 136856368.0000 - importances_root_mean_squared_error: 12055.7881 - output_root_mean_squared_error: 11698.5625 - val_loss: 285627712.0000 - val_importances_loss: 148593408.0000 - val_output_loss: 137034304.0000 - val_importances_root_mean_squared_error: 12189.8896 - val_output_root_mean_squared_error: 11706.1650\n",
      "Epoch 11/200\n",
      "4/4 [==============================] - ETA: 0s - loss: 277874112.0000 - importances_loss: 145342016.0000 - output_loss: 132532112.0000 - importances_root_mean_squared_error: 12055.7881 - output_root_mean_squared_error: 11512.2588"
     ]
    },
    {
     "name": "stderr",
     "output_type": "stream",
     "text": [
      "WARNING:absl:Function `_wrapped_model` contains input name(s) EVI, LC_Type1, LST_Day_1km, NDVI with unsupported characters which will be renamed to evi, lc_type1, lst_day_1km, ndvi in the SavedModel.\n",
      "WARNING:absl:Found untraced functions such as _update_step_xla, dense_layer_call_fn, dense_layer_call_and_return_conditional_losses, dense_1_layer_call_fn, dense_1_layer_call_and_return_conditional_losses while saving (showing 5 of 95). These functions will not be directly callable after loading.\n"
     ]
    },
    {
     "name": "stdout",
     "output_type": "stream",
     "text": [
      "4/4 [==============================] - 29s 10s/step - loss: 277874112.0000 - importances_loss: 145342016.0000 - output_loss: 132532112.0000 - importances_root_mean_squared_error: 12055.7881 - output_root_mean_squared_error: 11512.2588 - val_loss: 280068928.0000 - val_importances_loss: 148593392.0000 - val_output_loss: 131475552.0000 - val_importances_root_mean_squared_error: 12189.8896 - val_output_root_mean_squared_error: 11466.2793\n",
      "Epoch 12/200\n",
      "4/4 [==============================] - ETA: 0s - loss: 271879616.0000 - importances_loss: 145342016.0000 - output_loss: 126537616.0000 - importances_root_mean_squared_error: 12055.7871 - output_root_mean_squared_error: 11248.8936"
     ]
    },
    {
     "name": "stderr",
     "output_type": "stream",
     "text": [
      "WARNING:absl:Function `_wrapped_model` contains input name(s) EVI, LC_Type1, LST_Day_1km, NDVI with unsupported characters which will be renamed to evi, lc_type1, lst_day_1km, ndvi in the SavedModel.\n",
      "WARNING:absl:Found untraced functions such as _update_step_xla, dense_layer_call_fn, dense_layer_call_and_return_conditional_losses, dense_1_layer_call_fn, dense_1_layer_call_and_return_conditional_losses while saving (showing 5 of 95). These functions will not be directly callable after loading.\n"
     ]
    },
    {
     "name": "stdout",
     "output_type": "stream",
     "text": [
      "4/4 [==============================] - 26s 9s/step - loss: 271879616.0000 - importances_loss: 145342016.0000 - output_loss: 126537616.0000 - importances_root_mean_squared_error: 12055.7871 - output_root_mean_squared_error: 11248.8936 - val_loss: 272389632.0000 - val_importances_loss: 148593392.0000 - val_output_loss: 123796256.0000 - val_importances_root_mean_squared_error: 12189.8906 - val_output_root_mean_squared_error: 11126.3770\n",
      "Epoch 13/200\n",
      "3/4 [=====================>........] - ETA: 0s - loss: 263394096.0000 - importances_loss: 145117664.0000 - output_loss: 118276440.0000 - importances_root_mean_squared_error: 12046.4795 - output_root_mean_squared_error: 10875.4971"
     ]
    },
    {
     "name": "stderr",
     "output_type": "stream",
     "text": [
      "WARNING:absl:Function `_wrapped_model` contains input name(s) EVI, LC_Type1, LST_Day_1km, NDVI with unsupported characters which will be renamed to evi, lc_type1, lst_day_1km, ndvi in the SavedModel.\n",
      "WARNING:absl:Found untraced functions such as _update_step_xla, dense_layer_call_fn, dense_layer_call_and_return_conditional_losses, dense_1_layer_call_fn, dense_1_layer_call_and_return_conditional_losses while saving (showing 5 of 95). These functions will not be directly callable after loading.\n"
     ]
    },
    {
     "name": "stdout",
     "output_type": "stream",
     "text": [
      "4/4 [==============================] - 16s 5s/step - loss: 263569392.0000 - importances_loss: 145342016.0000 - output_loss: 118227376.0000 - importances_root_mean_squared_error: 12055.7881 - output_root_mean_squared_error: 10873.2412 - val_loss: 262240448.0000 - val_importances_loss: 148593408.0000 - val_output_loss: 113647040.0000 - val_importances_root_mean_squared_error: 12189.8896 - val_output_root_mean_squared_error: 10660.5361\n",
      "Epoch 14/200\n",
      "3/4 [=====================>........] - ETA: 0s - loss: 255345280.0000 - importances_loss: 146539280.0000 - output_loss: 108805992.0000 - importances_root_mean_squared_error: 12105.3418 - output_root_mean_squared_error: 10431.0107"
     ]
    },
    {
     "name": "stderr",
     "output_type": "stream",
     "text": [
      "WARNING:absl:Function `_wrapped_model` contains input name(s) EVI, LC_Type1, LST_Day_1km, NDVI with unsupported characters which will be renamed to evi, lc_type1, lst_day_1km, ndvi in the SavedModel.\n",
      "WARNING:absl:Found untraced functions such as _update_step_xla, dense_layer_call_fn, dense_layer_call_and_return_conditional_losses, dense_1_layer_call_fn, dense_1_layer_call_and_return_conditional_losses while saving (showing 5 of 95). These functions will not be directly callable after loading.\n"
     ]
    },
    {
     "name": "stdout",
     "output_type": "stream",
     "text": [
      "4/4 [==============================] - 9s 3s/step - loss: 252927184.0000 - importances_loss: 145342016.0000 - output_loss: 107585168.0000 - importances_root_mean_squared_error: 12055.7881 - output_root_mean_squared_error: 10372.3271 - val_loss: 249303088.0000 - val_importances_loss: 148593408.0000 - val_output_loss: 100709664.0000 - val_importances_root_mean_squared_error: 12189.8906 - val_output_root_mean_squared_error: 10035.4209\n",
      "Epoch 15/200\n",
      "3/4 [=====================>........] - ETA: 0s - loss: 238880320.0000 - importances_loss: 144929408.0000 - output_loss: 93950904.0000 - importances_root_mean_squared_error: 12038.6631 - output_root_mean_squared_error: 9692.8271"
     ]
    },
    {
     "name": "stderr",
     "output_type": "stream",
     "text": [
      "WARNING:absl:Function `_wrapped_model` contains input name(s) EVI, LC_Type1, LST_Day_1km, NDVI with unsupported characters which will be renamed to evi, lc_type1, lst_day_1km, ndvi in the SavedModel.\n",
      "WARNING:absl:Found untraced functions such as _update_step_xla, dense_layer_call_fn, dense_layer_call_and_return_conditional_losses, dense_1_layer_call_fn, dense_1_layer_call_and_return_conditional_losses while saving (showing 5 of 95). These functions will not be directly callable after loading.\n"
     ]
    },
    {
     "name": "stdout",
     "output_type": "stream",
     "text": [
      "4/4 [==============================] - 9s 3s/step - loss: 239408208.0000 - importances_loss: 145342016.0000 - output_loss: 94066192.0000 - importances_root_mean_squared_error: 12055.7871 - output_root_mean_squared_error: 9698.7725 - val_loss: 234011520.0000 - val_importances_loss: 148593392.0000 - val_output_loss: 85418120.0000 - val_importances_root_mean_squared_error: 12189.8906 - val_output_root_mean_squared_error: 9242.1924\n",
      "Epoch 16/200\n",
      "3/4 [=====================>........] - ETA: 0s - loss: 226631936.0000 - importances_loss: 146727312.0000 - output_loss: 79904616.0000 - importances_root_mean_squared_error: 12113.1045 - output_root_mean_squared_error: 8938.9385"
     ]
    },
    {
     "name": "stderr",
     "output_type": "stream",
     "text": [
      "WARNING:absl:Function `_wrapped_model` contains input name(s) EVI, LC_Type1, LST_Day_1km, NDVI with unsupported characters which will be renamed to evi, lc_type1, lst_day_1km, ndvi in the SavedModel.\n",
      "WARNING:absl:Found untraced functions such as _update_step_xla, dense_layer_call_fn, dense_layer_call_and_return_conditional_losses, dense_1_layer_call_fn, dense_1_layer_call_and_return_conditional_losses while saving (showing 5 of 95). These functions will not be directly callable after loading.\n"
     ]
    },
    {
     "name": "stdout",
     "output_type": "stream",
     "text": [
      "4/4 [==============================] - 9s 3s/step - loss: 224044288.0000 - importances_loss: 145342016.0000 - output_loss: 78702256.0000 - importances_root_mean_squared_error: 12055.7881 - output_root_mean_squared_error: 8871.4287 - val_loss: 217540368.0000 - val_importances_loss: 148593408.0000 - val_output_loss: 68946936.0000 - val_importances_root_mean_squared_error: 12189.8906 - val_output_root_mean_squared_error: 8303.4287\n",
      "Epoch 17/200\n",
      "3/4 [=====================>........] - ETA: 0s - loss: 210276656.0000 - importances_loss: 146693840.0000 - output_loss: 63582816.0000 - importances_root_mean_squared_error: 12111.7236 - output_root_mean_squared_error: 7973.8833"
     ]
    },
    {
     "name": "stderr",
     "output_type": "stream",
     "text": [
      "WARNING:absl:Function `_wrapped_model` contains input name(s) EVI, LC_Type1, LST_Day_1km, NDVI with unsupported characters which will be renamed to evi, lc_type1, lst_day_1km, ndvi in the SavedModel.\n",
      "WARNING:absl:Found untraced functions such as _update_step_xla, dense_layer_call_fn, dense_layer_call_and_return_conditional_losses, dense_1_layer_call_fn, dense_1_layer_call_and_return_conditional_losses while saving (showing 5 of 95). These functions will not be directly callable after loading.\n"
     ]
    },
    {
     "name": "stdout",
     "output_type": "stream",
     "text": [
      "4/4 [==============================] - 10s 3s/step - loss: 207934592.0000 - importances_loss: 145342016.0000 - output_loss: 62592580.0000 - importances_root_mean_squared_error: 12055.7881 - output_root_mean_squared_error: 7911.5474 - val_loss: 202700192.0000 - val_importances_loss: 148593392.0000 - val_output_loss: 54106808.0000 - val_importances_root_mean_squared_error: 12189.8896 - val_output_root_mean_squared_error: 7355.7329\n",
      "Epoch 18/200\n",
      "3/4 [=====================>........] - ETA: 0s - loss: 195201648.0000 - importances_loss: 145497968.0000 - output_loss: 49703660.0000 - importances_root_mean_squared_error: 12062.2539 - output_root_mean_squared_error: 7050.0820"
     ]
    },
    {
     "name": "stderr",
     "output_type": "stream",
     "text": [
      "WARNING:absl:Function `_wrapped_model` contains input name(s) EVI, LC_Type1, LST_Day_1km, NDVI with unsupported characters which will be renamed to evi, lc_type1, lst_day_1km, ndvi in the SavedModel.\n",
      "WARNING:absl:Found untraced functions such as _update_step_xla, dense_layer_call_fn, dense_layer_call_and_return_conditional_losses, dense_1_layer_call_fn, dense_1_layer_call_and_return_conditional_losses while saving (showing 5 of 95). These functions will not be directly callable after loading.\n"
     ]
    },
    {
     "name": "stdout",
     "output_type": "stream",
     "text": [
      "4/4 [==============================] - 23s 7s/step - loss: 194542528.0000 - importances_loss: 145342016.0000 - output_loss: 49200492.0000 - importances_root_mean_squared_error: 12055.7871 - output_root_mean_squared_error: 7014.3062 - val_loss: 193268016.0000 - val_importances_loss: 148593392.0000 - val_output_loss: 44674620.0000 - val_importances_root_mean_squared_error: 12189.8906 - val_output_root_mean_squared_error: 6683.9077\n",
      "Epoch 19/200\n",
      "4/4 [==============================] - ETA: 0s - loss: 187381856.0000 - importances_loss: 145342032.0000 - output_loss: 42039824.0000 - importances_root_mean_squared_error: 12055.7881 - output_root_mean_squared_error: 6483.8125"
     ]
    },
    {
     "name": "stderr",
     "output_type": "stream",
     "text": [
      "WARNING:absl:Function `_wrapped_model` contains input name(s) EVI, LC_Type1, LST_Day_1km, NDVI with unsupported characters which will be renamed to evi, lc_type1, lst_day_1km, ndvi in the SavedModel.\n",
      "WARNING:absl:Found untraced functions such as _update_step_xla, dense_layer_call_fn, dense_layer_call_and_return_conditional_losses, dense_1_layer_call_fn, dense_1_layer_call_and_return_conditional_losses while saving (showing 5 of 95). These functions will not be directly callable after loading.\n"
     ]
    },
    {
     "name": "stdout",
     "output_type": "stream",
     "text": [
      "4/4 [==============================] - 26s 9s/step - loss: 187381856.0000 - importances_loss: 145342032.0000 - output_loss: 42039824.0000 - importances_root_mean_squared_error: 12055.7881 - output_root_mean_squared_error: 6483.8125 - val_loss: 191217520.0000 - val_importances_loss: 148593392.0000 - val_output_loss: 42624124.0000 - val_importances_root_mean_squared_error: 12189.8896 - val_output_root_mean_squared_error: 6528.7153\n",
      "Epoch 20/200\n",
      "4/4 [==============================] - 1s 245ms/step - loss: 186652720.0000 - importances_loss: 145342016.0000 - output_loss: 41310700.0000 - importances_root_mean_squared_error: 12055.7881 - output_root_mean_squared_error: 6427.3398 - val_loss: 191615952.0000 - val_importances_loss: 148593392.0000 - val_output_loss: 43022568.0000 - val_importances_root_mean_squared_error: 12189.8906 - val_output_root_mean_squared_error: 6559.1592\n",
      "Epoch 21/200\n",
      "4/4 [==============================] - ETA: 0s - loss: 186054528.0000 - importances_loss: 145342016.0000 - output_loss: 40712504.0000 - importances_root_mean_squared_error: 12055.7881 - output_root_mean_squared_error: 6380.6353"
     ]
    },
    {
     "name": "stderr",
     "output_type": "stream",
     "text": [
      "WARNING:absl:Function `_wrapped_model` contains input name(s) EVI, LC_Type1, LST_Day_1km, NDVI with unsupported characters which will be renamed to evi, lc_type1, lst_day_1km, ndvi in the SavedModel.\n",
      "WARNING:absl:Found untraced functions such as _update_step_xla, dense_layer_call_fn, dense_layer_call_and_return_conditional_losses, dense_1_layer_call_fn, dense_1_layer_call_and_return_conditional_losses while saving (showing 5 of 95). These functions will not be directly callable after loading.\n"
     ]
    },
    {
     "name": "stdout",
     "output_type": "stream",
     "text": [
      "4/4 [==============================] - 27s 9s/step - loss: 186054528.0000 - importances_loss: 145342016.0000 - output_loss: 40712504.0000 - importances_root_mean_squared_error: 12055.7881 - output_root_mean_squared_error: 6380.6353 - val_loss: 188893904.0000 - val_importances_loss: 148593392.0000 - val_output_loss: 40300512.0000 - val_importances_root_mean_squared_error: 12189.8906 - val_output_root_mean_squared_error: 6348.2686\n",
      "Epoch 22/200\n",
      "4/4 [==============================] - ETA: 0s - loss: 183015312.0000 - importances_loss: 145342016.0000 - output_loss: 37673316.0000 - importances_root_mean_squared_error: 12055.7871 - output_root_mean_squared_error: 6137.8594"
     ]
    },
    {
     "name": "stderr",
     "output_type": "stream",
     "text": [
      "WARNING:absl:Function `_wrapped_model` contains input name(s) EVI, LC_Type1, LST_Day_1km, NDVI with unsupported characters which will be renamed to evi, lc_type1, lst_day_1km, ndvi in the SavedModel.\n",
      "WARNING:absl:Found untraced functions such as _update_step_xla, dense_layer_call_fn, dense_layer_call_and_return_conditional_losses, dense_1_layer_call_fn, dense_1_layer_call_and_return_conditional_losses while saving (showing 5 of 95). These functions will not be directly callable after loading.\n"
     ]
    },
    {
     "name": "stdout",
     "output_type": "stream",
     "text": [
      "4/4 [==============================] - 27s 9s/step - loss: 183015312.0000 - importances_loss: 145342016.0000 - output_loss: 37673316.0000 - importances_root_mean_squared_error: 12055.7871 - output_root_mean_squared_error: 6137.8594 - val_loss: 186034560.0000 - val_importances_loss: 148593424.0000 - val_output_loss: 37441136.0000 - val_importances_root_mean_squared_error: 12189.8896 - val_output_root_mean_squared_error: 6118.9160\n",
      "Epoch 23/200\n",
      "4/4 [==============================] - ETA: 0s - loss: 180536080.0000 - importances_loss: 145342032.0000 - output_loss: 35194052.0000 - importances_root_mean_squared_error: 12055.7881 - output_root_mean_squared_error: 5932.4575"
     ]
    },
    {
     "name": "stderr",
     "output_type": "stream",
     "text": [
      "WARNING:absl:Function `_wrapped_model` contains input name(s) EVI, LC_Type1, LST_Day_1km, NDVI with unsupported characters which will be renamed to evi, lc_type1, lst_day_1km, ndvi in the SavedModel.\n",
      "WARNING:absl:Found untraced functions such as _update_step_xla, dense_layer_call_fn, dense_layer_call_and_return_conditional_losses, dense_1_layer_call_fn, dense_1_layer_call_and_return_conditional_losses while saving (showing 5 of 95). These functions will not be directly callable after loading.\n"
     ]
    },
    {
     "name": "stdout",
     "output_type": "stream",
     "text": [
      "4/4 [==============================] - 29s 10s/step - loss: 180536080.0000 - importances_loss: 145342032.0000 - output_loss: 35194052.0000 - importances_root_mean_squared_error: 12055.7881 - output_root_mean_squared_error: 5932.4575 - val_loss: 185874016.0000 - val_importances_loss: 148593392.0000 - val_output_loss: 37280628.0000 - val_importances_root_mean_squared_error: 12189.8906 - val_output_root_mean_squared_error: 6105.7866\n",
      "Epoch 24/200\n",
      "4/4 [==============================] - ETA: 0s - loss: 179751504.0000 - importances_loss: 145342016.0000 - output_loss: 34409472.0000 - importances_root_mean_squared_error: 12055.7881 - output_root_mean_squared_error: 5865.9590"
     ]
    },
    {
     "name": "stderr",
     "output_type": "stream",
     "text": [
      "WARNING:absl:Function `_wrapped_model` contains input name(s) EVI, LC_Type1, LST_Day_1km, NDVI with unsupported characters which will be renamed to evi, lc_type1, lst_day_1km, ndvi in the SavedModel.\n",
      "WARNING:absl:Found untraced functions such as _update_step_xla, dense_layer_call_fn, dense_layer_call_and_return_conditional_losses, dense_1_layer_call_fn, dense_1_layer_call_and_return_conditional_losses while saving (showing 5 of 95). These functions will not be directly callable after loading.\n"
     ]
    },
    {
     "name": "stdout",
     "output_type": "stream",
     "text": [
      "4/4 [==============================] - 30s 10s/step - loss: 179751504.0000 - importances_loss: 145342016.0000 - output_loss: 34409472.0000 - importances_root_mean_squared_error: 12055.7881 - output_root_mean_squared_error: 5865.9590 - val_loss: 184077840.0000 - val_importances_loss: 148593392.0000 - val_output_loss: 35484448.0000 - val_importances_root_mean_squared_error: 12189.8906 - val_output_root_mean_squared_error: 5956.8823\n",
      "Epoch 25/200\n",
      "4/4 [==============================] - ETA: 0s - loss: 177674352.0000 - importances_loss: 145342016.0000 - output_loss: 32332344.0000 - importances_root_mean_squared_error: 12055.7871 - output_root_mean_squared_error: 5686.1538"
     ]
    },
    {
     "name": "stderr",
     "output_type": "stream",
     "text": [
      "WARNING:absl:Function `_wrapped_model` contains input name(s) EVI, LC_Type1, LST_Day_1km, NDVI with unsupported characters which will be renamed to evi, lc_type1, lst_day_1km, ndvi in the SavedModel.\n",
      "WARNING:absl:Found untraced functions such as _update_step_xla, dense_layer_call_fn, dense_layer_call_and_return_conditional_losses, dense_1_layer_call_fn, dense_1_layer_call_and_return_conditional_losses while saving (showing 5 of 95). These functions will not be directly callable after loading.\n"
     ]
    },
    {
     "name": "stdout",
     "output_type": "stream",
     "text": [
      "4/4 [==============================] - 29s 9s/step - loss: 177674352.0000 - importances_loss: 145342016.0000 - output_loss: 32332344.0000 - importances_root_mean_squared_error: 12055.7871 - output_root_mean_squared_error: 5686.1538 - val_loss: 181466976.0000 - val_importances_loss: 148593392.0000 - val_output_loss: 32873588.0000 - val_importances_root_mean_squared_error: 12189.8896 - val_output_root_mean_squared_error: 5733.5493\n",
      "Epoch 26/200\n",
      "4/4 [==============================] - ETA: 0s - loss: 174762640.0000 - importances_loss: 145342016.0000 - output_loss: 29420606.0000 - importances_root_mean_squared_error: 12055.7881 - output_root_mean_squared_error: 5424.0767"
     ]
    },
    {
     "name": "stderr",
     "output_type": "stream",
     "text": [
      "WARNING:absl:Function `_wrapped_model` contains input name(s) EVI, LC_Type1, LST_Day_1km, NDVI with unsupported characters which will be renamed to evi, lc_type1, lst_day_1km, ndvi in the SavedModel.\n",
      "WARNING:absl:Found untraced functions such as _update_step_xla, dense_layer_call_fn, dense_layer_call_and_return_conditional_losses, dense_1_layer_call_fn, dense_1_layer_call_and_return_conditional_losses while saving (showing 5 of 95). These functions will not be directly callable after loading.\n"
     ]
    },
    {
     "name": "stdout",
     "output_type": "stream",
     "text": [
      "4/4 [==============================] - 29s 9s/step - loss: 174762640.0000 - importances_loss: 145342016.0000 - output_loss: 29420606.0000 - importances_root_mean_squared_error: 12055.7881 - output_root_mean_squared_error: 5424.0767 - val_loss: 178231616.0000 - val_importances_loss: 148593392.0000 - val_output_loss: 29638218.0000 - val_importances_root_mean_squared_error: 12189.8906 - val_output_root_mean_squared_error: 5444.0996\n",
      "Epoch 27/200\n",
      "3/4 [=====================>........] - ETA: 0s - loss: 169542160.0000 - importances_loss: 143892544.0000 - output_loss: 25649626.0000 - importances_root_mean_squared_error: 11995.5215 - output_root_mean_squared_error: 5064.5459"
     ]
    },
    {
     "name": "stderr",
     "output_type": "stream",
     "text": [
      "WARNING:absl:Function `_wrapped_model` contains input name(s) EVI, LC_Type1, LST_Day_1km, NDVI with unsupported characters which will be renamed to evi, lc_type1, lst_day_1km, ndvi in the SavedModel.\n",
      "WARNING:absl:Found untraced functions such as _update_step_xla, dense_layer_call_fn, dense_layer_call_and_return_conditional_losses, dense_1_layer_call_fn, dense_1_layer_call_and_return_conditional_losses while saving (showing 5 of 95). These functions will not be directly callable after loading.\n"
     ]
    },
    {
     "name": "stdout",
     "output_type": "stream",
     "text": [
      "4/4 [==============================] - 20s 7s/step - loss: 171291552.0000 - importances_loss: 145342016.0000 - output_loss: 25949540.0000 - importances_root_mean_squared_error: 12055.7871 - output_root_mean_squared_error: 5094.0693 - val_loss: 175111376.0000 - val_importances_loss: 148593392.0000 - val_output_loss: 26517990.0000 - val_importances_root_mean_squared_error: 12189.8906 - val_output_root_mean_squared_error: 5149.5620\n",
      "Epoch 28/200\n",
      "3/4 [=====================>........] - ETA: 0s - loss: 168810320.0000 - importances_loss: 146434176.0000 - output_loss: 22376146.0000 - importances_root_mean_squared_error: 12100.9990 - output_root_mean_squared_error: 4730.3433"
     ]
    },
    {
     "name": "stderr",
     "output_type": "stream",
     "text": [
      "WARNING:absl:Function `_wrapped_model` contains input name(s) EVI, LC_Type1, LST_Day_1km, NDVI with unsupported characters which will be renamed to evi, lc_type1, lst_day_1km, ndvi in the SavedModel.\n",
      "WARNING:absl:Found untraced functions such as _update_step_xla, dense_layer_call_fn, dense_layer_call_and_return_conditional_losses, dense_1_layer_call_fn, dense_1_layer_call_and_return_conditional_losses while saving (showing 5 of 95). These functions will not be directly callable after loading.\n"
     ]
    },
    {
     "name": "stdout",
     "output_type": "stream",
     "text": [
      "4/4 [==============================] - 27s 9s/step - loss: 167553584.0000 - importances_loss: 145342016.0000 - output_loss: 22211560.0000 - importances_root_mean_squared_error: 12055.7881 - output_root_mean_squared_error: 4712.9141 - val_loss: 173032352.0000 - val_importances_loss: 148593408.0000 - val_output_loss: 24438948.0000 - val_importances_root_mean_squared_error: 12189.8896 - val_output_root_mean_squared_error: 4943.5767\n",
      "Epoch 29/200\n",
      "4/4 [==============================] - ETA: 0s - loss: 164867952.0000 - importances_loss: 145342016.0000 - output_loss: 19525938.0000 - importances_root_mean_squared_error: 12055.7881 - output_root_mean_squared_error: 4418.8164"
     ]
    },
    {
     "name": "stderr",
     "output_type": "stream",
     "text": [
      "WARNING:absl:Function `_wrapped_model` contains input name(s) EVI, LC_Type1, LST_Day_1km, NDVI with unsupported characters which will be renamed to evi, lc_type1, lst_day_1km, ndvi in the SavedModel.\n",
      "WARNING:absl:Found untraced functions such as _update_step_xla, dense_layer_call_fn, dense_layer_call_and_return_conditional_losses, dense_1_layer_call_fn, dense_1_layer_call_and_return_conditional_losses while saving (showing 5 of 95). These functions will not be directly callable after loading.\n"
     ]
    },
    {
     "name": "stdout",
     "output_type": "stream",
     "text": [
      "4/4 [==============================] - 26s 9s/step - loss: 164867952.0000 - importances_loss: 145342016.0000 - output_loss: 19525938.0000 - importances_root_mean_squared_error: 12055.7881 - output_root_mean_squared_error: 4418.8164 - val_loss: 172013856.0000 - val_importances_loss: 148593392.0000 - val_output_loss: 23420470.0000 - val_importances_root_mean_squared_error: 12189.8906 - val_output_root_mean_squared_error: 4839.4702\n",
      "Epoch 30/200\n",
      "3/4 [=====================>........] - ETA: 0s - loss: 165446640.0000 - importances_loss: 146506864.0000 - output_loss: 18939774.0000 - importances_root_mean_squared_error: 12104.0029 - output_root_mean_squared_error: 4351.9849"
     ]
    },
    {
     "name": "stderr",
     "output_type": "stream",
     "text": [
      "WARNING:absl:Function `_wrapped_model` contains input name(s) EVI, LC_Type1, LST_Day_1km, NDVI with unsupported characters which will be renamed to evi, lc_type1, lst_day_1km, ndvi in the SavedModel.\n",
      "WARNING:absl:Found untraced functions such as _update_step_xla, dense_layer_call_fn, dense_layer_call_and_return_conditional_losses, dense_1_layer_call_fn, dense_1_layer_call_and_return_conditional_losses while saving (showing 5 of 95). These functions will not be directly callable after loading.\n"
     ]
    },
    {
     "name": "stdout",
     "output_type": "stream",
     "text": [
      "4/4 [==============================] - 27s 9s/step - loss: 164004784.0000 - importances_loss: 145342016.0000 - output_loss: 18662764.0000 - importances_root_mean_squared_error: 12055.7881 - output_root_mean_squared_error: 4320.0420 - val_loss: 171118928.0000 - val_importances_loss: 148593392.0000 - val_output_loss: 22525538.0000 - val_importances_root_mean_squared_error: 12189.8906 - val_output_root_mean_squared_error: 4746.1079\n",
      "Epoch 31/200\n",
      "3/4 [=====================>........] - ETA: 0s - loss: 162604272.0000 - importances_loss: 144915056.0000 - output_loss: 17689216.0000 - importances_root_mean_squared_error: 12038.0664 - output_root_mean_squared_error: 4205.8550"
     ]
    },
    {
     "name": "stderr",
     "output_type": "stream",
     "text": [
      "WARNING:absl:Function `_wrapped_model` contains input name(s) EVI, LC_Type1, LST_Day_1km, NDVI with unsupported characters which will be renamed to evi, lc_type1, lst_day_1km, ndvi in the SavedModel.\n",
      "WARNING:absl:Found untraced functions such as _update_step_xla, dense_layer_call_fn, dense_layer_call_and_return_conditional_losses, dense_1_layer_call_fn, dense_1_layer_call_and_return_conditional_losses while saving (showing 5 of 95). These functions will not be directly callable after loading.\n"
     ]
    },
    {
     "name": "stdout",
     "output_type": "stream",
     "text": [
      "4/4 [==============================] - 25s 8s/step - loss: 163092576.0000 - importances_loss: 145342016.0000 - output_loss: 17750556.0000 - importances_root_mean_squared_error: 12055.7871 - output_root_mean_squared_error: 4213.1411 - val_loss: 170962304.0000 - val_importances_loss: 148593392.0000 - val_output_loss: 22368912.0000 - val_importances_root_mean_squared_error: 12189.8896 - val_output_root_mean_squared_error: 4729.5786\n",
      "Epoch 32/200\n",
      "4/4 [==============================] - ETA: 0s - loss: 163145040.0000 - importances_loss: 145342016.0000 - output_loss: 17803038.0000 - importances_root_mean_squared_error: 12055.7881 - output_root_mean_squared_error: 4219.3647"
     ]
    },
    {
     "name": "stderr",
     "output_type": "stream",
     "text": [
      "WARNING:absl:Function `_wrapped_model` contains input name(s) EVI, LC_Type1, LST_Day_1km, NDVI with unsupported characters which will be renamed to evi, lc_type1, lst_day_1km, ndvi in the SavedModel.\n",
      "WARNING:absl:Found untraced functions such as _update_step_xla, dense_layer_call_fn, dense_layer_call_and_return_conditional_losses, dense_1_layer_call_fn, dense_1_layer_call_and_return_conditional_losses while saving (showing 5 of 95). These functions will not be directly callable after loading.\n"
     ]
    },
    {
     "name": "stdout",
     "output_type": "stream",
     "text": [
      "4/4 [==============================] - 29s 10s/step - loss: 163145040.0000 - importances_loss: 145342016.0000 - output_loss: 17803038.0000 - importances_root_mean_squared_error: 12055.7881 - output_root_mean_squared_error: 4219.3647 - val_loss: 170670128.0000 - val_importances_loss: 148593392.0000 - val_output_loss: 22076742.0000 - val_importances_root_mean_squared_error: 12189.8896 - val_output_root_mean_squared_error: 4698.5894\n",
      "Epoch 33/200\n",
      "3/4 [=====================>........] - ETA: 0s - loss: 164786128.0000 - importances_loss: 147272272.0000 - output_loss: 17513850.0000 - importances_root_mean_squared_error: 12135.5791 - output_root_mean_squared_error: 4184.9551"
     ]
    },
    {
     "name": "stderr",
     "output_type": "stream",
     "text": [
      "WARNING:absl:Function `_wrapped_model` contains input name(s) EVI, LC_Type1, LST_Day_1km, NDVI with unsupported characters which will be renamed to evi, lc_type1, lst_day_1km, ndvi in the SavedModel.\n",
      "WARNING:absl:Found untraced functions such as _update_step_xla, dense_layer_call_fn, dense_layer_call_and_return_conditional_losses, dense_1_layer_call_fn, dense_1_layer_call_and_return_conditional_losses while saving (showing 5 of 95). These functions will not be directly callable after loading.\n"
     ]
    },
    {
     "name": "stdout",
     "output_type": "stream",
     "text": [
      "4/4 [==============================] - 28s 9s/step - loss: 162606320.0000 - importances_loss: 145342016.0000 - output_loss: 17264302.0000 - importances_root_mean_squared_error: 12055.7881 - output_root_mean_squared_error: 4155.0332 - val_loss: 170281328.0000 - val_importances_loss: 148593392.0000 - val_output_loss: 21687930.0000 - val_importances_root_mean_squared_error: 12189.8906 - val_output_root_mean_squared_error: 4657.0303\n",
      "Epoch 34/200\n",
      "4/4 [==============================] - 1s 175ms/step - loss: 162649200.0000 - importances_loss: 145342016.0000 - output_loss: 17307178.0000 - importances_root_mean_squared_error: 12055.7881 - output_root_mean_squared_error: 4160.1895 - val_loss: 170363184.0000 - val_importances_loss: 148593392.0000 - val_output_loss: 21769792.0000 - val_importances_root_mean_squared_error: 12189.8896 - val_output_root_mean_squared_error: 4665.8110\n",
      "Epoch 35/200\n",
      "4/4 [==============================] - 1s 159ms/step - loss: 162348960.0000 - importances_loss: 145342016.0000 - output_loss: 17006930.0000 - importances_root_mean_squared_error: 12055.7871 - output_root_mean_squared_error: 4123.9458 - val_loss: 170621200.0000 - val_importances_loss: 148593392.0000 - val_output_loss: 22027814.0000 - val_importances_root_mean_squared_error: 12189.8906 - val_output_root_mean_squared_error: 4693.3799\n",
      "Epoch 36/200\n",
      "4/4 [==============================] - 1s 155ms/step - loss: 162165328.0000 - importances_loss: 145342016.0000 - output_loss: 16823312.0000 - importances_root_mean_squared_error: 12055.7871 - output_root_mean_squared_error: 4101.6230 - val_loss: 170589632.0000 - val_importances_loss: 148593392.0000 - val_output_loss: 21996234.0000 - val_importances_root_mean_squared_error: 12189.8896 - val_output_root_mean_squared_error: 4690.0142\n",
      "Epoch 37/200\n",
      "4/4 [==============================] - 1s 165ms/step - loss: 162191520.0000 - importances_loss: 145342016.0000 - output_loss: 16849498.0000 - importances_root_mean_squared_error: 12055.7871 - output_root_mean_squared_error: 4104.8140 - val_loss: 170752336.0000 - val_importances_loss: 148593424.0000 - val_output_loss: 22158906.0000 - val_importances_root_mean_squared_error: 12189.8896 - val_output_root_mean_squared_error: 4707.3247\n",
      "Epoch 38/200\n",
      "4/4 [==============================] - 1s 183ms/step - loss: 161728784.0000 - importances_loss: 145342016.0000 - output_loss: 16386767.0000 - importances_root_mean_squared_error: 12055.7881 - output_root_mean_squared_error: 4048.0571 - val_loss: 171021744.0000 - val_importances_loss: 148593392.0000 - val_output_loss: 22428354.0000 - val_importances_root_mean_squared_error: 12189.8896 - val_output_root_mean_squared_error: 4735.8584\n",
      "Epoch 39/200\n",
      "4/4 [==============================] - 1s 189ms/step - loss: 161924448.0000 - importances_loss: 145342016.0000 - output_loss: 16582431.0000 - importances_root_mean_squared_error: 12055.7871 - output_root_mean_squared_error: 4072.1531 - val_loss: 170665312.0000 - val_importances_loss: 148593408.0000 - val_output_loss: 22071896.0000 - val_importances_root_mean_squared_error: 12189.8896 - val_output_root_mean_squared_error: 4698.0737\n",
      "Epoch 40/200\n",
      "4/4 [==============================] - 1s 207ms/step - loss: 162034128.0000 - importances_loss: 145342016.0000 - output_loss: 16692111.0000 - importances_root_mean_squared_error: 12055.7881 - output_root_mean_squared_error: 4085.5979 - val_loss: 170837264.0000 - val_importances_loss: 148593392.0000 - val_output_loss: 22243878.0000 - val_importances_root_mean_squared_error: 12189.8896 - val_output_root_mean_squared_error: 4716.3418\n",
      "Epoch 41/200\n",
      "4/4 [==============================] - 1s 170ms/step - loss: 161640064.0000 - importances_loss: 145342032.0000 - output_loss: 16298056.0000 - importances_root_mean_squared_error: 12055.7881 - output_root_mean_squared_error: 4037.0852 - val_loss: 170886848.0000 - val_importances_loss: 148593392.0000 - val_output_loss: 22293448.0000 - val_importances_root_mean_squared_error: 12189.8896 - val_output_root_mean_squared_error: 4721.5938\n",
      "Epoch 42/200\n",
      "4/4 [==============================] - 1s 123ms/step - loss: 161728672.0000 - importances_loss: 145342000.0000 - output_loss: 16386668.0000 - importances_root_mean_squared_error: 12055.7881 - output_root_mean_squared_error: 4048.0449 - val_loss: 170694128.0000 - val_importances_loss: 148593424.0000 - val_output_loss: 22100710.0000 - val_importances_root_mean_squared_error: 12189.8896 - val_output_root_mean_squared_error: 4701.1392\n",
      "Epoch 43/200\n",
      "4/4 [==============================] - 1s 142ms/step - loss: 161624816.0000 - importances_loss: 145342016.0000 - output_loss: 16282795.0000 - importances_root_mean_squared_error: 12055.7881 - output_root_mean_squared_error: 4035.1946 - val_loss: 170547936.0000 - val_importances_loss: 148593392.0000 - val_output_loss: 21954550.0000 - val_importances_root_mean_squared_error: 12189.8896 - val_output_root_mean_squared_error: 4685.5684\n",
      "Epoch 44/200\n",
      "4/4 [==============================] - ETA: 0s - loss: 161641696.0000 - importances_loss: 145342016.0000 - output_loss: 16299677.0000 - importances_root_mean_squared_error: 12055.7881 - output_root_mean_squared_error: 4037.2859"
     ]
    },
    {
     "name": "stderr",
     "output_type": "stream",
     "text": [
      "WARNING:absl:Function `_wrapped_model` contains input name(s) EVI, LC_Type1, LST_Day_1km, NDVI with unsupported characters which will be renamed to evi, lc_type1, lst_day_1km, ndvi in the SavedModel.\n",
      "WARNING:absl:Found untraced functions such as _update_step_xla, dense_layer_call_fn, dense_layer_call_and_return_conditional_losses, dense_1_layer_call_fn, dense_1_layer_call_and_return_conditional_losses while saving (showing 5 of 95). These functions will not be directly callable after loading.\n"
     ]
    },
    {
     "name": "stdout",
     "output_type": "stream",
     "text": [
      "4/4 [==============================] - 29s 10s/step - loss: 161641696.0000 - importances_loss: 145342016.0000 - output_loss: 16299677.0000 - importances_root_mean_squared_error: 12055.7881 - output_root_mean_squared_error: 4037.2859 - val_loss: 170154336.0000 - val_importances_loss: 148593392.0000 - val_output_loss: 21560952.0000 - val_importances_root_mean_squared_error: 12189.8896 - val_output_root_mean_squared_error: 4643.3774\n",
      "Epoch 45/200\n",
      "4/4 [==============================] - ETA: 0s - loss: 161652496.0000 - importances_loss: 145342016.0000 - output_loss: 16310470.0000 - importances_root_mean_squared_error: 12055.7881 - output_root_mean_squared_error: 4038.6223"
     ]
    },
    {
     "name": "stderr",
     "output_type": "stream",
     "text": [
      "WARNING:absl:Function `_wrapped_model` contains input name(s) EVI, LC_Type1, LST_Day_1km, NDVI with unsupported characters which will be renamed to evi, lc_type1, lst_day_1km, ndvi in the SavedModel.\n",
      "WARNING:absl:Found untraced functions such as _update_step_xla, dense_layer_call_fn, dense_layer_call_and_return_conditional_losses, dense_1_layer_call_fn, dense_1_layer_call_and_return_conditional_losses while saving (showing 5 of 95). These functions will not be directly callable after loading.\n"
     ]
    },
    {
     "name": "stdout",
     "output_type": "stream",
     "text": [
      "4/4 [==============================] - 22s 7s/step - loss: 161652496.0000 - importances_loss: 145342016.0000 - output_loss: 16310470.0000 - importances_root_mean_squared_error: 12055.7881 - output_root_mean_squared_error: 4038.6223 - val_loss: 169974096.0000 - val_importances_loss: 148593424.0000 - val_output_loss: 21380668.0000 - val_importances_root_mean_squared_error: 12189.8896 - val_output_root_mean_squared_error: 4623.9233\n",
      "Epoch 46/200\n",
      "4/4 [==============================] - 0s 90ms/step - loss: 161898496.0000 - importances_loss: 145342016.0000 - output_loss: 16556476.0000 - importances_root_mean_squared_error: 12055.7881 - output_root_mean_squared_error: 4068.9651 - val_loss: 169996976.0000 - val_importances_loss: 148593392.0000 - val_output_loss: 21403578.0000 - val_importances_root_mean_squared_error: 12189.8896 - val_output_root_mean_squared_error: 4626.3999\n",
      "Epoch 47/200\n",
      "4/4 [==============================] - 0s 66ms/step - loss: 161603680.0000 - importances_loss: 145342000.0000 - output_loss: 16261665.0000 - importances_root_mean_squared_error: 12055.7881 - output_root_mean_squared_error: 4032.5754 - val_loss: 169975392.0000 - val_importances_loss: 148593392.0000 - val_output_loss: 21382006.0000 - val_importances_root_mean_squared_error: 12189.8906 - val_output_root_mean_squared_error: 4624.0684\n",
      "Epoch 48/200\n",
      "4/4 [==============================] - 0s 67ms/step - loss: 161248240.0000 - importances_loss: 145342016.0000 - output_loss: 15906213.0000 - importances_root_mean_squared_error: 12055.7881 - output_root_mean_squared_error: 3988.2593 - val_loss: 170300320.0000 - val_importances_loss: 148593408.0000 - val_output_loss: 21706920.0000 - val_importances_root_mean_squared_error: 12189.8896 - val_output_root_mean_squared_error: 4659.0684\n",
      "Epoch 49/200\n",
      "4/4 [==============================] - 0s 71ms/step - loss: 161322288.0000 - importances_loss: 145342016.0000 - output_loss: 15980278.0000 - importances_root_mean_squared_error: 12055.7881 - output_root_mean_squared_error: 3997.5339 - val_loss: 170074704.0000 - val_importances_loss: 148593392.0000 - val_output_loss: 21481310.0000 - val_importances_root_mean_squared_error: 12189.8906 - val_output_root_mean_squared_error: 4634.7935\n",
      "Epoch 50/200\n",
      "4/4 [==============================] - 0s 96ms/step - loss: 161819472.0000 - importances_loss: 145342016.0000 - output_loss: 16477461.0000 - importances_root_mean_squared_error: 12055.7881 - output_root_mean_squared_error: 4059.2439 - val_loss: 170662336.0000 - val_importances_loss: 148593392.0000 - val_output_loss: 22068940.0000 - val_importances_root_mean_squared_error: 12189.8906 - val_output_root_mean_squared_error: 4697.7593\n",
      "Epoch 51/200\n",
      "4/4 [==============================] - 0s 91ms/step - loss: 161665344.0000 - importances_loss: 145342016.0000 - output_loss: 16323323.0000 - importances_root_mean_squared_error: 12055.7881 - output_root_mean_squared_error: 4040.2131 - val_loss: 171008272.0000 - val_importances_loss: 148593408.0000 - val_output_loss: 22414868.0000 - val_importances_root_mean_squared_error: 12189.8896 - val_output_root_mean_squared_error: 4734.4341\n",
      "Epoch 52/200\n",
      "4/4 [==============================] - 0s 92ms/step - loss: 162020208.0000 - importances_loss: 145342016.0000 - output_loss: 16678197.0000 - importances_root_mean_squared_error: 12055.7881 - output_root_mean_squared_error: 4083.8948 - val_loss: 171098544.0000 - val_importances_loss: 148593392.0000 - val_output_loss: 22505146.0000 - val_importances_root_mean_squared_error: 12189.8896 - val_output_root_mean_squared_error: 4743.9590\n",
      "Epoch 53/200\n",
      "4/4 [==============================] - 0s 91ms/step - loss: 162125648.0000 - importances_loss: 145342016.0000 - output_loss: 16783636.0000 - importances_root_mean_squared_error: 12055.7881 - output_root_mean_squared_error: 4096.7837 - val_loss: 170753680.0000 - val_importances_loss: 148593392.0000 - val_output_loss: 22160286.0000 - val_importances_root_mean_squared_error: 12189.8896 - val_output_root_mean_squared_error: 4707.4712\n",
      "Epoch 54/200\n",
      "4/4 [==============================] - 0s 87ms/step - loss: 162488304.0000 - importances_loss: 145342000.0000 - output_loss: 17146302.0000 - importances_root_mean_squared_error: 12055.7881 - output_root_mean_squared_error: 4140.8096 - val_loss: 170406448.0000 - val_importances_loss: 148593424.0000 - val_output_loss: 21813018.0000 - val_importances_root_mean_squared_error: 12189.8906 - val_output_root_mean_squared_error: 4670.4409\n",
      "Epoch 55/200\n",
      "3/4 [=====================>........] - ETA: 0s - loss: 160013552.0000 - importances_loss: 143738560.0000 - output_loss: 16274976.0000 - importances_root_mean_squared_error: 11989.1006 - output_root_mean_squared_error: 4034.2256"
     ]
    },
    {
     "name": "stderr",
     "output_type": "stream",
     "text": [
      "WARNING:absl:Function `_wrapped_model` contains input name(s) EVI, LC_Type1, LST_Day_1km, NDVI with unsupported characters which will be renamed to evi, lc_type1, lst_day_1km, ndvi in the SavedModel.\n",
      "WARNING:absl:Found untraced functions such as _update_step_xla, dense_layer_call_fn, dense_layer_call_and_return_conditional_losses, dense_1_layer_call_fn, dense_1_layer_call_and_return_conditional_losses while saving (showing 5 of 95). These functions will not be directly callable after loading.\n"
     ]
    },
    {
     "name": "stdout",
     "output_type": "stream",
     "text": [
      "4/4 [==============================] - 9s 3s/step - loss: 161806496.0000 - importances_loss: 145342016.0000 - output_loss: 16464474.0000 - importances_root_mean_squared_error: 12055.7871 - output_root_mean_squared_error: 4057.6438 - val_loss: 169535168.0000 - val_importances_loss: 148593392.0000 - val_output_loss: 20941780.0000 - val_importances_root_mean_squared_error: 12189.8896 - val_output_root_mean_squared_error: 4576.2188\n",
      "Epoch 56/200\n",
      "4/4 [==============================] - 0s 66ms/step - loss: 161817568.0000 - importances_loss: 145342016.0000 - output_loss: 16475558.0000 - importances_root_mean_squared_error: 12055.7881 - output_root_mean_squared_error: 4059.0095 - val_loss: 169725024.0000 - val_importances_loss: 148593392.0000 - val_output_loss: 21131630.0000 - val_importances_root_mean_squared_error: 12189.8906 - val_output_root_mean_squared_error: 4596.9150\n",
      "Epoch 57/200\n",
      "3/4 [=====================>........] - ETA: 0s - loss: 162112976.0000 - importances_loss: 146123392.0000 - output_loss: 15989600.0000 - importances_root_mean_squared_error: 12088.1514 - output_root_mean_squared_error: 3998.6997"
     ]
    },
    {
     "name": "stderr",
     "output_type": "stream",
     "text": [
      "WARNING:absl:Function `_wrapped_model` contains input name(s) EVI, LC_Type1, LST_Day_1km, NDVI with unsupported characters which will be renamed to evi, lc_type1, lst_day_1km, ndvi in the SavedModel.\n",
      "WARNING:absl:Found untraced functions such as _update_step_xla, dense_layer_call_fn, dense_layer_call_and_return_conditional_losses, dense_1_layer_call_fn, dense_1_layer_call_and_return_conditional_losses while saving (showing 5 of 95). These functions will not be directly callable after loading.\n"
     ]
    },
    {
     "name": "stdout",
     "output_type": "stream",
     "text": [
      "4/4 [==============================] - 9s 3s/step - loss: 161358128.0000 - importances_loss: 145342016.0000 - output_loss: 16016109.0000 - importances_root_mean_squared_error: 12055.7881 - output_root_mean_squared_error: 4002.0132 - val_loss: 169344992.0000 - val_importances_loss: 148593392.0000 - val_output_loss: 20751600.0000 - val_importances_root_mean_squared_error: 12189.8896 - val_output_root_mean_squared_error: 4555.3926\n",
      "Epoch 58/200\n",
      "4/4 [==============================] - 0s 82ms/step - loss: 161118192.0000 - importances_loss: 145342016.0000 - output_loss: 15776169.0000 - importances_root_mean_squared_error: 12055.7881 - output_root_mean_squared_error: 3971.9226 - val_loss: 169695008.0000 - val_importances_loss: 148593392.0000 - val_output_loss: 21101620.0000 - val_importances_root_mean_squared_error: 12189.8896 - val_output_root_mean_squared_error: 4593.6499\n",
      "Epoch 59/200\n",
      "4/4 [==============================] - 0s 71ms/step - loss: 160891456.0000 - importances_loss: 145342016.0000 - output_loss: 15549445.0000 - importances_root_mean_squared_error: 12055.7881 - output_root_mean_squared_error: 3943.2786 - val_loss: 169792960.0000 - val_importances_loss: 148593392.0000 - val_output_loss: 21199560.0000 - val_importances_root_mean_squared_error: 12189.8896 - val_output_root_mean_squared_error: 4604.2979\n",
      "Epoch 60/200\n",
      "4/4 [==============================] - 0s 75ms/step - loss: 161340160.0000 - importances_loss: 145342016.0000 - output_loss: 15998141.0000 - importances_root_mean_squared_error: 12055.7881 - output_root_mean_squared_error: 3999.7676 - val_loss: 169669584.0000 - val_importances_loss: 148593392.0000 - val_output_loss: 21076194.0000 - val_importances_root_mean_squared_error: 12189.8896 - val_output_root_mean_squared_error: 4590.8818\n",
      "Epoch 61/200\n",
      "4/4 [==============================] - 0s 67ms/step - loss: 160724256.0000 - importances_loss: 145342016.0000 - output_loss: 15382226.0000 - importances_root_mean_squared_error: 12055.7881 - output_root_mean_squared_error: 3922.0181 - val_loss: 169680464.0000 - val_importances_loss: 148593392.0000 - val_output_loss: 21087076.0000 - val_importances_root_mean_squared_error: 12189.8896 - val_output_root_mean_squared_error: 4592.0664\n",
      "Epoch 62/200\n",
      "4/4 [==============================] - 0s 87ms/step - loss: 161205136.0000 - importances_loss: 145342016.0000 - output_loss: 15863102.0000 - importances_root_mean_squared_error: 12055.7881 - output_root_mean_squared_error: 3982.8511 - val_loss: 170037808.0000 - val_importances_loss: 148593408.0000 - val_output_loss: 21444394.0000 - val_importances_root_mean_squared_error: 12189.8906 - val_output_root_mean_squared_error: 4630.8091\n",
      "Epoch 63/200\n",
      "4/4 [==============================] - 0s 84ms/step - loss: 160741088.0000 - importances_loss: 145342016.0000 - output_loss: 15399063.0000 - importances_root_mean_squared_error: 12055.7881 - output_root_mean_squared_error: 3924.1641 - val_loss: 169960128.0000 - val_importances_loss: 148593392.0000 - val_output_loss: 21366730.0000 - val_importances_root_mean_squared_error: 12189.8896 - val_output_root_mean_squared_error: 4622.4160\n",
      "Epoch 64/200\n",
      "4/4 [==============================] - 0s 92ms/step - loss: 161184432.0000 - importances_loss: 145342016.0000 - output_loss: 15842429.0000 - importances_root_mean_squared_error: 12055.7881 - output_root_mean_squared_error: 3980.2549 - val_loss: 169634432.0000 - val_importances_loss: 148593408.0000 - val_output_loss: 21041024.0000 - val_importances_root_mean_squared_error: 12189.8896 - val_output_root_mean_squared_error: 4587.0498\n",
      "Epoch 65/200\n",
      "4/4 [==============================] - 0s 72ms/step - loss: 160721968.0000 - importances_loss: 145342016.0000 - output_loss: 15379950.0000 - importances_root_mean_squared_error: 12055.7881 - output_root_mean_squared_error: 3921.7280 - val_loss: 169528400.0000 - val_importances_loss: 148593392.0000 - val_output_loss: 20935014.0000 - val_importances_root_mean_squared_error: 12189.8896 - val_output_root_mean_squared_error: 4575.4795\n",
      "Epoch 66/200\n",
      "3/4 [=====================>........] - ETA: 0s - loss: 159979056.0000 - importances_loss: 144846144.0000 - output_loss: 15132904.0000 - importances_root_mean_squared_error: 12035.2041 - output_root_mean_squared_error: 3890.1033"
     ]
    },
    {
     "name": "stderr",
     "output_type": "stream",
     "text": [
      "WARNING:absl:Function `_wrapped_model` contains input name(s) EVI, LC_Type1, LST_Day_1km, NDVI with unsupported characters which will be renamed to evi, lc_type1, lst_day_1km, ndvi in the SavedModel.\n",
      "WARNING:absl:Found untraced functions such as _update_step_xla, dense_layer_call_fn, dense_layer_call_and_return_conditional_losses, dense_1_layer_call_fn, dense_1_layer_call_and_return_conditional_losses while saving (showing 5 of 95). These functions will not be directly callable after loading.\n"
     ]
    },
    {
     "name": "stdout",
     "output_type": "stream",
     "text": [
      "4/4 [==============================] - 9s 3s/step - loss: 160694656.0000 - importances_loss: 145342016.0000 - output_loss: 15352625.0000 - importances_root_mean_squared_error: 12055.7881 - output_root_mean_squared_error: 3918.2427 - val_loss: 169256960.0000 - val_importances_loss: 148593392.0000 - val_output_loss: 20663560.0000 - val_importances_root_mean_squared_error: 12189.8896 - val_output_root_mean_squared_error: 4545.7188\n",
      "Epoch 67/200\n",
      "4/4 [==============================] - 0s 75ms/step - loss: 160957248.0000 - importances_loss: 145342016.0000 - output_loss: 15615235.0000 - importances_root_mean_squared_error: 12055.7881 - output_root_mean_squared_error: 3951.6118 - val_loss: 169694352.0000 - val_importances_loss: 148593424.0000 - val_output_loss: 21100930.0000 - val_importances_root_mean_squared_error: 12189.8896 - val_output_root_mean_squared_error: 4593.5747\n",
      "Epoch 68/200\n",
      "4/4 [==============================] - 0s 72ms/step - loss: 161296496.0000 - importances_loss: 145342016.0000 - output_loss: 15954487.0000 - importances_root_mean_squared_error: 12055.7881 - output_root_mean_squared_error: 3994.3069 - val_loss: 170156304.0000 - val_importances_loss: 148593392.0000 - val_output_loss: 21562916.0000 - val_importances_root_mean_squared_error: 12189.8896 - val_output_root_mean_squared_error: 4643.5889\n",
      "Epoch 69/200\n",
      "4/4 [==============================] - 0s 76ms/step - loss: 160732960.0000 - importances_loss: 145342016.0000 - output_loss: 15390948.0000 - importances_root_mean_squared_error: 12055.7881 - output_root_mean_squared_error: 3923.1299 - val_loss: 169937744.0000 - val_importances_loss: 148593392.0000 - val_output_loss: 21344356.0000 - val_importances_root_mean_squared_error: 12189.8896 - val_output_root_mean_squared_error: 4619.9951\n",
      "Epoch 70/200\n",
      "4/4 [==============================] - 0s 73ms/step - loss: 161036640.0000 - importances_loss: 145342016.0000 - output_loss: 15694619.0000 - importances_root_mean_squared_error: 12055.7881 - output_root_mean_squared_error: 3961.6436 - val_loss: 169674208.0000 - val_importances_loss: 148593392.0000 - val_output_loss: 21080812.0000 - val_importances_root_mean_squared_error: 12189.8896 - val_output_root_mean_squared_error: 4591.3848\n",
      "Epoch 71/200\n",
      "4/4 [==============================] - 0s 88ms/step - loss: 160686896.0000 - importances_loss: 145342016.0000 - output_loss: 15344864.0000 - importances_root_mean_squared_error: 12055.7871 - output_root_mean_squared_error: 3917.2522 - val_loss: 169860672.0000 - val_importances_loss: 148593408.0000 - val_output_loss: 21267270.0000 - val_importances_root_mean_squared_error: 12189.8896 - val_output_root_mean_squared_error: 4611.6450\n",
      "Epoch 72/200\n",
      "4/4 [==============================] - 0s 74ms/step - loss: 160846192.0000 - importances_loss: 145342016.0000 - output_loss: 15504181.0000 - importances_root_mean_squared_error: 12055.7881 - output_root_mean_squared_error: 3937.5349 - val_loss: 170013792.0000 - val_importances_loss: 148593392.0000 - val_output_loss: 21420396.0000 - val_importances_root_mean_squared_error: 12189.8906 - val_output_root_mean_squared_error: 4628.2173\n",
      "Epoch 73/200\n",
      "4/4 [==============================] - 0s 71ms/step - loss: 160072080.0000 - importances_loss: 145342016.0000 - output_loss: 14730064.0000 - importances_root_mean_squared_error: 12055.7881 - output_root_mean_squared_error: 3837.9766 - val_loss: 169831744.0000 - val_importances_loss: 148593392.0000 - val_output_loss: 21238352.0000 - val_importances_root_mean_squared_error: 12189.8896 - val_output_root_mean_squared_error: 4608.5088\n",
      "Epoch 74/200\n",
      "4/4 [==============================] - 0s 71ms/step - loss: 160230320.0000 - importances_loss: 145342016.0000 - output_loss: 14888303.0000 - importances_root_mean_squared_error: 12055.7881 - output_root_mean_squared_error: 3858.5364 - val_loss: 169604400.0000 - val_importances_loss: 148593392.0000 - val_output_loss: 21011014.0000 - val_importances_root_mean_squared_error: 12189.8896 - val_output_root_mean_squared_error: 4583.7773\n",
      "Epoch 75/200\n",
      "4/4 [==============================] - 0s 74ms/step - loss: 160496928.0000 - importances_loss: 145342016.0000 - output_loss: 15154896.0000 - importances_root_mean_squared_error: 12055.7881 - output_root_mean_squared_error: 3892.9290 - val_loss: 169620448.0000 - val_importances_loss: 148593424.0000 - val_output_loss: 21027022.0000 - val_importances_root_mean_squared_error: 12189.8896 - val_output_root_mean_squared_error: 4585.5229\n",
      "Epoch 76/200\n",
      "4/4 [==============================] - 0s 57ms/step - loss: 160628144.0000 - importances_loss: 145342016.0000 - output_loss: 15286125.0000 - importances_root_mean_squared_error: 12055.7881 - output_root_mean_squared_error: 3909.7473 - val_loss: 169852032.0000 - val_importances_loss: 148593408.0000 - val_output_loss: 21258620.0000 - val_importances_root_mean_squared_error: 12189.8896 - val_output_root_mean_squared_error: 4610.7070\n",
      "Epoch 77/200\n",
      "4/4 [==============================] - 0s 57ms/step - loss: 160675920.0000 - importances_loss: 145342016.0000 - output_loss: 15333903.0000 - importances_root_mean_squared_error: 12055.7881 - output_root_mean_squared_error: 3915.8528 - val_loss: 169526048.0000 - val_importances_loss: 148593392.0000 - val_output_loss: 20932662.0000 - val_importances_root_mean_squared_error: 12189.8896 - val_output_root_mean_squared_error: 4575.2227\n",
      "Epoch 78/200\n",
      "4/4 [==============================] - 0s 70ms/step - loss: 160524368.0000 - importances_loss: 145342016.0000 - output_loss: 15182340.0000 - importances_root_mean_squared_error: 12055.7881 - output_root_mean_squared_error: 3896.4521 - val_loss: 170384864.0000 - val_importances_loss: 148593408.0000 - val_output_loss: 21791452.0000 - val_importances_root_mean_squared_error: 12189.8906 - val_output_root_mean_squared_error: 4668.1313\n",
      "Epoch 79/200\n",
      "4/4 [==============================] - 0s 75ms/step - loss: 160420336.0000 - importances_loss: 145342016.0000 - output_loss: 15078305.0000 - importances_root_mean_squared_error: 12055.7881 - output_root_mean_squared_error: 3883.0793 - val_loss: 170140960.0000 - val_importances_loss: 148593408.0000 - val_output_loss: 21547550.0000 - val_importances_root_mean_squared_error: 12189.8906 - val_output_root_mean_squared_error: 4641.9341\n",
      "Epoch 80/200\n",
      "4/4 [==============================] - 0s 82ms/step - loss: 160670192.0000 - importances_loss: 145342016.0000 - output_loss: 15328184.0000 - importances_root_mean_squared_error: 12055.7881 - output_root_mean_squared_error: 3915.1226 - val_loss: 170046544.0000 - val_importances_loss: 148593392.0000 - val_output_loss: 21453150.0000 - val_importances_root_mean_squared_error: 12189.8896 - val_output_root_mean_squared_error: 4631.7544\n",
      "Epoch 81/200\n",
      "4/4 [==============================] - 1s 144ms/step - loss: 160326800.0000 - importances_loss: 145342016.0000 - output_loss: 14984798.0000 - importances_root_mean_squared_error: 12055.7881 - output_root_mean_squared_error: 3871.0203 - val_loss: 170264400.0000 - val_importances_loss: 148593408.0000 - val_output_loss: 21670992.0000 - val_importances_root_mean_squared_error: 12189.8896 - val_output_root_mean_squared_error: 4655.2114\n",
      "Epoch 82/200\n",
      "4/4 [==============================] - 1s 294ms/step - loss: 160589920.0000 - importances_loss: 145342016.0000 - output_loss: 15247909.0000 - importances_root_mean_squared_error: 12055.7881 - output_root_mean_squared_error: 3904.8572 - val_loss: 170582384.0000 - val_importances_loss: 148593408.0000 - val_output_loss: 21988974.0000 - val_importances_root_mean_squared_error: 12189.8906 - val_output_root_mean_squared_error: 4689.2402\n",
      "Epoch 83/200\n",
      "4/4 [==============================] - 1s 244ms/step - loss: 160185952.0000 - importances_loss: 145342016.0000 - output_loss: 14843926.0000 - importances_root_mean_squared_error: 12055.7881 - output_root_mean_squared_error: 3852.7815 - val_loss: 170840944.0000 - val_importances_loss: 148593392.0000 - val_output_loss: 22247558.0000 - val_importances_root_mean_squared_error: 12189.8906 - val_output_root_mean_squared_error: 4716.7319\n",
      "Epoch 84/200\n",
      "4/4 [==============================] - 1s 292ms/step - loss: 160493264.0000 - importances_loss: 145342016.0000 - output_loss: 15151249.0000 - importances_root_mean_squared_error: 12055.7881 - output_root_mean_squared_error: 3892.4604 - val_loss: 170411680.0000 - val_importances_loss: 148593408.0000 - val_output_loss: 21818280.0000 - val_importances_root_mean_squared_error: 12189.8896 - val_output_root_mean_squared_error: 4671.0044\n",
      "Epoch 85/200\n",
      "4/4 [==============================] - 1s 326ms/step - loss: 160935888.0000 - importances_loss: 145342016.0000 - output_loss: 15593867.0000 - importances_root_mean_squared_error: 12055.7881 - output_root_mean_squared_error: 3948.9070 - val_loss: 170360816.0000 - val_importances_loss: 148593408.0000 - val_output_loss: 21767408.0000 - val_importances_root_mean_squared_error: 12189.8906 - val_output_root_mean_squared_error: 4665.5557\n",
      "Epoch 86/200\n",
      "4/4 [==============================] - 1s 250ms/step - loss: 160275184.0000 - importances_loss: 145342016.0000 - output_loss: 14933161.0000 - importances_root_mean_squared_error: 12055.7871 - output_root_mean_squared_error: 3864.3447 - val_loss: 170254144.0000 - val_importances_loss: 148593392.0000 - val_output_loss: 21660746.0000 - val_importances_root_mean_squared_error: 12189.8906 - val_output_root_mean_squared_error: 4654.1108\n",
      "Epoch 87/200\n",
      "4/4 [==============================] - 1s 296ms/step - loss: 160060784.0000 - importances_loss: 145342016.0000 - output_loss: 14718752.0000 - importances_root_mean_squared_error: 12055.7881 - output_root_mean_squared_error: 3836.5027 - val_loss: 170403504.0000 - val_importances_loss: 148593408.0000 - val_output_loss: 21810096.0000 - val_importances_root_mean_squared_error: 12189.8906 - val_output_root_mean_squared_error: 4670.1279\n",
      "Epoch 88/200\n",
      "4/4 [==============================] - 1s 332ms/step - loss: 160466608.0000 - importances_loss: 145342016.0000 - output_loss: 15124585.0000 - importances_root_mean_squared_error: 12055.7881 - output_root_mean_squared_error: 3889.0339 - val_loss: 169638896.0000 - val_importances_loss: 148593424.0000 - val_output_loss: 21045466.0000 - val_importances_root_mean_squared_error: 12189.8896 - val_output_root_mean_squared_error: 4587.5337\n",
      "Epoch 89/200\n",
      "4/4 [==============================] - 1s 274ms/step - loss: 159937104.0000 - importances_loss: 145342016.0000 - output_loss: 14595095.0000 - importances_root_mean_squared_error: 12055.7871 - output_root_mean_squared_error: 3820.3528 - val_loss: 169679808.0000 - val_importances_loss: 148593392.0000 - val_output_loss: 21086424.0000 - val_importances_root_mean_squared_error: 12189.8906 - val_output_root_mean_squared_error: 4591.9956\n",
      "Epoch 90/200\n",
      "4/4 [==============================] - 1s 265ms/step - loss: 160016304.0000 - importances_loss: 145342016.0000 - output_loss: 14674279.0000 - importances_root_mean_squared_error: 12055.7871 - output_root_mean_squared_error: 3830.7021 - val_loss: 169954784.0000 - val_importances_loss: 148593392.0000 - val_output_loss: 21361384.0000 - val_importances_root_mean_squared_error: 12189.8896 - val_output_root_mean_squared_error: 4621.8379\n",
      "Epoch 91/200\n",
      "4/4 [==============================] - 1s 207ms/step - loss: 159495568.0000 - importances_loss: 145342016.0000 - output_loss: 14153556.0000 - importances_root_mean_squared_error: 12055.7871 - output_root_mean_squared_error: 3762.1211 - val_loss: 170601408.0000 - val_importances_loss: 148593392.0000 - val_output_loss: 22008008.0000 - val_importances_root_mean_squared_error: 12189.8906 - val_output_root_mean_squared_error: 4691.2695\n",
      "Epoch 92/200\n",
      "4/4 [==============================] - 1s 285ms/step - loss: 159596768.0000 - importances_loss: 145342016.0000 - output_loss: 14254755.0000 - importances_root_mean_squared_error: 12055.7881 - output_root_mean_squared_error: 3775.5469 - val_loss: 170668368.0000 - val_importances_loss: 148593392.0000 - val_output_loss: 22074978.0000 - val_importances_root_mean_squared_error: 12189.8896 - val_output_root_mean_squared_error: 4698.4019\n",
      "Epoch 93/200\n",
      "4/4 [==============================] - 1s 266ms/step - loss: 159681072.0000 - importances_loss: 145342016.0000 - output_loss: 14339067.0000 - importances_root_mean_squared_error: 12055.7881 - output_root_mean_squared_error: 3786.6960 - val_loss: 170885008.0000 - val_importances_loss: 148593392.0000 - val_output_loss: 22291620.0000 - val_importances_root_mean_squared_error: 12189.8896 - val_output_root_mean_squared_error: 4721.4004\n",
      "Epoch 94/200\n",
      "4/4 [==============================] - 1s 228ms/step - loss: 159344240.0000 - importances_loss: 145342032.0000 - output_loss: 14002230.0000 - importances_root_mean_squared_error: 12055.7871 - output_root_mean_squared_error: 3741.9553 - val_loss: 170232512.0000 - val_importances_loss: 148593392.0000 - val_output_loss: 21639112.0000 - val_importances_root_mean_squared_error: 12189.8896 - val_output_root_mean_squared_error: 4651.7861\n",
      "Epoch 95/200\n",
      "4/4 [==============================] - 1s 239ms/step - loss: 159909360.0000 - importances_loss: 145342016.0000 - output_loss: 14567360.0000 - importances_root_mean_squared_error: 12055.7881 - output_root_mean_squared_error: 3816.7212 - val_loss: 169534528.0000 - val_importances_loss: 148593392.0000 - val_output_loss: 20941140.0000 - val_importances_root_mean_squared_error: 12189.8896 - val_output_root_mean_squared_error: 4576.1489\n",
      "Epoch 96/200\n",
      "4/4 [==============================] - 1s 176ms/step - loss: 159541056.0000 - importances_loss: 145342016.0000 - output_loss: 14199046.0000 - importances_root_mean_squared_error: 12055.7881 - output_root_mean_squared_error: 3768.1621 - val_loss: 169556544.0000 - val_importances_loss: 148593408.0000 - val_output_loss: 20963144.0000 - val_importances_root_mean_squared_error: 12189.8896 - val_output_root_mean_squared_error: 4578.5527\n"
     ]
    }
   ],
   "source": [
    "epochs = 200\n",
    "lr = 0.001\n",
    "weight_decay = 0.0001\n",
    "new_data_metrics = 'val_output_root_mean_squared_error'\n",
    "mode = 'min'\n",
    "\n",
    "ft_model = compile_model(\n",
    "    split_train_df,\n",
    "    d_embedding=32, \n",
    "    n_layers=4, \n",
    "    ffn_factor=1,\n",
    "    attention_dropout=0.1,\n",
    "    ffn_dropout=0.1,\n",
    "    residual_dropout=0.0,\n",
    "    weight_decay=weight_decay,\n",
    "    lr=lr\n",
    ")\n",
    "\n",
    "\n",
    "callbacks = [\n",
    "    tf.keras.callbacks.EarlyStopping(monitor=new_data_metrics, mode=mode, patience=30, restore_best_weights=True),\n",
    "    tf.keras.callbacks.ModelCheckpoint(\n",
    "        monitor=new_data_metrics,\n",
    "        mode=mode,\n",
    "        filepath=MODEL_SAVE_DIR,\n",
    "        save_best_only=True,\n",
    "        save_freq='epoch')\n",
    "]\n",
    "\n",
    "tf.keras.backend.clear_session()\n",
    "\n",
    "history = ft_model.fit(\n",
    "    split_train_tf, \n",
    "    epochs=epochs, \n",
    "    validation_data=split_val_tf,\n",
    "    callbacks=[callbacks]\n",
    ")"
   ]
  },
  {
   "cell_type": "code",
   "execution_count": 11,
   "id": "1a4990b2-9366-442b-b7cb-b57821773fc8",
   "metadata": {
    "collapsed": true,
    "jupyter": {
     "outputs_hidden": true
    },
    "tags": []
   },
   "outputs": [
    {
     "data": {
      "image/png": "[encoded data removed]",
      "text/plain": [
       "<Figure size 432x288 with 1 Axes>"
      ]
     },
     "metadata": {
      "needs_background": "light"
     },
     "output_type": "display_data"
    }
   ],
   "source": [
    "plot_model_history(history, 'output_root_mean_squared_error', new_data_metrics,'RMSE')"
   ]
  },
  {
   "cell_type": "code",
   "execution_count": 14,
   "id": "4e6f04af-a709-442b-9cbc-b5ed4439c2c8",
   "metadata": {
    "collapsed": true,
    "jupyter": {
     "outputs_hidden": true
    },
    "tags": []
   },
   "outputs": [
    {
     "name": "stderr",
     "output_type": "stream",
     "text": [
      "WARNING:absl:Function `_wrapped_model` contains input name(s) EVI, LC_Type1, LST_Day_1km, NDVI with unsupported characters which will be renamed to evi, lc_type1, lst_day_1km, ndvi in the SavedModel.\n",
      "WARNING:absl:Found untraced functions such as _update_step_xla, dense_layer_call_fn, dense_layer_call_and_return_conditional_losses, dense_1_layer_call_fn, dense_1_layer_call_and_return_conditional_losses while saving (showing 5 of 95). These functions will not be directly callable after loading.\n"
     ]
    }
   ],
   "source": [
    "ft_model.save(MODEL_SAVE_DIR)"
   ]
  },
  {
   "cell_type": "code",
   "execution_count": 12,
   "id": "bebd8241-5b23-4e5c-89ec-59d31d04a01c",
   "metadata": {
    "collapsed": true,
    "jupyter": {
     "outputs_hidden": true
    },
    "tags": []
   },
   "outputs": [],
   "source": [
    "model_reload = tf.keras.models.load_model(MODEL_SAVE_DIR)"
   ]
  },
  {
   "cell_type": "code",
   "execution_count": 13,
   "id": "dc345504-f40a-43ab-b279-dfd6a4c8ba52",
   "metadata": {
    "collapsed": true,
    "jupyter": {
     "outputs_hidden": true
    },
    "tags": []
   },
   "outputs": [
    {
     "name": "stderr",
     "output_type": "stream",
     "text": [
      "/home/zheng.yant/ML-LUE/fttransformer/utils/preprocessing.py:27: FutureWarning: Support for multi-dimensional indexing (e.g. `obj[:, None]`) is deprecated and will be removed in a future version.  Convert to a numpy array before indexing instead.\n",
      "  dataset[key] = value[:, tf.newaxis]\n"
     ]
    },
    {
     "name": "stdout",
     "output_type": "stream",
     "text": [
      "200/200 [==============================] - 1s 5ms/step\n",
      "Linear Encoding RMSE: 4545.7187\n"
     ]
    }
   ],
   "source": [
    "val_result = get_predict_result(model_reload, split_val_df[FEATURES], split_val_df[TARGET_FEATURE])"
   ]
  },
  {
   "cell_type": "markdown",
   "id": "1751c4b6-6217-42f3-b899-c68f12d67157",
   "metadata": {},
   "source": [
    "#### Evaluate test dataset"
   ]
  },
  {
   "cell_type": "code",
   "execution_count": 14,
   "id": "670ff3f5-07ea-4303-90c8-aa09d85ed127",
   "metadata": {
    "collapsed": true,
    "jupyter": {
     "outputs_hidden": true
    },
    "tags": []
   },
   "outputs": [
    {
     "name": "stdout",
     "output_type": "stream",
     "text": [
      " 16/160 [==>...........................] - ETA: 1s"
     ]
    },
    {
     "name": "stderr",
     "output_type": "stream",
     "text": [
      "/home/zheng.yant/ML-LUE/fttransformer/utils/preprocessing.py:27: FutureWarning: Support for multi-dimensional indexing (e.g. `obj[:, None]`) is deprecated and will be removed in a future version.  Convert to a numpy array before indexing instead.\n",
      "  dataset[key] = value[:, tf.newaxis]\n"
     ]
    },
    {
     "name": "stdout",
     "output_type": "stream",
     "text": [
      "160/160 [==============================] - 4s 25ms/step\n",
      "Linear Encoding RMSE: 4883.3868\n",
      "MOD17 RMSE: 4554.8151\n"
     ]
    }
   ],
   "source": [
    "predict_result = get_predict_result(model_reload, downstream_test_df[FEATURES], downstream_test_df[TARGET_FEATURE])\n",
    "fluxnet_modis_test_df = get_modis_compare_data(predict_result['output'].ravel())\n",
    "get_modis_result(fluxnet_modis_test_df[TARGET_FEATURE], downstream_test_df[TARGET_FEATURE])"
   ]
  },
  {
   "cell_type": "code",
   "execution_count": 17,
   "id": "099033d3-a88c-4766-a5f2-47e9d21794a3",
   "metadata": {
    "collapsed": true,
    "jupyter": {
     "outputs_hidden": true
    },
    "tags": []
   },
   "outputs": [
    {
     "name": "stdout",
     "output_type": "stream",
     "text": [
      "R-Squared prediction: 0.5236061789511649\n",
      "R-Squared MOD17: 0.5855564594538872\n"
     ]
    }
   ],
   "source": [
    "get_r2_compare_data(predict_result[\"output\"].ravel(), fluxnet_modis_test_df[TARGET_FEATURE], downstream_test_df[TARGET_FEATURE])"
   ]
  },
  {
   "cell_type": "code",
   "execution_count": 15,
   "id": "a4098b1d-83ac-4faf-8d3e-b3b7a697cbfc",
   "metadata": {
    "collapsed": true,
    "jupyter": {
     "outputs_hidden": true
    }
   },
   "outputs": [
    {
     "name": "stderr",
     "output_type": "stream",
     "text": [
      "<ipython-input-2-73ed0f6d1bee>:2: UserWarning: color is redundantly defined by the 'color' keyword argument and the fmt string \"-g\" (-> color='g'). The keyword argument will take precedence.\n",
      "  plt.plot(actual_df, actual_df, '-g', color='red')\n"
     ]
    },
    {
     "data": {
      "image/png": "[encoded data removed]",
      "text/plain": [
       "<Figure size 432x288 with 1 Axes>"
      ]
     },
     "metadata": {
      "needs_background": "light"
     },
     "output_type": "display_data"
    }
   ],
   "source": [
    "plot_result_distribution(downstream_test_df[TARGET_FEATURE], predict_result['output'].ravel(), fluxnet_modis_test_df[TARGET_FEATURE])"
   ]
  },
  {
   "cell_type": "code",
   "execution_count": null,
   "id": "99c9f41c-0727-483e-9f31-575a720a204b",
   "metadata": {
    "collapsed": true,
    "jupyter": {
     "outputs_hidden": true
    }
   },
   "outputs": [],
   "source": []
  }
 ],
 "metadata": {
  "kernelspec": {
   "display_name": "Python 3",
   "language": "python",
   "name": "python3"
  },
  "language_info": {
   "codemirror_mode": {
    "name": "ipython",
    "version": 3
   },
   "file_extension": ".py",
   "mimetype": "text/x-python",
   "name": "python",
   "nbconvert_exporter": "python",
   "pygments_lexer": "ipython3",
   "version": "3.9.18"
  }
 },
 "nbformat": 4,
 "nbformat_minor": 5
}
