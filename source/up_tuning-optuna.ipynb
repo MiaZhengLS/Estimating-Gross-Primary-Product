{
 "cells": [
  {
   "cell_type": "code",
   "execution_count": 1,
   "id": "e2c153e4-a15e-4bfa-bf76-7bc44627f072",
   "metadata": {
    "collapsed": true,
    "jupyter": {
     "outputs_hidden": true
    },
    "tags": []
   },
   "outputs": [
    {
     "name": "stdout",
     "output_type": "stream",
     "text": [
      "['LC_Type1', 'LST_Day_1km', 'pr', 'aet', 'NDVI', 'EVI']\n",
      "['LST_Day_1km', 'pr', 'aet', 'NDVI', 'EVI']\n",
      "['LC_Type1']\n"
     ]
    }
   ],
   "source": [
    "%run common.ipynb"
   ]
  },
  {
   "cell_type": "code",
   "execution_count": 2,
   "id": "74ca4dde-c8ab-40e4-9426-09779f616e46",
   "metadata": {
    "collapsed": true,
    "jupyter": {
     "outputs_hidden": true
    },
    "tags": []
   },
   "outputs": [
    {
     "name": "stdout",
     "output_type": "stream",
     "text": [
      "Using TensorFlow backend\n"
     ]
    }
   ],
   "source": [
    "%run tuning_common.ipynb"
   ]
  },
  {
   "cell_type": "code",
   "execution_count": 3,
   "id": "010b13f1-f156-41a8-8d30-1396447609e0",
   "metadata": {
    "collapsed": true,
    "jupyter": {
     "outputs_hidden": true
    }
   },
   "outputs": [],
   "source": [
    "import optuna\n",
    "import gc"
   ]
  },
  {
   "cell_type": "code",
   "execution_count": 4,
   "id": "892e3fd8-b4e3-41f8-a37a-8b0a6abcc6eb",
   "metadata": {
    "collapsed": true,
    "jupyter": {
     "outputs_hidden": true
    },
    "tags": []
   },
   "outputs": [],
   "source": [
    "UPSTREAM_OPTUNA_DIR = f'{UPSTREAM_FINETUNE_OPTUNA_DIR}'\n",
    "SAMPLER_FILE = 'sampler.pkl'\n",
    "DATABASE_FILE = 'sqlite:///optuna_progress.db'\n",
    "PARAM_FILE = 'best_param.json'\n",
    "MODEL_SAVE_DIR = f'{UPSTREAM_OPTUNA_DIR}model'"
   ]
  },
  {
   "cell_type": "code",
   "execution_count": 5,
   "id": "132ffa51-c9c7-4863-a813-07623c487e48",
   "metadata": {
    "collapsed": true,
    "jupyter": {
     "outputs_hidden": true
    },
    "tags": []
   },
   "outputs": [
    {
     "name": "stdout",
     "output_type": "stream",
     "text": [
      "141623\n",
      "   LC_Type1  LST_Day_1km        pr       aet      NDVI       EVI      Gpp\n",
      "0      12.0    -0.064955  0.092342  0.308087  0.224185  0.727549   9841.0\n",
      "1      12.0    -0.192976  0.049550  0.340180  0.243270  0.558092  10251.0\n",
      "2      14.0    -0.149169  0.150901  0.378263  0.483407  0.886860  11607.0\n",
      "3       9.0    -0.216264  0.454955  0.118528  0.455776  0.549467  12098.0\n",
      "4       5.0    -0.251888  0.112613  0.357724  0.441817  0.393201  13593.0\n",
      "23624\n",
      "   LC_Type1  LST_Day_1km        pr       aet      NDVI       EVI      Gpp\n",
      "0      12.0    -0.159366  0.513513  0.552418  0.288563  0.770675  11278.0\n",
      "1      12.0    -0.136329  0.612613  0.493795  0.221051  0.611872   9801.0\n",
      "2      12.0    -0.034743  0.536036  0.597775  0.144709  0.299340   8328.0\n",
      "3      14.0    -0.075529  0.774775  0.693196  0.297394  0.671233   9543.0\n",
      "4       5.0    -0.434290  1.313063  0.653402  0.452072  0.118214  11667.0\n"
     ]
    }
   ],
   "source": [
    "upstream_train_df = pd.read_csv(f'{DATA_FOLDER}{UPSTREAM_TRAIN_FILENAME}')\n",
    "upstream_val_df = pd.read_csv(f'{DATA_FOLDER}{UPSTREAM_VAL_FILENAME}')\n",
    "print(len(upstream_train_df))\n",
    "print(upstream_train_df.head())\n",
    "print(len(upstream_val_df))\n",
    "print(upstream_val_df.head())"
   ]
  },
  {
   "cell_type": "code",
   "execution_count": 6,
   "id": "d9b0e733-4734-49e9-b353-c246206c0701",
   "metadata": {
    "collapsed": true,
    "jupyter": {
     "outputs_hidden": true
    },
    "tags": []
   },
   "outputs": [],
   "source": [
    "upstream_train_df = embed_catgorical_features(upstream_train_df, CATEGORICAL_FEATURES)\n",
    "upstream_val_df = embed_catgorical_features(upstream_val_df, CATEGORICAL_FEATURES)"
   ]
  },
  {
   "cell_type": "code",
   "execution_count": 7,
   "id": "c6440f83-4c27-4ed6-9a1a-6b749f68d1be",
   "metadata": {
    "collapsed": true,
    "jupyter": {
     "outputs_hidden": true
    },
    "tags": []
   },
   "outputs": [
    {
     "name": "stderr",
     "output_type": "stream",
     "text": [
      "/home/zheng.yant/ML-LUE/fttransformer/utils/preprocessing.py:21: FutureWarning: Support for multi-dimensional indexing (e.g. `obj[:, None]`) is deprecated and will be removed in a future version.  Convert to a numpy array before indexing instead.\n",
      "  dataset[key] = value[:, tf.newaxis]\n",
      "/home/zheng.yant/ML-LUE/fttransformer/utils/preprocessing.py:21: FutureWarning: Support for multi-dimensional indexing (e.g. `obj[:, None]`) is deprecated and will be removed in a future version.  Convert to a numpy array before indexing instead.\n",
      "  dataset[key] = value[:, tf.newaxis]\n"
     ]
    }
   ],
   "source": [
    "upstream_train_tf = df_to_dataset(upstream_train_df[FEATURES + [TARGET_FEATURE]], TARGET_FEATURE, shuffle=True, batch_size=512)\n",
    "upstream_val_tf = df_to_dataset(upstream_val_df[FEATURES + [TARGET_FEATURE]], TARGET_FEATURE, shuffle=False, batch_size=512)"
   ]
  },
  {
   "cell_type": "code",
   "execution_count": 9,
   "id": "117361c8-4968-4f5c-93fb-4d3611e37142",
   "metadata": {
    "collapsed": true,
    "jupyter": {
     "outputs_hidden": true
    },
    "tags": []
   },
   "outputs": [],
   "source": [
    "import json\n",
    "import os.path\n",
    "\n",
    "\n",
    "class CustomCallback(tf.keras.callbacks.Callback):\n",
    "    static_cur_best_result = np.Inf\n",
    "    def __init__(\n",
    "        self,\n",
    "        filepath,\n",
    "        log_dump_filepath,\n",
    "        monitor: str = \"val_loss\",\n",
    "        mode: str = \"auto\",\n",
    "        **kwargs,\n",
    "    ):\n",
    "        self.checkpoint = tf.keras.callbacks.ModelCheckpoint(\n",
    "                                monitor=monitor,\n",
    "                                mode=mode,\n",
    "                                save_best_only=True,\n",
    "                                filepath=filepath)\n",
    "        self.log_dump_filepath = log_dump_filepath\n",
    "        if os.path.exists(self.log_dump_filepath):\n",
    "            with open(self.log_dump_filepath) as f: \n",
    "                data = f.read() \n",
    "                di = json.loads(data) \n",
    "                CustomCallback.static_cur_best_result = di['best_result']\n",
    "                print(f'read best result {CustomCallback.static_cur_best_result} from {self.log_dump_filepath}')\n",
    "\n",
    "    def set_params(self, params):\n",
    "        self.checkpoint.set_params(params)\n",
    "\n",
    "    def set_model(self, model):\n",
    "        self.checkpoint.set_model(model)\n",
    "    \n",
    "    def on_train_begin(self, logs=None):\n",
    "        self.checkpoint.on_train_begin(logs)\n",
    "\n",
    "    def on_train_end(self, logs=None):\n",
    "        keys = list(logs.keys())\n",
    "\n",
    "    def on_epoch_begin(self, epoch, logs=None):\n",
    "        self.checkpoint.on_epoch_begin(epoch, logs)\n",
    "\n",
    "    def on_epoch_end(self, epoch, logs=None):\n",
    "        current = logs.get(self.checkpoint.monitor) \n",
    "        if self.checkpoint.monitor_op(current, CustomCallback.static_cur_best_result):\n",
    "            print('+++++ Get a better result, save the model +++++')\n",
    "            self.checkpoint.on_epoch_end(epoch, logs)\n",
    "            CustomCallback.static_cur_best_result = current\n",
    "            # Data to be written\n",
    "            dictionary = {\n",
    "                \"best_result\": current,\n",
    "            }\n",
    "\n",
    "            # Serializing json\n",
    "            # json_object = json.dumps(dictionary, indent=4)\n",
    "            with open(self.log_dump_filepath, \"w\") as outfile:\n",
    "                json.dump(dictionary, outfile)\n",
    "        else:\n",
    "            print('+++++ Not as good as the best so far, no saving +++++')\n",
    "            self.checkpoint.epochs_since_last_save += 1\n",
    "\n",
    "            \n",
    "\n",
    "    def on_train_batch_end(self, batch, logs=None):\n",
    "        self.checkpoint.on_train_batch_end(batch, logs)\n"
   ]
  },
  {
   "cell_type": "code",
   "execution_count": 10,
   "id": "7d358d71-160b-4b65-b790-eee373833d87",
   "metadata": {
    "collapsed": true,
    "jupyter": {
     "outputs_hidden": true
    },
    "tags": []
   },
   "outputs": [],
   "source": [
    "def get_model(trial):\n",
    "    d_embedding = trial.suggest_int('d_embedding', 32, 512, step=8)\n",
    "    n_layers = trial.suggest_int('n_layers', 1, 8)\n",
    "    ffn_factor = trial.suggest_uniform('ffn_factor', 2/3, 8/3)\n",
    "    attention_dropout = trial.suggest_uniform('attention_dropout', 0.0, 0.5)\n",
    "    ffn_dropout = trial.suggest_uniform('ffn_dropout', 0.0, 0.5)\n",
    "    residual_dropout = trial.suggest_uniform('residual_dropout', 0.0, 0.2)\n",
    "\n",
    "    lr = trial.suggest_loguniform(\"lr\", 1e-5, 1e-2)\n",
    "    weight_decay = trial.suggest_loguniform(\"weight_decay\", 1e-6, 1e-3)\n",
    "\n",
    "    mlp_head_unit_1 = trial.suggest_int('mlp_head_unit_1', 16, 128, step=8)\n",
    "    mlp_head_unit_2 = trial.suggest_int('mlp_head_unit_1', 16, 128, step=8)\n",
    "\n",
    "    model = compile_model(\n",
    "        upstream_train_df,\n",
    "        d_embedding=d_embedding, \n",
    "        n_layers=n_layers, \n",
    "        ffn_factor=ffn_factor,\n",
    "        attention_dropout=attention_dropout,\n",
    "        ffn_dropout=ffn_dropout,\n",
    "        residual_dropout=residual_dropout,\n",
    "        weight_decay=weight_decay,\n",
    "        lr=lr,\n",
    "        mlp_head_unit_1=mlp_head_unit_1,\n",
    "        mlp_head_unit_2=mlp_head_unit_2\n",
    "    )\n",
    "    \n",
    "    return model"
   ]
  },
  {
   "cell_type": "code",
   "execution_count": 11,
   "id": "9b55a8a1-fdce-4573-bda5-a6be03e41dc8",
   "metadata": {
    "collapsed": true,
    "jupyter": {
     "outputs_hidden": true
    },
    "tags": []
   },
   "outputs": [],
   "source": [
    "def objective(trial):\n",
    "    model = get_model(trial)\n",
    "    \n",
    "    callbacks = [\n",
    "        tf.keras.callbacks.EarlyStopping(monitor=finetune_objective[0].name, min_delta=10, mode=finetune_objective[0].direction, patience=20, restore_best_weights=True),\n",
    "        CustomCallback(\n",
    "            monitor=finetune_objective[0].name,\n",
    "            mode=finetune_objective[0].direction,\n",
    "            filepath=MODEL_SAVE_DIR,\n",
    "            log_dump_filepath=f'{UPSTREAM_FINETUNE_DIR}log_best_result.txt',\n",
    "        )\n",
    "    ]\n",
    "    \n",
    "\n",
    "    history = model.fit(\n",
    "        upstream_train_tf, \n",
    "        epochs=100, \n",
    "        validation_data=upstream_val_tf,\n",
    "        callbacks=callbacks\n",
    "    ) \n",
    "    \n",
    "    # test_df = df_to_dataset(upstream_val_df[FEATURES], shuffle=False, batch_size=1)\n",
    "    # preds = model.predict(test_df)\n",
    "    # rmse = mean_squared_error(upstream_val_df[TARGET_FEATURE], preds['output'].ravel(), squared=False)\n",
    "   \n",
    "    preds = model.predict(test_df)\n",
    "    rmse = mean_squared_error(downstream_test_df[TARGET_FEATURE], preds['output'].ravel(), squared=False)\n",
    "    gc.collect()\n",
    "    \n",
    "    return rmse"
   ]
  },
  {
   "cell_type": "markdown",
   "id": "4718d845-00e5-40b2-a6da-1e672d110ad7",
   "metadata": {},
   "source": [
    "## Fine tune with RMSE"
   ]
  },
  {
   "cell_type": "markdown",
   "id": "0d18029c-16fb-47e3-aa7d-e55dfcb2261a",
   "metadata": {
    "tags": []
   },
   "source": [
    "### Fine tune"
   ]
  },
  {
   "cell_type": "code",
   "execution_count": 12,
   "id": "bb070de5-7bbb-4261-b998-a952b4b9ddfb",
   "metadata": {
    "collapsed": true,
    "jupyter": {
     "outputs_hidden": true
    },
    "tags": []
   },
   "outputs": [],
   "source": [
    "import pickle\n",
    "import logging\n",
    "import sys"
   ]
  },
  {
   "cell_type": "code",
   "execution_count": 13,
   "id": "7b4c2294-79a0-46c2-81df-09d24ce61aa7",
   "metadata": {
    "collapsed": true,
    "jupyter": {
     "outputs_hidden": true
    }
   },
   "outputs": [],
   "source": [
    "patience = 20"
   ]
  },
  {
   "cell_type": "code",
   "execution_count": null,
   "id": "98b4e666-d6e6-4335-94a7-9b7165fc4b4c",
   "metadata": {
    "collapsed": true,
    "jupyter": {
     "outputs_hidden": true
    },
    "tags": []
   },
   "outputs": [
    {
     "name": "stderr",
     "output_type": "stream",
     "text": [
      "<ipython-input-14-f4f361799fd6>:3: ExperimentalWarning: PatientPruner is experimental (supported from v2.8.0). The interface can change in the future.\n",
      "  pruner=optuna.pruners.PatientPruner(None, patience=patience)\n",
      "[I 2023-11-27 12:27:45,706] Using an existing study with name 'optuna_optimizer' instead of creating a new one.\n"
     ]
    },
    {
     "name": "stdout",
     "output_type": "stream",
     "text": [
      "Using an existing study with name 'optuna_optimizer' instead of creating a new one.\n"
     ]
    },
    {
     "name": "stderr",
     "output_type": "stream",
     "text": [
      "<ipython-input-10-607f2f084e6f>:4: FutureWarning: suggest_uniform has been deprecated in v3.0.0. This feature will be removed in v6.0.0. See https://github.com/optuna/optuna/releases/tag/v3.0.0. Use suggest_float instead.\n",
      "  ffn_factor = trial.suggest_uniform('ffn_factor', 2/3, 8/3)\n",
      "<ipython-input-10-607f2f084e6f>:5: FutureWarning: suggest_uniform has been deprecated in v3.0.0. This feature will be removed in v6.0.0. See https://github.com/optuna/optuna/releases/tag/v3.0.0. Use suggest_float instead.\n",
      "  attention_dropout = trial.suggest_uniform('attention_dropout', 0.0, 0.5)\n",
      "<ipython-input-10-607f2f084e6f>:6: FutureWarning: suggest_uniform has been deprecated in v3.0.0. This feature will be removed in v6.0.0. See https://github.com/optuna/optuna/releases/tag/v3.0.0. Use suggest_float instead.\n",
      "  ffn_dropout = trial.suggest_uniform('ffn_dropout', 0.0, 0.5)\n",
      "<ipython-input-10-607f2f084e6f>:7: FutureWarning: suggest_uniform has been deprecated in v3.0.0. This feature will be removed in v6.0.0. See https://github.com/optuna/optuna/releases/tag/v3.0.0. Use suggest_float instead.\n",
      "  residual_dropout = trial.suggest_uniform('residual_dropout', 0.0, 0.2)\n",
      "<ipython-input-10-607f2f084e6f>:9: FutureWarning: suggest_loguniform has been deprecated in v3.0.0. This feature will be removed in v6.0.0. See https://github.com/optuna/optuna/releases/tag/v3.0.0. Use suggest_float(..., log=True) instead.\n",
      "  lr = trial.suggest_loguniform(\"lr\", 1e-5, 1e-2)\n",
      "<ipython-input-10-607f2f084e6f>:10: FutureWarning: suggest_loguniform has been deprecated in v3.0.0. This feature will be removed in v6.0.0. See https://github.com/optuna/optuna/releases/tag/v3.0.0. Use suggest_float(..., log=True) instead.\n",
      "  weight_decay = trial.suggest_loguniform(\"weight_decay\", 1e-6, 1e-3)\n"
     ]
    },
    {
     "name": "stdout",
     "output_type": "stream",
     "text": [
      "read best result 1355.75244140625 from ./model/upstream-finetune_optuna/log_best_result.txt\n",
      "Epoch 1/100\n",
      "277/277 [==============================] - ETA: 0s - loss: 167501568.0000 - importances_loss: 97134280.0000 - output_loss: 70367224.0000 - importances_root_mean_squared_error: 9855.6729 - output_root_mean_squared_error: 8388.5176+++++ Not as good as the best so far, no saving +++++\n",
      "277/277 [==============================] - 282s 991ms/step - loss: 167501568.0000 - importances_loss: 97134280.0000 - output_loss: 70367224.0000 - importances_root_mean_squared_error: 9855.6729 - output_root_mean_squared_error: 8388.5176 - val_loss: 112980528.0000 - val_importances_loss: 97465104.0000 - val_output_loss: 15515434.0000 - val_importances_root_mean_squared_error: 9872.4424 - val_output_root_mean_squared_error: 3938.9636\n",
      "Epoch 2/100\n",
      "277/277 [==============================] - ETA: 0s - loss: 104976432.0000 - importances_loss: 97134296.0000 - output_loss: 7842101.5000 - importances_root_mean_squared_error: 9855.6738 - output_root_mean_squared_error: 2800.3752+++++ Not as good as the best so far, no saving +++++\n",
      "277/277 [==============================] - 273s 984ms/step - loss: 104976432.0000 - importances_loss: 97134296.0000 - output_loss: 7842101.5000 - importances_root_mean_squared_error: 9855.6738 - output_root_mean_squared_error: 2800.3752 - val_loss: 100862656.0000 - val_importances_loss: 97465104.0000 - val_output_loss: 3397543.2500 - val_importances_root_mean_squared_error: 9872.4414 - val_output_root_mean_squared_error: 1843.2426\n",
      "Epoch 3/100\n",
      "277/277 [==============================] - ETA: 0s - loss: 100468784.0000 - importances_loss: 97134392.0000 - output_loss: 3334432.5000 - importances_root_mean_squared_error: 9855.6748 - output_root_mean_squared_error: 1826.0428+++++ Not as good as the best so far, no saving +++++\n",
      "277/277 [==============================] - 273s 984ms/step - loss: 100468784.0000 - importances_loss: 97134392.0000 - output_loss: 3334432.5000 - importances_root_mean_squared_error: 9855.6748 - output_root_mean_squared_error: 1826.0428 - val_loss: 100021872.0000 - val_importances_loss: 97465104.0000 - val_output_loss: 2556773.2500 - val_importances_root_mean_squared_error: 9872.4414 - val_output_root_mean_squared_error: 1598.9913\n",
      "Epoch 4/100\n",
      "277/277 [==============================] - ETA: 0s - loss: 100079840.0000 - importances_loss: 97134304.0000 - output_loss: 2945504.2500 - importances_root_mean_squared_error: 9855.6777 - output_root_mean_squared_error: 1716.2472+++++ Not as good as the best so far, no saving +++++\n",
      "277/277 [==============================] - 275s 990ms/step - loss: 100079840.0000 - importances_loss: 97134304.0000 - output_loss: 2945504.2500 - importances_root_mean_squared_error: 9855.6777 - output_root_mean_squared_error: 1716.2472 - val_loss: 99813656.0000 - val_importances_loss: 97465104.0000 - val_output_loss: 2348564.0000 - val_importances_root_mean_squared_error: 9872.4414 - val_output_root_mean_squared_error: 1532.5026\n",
      "Epoch 5/100\n",
      "277/277 [==============================] - ETA: 0s - loss: 99953416.0000 - importances_loss: 97134328.0000 - output_loss: 2819030.5000 - importances_root_mean_squared_error: 9855.6768 - output_root_mean_squared_error: 1678.9968+++++ Not as good as the best so far, no saving +++++\n",
      "277/277 [==============================] - 272s 979ms/step - loss: 99953416.0000 - importances_loss: 97134328.0000 - output_loss: 2819030.5000 - importances_root_mean_squared_error: 9855.6768 - output_root_mean_squared_error: 1678.9968 - val_loss: 99843520.0000 - val_importances_loss: 97465104.0000 - val_output_loss: 2378428.0000 - val_importances_root_mean_squared_error: 9872.4424 - val_output_root_mean_squared_error: 1542.2153\n",
      "Epoch 6/100\n",
      "277/277 [==============================] - ETA: 0s - loss: 99823488.0000 - importances_loss: 97134304.0000 - output_loss: 2689202.2500 - importances_root_mean_squared_error: 9855.6729 - output_root_mean_squared_error: 1639.8788+++++ Not as good as the best so far, no saving +++++\n",
      "277/277 [==============================] - 267s 959ms/step - loss: 99823488.0000 - importances_loss: 97134304.0000 - output_loss: 2689202.2500 - importances_root_mean_squared_error: 9855.6729 - output_root_mean_squared_error: 1639.8788 - val_loss: 99725496.0000 - val_importances_loss: 97465104.0000 - val_output_loss: 2260386.5000 - val_importances_root_mean_squared_error: 9872.4414 - val_output_root_mean_squared_error: 1503.4581\n",
      "Epoch 7/100\n",
      "277/277 [==============================] - ETA: 0s - loss: 99749416.0000 - importances_loss: 97134312.0000 - output_loss: 2615078.0000 - importances_root_mean_squared_error: 9855.6748 - output_root_mean_squared_error: 1617.1202+++++ Not as good as the best so far, no saving +++++\n",
      "277/277 [==============================] - 274s 986ms/step - loss: 99749416.0000 - importances_loss: 97134312.0000 - output_loss: 2615078.0000 - importances_root_mean_squared_error: 9855.6748 - output_root_mean_squared_error: 1617.1202 - val_loss: 99717072.0000 - val_importances_loss: 97465104.0000 - val_output_loss: 2251969.7500 - val_importances_root_mean_squared_error: 9872.4424 - val_output_root_mean_squared_error: 1500.6565\n",
      "Epoch 8/100\n",
      "277/277 [==============================] - ETA: 0s - loss: 99687864.0000 - importances_loss: 97134360.0000 - output_loss: 2553562.7500 - importances_root_mean_squared_error: 9855.6738 - output_root_mean_squared_error: 1597.9871+++++ Not as good as the best so far, no saving +++++\n",
      "277/277 [==============================] - 274s 985ms/step - loss: 99687864.0000 - importances_loss: 97134360.0000 - output_loss: 2553562.7500 - importances_root_mean_squared_error: 9855.6738 - output_root_mean_squared_error: 1597.9871 - val_loss: 99674376.0000 - val_importances_loss: 97465104.0000 - val_output_loss: 2209275.7500 - val_importances_root_mean_squared_error: 9872.4414 - val_output_root_mean_squared_error: 1486.3633\n",
      "Epoch 9/100\n",
      "277/277 [==============================] - ETA: 0s - loss: 99656880.0000 - importances_loss: 97134304.0000 - output_loss: 2522562.7500 - importances_root_mean_squared_error: 9855.6758 - output_root_mean_squared_error: 1588.2578+++++ Not as good as the best so far, no saving +++++\n",
      "277/277 [==============================] - 274s 988ms/step - loss: 99656880.0000 - importances_loss: 97134304.0000 - output_loss: 2522562.7500 - importances_root_mean_squared_error: 9855.6758 - output_root_mean_squared_error: 1588.2578 - val_loss: 99648616.0000 - val_importances_loss: 97465104.0000 - val_output_loss: 2183524.7500 - val_importances_root_mean_squared_error: 9872.4424 - val_output_root_mean_squared_error: 1477.6754\n",
      "Epoch 10/100\n",
      "277/277 [==============================] - ETA: 0s - loss: 99623448.0000 - importances_loss: 97134328.0000 - output_loss: 2489087.0000 - importances_root_mean_squared_error: 9855.6748 - output_root_mean_squared_error: 1577.6841+++++ Not as good as the best so far, no saving +++++\n",
      "277/277 [==============================] - 273s 983ms/step - loss: 99623448.0000 - importances_loss: 97134328.0000 - output_loss: 2489087.0000 - importances_root_mean_squared_error: 9855.6748 - output_root_mean_squared_error: 1577.6841 - val_loss: 99607432.0000 - val_importances_loss: 97465104.0000 - val_output_loss: 2142327.7500 - val_importances_root_mean_squared_error: 9872.4414 - val_output_root_mean_squared_error: 1463.6693\n",
      "Epoch 11/100\n",
      "277/277 [==============================] - ETA: 0s - loss: 99591760.0000 - importances_loss: 97134304.0000 - output_loss: 2457431.0000 - importances_root_mean_squared_error: 9855.6748 - output_root_mean_squared_error: 1567.6195+++++ Not as good as the best so far, no saving +++++\n",
      "277/277 [==============================] - 280s 1s/step - loss: 99591760.0000 - importances_loss: 97134304.0000 - output_loss: 2457431.0000 - importances_root_mean_squared_error: 9855.6748 - output_root_mean_squared_error: 1567.6195 - val_loss: 99620032.0000 - val_importances_loss: 97465104.0000 - val_output_loss: 2154929.5000 - val_importances_root_mean_squared_error: 9872.4414 - val_output_root_mean_squared_error: 1467.9678\n",
      "Epoch 12/100\n",
      "277/277 [==============================] - ETA: 0s - loss: 99561360.0000 - importances_loss: 97134312.0000 - output_loss: 2427035.5000 - importances_root_mean_squared_error: 9855.6748 - output_root_mean_squared_error: 1557.8945+++++ Not as good as the best so far, no saving +++++\n",
      "277/277 [==============================] - 289s 1s/step - loss: 99561360.0000 - importances_loss: 97134312.0000 - output_loss: 2427035.5000 - importances_root_mean_squared_error: 9855.6748 - output_root_mean_squared_error: 1557.8945 - val_loss: 99740920.0000 - val_importances_loss: 97465104.0000 - val_output_loss: 2275843.7500 - val_importances_root_mean_squared_error: 9872.4404 - val_output_root_mean_squared_error: 1508.5900\n",
      "Epoch 13/100\n",
      "277/277 [==============================] - ETA: 0s - loss: 99549296.0000 - importances_loss: 97134376.0000 - output_loss: 2414940.0000 - importances_root_mean_squared_error: 9855.6748 - output_root_mean_squared_error: 1554.0077+++++ Not as good as the best so far, no saving +++++\n",
      "277/277 [==============================] - 286s 1s/step - loss: 99549296.0000 - importances_loss: 97134376.0000 - output_loss: 2414940.0000 - importances_root_mean_squared_error: 9855.6748 - output_root_mean_squared_error: 1554.0077 - val_loss: 99651024.0000 - val_importances_loss: 97465104.0000 - val_output_loss: 2185904.5000 - val_importances_root_mean_squared_error: 9872.4414 - val_output_root_mean_squared_error: 1478.4805\n",
      "Epoch 14/100\n",
      "277/277 [==============================] - ETA: 0s - loss: 99521400.0000 - importances_loss: 97134368.0000 - output_loss: 2387118.2500 - importances_root_mean_squared_error: 9855.6729 - output_root_mean_squared_error: 1545.0302+++++ Not as good as the best so far, no saving +++++\n",
      "277/277 [==============================] - 287s 1s/step - loss: 99521400.0000 - importances_loss: 97134368.0000 - output_loss: 2387118.2500 - importances_root_mean_squared_error: 9855.6729 - output_root_mean_squared_error: 1545.0302 - val_loss: 99627984.0000 - val_importances_loss: 97465104.0000 - val_output_loss: 2162892.5000 - val_importances_root_mean_squared_error: 9872.4414 - val_output_root_mean_squared_error: 1470.6776\n",
      "Epoch 15/100\n",
      "277/277 [==============================] - ETA: 0s - loss: 99493032.0000 - importances_loss: 97134296.0000 - output_loss: 2358744.7500 - importances_root_mean_squared_error: 9855.6738 - output_root_mean_squared_error: 1535.8206+++++ Not as good as the best so far, no saving +++++\n",
      "277/277 [==============================] - 286s 1s/step - loss: 99493032.0000 - importances_loss: 97134296.0000 - output_loss: 2358744.7500 - importances_root_mean_squared_error: 9855.6738 - output_root_mean_squared_error: 1535.8206 - val_loss: 99665120.0000 - val_importances_loss: 97465104.0000 - val_output_loss: 2200028.0000 - val_importances_root_mean_squared_error: 9872.4414 - val_output_root_mean_squared_error: 1483.2491\n",
      "Epoch 16/100\n",
      "277/277 [==============================] - ETA: 0s - loss: 99495784.0000 - importances_loss: 97134368.0000 - output_loss: 2361453.0000 - importances_root_mean_squared_error: 9855.6768 - output_root_mean_squared_error: 1536.7020+++++ Not as good as the best so far, no saving +++++\n",
      "277/277 [==============================] - 285s 1s/step - loss: 99495784.0000 - importances_loss: 97134368.0000 - output_loss: 2361453.0000 - importances_root_mean_squared_error: 9855.6768 - output_root_mean_squared_error: 1536.7020 - val_loss: 99606320.0000 - val_importances_loss: 97465104.0000 - val_output_loss: 2141216.0000 - val_importances_root_mean_squared_error: 9872.4424 - val_output_root_mean_squared_error: 1463.2894\n",
      "Epoch 17/100\n",
      "277/277 [==============================] - ETA: 0s - loss: 99462640.0000 - importances_loss: 97134360.0000 - output_loss: 2328283.2500 - importances_root_mean_squared_error: 9855.6758 - output_root_mean_squared_error: 1525.8713+++++ Not as good as the best so far, no saving +++++\n",
      "277/277 [==============================] - 287s 1s/step - loss: 99462640.0000 - importances_loss: 97134360.0000 - output_loss: 2328283.2500 - importances_root_mean_squared_error: 9855.6758 - output_root_mean_squared_error: 1525.8713 - val_loss: 99636648.0000 - val_importances_loss: 97465104.0000 - val_output_loss: 2171557.2500 - val_importances_root_mean_squared_error: 9872.4414 - val_output_root_mean_squared_error: 1473.6205\n",
      "Epoch 18/100\n",
      "277/277 [==============================] - ETA: 0s - loss: 99464648.0000 - importances_loss: 97134344.0000 - output_loss: 2330263.7500 - importances_root_mean_squared_error: 9855.6729 - output_root_mean_squared_error: 1526.5201+++++ Not as good as the best so far, no saving +++++\n",
      "277/277 [==============================] - 285s 1s/step - loss: 99464648.0000 - importances_loss: 97134344.0000 - output_loss: 2330263.7500 - importances_root_mean_squared_error: 9855.6729 - output_root_mean_squared_error: 1526.5201 - val_loss: 99566048.0000 - val_importances_loss: 97465104.0000 - val_output_loss: 2100959.7500 - val_importances_root_mean_squared_error: 9872.4424 - val_output_root_mean_squared_error: 1449.4688\n",
      "Epoch 19/100\n",
      "277/277 [==============================] - ETA: 0s - loss: 99447704.0000 - importances_loss: 97134344.0000 - output_loss: 2313386.5000 - importances_root_mean_squared_error: 9855.6748 - output_root_mean_squared_error: 1520.9821+++++ Not as good as the best so far, no saving +++++\n",
      "277/277 [==============================] - 288s 1s/step - loss: 99447704.0000 - importances_loss: 97134344.0000 - output_loss: 2313386.5000 - importances_root_mean_squared_error: 9855.6748 - output_root_mean_squared_error: 1520.9821 - val_loss: 99650096.0000 - val_importances_loss: 97465104.0000 - val_output_loss: 2184993.5000 - val_importances_root_mean_squared_error: 9872.4424 - val_output_root_mean_squared_error: 1478.1724\n",
      "Epoch 20/100\n",
      "277/277 [==============================] - ETA: 0s - loss: 99430096.0000 - importances_loss: 97134280.0000 - output_loss: 2295788.2500 - importances_root_mean_squared_error: 9855.6758 - output_root_mean_squared_error: 1515.1859+++++ Not as good as the best so far, no saving +++++\n",
      "277/277 [==============================] - 310s 1s/step - loss: 99430096.0000 - importances_loss: 97134280.0000 - output_loss: 2295788.2500 - importances_root_mean_squared_error: 9855.6758 - output_root_mean_squared_error: 1515.1859 - val_loss: 99663744.0000 - val_importances_loss: 97465104.0000 - val_output_loss: 2198635.7500 - val_importances_root_mean_squared_error: 9872.4424 - val_output_root_mean_squared_error: 1482.7798\n",
      "Epoch 21/100\n",
      "277/277 [==============================] - ETA: 0s - loss: 99423240.0000 - importances_loss: 97134304.0000 - output_loss: 2288893.5000 - importances_root_mean_squared_error: 9855.6748 - output_root_mean_squared_error: 1512.9089+++++ Not as good as the best so far, no saving +++++\n",
      "277/277 [==============================] - 286s 1s/step - loss: 99423240.0000 - importances_loss: 97134304.0000 - output_loss: 2288893.5000 - importances_root_mean_squared_error: 9855.6748 - output_root_mean_squared_error: 1512.9089 - val_loss: 99567328.0000 - val_importances_loss: 97465104.0000 - val_output_loss: 2102232.0000 - val_importances_root_mean_squared_error: 9872.4424 - val_output_root_mean_squared_error: 1449.9076\n",
      "Epoch 22/100\n",
      "277/277 [==============================] - ETA: 0s - loss: 99409464.0000 - importances_loss: 97134296.0000 - output_loss: 2275162.5000 - importances_root_mean_squared_error: 9855.6758 - output_root_mean_squared_error: 1508.3641+++++ Not as good as the best so far, no saving +++++\n",
      "277/277 [==============================] - 286s 1s/step - loss: 99409464.0000 - importances_loss: 97134296.0000 - output_loss: 2275162.5000 - importances_root_mean_squared_error: 9855.6758 - output_root_mean_squared_error: 1508.3641 - val_loss: 99570144.0000 - val_importances_loss: 97465104.0000 - val_output_loss: 2105032.0000 - val_importances_root_mean_squared_error: 9872.4424 - val_output_root_mean_squared_error: 1450.8728\n",
      "Epoch 23/100\n",
      "277/277 [==============================] - ETA: 0s - loss: 99402128.0000 - importances_loss: 97134312.0000 - output_loss: 2267815.2500 - importances_root_mean_squared_error: 9855.6777 - output_root_mean_squared_error: 1505.9268+++++ Not as good as the best so far, no saving +++++\n",
      "277/277 [==============================] - 285s 1s/step - loss: 99402128.0000 - importances_loss: 97134312.0000 - output_loss: 2267815.2500 - importances_root_mean_squared_error: 9855.6777 - output_root_mean_squared_error: 1505.9268 - val_loss: 99590144.0000 - val_importances_loss: 97465104.0000 - val_output_loss: 2125053.2500 - val_importances_root_mean_squared_error: 9872.4424 - val_output_root_mean_squared_error: 1457.7562\n",
      "Epoch 24/100\n",
      "277/277 [==============================] - ETA: 0s - loss: 99401504.0000 - importances_loss: 97134304.0000 - output_loss: 2267172.7500 - importances_root_mean_squared_error: 9855.6738 - output_root_mean_squared_error: 1505.7134+++++ Not as good as the best so far, no saving +++++\n",
      "277/277 [==============================] - 283s 1s/step - loss: 99401504.0000 - importances_loss: 97134304.0000 - output_loss: 2267172.7500 - importances_root_mean_squared_error: 9855.6738 - output_root_mean_squared_error: 1505.7134 - val_loss: 99631928.0000 - val_importances_loss: 97465104.0000 - val_output_loss: 2166817.0000 - val_importances_root_mean_squared_error: 9872.4414 - val_output_root_mean_squared_error: 1472.0112\n",
      "Epoch 25/100\n",
      "277/277 [==============================] - ETA: 0s - loss: 99394768.0000 - importances_loss: 97134336.0000 - output_loss: 2260435.2500 - importances_root_mean_squared_error: 9855.6768 - output_root_mean_squared_error: 1503.4744+++++ Not as good as the best so far, no saving +++++\n",
      "277/277 [==============================] - 287s 1s/step - loss: 99394768.0000 - importances_loss: 97134336.0000 - output_loss: 2260435.2500 - importances_root_mean_squared_error: 9855.6768 - output_root_mean_squared_error: 1503.4744 - val_loss: 99568472.0000 - val_importances_loss: 97465104.0000 - val_output_loss: 2103362.7500 - val_importances_root_mean_squared_error: 9872.4424 - val_output_root_mean_squared_error: 1450.2975\n",
      "Epoch 26/100\n",
      "277/277 [==============================] - ETA: 0s - loss: 99383096.0000 - importances_loss: 97134312.0000 - output_loss: 2248779.0000 - importances_root_mean_squared_error: 9855.6758 - output_root_mean_squared_error: 1499.5929+++++ Not as good as the best so far, no saving +++++\n",
      "277/277 [==============================] - 284s 1s/step - loss: 99383096.0000 - importances_loss: 97134312.0000 - output_loss: 2248779.0000 - importances_root_mean_squared_error: 9855.6758 - output_root_mean_squared_error: 1499.5929 - val_loss: 99660704.0000 - val_importances_loss: 97465104.0000 - val_output_loss: 2195602.7500 - val_importances_root_mean_squared_error: 9872.4414 - val_output_root_mean_squared_error: 1481.7566\n",
      "Epoch 27/100\n",
      "277/277 [==============================] - ETA: 0s - loss: 99370664.0000 - importances_loss: 97134312.0000 - output_loss: 2236335.7500 - importances_root_mean_squared_error: 9855.6748 - output_root_mean_squared_error: 1495.4384+++++ Not as good as the best so far, no saving +++++\n",
      "277/277 [==============================] - 287s 1s/step - loss: 99370664.0000 - importances_loss: 97134312.0000 - output_loss: 2236335.7500 - importances_root_mean_squared_error: 9855.6748 - output_root_mean_squared_error: 1495.4384 - val_loss: 99604680.0000 - val_importances_loss: 97465104.0000 - val_output_loss: 2139579.2500 - val_importances_root_mean_squared_error: 9872.4424 - val_output_root_mean_squared_error: 1462.7301\n",
      "Epoch 28/100\n",
      "277/277 [==============================] - ETA: 0s - loss: 99364448.0000 - importances_loss: 97134352.0000 - output_loss: 2230150.5000 - importances_root_mean_squared_error: 9855.6738 - output_root_mean_squared_error: 1493.3689+++++ Not as good as the best so far, no saving +++++\n",
      "277/277 [==============================] - 283s 1s/step - loss: 99364448.0000 - importances_loss: 97134352.0000 - output_loss: 2230150.5000 - importances_root_mean_squared_error: 9855.6738 - output_root_mean_squared_error: 1493.3689 - val_loss: 99550224.0000 - val_importances_loss: 97465104.0000 - val_output_loss: 2085128.2500 - val_importances_root_mean_squared_error: 9872.4424 - val_output_root_mean_squared_error: 1443.9973\n",
      "Epoch 29/100\n",
      "277/277 [==============================] - ETA: 0s - loss: 99351848.0000 - importances_loss: 97134280.0000 - output_loss: 2217500.2500 - importances_root_mean_squared_error: 9855.6787 - output_root_mean_squared_error: 1489.1273+++++ Not as good as the best so far, no saving +++++\n",
      "277/277 [==============================] - 290s 1s/step - loss: 99351848.0000 - importances_loss: 97134280.0000 - output_loss: 2217500.2500 - importances_root_mean_squared_error: 9855.6787 - output_root_mean_squared_error: 1489.1273 - val_loss: 99567896.0000 - val_importances_loss: 97465104.0000 - val_output_loss: 2102794.7500 - val_importances_root_mean_squared_error: 9872.4414 - val_output_root_mean_squared_error: 1450.1017\n",
      "Epoch 30/100\n",
      "277/277 [==============================] - ETA: 0s - loss: 99357400.0000 - importances_loss: 97134368.0000 - output_loss: 2223098.2500 - importances_root_mean_squared_error: 9855.6758 - output_root_mean_squared_error: 1491.0057+++++ Not as good as the best so far, no saving +++++\n",
      "277/277 [==============================] - 283s 1s/step - loss: 99357400.0000 - importances_loss: 97134368.0000 - output_loss: 2223098.2500 - importances_root_mean_squared_error: 9855.6758 - output_root_mean_squared_error: 1491.0057 - val_loss: 99626264.0000 - val_importances_loss: 97465104.0000 - val_output_loss: 2161158.5000 - val_importances_root_mean_squared_error: 9872.4414 - val_output_root_mean_squared_error: 1470.0879\n",
      "Epoch 31/100\n",
      "277/277 [==============================] - ETA: 0s - loss: 99346864.0000 - importances_loss: 97134312.0000 - output_loss: 2212503.0000 - importances_root_mean_squared_error: 9855.6729 - output_root_mean_squared_error: 1487.4485+++++ Not as good as the best so far, no saving +++++\n",
      "277/277 [==============================] - 280s 1s/step - loss: 99346864.0000 - importances_loss: 97134312.0000 - output_loss: 2212503.0000 - importances_root_mean_squared_error: 9855.6729 - output_root_mean_squared_error: 1487.4485 - val_loss: 99532808.0000 - val_importances_loss: 97465104.0000 - val_output_loss: 2067701.6250 - val_importances_root_mean_squared_error: 9872.4414 - val_output_root_mean_squared_error: 1437.9504\n",
      "Epoch 32/100\n",
      "277/277 [==============================] - ETA: 0s - loss: 99334160.0000 - importances_loss: 97134304.0000 - output_loss: 2199865.5000 - importances_root_mean_squared_error: 9855.6748 - output_root_mean_squared_error: 1483.1943+++++ Not as good as the best so far, no saving +++++\n",
      "277/277 [==============================] - 305s 1s/step - loss: 99334160.0000 - importances_loss: 97134304.0000 - output_loss: 2199865.5000 - importances_root_mean_squared_error: 9855.6748 - output_root_mean_squared_error: 1483.1943 - val_loss: 99592072.0000 - val_importances_loss: 97465104.0000 - val_output_loss: 2126977.0000 - val_importances_root_mean_squared_error: 9872.4424 - val_output_root_mean_squared_error: 1458.4159\n",
      "Epoch 33/100\n",
      "277/277 [==============================] - ETA: 0s - loss: 99341656.0000 - importances_loss: 97134360.0000 - output_loss: 2207299.5000 - importances_root_mean_squared_error: 9855.6719 - output_root_mean_squared_error: 1485.6984+++++ Not as good as the best so far, no saving +++++\n",
      "277/277 [==============================] - 284s 1s/step - loss: 99341656.0000 - importances_loss: 97134360.0000 - output_loss: 2207299.5000 - importances_root_mean_squared_error: 9855.6719 - output_root_mean_squared_error: 1485.6984 - val_loss: 99554808.0000 - val_importances_loss: 97465104.0000 - val_output_loss: 2089712.1250 - val_importances_root_mean_squared_error: 9872.4414 - val_output_root_mean_squared_error: 1445.5836\n",
      "Epoch 34/100\n",
      "277/277 [==============================] - ETA: 0s - loss: 99337304.0000 - importances_loss: 97134344.0000 - output_loss: 2202981.2500 - importances_root_mean_squared_error: 9855.6768 - output_root_mean_squared_error: 1484.2444+++++ Not as good as the best so far, no saving +++++\n",
      "277/277 [==============================] - 282s 1s/step - loss: 99337304.0000 - importances_loss: 97134344.0000 - output_loss: 2202981.2500 - importances_root_mean_squared_error: 9855.6768 - output_root_mean_squared_error: 1484.2444 - val_loss: 99575712.0000 - val_importances_loss: 97465104.0000 - val_output_loss: 2110627.7500 - val_importances_root_mean_squared_error: 9872.4424 - val_output_root_mean_squared_error: 1452.7999\n",
      "Epoch 35/100\n",
      "277/277 [==============================] - ETA: 0s - loss: 99330752.0000 - importances_loss: 97134280.0000 - output_loss: 2196407.5000 - importances_root_mean_squared_error: 9855.6758 - output_root_mean_squared_error: 1482.0282+++++ Not as good as the best so far, no saving +++++\n",
      "277/277 [==============================] - 282s 1s/step - loss: 99330752.0000 - importances_loss: 97134280.0000 - output_loss: 2196407.5000 - importances_root_mean_squared_error: 9855.6758 - output_root_mean_squared_error: 1482.0282 - val_loss: 99582184.0000 - val_importances_loss: 97465104.0000 - val_output_loss: 2117082.2500 - val_importances_root_mean_squared_error: 9872.4404 - val_output_root_mean_squared_error: 1455.0197\n",
      "Epoch 36/100\n",
      "277/277 [==============================] - ETA: 0s - loss: 99320224.0000 - importances_loss: 97134336.0000 - output_loss: 2185907.5000 - importances_root_mean_squared_error: 9855.6768 - output_root_mean_squared_error: 1478.4814+++++ Not as good as the best so far, no saving +++++\n",
      "277/277 [==============================] - 285s 1s/step - loss: 99320224.0000 - importances_loss: 97134336.0000 - output_loss: 2185907.5000 - importances_root_mean_squared_error: 9855.6768 - output_root_mean_squared_error: 1478.4814 - val_loss: 99572312.0000 - val_importances_loss: 97465104.0000 - val_output_loss: 2107211.0000 - val_importances_root_mean_squared_error: 9872.4424 - val_output_root_mean_squared_error: 1451.6235\n",
      "Epoch 37/100\n",
      " 54/277 [====>.........................] - ETA: 3:34 - loss: 98833904.0000 - importances_loss: 96602984.0000 - output_loss: 2230921.0000 - importances_root_mean_squared_error: 9828.6816 - output_root_mean_squared_error: 1493.6268Epoch 50/100\n",
      "277/277 [==============================] - ETA: 0s - loss: 99270584.0000 - importances_loss: 97134344.0000 - output_loss: 2136226.2500 - importances_root_mean_squared_error: 9855.6777 - output_root_mean_squared_error: 1461.5835+++++ Not as good as the best so far, no saving +++++\n",
      "277/277 [==============================] - 284s 1s/step - loss: 99270584.0000 - importances_loss: 97134344.0000 - output_loss: 2136226.2500 - importances_root_mean_squared_error: 9855.6777 - output_root_mean_squared_error: 1461.5835 - val_loss: 99521928.0000 - val_importances_loss: 97465104.0000 - val_output_loss: 2056817.3750 - val_importances_root_mean_squared_error: 9872.4424 - val_output_root_mean_squared_error: 1434.1609\n",
      "Epoch 51/100\n",
      "277/277 [==============================] - ETA: 0s - loss: 99256632.0000 - importances_loss: 97134328.0000 - output_loss: 2122263.5000 - importances_root_mean_squared_error: 9855.6758 - output_root_mean_squared_error: 1456.7991+++++ Not as good as the best so far, no saving +++++\n",
      "277/277 [==============================] - 282s 1s/step - loss: 99256632.0000 - importances_loss: 97134328.0000 - output_loss: 2122263.5000 - importances_root_mean_squared_error: 9855.6758 - output_root_mean_squared_error: 1456.7991 - val_loss: 99608272.0000 - val_importances_loss: 97465104.0000 - val_output_loss: 2143193.2500 - val_importances_root_mean_squared_error: 9872.4424 - val_output_root_mean_squared_error: 1463.9650\n",
      "160/160 [==============================] - 1s 5ms/step\n"
     ]
    },
    {
     "name": "stderr",
     "output_type": "stream",
     "text": [
      "[I 2023-11-27 16:39:19,269] Trial 26 finished with value: 4948.494741698947 and parameters: {'d_embedding': 232, 'n_layers': 3, 'ffn_factor': 1.3090393122365798, 'attention_dropout': 0.2500039169935181, 'ffn_dropout': 0.2097711934063144, 'residual_dropout': 0.08857229040629458, 'lr': 3.393290629438069e-05, 'weight_decay': 1.1123425942780297e-05, 'mlp_head_unit_1': 104}. Best is trial 12 with value: 1367.1053634221596.\n"
     ]
    },
    {
     "name": "stdout",
     "output_type": "stream",
     "text": [
      "Trial 26 finished with value: 4948.494741698947 and parameters: {'d_embedding': 232, 'n_layers': 3, 'ffn_factor': 1.3090393122365798, 'attention_dropout': 0.2500039169935181, 'ffn_dropout': 0.2097711934063144, 'residual_dropout': 0.08857229040629458, 'lr': 3.393290629438069e-05, 'weight_decay': 1.1123425942780297e-05, 'mlp_head_unit_1': 104}. Best is trial 12 with value: 1367.1053634221596.\n"
     ]
    },
    {
     "name": "stderr",
     "output_type": "stream",
     "text": [
      "<ipython-input-10-607f2f084e6f>:4: FutureWarning: suggest_uniform has been deprecated in v3.0.0. This feature will be removed in v6.0.0. See https://github.com/optuna/optuna/releases/tag/v3.0.0. Use suggest_float instead.\n",
      "  ffn_factor = trial.suggest_uniform('ffn_factor', 2/3, 8/3)\n",
      "<ipython-input-10-607f2f084e6f>:5: FutureWarning: suggest_uniform has been deprecated in v3.0.0. This feature will be removed in v6.0.0. See https://github.com/optuna/optuna/releases/tag/v3.0.0. Use suggest_float instead.\n",
      "  attention_dropout = trial.suggest_uniform('attention_dropout', 0.0, 0.5)\n",
      "<ipython-input-10-607f2f084e6f>:6: FutureWarning: suggest_uniform has been deprecated in v3.0.0. This feature will be removed in v6.0.0. See https://github.com/optuna/optuna/releases/tag/v3.0.0. Use suggest_float instead.\n",
      "  ffn_dropout = trial.suggest_uniform('ffn_dropout', 0.0, 0.5)\n",
      "<ipython-input-10-607f2f084e6f>:7: FutureWarning: suggest_uniform has been deprecated in v3.0.0. This feature will be removed in v6.0.0. See https://github.com/optuna/optuna/releases/tag/v3.0.0. Use suggest_float instead.\n",
      "  residual_dropout = trial.suggest_uniform('residual_dropout', 0.0, 0.2)\n",
      "<ipython-input-10-607f2f084e6f>:9: FutureWarning: suggest_loguniform has been deprecated in v3.0.0. This feature will be removed in v6.0.0. See https://github.com/optuna/optuna/releases/tag/v3.0.0. Use suggest_float(..., log=True) instead.\n",
      "  lr = trial.suggest_loguniform(\"lr\", 1e-5, 1e-2)\n",
      "<ipython-input-10-607f2f084e6f>:10: FutureWarning: suggest_loguniform has been deprecated in v3.0.0. This feature will be removed in v6.0.0. See https://github.com/optuna/optuna/releases/tag/v3.0.0. Use suggest_float(..., log=True) instead.\n",
      "  weight_decay = trial.suggest_loguniform(\"weight_decay\", 1e-6, 1e-3)\n"
     ]
    },
    {
     "name": "stdout",
     "output_type": "stream",
     "text": [
      "read best result 1355.75244140625 from ./model/upstream-finetune_optuna/log_best_result.txt\n",
      "Epoch 1/100\n",
      "277/277 [==============================] - ETA: 0s - loss: 110565512.0000 - importances_loss: 97134312.0000 - output_loss: 13431222.0000 - importances_root_mean_squared_error: 9855.6748 - output_root_mean_squared_error: 3664.8633+++++ Not as good as the best so far, no saving +++++\n",
      "277/277 [==============================] - 467s 2s/step - loss: 110565512.0000 - importances_loss: 97134312.0000 - output_loss: 13431222.0000 - importances_root_mean_squared_error: 9855.6748 - output_root_mean_squared_error: 3664.8633 - val_loss: 99898888.0000 - val_importances_loss: 97465104.0000 - val_output_loss: 2433782.0000 - val_importances_root_mean_squared_error: 9872.4414 - val_output_root_mean_squared_error: 1560.0583\n",
      "Epoch 2/100\n",
      "277/277 [==============================] - ETA: 0s - loss: 99688688.0000 - importances_loss: 97134320.0000 - output_loss: 2554378.5000 - importances_root_mean_squared_error: 9855.6758 - output_root_mean_squared_error: 1598.2423+++++ Not as good as the best so far, no saving +++++\n",
      "277/277 [==============================] - 466s 2s/step - loss: 99688688.0000 - importances_loss: 97134320.0000 - output_loss: 2554378.5000 - importances_root_mean_squared_error: 9855.6758 - output_root_mean_squared_error: 1598.2423 - val_loss: 99570312.0000 - val_importances_loss: 97465104.0000 - val_output_loss: 2105207.7500 - val_importances_root_mean_squared_error: 9872.4424 - val_output_root_mean_squared_error: 1450.9333\n",
      "Epoch 3/100\n",
      "277/277 [==============================] - ETA: 0s - loss: 99468760.0000 - importances_loss: 97134328.0000 - output_loss: 2334409.5000 - importances_root_mean_squared_error: 9855.6729 - output_root_mean_squared_error: 1527.8774+++++ Not as good as the best so far, no saving +++++\n",
      "277/277 [==============================] - 464s 2s/step - loss: 99468760.0000 - importances_loss: 97134328.0000 - output_loss: 2334409.5000 - importances_root_mean_squared_error: 9855.6729 - output_root_mean_squared_error: 1527.8774 - val_loss: 99662576.0000 - val_importances_loss: 97465104.0000 - val_output_loss: 2197471.5000 - val_importances_root_mean_squared_error: 9872.4414 - val_output_root_mean_squared_error: 1482.3871\n",
      "Epoch 4/100\n",
      "277/277 [==============================] - ETA: 0s - loss: 99369936.0000 - importances_loss: 97134336.0000 - output_loss: 2235629.2500 - importances_root_mean_squared_error: 9855.6738 - output_root_mean_squared_error: 1495.2020+++++ Not as good as the best so far, no saving +++++\n",
      "277/277 [==============================] - 459s 2s/step - loss: 99369936.0000 - importances_loss: 97134336.0000 - output_loss: 2235629.2500 - importances_root_mean_squared_error: 9855.6738 - output_root_mean_squared_error: 1495.2020 - val_loss: 99520376.0000 - val_importances_loss: 97465104.0000 - val_output_loss: 2055267.3750 - val_importances_root_mean_squared_error: 9872.4424 - val_output_root_mean_squared_error: 1433.6204\n",
      "Epoch 5/100\n",
      "277/277 [==============================] - ETA: 0s - loss: 99294248.0000 - importances_loss: 97134352.0000 - output_loss: 2159913.0000 - importances_root_mean_squared_error: 9855.6738 - output_root_mean_squared_error: 1469.6643+++++ Not as good as the best so far, no saving +++++\n",
      "277/277 [==============================] - 467s 2s/step - loss: 99294248.0000 - importances_loss: 97134352.0000 - output_loss: 2159913.0000 - importances_root_mean_squared_error: 9855.6738 - output_root_mean_squared_error: 1469.6643 - val_loss: 99514152.0000 - val_importances_loss: 97465104.0000 - val_output_loss: 2049047.0000 - val_importances_root_mean_squared_error: 9872.4414 - val_output_root_mean_squared_error: 1431.4492\n",
      "Epoch 6/100\n",
      "277/277 [==============================] - ETA: 0s - loss: 99252200.0000 - importances_loss: 97134344.0000 - output_loss: 2117859.7500 - importances_root_mean_squared_error: 9855.6758 - output_root_mean_squared_error: 1455.2869+++++ Not as good as the best so far, no saving +++++\n",
      "277/277 [==============================] - 458s 2s/step - loss: 99252200.0000 - importances_loss: 97134344.0000 - output_loss: 2117859.7500 - importances_root_mean_squared_error: 9855.6758 - output_root_mean_squared_error: 1455.2869 - val_loss: 99424672.0000 - val_importances_loss: 97465104.0000 - val_output_loss: 1959558.8750 - val_importances_root_mean_squared_error: 9872.4414 - val_output_root_mean_squared_error: 1399.8424\n",
      "Epoch 7/100\n",
      "277/277 [==============================] - ETA: 0s - loss: 99209672.0000 - importances_loss: 97134368.0000 - output_loss: 2075298.8750 - importances_root_mean_squared_error: 9855.6738 - output_root_mean_squared_error: 1440.5897+++++ Not as good as the best so far, no saving +++++\n",
      "277/277 [==============================] - 468s 2s/step - loss: 99209672.0000 - importances_loss: 97134368.0000 - output_loss: 2075298.8750 - importances_root_mean_squared_error: 9855.6738 - output_root_mean_squared_error: 1440.5897 - val_loss: 99522744.0000 - val_importances_loss: 97465104.0000 - val_output_loss: 2057634.5000 - val_importances_root_mean_squared_error: 9872.4404 - val_output_root_mean_squared_error: 1434.4457\n",
      "Epoch 8/100\n",
      "277/277 [==============================] - ETA: 0s - loss: 99188040.0000 - importances_loss: 97134336.0000 - output_loss: 2053660.0000 - importances_root_mean_squared_error: 9855.6758 - output_root_mean_squared_error: 1433.0597+++++ Not as good as the best so far, no saving +++++\n",
      "277/277 [==============================] - 464s 2s/step - loss: 99188040.0000 - importances_loss: 97134336.0000 - output_loss: 2053660.0000 - importances_root_mean_squared_error: 9855.6758 - output_root_mean_squared_error: 1433.0597 - val_loss: 99401744.0000 - val_importances_loss: 97465104.0000 - val_output_loss: 1936639.0000 - val_importances_root_mean_squared_error: 9872.4404 - val_output_root_mean_squared_error: 1391.6318\n",
      "Epoch 9/100\n",
      "277/277 [==============================] - ETA: 0s - loss: 99164736.0000 - importances_loss: 97134304.0000 - output_loss: 2030414.5000 - importances_root_mean_squared_error: 9855.6738 - output_root_mean_squared_error: 1424.9261+++++ Not as good as the best so far, no saving +++++\n",
      "277/277 [==============================] - 460s 2s/step - loss: 99164736.0000 - importances_loss: 97134304.0000 - output_loss: 2030414.5000 - importances_root_mean_squared_error: 9855.6738 - output_root_mean_squared_error: 1424.9261 - val_loss: 99475824.0000 - val_importances_loss: 97465104.0000 - val_output_loss: 2010723.1250 - val_importances_root_mean_squared_error: 9872.4414 - val_output_root_mean_squared_error: 1417.9996\n",
      "Epoch 10/100\n",
      "277/277 [==============================] - ETA: 0s - loss: 99158088.0000 - importances_loss: 97134376.0000 - output_loss: 2023767.1250 - importances_root_mean_squared_error: 9855.6748 - output_root_mean_squared_error: 1422.5917+++++ Not as good as the best so far, no saving +++++\n",
      "277/277 [==============================] - 457s 2s/step - loss: 99158088.0000 - importances_loss: 97134376.0000 - output_loss: 2023767.1250 - importances_root_mean_squared_error: 9855.6748 - output_root_mean_squared_error: 1422.5917 - val_loss: 99455992.0000 - val_importances_loss: 97465104.0000 - val_output_loss: 1990901.8750 - val_importances_root_mean_squared_error: 9872.4414 - val_output_root_mean_squared_error: 1410.9932\n",
      "Epoch 11/100\n",
      "277/277 [==============================] - ETA: 0s - loss: 99126640.0000 - importances_loss: 97134336.0000 - output_loss: 1992288.2500 - importances_root_mean_squared_error: 9855.6758 - output_root_mean_squared_error: 1411.4844+++++ Not as good as the best so far, no saving +++++\n",
      "277/277 [==============================] - 475s 2s/step - loss: 99126640.0000 - importances_loss: 97134336.0000 - output_loss: 1992288.2500 - importances_root_mean_squared_error: 9855.6758 - output_root_mean_squared_error: 1411.4844 - val_loss: 99390512.0000 - val_importances_loss: 97465104.0000 - val_output_loss: 1925426.8750 - val_importances_root_mean_squared_error: 9872.4424 - val_output_root_mean_squared_error: 1387.5975\n",
      "Epoch 12/100\n",
      "277/277 [==============================] - ETA: 0s - loss: 99127824.0000 - importances_loss: 97134312.0000 - output_loss: 1993423.6250 - importances_root_mean_squared_error: 9855.6738 - output_root_mean_squared_error: 1411.8866+++++ Not as good as the best so far, no saving +++++\n",
      "277/277 [==============================] - 461s 2s/step - loss: 99127824.0000 - importances_loss: 97134312.0000 - output_loss: 1993423.6250 - importances_root_mean_squared_error: 9855.6738 - output_root_mean_squared_error: 1411.8866 - val_loss: 99412464.0000 - val_importances_loss: 97465104.0000 - val_output_loss: 1947349.6250 - val_importances_root_mean_squared_error: 9872.4414 - val_output_root_mean_squared_error: 1395.4747\n",
      "Epoch 13/100\n",
      "277/277 [==============================] - ETA: 0s - loss: 99105648.0000 - importances_loss: 97134312.0000 - output_loss: 1971317.8750 - importances_root_mean_squared_error: 9855.6748 - output_root_mean_squared_error: 1404.0363+++++ Not as good as the best so far, no saving +++++\n",
      "277/277 [==============================] - 461s 2s/step - loss: 99105648.0000 - importances_loss: 97134312.0000 - output_loss: 1971317.8750 - importances_root_mean_squared_error: 9855.6748 - output_root_mean_squared_error: 1404.0363 - val_loss: 99498864.0000 - val_importances_loss: 97465104.0000 - val_output_loss: 2033750.0000 - val_importances_root_mean_squared_error: 9872.4414 - val_output_root_mean_squared_error: 1426.0961\n",
      "Epoch 14/100\n",
      "277/277 [==============================] - ETA: 0s - loss: 99107872.0000 - importances_loss: 97134296.0000 - output_loss: 1973539.2500 - importances_root_mean_squared_error: 9855.6729 - output_root_mean_squared_error: 1404.8271+++++ Not as good as the best so far, no saving +++++\n",
      "277/277 [==============================] - 459s 2s/step - loss: 99107872.0000 - importances_loss: 97134296.0000 - output_loss: 1973539.2500 - importances_root_mean_squared_error: 9855.6729 - output_root_mean_squared_error: 1404.8271 - val_loss: 99471408.0000 - val_importances_loss: 97465104.0000 - val_output_loss: 2006313.0000 - val_importances_root_mean_squared_error: 9872.4414 - val_output_root_mean_squared_error: 1416.4437\n",
      "Epoch 15/100\n",
      "277/277 [==============================] - ETA: 0s - loss: 99097384.0000 - importances_loss: 97134336.0000 - output_loss: 1963043.6250 - importances_root_mean_squared_error: 9855.6748 - output_root_mean_squared_error: 1401.0865+++++ Not as good as the best so far, no saving +++++\n",
      "277/277 [==============================] - 458s 2s/step - loss: 99097384.0000 - importances_loss: 97134336.0000 - output_loss: 1963043.6250 - importances_root_mean_squared_error: 9855.6748 - output_root_mean_squared_error: 1401.0865 - val_loss: 99497944.0000 - val_importances_loss: 97465104.0000 - val_output_loss: 2032842.0000 - val_importances_root_mean_squared_error: 9872.4414 - val_output_root_mean_squared_error: 1425.7777\n",
      "Epoch 16/100\n",
      "277/277 [==============================] - ETA: 0s - loss: 99085240.0000 - importances_loss: 97134344.0000 - output_loss: 1950927.2500 - importances_root_mean_squared_error: 9855.6738 - output_root_mean_squared_error: 1396.7560+++++ Not as good as the best so far, no saving +++++\n",
      "277/277 [==============================] - 459s 2s/step - loss: 99085240.0000 - importances_loss: 97134344.0000 - output_loss: 1950927.2500 - importances_root_mean_squared_error: 9855.6738 - output_root_mean_squared_error: 1396.7560 - val_loss: 99469192.0000 - val_importances_loss: 97465104.0000 - val_output_loss: 2004092.8750 - val_importances_root_mean_squared_error: 9872.4424 - val_output_root_mean_squared_error: 1415.6599\n",
      "Epoch 17/100\n",
      "277/277 [==============================] - ETA: 0s - loss: 99080016.0000 - importances_loss: 97134368.0000 - output_loss: 1945682.2500 - importances_root_mean_squared_error: 9855.6729 - output_root_mean_squared_error: 1394.8772+++++ Not as good as the best so far, no saving +++++\n",
      "277/277 [==============================] - 464s 2s/step - loss: 99080016.0000 - importances_loss: 97134368.0000 - output_loss: 1945682.2500 - importances_root_mean_squared_error: 9855.6729 - output_root_mean_squared_error: 1394.8772 - val_loss: 99426880.0000 - val_importances_loss: 97465104.0000 - val_output_loss: 1961789.0000 - val_importances_root_mean_squared_error: 9872.4414 - val_output_root_mean_squared_error: 1400.6388\n",
      "Epoch 18/100\n",
      "277/277 [==============================] - ETA: 0s - loss: 99079512.0000 - importances_loss: 97134368.0000 - output_loss: 1945197.7500 - importances_root_mean_squared_error: 9855.6768 - output_root_mean_squared_error: 1394.7035+++++ Not as good as the best so far, no saving +++++\n",
      "277/277 [==============================] - 459s 2s/step - loss: 99079512.0000 - importances_loss: 97134368.0000 - output_loss: 1945197.7500 - importances_root_mean_squared_error: 9855.6768 - output_root_mean_squared_error: 1394.7035 - val_loss: 99413152.0000 - val_importances_loss: 97465104.0000 - val_output_loss: 1948059.1250 - val_importances_root_mean_squared_error: 9872.4414 - val_output_root_mean_squared_error: 1395.7289\n",
      "Epoch 19/100\n",
      "277/277 [==============================] - ETA: 0s - loss: 99073784.0000 - importances_loss: 97134336.0000 - output_loss: 1939434.8750 - importances_root_mean_squared_error: 9855.6738 - output_root_mean_squared_error: 1392.6360+++++ Not as good as the best so far, no saving +++++\n",
      "277/277 [==============================] - 481s 2s/step - loss: 99073784.0000 - importances_loss: 97134336.0000 - output_loss: 1939434.8750 - importances_root_mean_squared_error: 9855.6738 - output_root_mean_squared_error: 1392.6360 - val_loss: 99364672.0000 - val_importances_loss: 97465104.0000 - val_output_loss: 1899581.7500 - val_importances_root_mean_squared_error: 9872.4414 - val_output_root_mean_squared_error: 1378.2532\n",
      "Epoch 20/100\n",
      "277/277 [==============================] - ETA: 0s - loss: 99079448.0000 - importances_loss: 97134336.0000 - output_loss: 1945096.3750 - importances_root_mean_squared_error: 9855.6758 - output_root_mean_squared_error: 1394.6671+++++ Not as good as the best so far, no saving +++++\n",
      "277/277 [==============================] - 463s 2s/step - loss: 99079448.0000 - importances_loss: 97134336.0000 - output_loss: 1945096.3750 - importances_root_mean_squared_error: 9855.6758 - output_root_mean_squared_error: 1394.6671 - val_loss: 99445488.0000 - val_importances_loss: 97465104.0000 - val_output_loss: 1980385.1250 - val_importances_root_mean_squared_error: 9872.4414 - val_output_root_mean_squared_error: 1407.2616\n",
      "Epoch 21/100\n",
      "277/277 [==============================] - ETA: 0s - loss: 99071368.0000 - importances_loss: 97134336.0000 - output_loss: 1937044.0000 - importances_root_mean_squared_error: 9855.6738 - output_root_mean_squared_error: 1391.7772+++++ Not as good as the best so far, no saving +++++\n",
      "277/277 [==============================] - 459s 2s/step - loss: 99071368.0000 - importances_loss: 97134336.0000 - output_loss: 1937044.0000 - importances_root_mean_squared_error: 9855.6738 - output_root_mean_squared_error: 1391.7772 - val_loss: 99415784.0000 - val_importances_loss: 97465104.0000 - val_output_loss: 1950675.1250 - val_importances_root_mean_squared_error: 9872.4414 - val_output_root_mean_squared_error: 1396.6658\n",
      "Epoch 22/100\n",
      "277/277 [==============================] - ETA: 0s - loss: 99063872.0000 - importances_loss: 97134336.0000 - output_loss: 1929541.2500 - importances_root_mean_squared_error: 9855.6738 - output_root_mean_squared_error: 1389.0792+++++ Not as good as the best so far, no saving +++++\n",
      "277/277 [==============================] - 461s 2s/step - loss: 99063872.0000 - importances_loss: 97134336.0000 - output_loss: 1929541.2500 - importances_root_mean_squared_error: 9855.6738 - output_root_mean_squared_error: 1389.0792 - val_loss: 99375504.0000 - val_importances_loss: 97465104.0000 - val_output_loss: 1910412.6250 - val_importances_root_mean_squared_error: 9872.4414 - val_output_root_mean_squared_error: 1382.1768\n",
      "Epoch 23/100\n",
      "277/277 [==============================] - ETA: 0s - loss: 99052080.0000 - importances_loss: 97134304.0000 - output_loss: 1917764.7500 - importances_root_mean_squared_error: 9855.6729 - output_root_mean_squared_error: 1384.8339+++++ Not as good as the best so far, no saving +++++\n",
      "277/277 [==============================] - 452s 2s/step - loss: 99052080.0000 - importances_loss: 97134304.0000 - output_loss: 1917764.7500 - importances_root_mean_squared_error: 9855.6729 - output_root_mean_squared_error: 1384.8339 - val_loss: 99432416.0000 - val_importances_loss: 97465104.0000 - val_output_loss: 1967321.7500 - val_importances_root_mean_squared_error: 9872.4424 - val_output_root_mean_squared_error: 1402.6124\n",
      "Epoch 24/100\n",
      "277/277 [==============================] - ETA: 0s - loss: 99049648.0000 - importances_loss: 97134344.0000 - output_loss: 1915295.5000 - importances_root_mean_squared_error: 9855.6748 - output_root_mean_squared_error: 1383.9420+++++ Not as good as the best so far, no saving +++++\n",
      "277/277 [==============================] - 456s 2s/step - loss: 99049648.0000 - importances_loss: 97134344.0000 - output_loss: 1915295.5000 - importances_root_mean_squared_error: 9855.6748 - output_root_mean_squared_error: 1383.9420 - val_loss: 99456752.0000 - val_importances_loss: 97465104.0000 - val_output_loss: 1991642.0000 - val_importances_root_mean_squared_error: 9872.4414 - val_output_root_mean_squared_error: 1411.2555\n",
      "Epoch 25/100\n",
      "277/277 [==============================] - ETA: 0s - loss: 99046296.0000 - importances_loss: 97134352.0000 - output_loss: 1911956.2500 - importances_root_mean_squared_error: 9855.6748 - output_root_mean_squared_error: 1382.7351+++++ Not as good as the best so far, no saving +++++\n",
      "277/277 [==============================] - 453s 2s/step - loss: 99046296.0000 - importances_loss: 97134352.0000 - output_loss: 1911956.2500 - importances_root_mean_squared_error: 9855.6748 - output_root_mean_squared_error: 1382.7351 - val_loss: 99418576.0000 - val_importances_loss: 97465104.0000 - val_output_loss: 1953456.5000 - val_importances_root_mean_squared_error: 9872.4414 - val_output_root_mean_squared_error: 1397.6611\n",
      "Epoch 26/100\n",
      "277/277 [==============================] - ETA: 0s - loss: 99047072.0000 - importances_loss: 97134336.0000 - output_loss: 1912720.3750 - importances_root_mean_squared_error: 9855.6738 - output_root_mean_squared_error: 1383.0114+++++ Not as good as the best so far, no saving +++++\n",
      "277/277 [==============================] - 456s 2s/step - loss: 99047072.0000 - importances_loss: 97134336.0000 - output_loss: 1912720.3750 - importances_root_mean_squared_error: 9855.6738 - output_root_mean_squared_error: 1383.0114 - val_loss: 99389928.0000 - val_importances_loss: 97465104.0000 - val_output_loss: 1924828.7500 - val_importances_root_mean_squared_error: 9872.4424 - val_output_root_mean_squared_error: 1387.3820\n",
      "Epoch 27/100\n",
      "277/277 [==============================] - ETA: 0s - loss: 99040936.0000 - importances_loss: 97134312.0000 - output_loss: 1906608.2500 - importances_root_mean_squared_error: 9855.6758 - output_root_mean_squared_error: 1380.7998+++++ Not as good as the best so far, no saving +++++\n",
      "277/277 [==============================] - 457s 2s/step - loss: 99040936.0000 - importances_loss: 97134312.0000 - output_loss: 1906608.2500 - importances_root_mean_squared_error: 9855.6758 - output_root_mean_squared_error: 1380.7998 - val_loss: 99475456.0000 - val_importances_loss: 97465104.0000 - val_output_loss: 2010351.1250 - val_importances_root_mean_squared_error: 9872.4424 - val_output_root_mean_squared_error: 1417.8685\n",
      "Epoch 28/100\n",
      "225/277 [=======================>......] - ETA: 1:21 - loss: 99012264.0000 - importances_loss: 97097608.0000 - output_loss: 1914692.5000 - importances_root_mean_squared_error: 9853.8135 - output_root_mean_squared_error: 1383.7241"
     ]
    }
   ],
   "source": [
    "optuna.logging.get_logger(\"optuna\").addHandler(logging.StreamHandler(sys.stdout))\n",
    "\n",
    "pruner=optuna.pruners.PatientPruner(None, patience=patience)\n",
    "\n",
    "if os.path.exists(f'{UPSTREAM_OPTUNA_DIR}{SAMPLER_FILE}'):\n",
    "    restored_sampler = pickle.load(open(f'{UPSTREAM_OPTUNA_DIR}{SAMPLER_FILE}', \"rb\"))\n",
    "    study = optuna.create_study(study_name=\"optuna_optimizer\", direction='minimize', storage=DATABASE_FILE, load_if_exists=True, sampler=restored_sampler, pruner=pruner)\n",
    "else:\n",
    "    study = optuna.create_study(study_name=\"optuna_optimizer\", direction='minimize', storage=DATABASE_FILE, load_if_exists=True, pruner=pruner)\n",
    "\n",
    "study.optimize(objective, n_trials=50)\n",
    "\n",
    "with open(f'{UPSTREAM_OPTUNA_DIR}{SAMPLER_FILE}', \"wb\") as fout:\n",
    "    pickle.dump(study.sampler, fout)\n",
    "    \n",
    "print('Number of finished trials:', len(study.trials))\n",
    "print('Best trial:', study.best_trial.params)"
   ]
  },
  {
   "cell_type": "code",
   "execution_count": null,
   "id": "272ce64a-2751-477f-8563-d72e37ae8ee7",
   "metadata": {
    "collapsed": true,
    "jupyter": {
     "outputs_hidden": true
    },
    "tags": []
   },
   "outputs": [],
   "source": [
    "import json\n",
    "\n",
    "best_value = study.best_value\n",
    "print(f'best value = {best_value}')\n",
    "best_trial = study.best_trial\n",
    "\n",
    "for key, value in study.best_params.items():\n",
    "    print(\"{}: {}\".format(key, value))\n",
    "\n",
    "with open(os.path.join(f'{UPSTREAM_OPTUNA_DIR}{PARAM_FILE}'), \"w\") as fp:\n",
    "    json.dump(study.best_params, fp, indent = 4)"
   ]
  },
  {
   "cell_type": "markdown",
   "id": "7df28496-bb4c-42f1-bc60-ccd597108db3",
   "metadata": {
    "tags": []
   },
   "source": [
    "### Load best results and predict"
   ]
  },
  {
   "cell_type": "code",
   "execution_count": 9,
   "id": "698e0ded-3285-40ea-9158-b1c169f5e37e",
   "metadata": {
    "collapsed": true,
    "jupyter": {
     "outputs_hidden": true
    },
    "tags": []
   },
   "outputs": [],
   "source": [
    "model_reload = tf.keras.models.load_model(MODEL_SAVE_DIR)\n",
    "get_rmse_on_upstream_val(model_reload, upstream_val_df)"
   ]
  },
  {
   "cell_type": "code",
   "execution_count": 11,
   "id": "c6200134-5c50-44b9-ac43-b9b6ac1b05de",
   "metadata": {
    "collapsed": true,
    "jupyter": {
     "outputs_hidden": true
    },
    "tags": []
   },
   "outputs": [],
   "source": [
    "downstream_test_df = pd.read_csv(f'{DATA_FOLDER}{DOWNSTREAM_TEST_FILENAME}')\n",
    "downstream_test_df = embed_catgorical_features(downstream_test_df, CATEGORICAL_FEATURES)\n",
    "test_df = df_to_dataset(downstream_test_df[FEATURES], shuffle=False, batch_size=1)"
   ]
  },
  {
   "cell_type": "code",
   "execution_count": 12,
   "id": "4ecac96d-cebe-457f-8f68-2a827badbfab",
   "metadata": {
    "collapsed": true,
    "jupyter": {
     "outputs_hidden": true
    },
    "tags": []
   },
   "outputs": [
    {
     "name": "stdout",
     "output_type": "stream",
     "text": [
      " 18/160 [==>...........................] - ETA: 0s"
     ]
    },
    {
     "name": "stderr",
     "output_type": "stream",
     "text": [
      "/home/zheng.yant/ML-LUE/fttransformer/utils/preprocessing.py:27: FutureWarning: Support for multi-dimensional indexing (e.g. `obj[:, None]`) is deprecated and will be removed in a future version.  Convert to a numpy array before indexing instead.\n",
      "  dataset[key] = value[:, tf.newaxis]\n"
     ]
    },
    {
     "name": "stdout",
     "output_type": "stream",
     "text": [
      "160/160 [==============================] - 1s 5ms/step\n",
      "Linear Encoding RMSE: 4858.5769\n",
      "MOD17 RMSE: 4594.0967\n"
     ]
    }
   ],
   "source": [
    "predict_results = model_reload.predict(test_df)\n",
    "y_pred = predict_results['output'].ravel()\n",
    "modis_compare_data = get_modis_compare_data(y_pred)\n",
    "get_all_metrics(y_pred, modis_compare_data[TARGET_FEATURE], downstream_test_df[TARGET_FEATURE])\n",
    "plot_result_distribution(downstream_test_df[TARGET_FEATURE], y_pred, modis_compare_data[TARGET_FEATURE])"
   ]
  },
  {
   "cell_type": "code",
   "execution_count": null,
   "id": "bb6c9a9e-9428-4f59-99e4-f16ee3ccac43",
   "metadata": {
    "collapsed": true,
    "jupyter": {
     "outputs_hidden": true
    }
   },
   "outputs": [],
   "source": []
  }
 ],
 "metadata": {
  "kernelspec": {
   "display_name": "Python 3",
   "language": "python",
   "name": "python3"
  },
  "language_info": {
   "codemirror_mode": {
    "name": "ipython",
    "version": 3
   },
   "file_extension": ".py",
   "mimetype": "text/x-python",
   "name": "python",
   "nbconvert_exporter": "python",
   "pygments_lexer": "ipython3",
   "version": "3.9.18"
  }
 },
 "nbformat": 4,
 "nbformat_minor": 5
}
