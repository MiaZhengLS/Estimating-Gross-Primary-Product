{
 "cells": [
  {
   "cell_type": "code",
   "execution_count": 5,
   "id": "89d7efe0-f615-48b4-9fb5-d7253603272a",
   "metadata": {
    "id": "hmXAp_QstHhV",
    "tags": []
   },
   "outputs": [],
   "source": [
    "# MYD17A3HGF.061: Aqua Net Primary Production Gap-Filled Yearly Global 500m\n",
    "# 2001-2022.1\n",
    "# https://developers.google.com/earth-engine/datasets/catalog/MODIS_061_MYD17A3HGF\n",
    "gpp_map_info = {'name':'MODIS/061/MYD17A3HGF', 'band':'Gpp', 'min':0, 'max':19000.0}\n",
    "\n",
    "feature_list = []\n",
    "# Terra Land Surface Temperature and Emissivity Daily Global 1km\n",
    "# 2000-2023\n",
    "# https://developers.google.com/earth-engine/datasets/catalog/MODIS_061_MOD11A1\n",
    "temp_map_info = {'name':'MODIS/061/MOD11A1', 'band':'LST_Day_1km', 'min':12000.0, 'max':15500.0}\n",
    "feature_list.append(temp_map_info)\n",
    "# TerraClimate: Monthly Climate and Climatic Water Balance for Global Terrestrial Surfaces\n",
    "# -2022.12\n",
    "# https://developers.google.com/earth-engine/datasets/catalog/IDAHO_EPSCOR_TERRACLIMATE 4638m\n",
    "# monthly -> annual\n",
    "pr_map_info = {'name':'IDAHO_EPSCOR/TERRACLIMATE', 'band':'pr', 'min':0, 'max':2000, 'sum':True}\n",
    "feature_list.append(pr_map_info)\n",
    "et_map_info = {'name':'IDAHO_EPSCOR/TERRACLIMATE', 'band':'aet', 'min':0, 'max':6000, 'sum':True}\n",
    "feature_list.append(et_map_info)\n",
    "# MCD12Q1.061 MODIS Land Cover Type Yearly Global 500m\n",
    "# -2022.1\n",
    "# https://developers.google.com/earth-engine/datasets/catalog/MODIS_061_MCD12Q1\n",
    "landcover_map_info = {'name':'MODIS/061/MCD12Q1', 'band':'LC_Type1', 'min':1.0, 'max':17.0}\n",
    "feature_list.append(landcover_map_info)\n",
    "# MODIS Combined 16-Day NDVI 500m\n",
    "# 2000-now\n",
    "# https://developers.google.com/earth-engine/datasets/catalog/MODIS_MCD43A4_006_NDVI\n",
    "ndvi_map_info = {'name':'MODIS/061/MOD13A1', 'band':'NDVI', 'min':-2000, 'max':10000}\n",
    "feature_list.append(ndvi_map_info)\n",
    "evi_map_info = {'name':'MODIS/061/MOD13A1', 'band':'EVI', 'min':-2000, 'max':10000}\n",
    "feature_list.append(evi_map_info)"
   ]
  },
  {
   "cell_type": "code",
   "execution_count": 6,
   "id": "cbf23df6-3ca0-4eae-9e2a-6eef4aee1953",
   "metadata": {
    "tags": []
   },
   "outputs": [
    {
     "name": "stdout",
     "output_type": "stream",
     "text": [
      "['LC_Type1', 'LST_Day_1km', 'pr', 'aet', 'NDVI', 'EVI']\n",
      "['LST_Day_1km', 'pr', 'aet', 'NDVI', 'EVI']\n",
      "['LC_Type1']\n"
     ]
    }
   ],
   "source": [
    "CATEGORICAL_FEATURES = []\n",
    "NUMERIC_FEATURES = []\n",
    "\n",
    "for feature in feature_list:\n",
    "    if feature['band'] == 'LC_Type1':\n",
    "        CATEGORICAL_FEATURES.append(feature['band'])\n",
    "    else:\n",
    "        NUMERIC_FEATURES.append(feature['band'])\n",
    "        \n",
    "FEATURES = CATEGORICAL_FEATURES + NUMERIC_FEATURES\n",
    "TARGET_FEATURE = gpp_map_info['band']\n",
    "\n",
    "print(FEATURES)\n",
    "print(NUMERIC_FEATURES)\n",
    "print(CATEGORICAL_FEATURES)"
   ]
  },
  {
   "cell_type": "code",
   "execution_count": 7,
   "id": "e2d31a98-9f18-4348-af3a-f0ddc874aa2c",
   "metadata": {},
   "outputs": [],
   "source": [
    "def plot_model_history(history, train_metric, val_metric, metric_display_name):\n",
    "  plt.figure(figsize=(6, 4))\n",
    "  plt.plot(history.history[train_metric], label=f'Training {metric_display_name}')\n",
    "  plt.plot(history.history[val_metric], label=f'Validation {metric_display_name}')\n",
    "  plt.xlabel('Epoch')\n",
    "  plt.ylabel(metric_display_name)\n",
    "  plt.title(f'Training and Validation {metric_display_name}')\n",
    "  plt.legend()\n",
    "  plt.grid(True)\n",
    "  plt.show()"
   ]
  },
  {
   "cell_type": "code",
   "execution_count": null,
   "id": "006c43be-2b10-4d37-a01a-ff68ab1326df",
   "metadata": {},
   "outputs": [],
   "source": []
  }
 ],
 "metadata": {
  "kernelspec": {
   "display_name": "Python 3",
   "language": "python",
   "name": "python3"
  },
  "language_info": {
   "codemirror_mode": {
    "name": "ipython",
    "version": 3
   },
   "file_extension": ".py",
   "mimetype": "text/x-python",
   "name": "python",
   "nbconvert_exporter": "python",
   "pygments_lexer": "ipython3",
   "version": "3.9.18"
  }
 },
 "nbformat": 4,
 "nbformat_minor": 5
}
