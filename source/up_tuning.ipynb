{
 "cells": [
  {
   "cell_type": "code",
   "execution_count": 1,
   "id": "e2c153e4-a15e-4bfa-bf76-7bc44627f072",
   "metadata": {
    "collapsed": true,
    "jupyter": {
     "outputs_hidden": true
    },
    "tags": []
   },
   "outputs": [
    {
     "name": "stdout",
     "output_type": "stream",
     "text": [
      "['LC_Type1', 'LST_Day_1km', 'pr', 'aet', 'NDVI', 'EVI']\n",
      "['LST_Day_1km', 'pr', 'aet', 'NDVI', 'EVI']\n",
      "['LC_Type1']\n"
     ]
    }
   ],
   "source": [
    "%run common.ipynb"
   ]
  },
  {
   "cell_type": "code",
   "execution_count": 2,
   "id": "74ca4dde-c8ab-40e4-9426-09779f616e46",
   "metadata": {
    "collapsed": true,
    "jupyter": {
     "outputs_hidden": true
    },
    "tags": []
   },
   "outputs": [
    {
     "name": "stdout",
     "output_type": "stream",
     "text": [
      "Using TensorFlow backend\n"
     ]
    }
   ],
   "source": [
    "%run tuning_common.ipynb"
   ]
  },
  {
   "cell_type": "code",
   "execution_count": 3,
   "id": "892e3fd8-b4e3-41f8-a37a-8b0a6abcc6eb",
   "metadata": {
    "collapsed": true,
    "jupyter": {
     "outputs_hidden": true
    },
    "tags": []
   },
   "outputs": [],
   "source": [
    "MODEL_SAVE_DIR = f'{UPSTREAM_FINETUNE_DIR}model'"
   ]
  },
  {
   "cell_type": "code",
   "execution_count": 4,
   "id": "132ffa51-c9c7-4863-a813-07623c487e48",
   "metadata": {
    "collapsed": true,
    "jupyter": {
     "outputs_hidden": true
    },
    "tags": []
   },
   "outputs": [
    {
     "name": "stdout",
     "output_type": "stream",
     "text": [
      "141623\n",
      "   LC_Type1  LST_Day_1km        pr       aet      NDVI       EVI      Gpp\n",
      "0      12.0    -0.064955  0.092342  0.308087  0.224185  0.727549   9841.0\n",
      "1      12.0    -0.192976  0.049550  0.340180  0.243270  0.558092  10251.0\n",
      "2      14.0    -0.149169  0.150901  0.378263  0.483407  0.886860  11607.0\n",
      "3       9.0    -0.216264  0.454955  0.118528  0.455776  0.549467  12098.0\n",
      "4       5.0    -0.251888  0.112613  0.357724  0.441817  0.393201  13593.0\n",
      "23624\n",
      "   LC_Type1  LST_Day_1km        pr       aet      NDVI       EVI      Gpp\n",
      "0      12.0    -0.159366  0.513513  0.552418  0.288563  0.770675  11278.0\n",
      "1      12.0    -0.136329  0.612613  0.493795  0.221051  0.611872   9801.0\n",
      "2      12.0    -0.034743  0.536036  0.597775  0.144709  0.299340   8328.0\n",
      "3      14.0    -0.075529  0.774775  0.693196  0.297394  0.671233   9543.0\n",
      "4       5.0    -0.434290  1.313063  0.653402  0.452072  0.118214  11667.0\n"
     ]
    }
   ],
   "source": [
    "upstream_train_df = pd.read_csv(f'{DATA_FOLDER}{UPSTREAM_TRAIN_FILENAME}')\n",
    "upstream_val_df = pd.read_csv(f'{DATA_FOLDER}{UPSTREAM_VAL_FILENAME}')\n",
    "print(len(upstream_train_df))\n",
    "print(upstream_train_df.head())\n",
    "print(len(upstream_val_df))\n",
    "print(upstream_val_df.head())"
   ]
  },
  {
   "cell_type": "code",
   "execution_count": 5,
   "id": "d9b0e733-4734-49e9-b353-c246206c0701",
   "metadata": {
    "collapsed": true,
    "jupyter": {
     "outputs_hidden": true
    },
    "tags": []
   },
   "outputs": [],
   "source": [
    "upstream_train_df = embed_catgorical_features(upstream_train_df, CATEGORICAL_FEATURES)\n",
    "upstream_val_df = embed_catgorical_features(upstream_val_df, CATEGORICAL_FEATURES)"
   ]
  },
  {
   "cell_type": "code",
   "execution_count": 6,
   "id": "c6440f83-4c27-4ed6-9a1a-6b749f68d1be",
   "metadata": {
    "collapsed": true,
    "jupyter": {
     "outputs_hidden": true
    },
    "tags": []
   },
   "outputs": [
    {
     "name": "stderr",
     "output_type": "stream",
     "text": [
      "/home/zheng.yant/ML-LUE/fttransformer/utils/preprocessing.py:21: FutureWarning: Support for multi-dimensional indexing (e.g. `obj[:, None]`) is deprecated and will be removed in a future version.  Convert to a numpy array before indexing instead.\n",
      "  dataset[key] = value[:, tf.newaxis]\n",
      "/home/zheng.yant/ML-LUE/fttransformer/utils/preprocessing.py:21: FutureWarning: Support for multi-dimensional indexing (e.g. `obj[:, None]`) is deprecated and will be removed in a future version.  Convert to a numpy array before indexing instead.\n",
      "  dataset[key] = value[:, tf.newaxis]\n"
     ]
    }
   ],
   "source": [
    "upstream_train_tf = df_to_dataset(upstream_train_df[FEATURES + [TARGET_FEATURE]], TARGET_FEATURE, shuffle=True, batch_size=512)\n",
    "upstream_val_tf = df_to_dataset(upstream_val_df[FEATURES + [TARGET_FEATURE]], TARGET_FEATURE, shuffle=False, batch_size=512)"
   ]
  },
  {
   "cell_type": "code",
   "execution_count": 7,
   "id": "5d937924-f782-460c-aeda-efd7f599650a",
   "metadata": {
    "collapsed": true,
    "jupyter": {
     "outputs_hidden": true
    },
    "tags": []
   },
   "outputs": [],
   "source": [
    "class MyHyperModel(keras_tuner.HyperModel):\n",
    "    def __init__(self, df_train):\n",
    "        self.df_train = df_train\n",
    "        \n",
    "    def build(self, hp):\n",
    "        d_embedding = hp.Int(\"d_embedding\", min_value=32, max_value=512, step=8)\n",
    "        n_layers = hp.Int(\"n_layers\", min_value=1, max_value=8)\n",
    "        ffn_factor = hp.Float(\"ffn_factor\", min_value=2/3, max_value=8/3, sampling=\"linear\")\n",
    "        attention_dropout = hp.Float(\"attention_dropout\", min_value=0.0, max_value=0.5, sampling=\"linear\")\n",
    "        ffn_dropout = hp.Float(\"ffn_dropout\", min_value=0.0, max_value=0.5, sampling=\"linear\")\n",
    "        residual_dropout = hp.Float(\"residual_dropout\", min_value=0.0, max_value=0.2, default=0.0, sampling=\"linear\")\n",
    "\n",
    "        lr = hp.Float(\"lr\", min_value=1e-5, max_value=1e-2, sampling=\"log\")\n",
    "        weight_decay = hp.Float(\"weight_decay\", min_value=1e-6, max_value=1e-3, sampling=\"log\")\n",
    "        \n",
    "        mlp_head_unit_1 = hp.Int(\"mlp_head_unit_1\", min_value=16, max_value=128, step=8)\n",
    "        mlp_head_unit_2 = hp.Int(\"mlp_head_unit_2\", min_value=16, max_value=128, step=8)\n",
    "\n",
    "        model = compile_model(\n",
    "            self.df_train,\n",
    "            d_embedding=d_embedding, \n",
    "            n_layers=n_layers, \n",
    "            ffn_factor=ffn_factor,\n",
    "            attention_dropout=attention_dropout,\n",
    "            ffn_dropout=ffn_dropout,\n",
    "            residual_dropout=residual_dropout,\n",
    "            weight_decay=weight_decay,\n",
    "            lr=lr,\n",
    "            mlp_head_unit_1=mlp_head_unit_1,\n",
    "            mlp_head_unit_2=mlp_head_unit_2\n",
    "        )\n",
    "        return model"
   ]
  },
  {
   "cell_type": "code",
   "execution_count": 8,
   "id": "117361c8-4968-4f5c-93fb-4d3611e37142",
   "metadata": {
    "collapsed": true,
    "jupyter": {
     "outputs_hidden": true
    },
    "tags": []
   },
   "outputs": [],
   "source": [
    "import json\n",
    "import os.path\n",
    "\n",
    "\n",
    "class CustomCallback(tf.keras.callbacks.Callback):\n",
    "    static_cur_best_result = np.Inf\n",
    "    def __init__(\n",
    "        self,\n",
    "        filepath,\n",
    "        log_dump_filepath,\n",
    "        monitor: str = \"val_loss\",\n",
    "        mode: str = \"auto\",\n",
    "        **kwargs,\n",
    "    ):\n",
    "        self.checkpoint = tf.keras.callbacks.ModelCheckpoint(\n",
    "                                monitor=monitor,\n",
    "                                mode=mode,\n",
    "                                save_best_only=True,\n",
    "                                filepath=filepath)\n",
    "        self.log_dump_filepath = log_dump_filepath\n",
    "        if os.path.exists(self.log_dump_filepath):\n",
    "            with open(self.log_dump_filepath) as f: \n",
    "                data = f.read() \n",
    "                di = json.loads(data) \n",
    "                CustomCallback.static_cur_best_result = di['best_result']\n",
    "                print(f'read best result {CustomCallback.static_cur_best_result} from {self.log_dump_filepath}')\n",
    "\n",
    "    def set_params(self, params):\n",
    "        self.checkpoint.set_params(params)\n",
    "\n",
    "    def set_model(self, model):\n",
    "        self.checkpoint.set_model(model)\n",
    "    \n",
    "    def on_train_begin(self, logs=None):\n",
    "        self.checkpoint.on_train_begin(logs)\n",
    "\n",
    "    def on_train_end(self, logs=None):\n",
    "        keys = list(logs.keys())\n",
    "\n",
    "    def on_epoch_begin(self, epoch, logs=None):\n",
    "        self.checkpoint.on_epoch_begin(epoch, logs)\n",
    "\n",
    "    def on_epoch_end(self, epoch, logs=None):\n",
    "        current = logs.get(self.checkpoint.monitor) \n",
    "        if self.checkpoint.monitor_op(current, CustomCallback.static_cur_best_result):\n",
    "            print('+++++ Get a better result, save the model +++++')\n",
    "            self.checkpoint.on_epoch_end(epoch, logs)\n",
    "            CustomCallback.static_cur_best_result = current\n",
    "            # Data to be written\n",
    "            dictionary = {\n",
    "                \"best_result\": current,\n",
    "            }\n",
    "\n",
    "            # Serializing json\n",
    "            json_object = json.dumps(dictionary, indent=4)\n",
    "            with open(self.log_dump_filepath, \"w\") as outfile:\n",
    "                json.dump(dictionary, outfile)\n",
    "        else:\n",
    "            print('+++++ Not as good as the best so far, no saving +++++')\n",
    "            self.checkpoint.epochs_since_last_save += 1\n",
    "\n",
    "            \n",
    "\n",
    "    def on_train_batch_end(self, batch, logs=None):\n",
    "        self.checkpoint.on_train_batch_end(batch, logs)\n"
   ]
  },
  {
   "cell_type": "code",
   "execution_count": 9,
   "id": "261090ab-73f7-4ecf-9bea-f14ffa015daa",
   "metadata": {
    "collapsed": true,
    "jupyter": {
     "outputs_hidden": true
    },
    "tags": []
   },
   "outputs": [],
   "source": [
    "callbacks = [\n",
    "    CustomCallback(\n",
    "        monitor=finetune_objective[0].name,\n",
    "        mode=finetune_objective[0].direction,\n",
    "        filepath=MODEL_SAVE_DIR,\n",
    "        log_dump_filepath=f'{UPSTREAM_FINETUNE_DIR}log_best_result.txt',\n",
    "    )\n",
    "]"
   ]
  },
  {
   "cell_type": "code",
   "execution_count": 10,
   "id": "bdc20305-66fe-4ade-bfce-adab0d189582",
   "metadata": {
    "collapsed": true,
    "jupyter": {
     "outputs_hidden": true
    },
    "tags": []
   },
   "outputs": [],
   "source": [
    "hp = keras_tuner.HyperParameters()"
   ]
  },
  {
   "cell_type": "code",
   "execution_count": 11,
   "id": "b07e5a88-6bcf-4564-b6ad-dd87789697fc",
   "metadata": {
    "collapsed": true,
    "jupyter": {
     "outputs_hidden": true
    },
    "tags": []
   },
   "outputs": [],
   "source": [
    "def start_fine_tune(objective, epochs=10, max_trials=20, overwrite=False):\n",
    "    tf.keras.backend.clear_session()\n",
    "    m = MyHyperModel(upstream_train_df)\n",
    "    tuner = get_random_search_instance(objective, UPSTREAM_FINETUNE_DIR, overwrite, m, max_trials=max_trials)\n",
    "    tuner.search(upstream_train_tf, validation_data=upstream_val_tf, epochs=epochs, callbacks=callbacks)\n",
    "    return tuner"
   ]
  },
  {
   "cell_type": "markdown",
   "id": "4718d845-00e5-40b2-a6da-1e672d110ad7",
   "metadata": {},
   "source": [
    "## Fine tune with RMSE"
   ]
  },
  {
   "cell_type": "markdown",
   "id": "0d18029c-16fb-47e3-aa7d-e55dfcb2261a",
   "metadata": {
    "tags": []
   },
   "source": [
    "### Fine tune"
   ]
  },
  {
   "cell_type": "code",
   "execution_count": null,
   "id": "a17f8238-2dba-4280-ae90-01cb649be30a",
   "metadata": {
    "collapsed": true,
    "jupyter": {
     "outputs_hidden": true
    },
    "tags": []
   },
   "outputs": [
    {
     "name": "stdout",
     "output_type": "stream",
     "text": [
      "\n",
      "Search: Running Trial #1\n",
      "\n",
      "Value             |Best Value So Far |Hyperparameter\n",
      "472               |472               |d_embedding\n",
      "1                 |1                 |n_layers\n",
      "1.0876            |1.0876            |ffn_factor\n",
      "0.15127           |0.15127           |attention_dropout\n",
      "0.45905           |0.45905           |ffn_dropout\n",
      "0.062671          |0.062671          |residual_dropout\n",
      "0.0030623         |0.0030623         |lr\n",
      "1.2101e-05        |1.2101e-05        |weight_decay\n",
      "16                |16                |mlp_head_unit_1\n",
      "96                |96                |mlp_head_unit_2\n",
      "\n",
      "Epoch 1/100\n",
      "277/277 [==============================] - ETA: 0s - loss: 107705664.0000 - importances_loss: 97134328.0000 - output_loss: 10571315.0000 - importances_root_mean_squared_error: 9855.6729 - output_root_mean_squared_error: 3251.3560+++++ Get a better result, save the model +++++\n"
     ]
    },
    {
     "name": "stderr",
     "output_type": "stream",
     "text": [
      "WARNING:absl:Function `_wrapped_model` contains input name(s) EVI, LC_Type1, LST_Day_1km, NDVI with unsupported characters which will be renamed to evi, lc_type1, lst_day_1km, ndvi in the SavedModel.\n",
      "WARNING:absl:Found untraced functions such as _update_step_xla, dense_layer_call_fn, dense_layer_call_and_return_conditional_losses, dense_1_layer_call_fn, dense_1_layer_call_and_return_conditional_losses while saving (showing 5 of 29). These functions will not be directly callable after loading.\n"
     ]
    },
    {
     "name": "stdout",
     "output_type": "stream",
     "text": [
      "277/277 [==============================] - 292s 1s/step - loss: 107705664.0000 - importances_loss: 97134328.0000 - output_loss: 10571315.0000 - importances_root_mean_squared_error: 9855.6729 - output_root_mean_squared_error: 3251.3560 - val_loss: 102116648.0000 - val_importances_loss: 97465104.0000 - val_output_loss: 4651543.5000 - val_importances_root_mean_squared_error: 9872.4414 - val_output_root_mean_squared_error: 2156.7437\n",
      "Epoch 2/100\n",
      "277/277 [==============================] - ETA: 0s - loss: 103900232.0000 - importances_loss: 97134320.0000 - output_loss: 6765885.0000 - importances_root_mean_squared_error: 9855.6738 - output_root_mean_squared_error: 2601.1316+++++ Not as good as the best so far, no saving +++++\n",
      "277/277 [==============================] - 294s 1s/step - loss: 103900232.0000 - importances_loss: 97134320.0000 - output_loss: 6765885.0000 - importances_root_mean_squared_error: 9855.6738 - output_root_mean_squared_error: 2601.1316 - val_loss: 102738080.0000 - val_importances_loss: 97465104.0000 - val_output_loss: 5272968.0000 - val_importances_root_mean_squared_error: 9872.4414 - val_output_root_mean_squared_error: 2296.2944\n",
      "Epoch 3/100\n",
      "277/277 [==============================] - ETA: 0s - loss: 103856200.0000 - importances_loss: 97134344.0000 - output_loss: 6721865.5000 - importances_root_mean_squared_error: 9855.6758 - output_root_mean_squared_error: 2592.6560+++++ Not as good as the best so far, no saving +++++\n",
      "277/277 [==============================] - 272s 979ms/step - loss: 103856200.0000 - importances_loss: 97134344.0000 - output_loss: 6721865.5000 - importances_root_mean_squared_error: 9855.6758 - output_root_mean_squared_error: 2592.6560 - val_loss: 102201072.0000 - val_importances_loss: 97465104.0000 - val_output_loss: 4735970.5000 - val_importances_root_mean_squared_error: 9872.4414 - val_output_root_mean_squared_error: 2176.2285\n",
      "Epoch 4/100\n",
      "277/277 [==============================] - ETA: 0s - loss: 103956720.0000 - importances_loss: 97134368.0000 - output_loss: 6822342.5000 - importances_root_mean_squared_error: 9855.6729 - output_root_mean_squared_error: 2611.9614+++++ Not as good as the best so far, no saving +++++\n",
      "277/277 [==============================] - 260s 936ms/step - loss: 103956720.0000 - importances_loss: 97134368.0000 - output_loss: 6822342.5000 - importances_root_mean_squared_error: 9855.6729 - output_root_mean_squared_error: 2611.9614 - val_loss: 103446680.0000 - val_importances_loss: 97465104.0000 - val_output_loss: 5981588.0000 - val_importances_root_mean_squared_error: 9872.4414 - val_output_root_mean_squared_error: 2445.7285\n",
      "Epoch 5/100\n",
      "277/277 [==============================] - ETA: 0s - loss: 104120504.0000 - importances_loss: 97134320.0000 - output_loss: 6986150.5000 - importances_root_mean_squared_error: 9855.6738 - output_root_mean_squared_error: 2643.1328+++++ Not as good as the best so far, no saving +++++\n",
      "277/277 [==============================] - 252s 908ms/step - loss: 104120504.0000 - importances_loss: 97134320.0000 - output_loss: 6986150.5000 - importances_root_mean_squared_error: 9855.6738 - output_root_mean_squared_error: 2643.1328 - val_loss: 103135888.0000 - val_importances_loss: 97465104.0000 - val_output_loss: 5670788.0000 - val_importances_root_mean_squared_error: 9872.4414 - val_output_root_mean_squared_error: 2381.3416\n",
      "Epoch 6/100\n",
      "277/277 [==============================] - ETA: 0s - loss: 104026928.0000 - importances_loss: 97134336.0000 - output_loss: 6892629.5000 - importances_root_mean_squared_error: 9855.6777 - output_root_mean_squared_error: 2625.3818+++++ Not as good as the best so far, no saving +++++\n",
      "277/277 [==============================] - 253s 912ms/step - loss: 104026928.0000 - importances_loss: 97134336.0000 - output_loss: 6892629.5000 - importances_root_mean_squared_error: 9855.6777 - output_root_mean_squared_error: 2625.3818 - val_loss: 103434792.0000 - val_importances_loss: 97465104.0000 - val_output_loss: 5969680.5000 - val_importances_root_mean_squared_error: 9872.4414 - val_output_root_mean_squared_error: 2443.2930\n",
      "Epoch 7/100\n",
      "277/277 [==============================] - ETA: 0s - loss: 104015296.0000 - importances_loss: 97134320.0000 - output_loss: 6880954.0000 - importances_root_mean_squared_error: 9855.6768 - output_root_mean_squared_error: 2623.1572+++++ Not as good as the best so far, no saving +++++\n",
      "277/277 [==============================] - 255s 918ms/step - loss: 104015296.0000 - importances_loss: 97134320.0000 - output_loss: 6880954.0000 - importances_root_mean_squared_error: 9855.6768 - output_root_mean_squared_error: 2623.1572 - val_loss: 102785800.0000 - val_importances_loss: 97465104.0000 - val_output_loss: 5320716.0000 - val_importances_root_mean_squared_error: 9872.4414 - val_output_root_mean_squared_error: 2306.6677\n",
      "Epoch 8/100\n",
      "277/277 [==============================] - ETA: 0s - loss: 104403616.0000 - importances_loss: 97134352.0000 - output_loss: 7269231.0000 - importances_root_mean_squared_error: 9855.6768 - output_root_mean_squared_error: 2696.1511+++++ Not as good as the best so far, no saving +++++\n",
      "277/277 [==============================] - 246s 886ms/step - loss: 104403616.0000 - importances_loss: 97134352.0000 - output_loss: 7269231.0000 - importances_root_mean_squared_error: 9855.6768 - output_root_mean_squared_error: 2696.1511 - val_loss: 102493624.0000 - val_importances_loss: 97465104.0000 - val_output_loss: 5028516.0000 - val_importances_root_mean_squared_error: 9872.4414 - val_output_root_mean_squared_error: 2242.4353\n",
      "Epoch 9/100\n",
      "277/277 [==============================] - ETA: 0s - loss: 104737304.0000 - importances_loss: 97134360.0000 - output_loss: 7602994.5000 - importances_root_mean_squared_error: 9855.6768 - output_root_mean_squared_error: 2757.3528+++++ Not as good as the best so far, no saving +++++\n",
      "277/277 [==============================] - 256s 921ms/step - loss: 104737304.0000 - importances_loss: 97134360.0000 - output_loss: 7602994.5000 - importances_root_mean_squared_error: 9855.6768 - output_root_mean_squared_error: 2757.3528 - val_loss: 103563936.0000 - val_importances_loss: 97465104.0000 - val_output_loss: 6098833.5000 - val_importances_root_mean_squared_error: 9872.4414 - val_output_root_mean_squared_error: 2469.5815\n",
      "Epoch 10/100\n",
      "277/277 [==============================] - ETA: 0s - loss: 101995728.0000 - importances_loss: 97134304.0000 - output_loss: 4861394.0000 - importances_root_mean_squared_error: 9855.6758 - output_root_mean_squared_error: 2204.8569+++++ Get a better result, save the model +++++\n"
     ]
    },
    {
     "name": "stderr",
     "output_type": "stream",
     "text": [
      "WARNING:absl:Function `_wrapped_model` contains input name(s) EVI, LC_Type1, LST_Day_1km, NDVI with unsupported characters which will be renamed to evi, lc_type1, lst_day_1km, ndvi in the SavedModel.\n",
      "WARNING:absl:Found untraced functions such as _update_step_xla, dense_layer_call_fn, dense_layer_call_and_return_conditional_losses, dense_1_layer_call_fn, dense_1_layer_call_and_return_conditional_losses while saving (showing 5 of 29). These functions will not be directly callable after loading.\n"
     ]
    },
    {
     "name": "stdout",
     "output_type": "stream",
     "text": [
      "277/277 [==============================] - 256s 922ms/step - loss: 101995728.0000 - importances_loss: 97134304.0000 - output_loss: 4861394.0000 - importances_root_mean_squared_error: 9855.6758 - output_root_mean_squared_error: 2204.8569 - val_loss: 101670928.0000 - val_importances_loss: 97465104.0000 - val_output_loss: 4205831.5000 - val_importances_root_mean_squared_error: 9872.4414 - val_output_root_mean_squared_error: 2050.8125\n",
      "Epoch 11/100\n",
      "277/277 [==============================] - ETA: 0s - loss: 101245304.0000 - importances_loss: 97134360.0000 - output_loss: 4110988.7500 - importances_root_mean_squared_error: 9855.6738 - output_root_mean_squared_error: 2027.5574+++++ Get a better result, save the model +++++\n"
     ]
    },
    {
     "name": "stderr",
     "output_type": "stream",
     "text": [
      "WARNING:absl:Function `_wrapped_model` contains input name(s) EVI, LC_Type1, LST_Day_1km, NDVI with unsupported characters which will be renamed to evi, lc_type1, lst_day_1km, ndvi in the SavedModel.\n",
      "WARNING:absl:Found untraced functions such as _update_step_xla, dense_layer_call_fn, dense_layer_call_and_return_conditional_losses, dense_1_layer_call_fn, dense_1_layer_call_and_return_conditional_losses while saving (showing 5 of 29). These functions will not be directly callable after loading.\n"
     ]
    },
    {
     "name": "stdout",
     "output_type": "stream",
     "text": [
      "277/277 [==============================] - 259s 934ms/step - loss: 101245304.0000 - importances_loss: 97134360.0000 - output_loss: 4110988.7500 - importances_root_mean_squared_error: 9855.6738 - output_root_mean_squared_error: 2027.5574 - val_loss: 101224576.0000 - val_importances_loss: 97465104.0000 - val_output_loss: 3759474.2500 - val_importances_root_mean_squared_error: 9872.4414 - val_output_root_mean_squared_error: 1938.9364\n",
      "Epoch 12/100\n",
      "277/277 [==============================] - ETA: 0s - loss: 101017904.0000 - importances_loss: 97134304.0000 - output_loss: 3883609.2500 - importances_root_mean_squared_error: 9855.6768 - output_root_mean_squared_error: 1970.6875+++++ Get a better result, save the model +++++\n"
     ]
    },
    {
     "name": "stderr",
     "output_type": "stream",
     "text": [
      "WARNING:absl:Function `_wrapped_model` contains input name(s) EVI, LC_Type1, LST_Day_1km, NDVI with unsupported characters which will be renamed to evi, lc_type1, lst_day_1km, ndvi in the SavedModel.\n",
      "WARNING:absl:Found untraced functions such as _update_step_xla, dense_layer_call_fn, dense_layer_call_and_return_conditional_losses, dense_1_layer_call_fn, dense_1_layer_call_and_return_conditional_losses while saving (showing 5 of 29). These functions will not be directly callable after loading.\n"
     ]
    },
    {
     "name": "stdout",
     "output_type": "stream",
     "text": [
      "277/277 [==============================] - 270s 971ms/step - loss: 101017904.0000 - importances_loss: 97134304.0000 - output_loss: 3883609.2500 - importances_root_mean_squared_error: 9855.6768 - output_root_mean_squared_error: 1970.6875 - val_loss: 101001864.0000 - val_importances_loss: 97465104.0000 - val_output_loss: 3536768.7500 - val_importances_root_mean_squared_error: 9872.4414 - val_output_root_mean_squared_error: 1880.6299\n",
      "Epoch 13/100\n",
      "277/277 [==============================] - ETA: 0s - loss: 101481544.0000 - importances_loss: 97134376.0000 - output_loss: 4347191.0000 - importances_root_mean_squared_error: 9855.6758 - output_root_mean_squared_error: 2084.9919+++++ Not as good as the best so far, no saving +++++\n",
      "277/277 [==============================] - 250s 902ms/step - loss: 101481544.0000 - importances_loss: 97134376.0000 - output_loss: 4347191.0000 - importances_root_mean_squared_error: 9855.6758 - output_root_mean_squared_error: 2084.9919 - val_loss: 101233232.0000 - val_importances_loss: 97465104.0000 - val_output_loss: 3768124.5000 - val_importances_root_mean_squared_error: 9872.4414 - val_output_root_mean_squared_error: 1941.1658\n",
      "Epoch 14/100\n",
      "277/277 [==============================] - ETA: 0s - loss: 101443128.0000 - importances_loss: 97134328.0000 - output_loss: 4308789.5000 - importances_root_mean_squared_error: 9855.6738 - output_root_mean_squared_error: 2075.7625+++++ Not as good as the best so far, no saving +++++\n",
      "277/277 [==============================] - 249s 896ms/step - loss: 101443128.0000 - importances_loss: 97134328.0000 - output_loss: 4308789.5000 - importances_root_mean_squared_error: 9855.6738 - output_root_mean_squared_error: 2075.7625 - val_loss: 102313312.0000 - val_importances_loss: 97465104.0000 - val_output_loss: 4848211.0000 - val_importances_root_mean_squared_error: 9872.4414 - val_output_root_mean_squared_error: 2201.8652\n",
      "Epoch 15/100\n",
      "277/277 [==============================] - ETA: 0s - loss: 101420088.0000 - importances_loss: 97134312.0000 - output_loss: 4285777.0000 - importances_root_mean_squared_error: 9855.6729 - output_root_mean_squared_error: 2070.2119+++++ Not as good as the best so far, no saving +++++\n",
      "277/277 [==============================] - 256s 920ms/step - loss: 101420088.0000 - importances_loss: 97134312.0000 - output_loss: 4285777.0000 - importances_root_mean_squared_error: 9855.6729 - output_root_mean_squared_error: 2070.2119 - val_loss: 101825856.0000 - val_importances_loss: 97465104.0000 - val_output_loss: 4360747.5000 - val_importances_root_mean_squared_error: 9872.4414 - val_output_root_mean_squared_error: 2088.2402\n",
      "Epoch 16/100\n",
      "277/277 [==============================] - ETA: 0s - loss: 101111920.0000 - importances_loss: 97134336.0000 - output_loss: 3977570.0000 - importances_root_mean_squared_error: 9855.6777 - output_root_mean_squared_error: 1994.3846+++++ Not as good as the best so far, no saving +++++\n",
      "277/277 [==============================] - 254s 913ms/step - loss: 101111920.0000 - importances_loss: 97134336.0000 - output_loss: 3977570.0000 - importances_root_mean_squared_error: 9855.6777 - output_root_mean_squared_error: 1994.3846 - val_loss: 102291112.0000 - val_importances_loss: 97465104.0000 - val_output_loss: 4826004.5000 - val_importances_root_mean_squared_error: 9872.4414 - val_output_root_mean_squared_error: 2196.8169\n",
      "Epoch 17/100\n",
      "144/277 [==============>...............] - ETA: 1:55 - loss: 100866040.0000 - importances_loss: 96973720.0000 - output_loss: 3892322.7500 - importances_root_mean_squared_error: 9847.5225 - output_root_mean_squared_error: 1972.8971"
     ]
    }
   ],
   "source": [
    "tuner = start_fine_tune(finetune_objective, epochs=100, max_trials=3)"
   ]
  },
  {
   "cell_type": "markdown",
   "id": "7df28496-bb4c-42f1-bc60-ccd597108db3",
   "metadata": {
    "tags": []
   },
   "source": [
    "### Load best results and predict"
   ]
  },
  {
   "cell_type": "code",
   "execution_count": 7,
   "id": "698e0ded-3285-40ea-9158-b1c169f5e37e",
   "metadata": {
    "collapsed": true,
    "jupyter": {
     "outputs_hidden": true
    },
    "tags": []
   },
   "outputs": [],
   "source": [
    "model_reload = tf.keras.models.load_model(MODEL_SAVE_DIR)\n",
    "get_rmse_on_upstream_val(model_reload, upstream_val_df)"
   ]
  },
  {
   "cell_type": "code",
   "execution_count": 9,
   "id": "c6200134-5c50-44b9-ac43-b9b6ac1b05de",
   "metadata": {
    "collapsed": true,
    "jupyter": {
     "outputs_hidden": true
    },
    "tags": []
   },
   "outputs": [],
   "source": [
    "downstream_test_df = pd.read_csv(f'{DATA_FOLDER}{DOWNSTREAM_TEST_FILENAME}')\n",
    "downstream_test_df = embed_catgorical_features(downstream_test_df, CATEGORICAL_FEATURES)"
   ]
  },
  {
   "cell_type": "code",
   "execution_count": 10,
   "id": "4ecac96d-cebe-457f-8f68-2a827badbfab",
   "metadata": {
    "collapsed": true,
    "jupyter": {
     "outputs_hidden": true
    },
    "tags": []
   },
   "outputs": [
    {
     "name": "stdout",
     "output_type": "stream",
     "text": [
      " 28/160 [====>.........................] - ETA: 0s"
     ]
    },
    {
     "name": "stderr",
     "output_type": "stream",
     "text": [
      "/home/zheng.yant/ML-LUE/fttransformer/utils/preprocessing.py:27: FutureWarning: Support for multi-dimensional indexing (e.g. `obj[:, None]`) is deprecated and will be removed in a future version.  Convert to a numpy array before indexing instead.\n",
      "  dataset[key] = value[:, tf.newaxis]\n"
     ]
    },
    {
     "name": "stdout",
     "output_type": "stream",
     "text": [
      "160/160 [==============================] - 4s 24ms/step\n",
      "Linear Encoding RMSE: 4903.9177\n",
      "MOD17 RMSE: 4586.4354\n"
     ]
    }
   ],
   "source": [
    "predict_results = get_predict_result(model_reload, downstream_test_df[FEATURES], downstream_test_df[TARGET_FEATURE])\n",
    "fluxnet_modis_test_df = get_modis_compare_data(predict_results['output'].ravel())\n",
    "get_modis_result(fluxnet_modis_test_df[TARGET_FEATURE], downstream_test_df[TARGET_FEATURE])"
   ]
  },
  {
   "cell_type": "code",
   "execution_count": 11,
   "id": "356cb195-e47b-46bd-af69-c12cbd567357",
   "metadata": {
    "collapsed": true,
    "jupyter": {
     "outputs_hidden": true
    },
    "tags": []
   },
   "outputs": [
    {
     "name": "stderr",
     "output_type": "stream",
     "text": [
      "<ipython-input-2-73ed0f6d1bee>:2: UserWarning: color is redundantly defined by the 'color' keyword argument and the fmt string \"-g\" (-> color='g'). The keyword argument will take precedence.\n",
      "  plt.plot(actual_df, actual_df, '-g', color='red')\n"
     ]
    },
    {
     "data": {
      "image/png": "[encoded data removed]",
      "text/plain": [
       "<Figure size 432x288 with 1 Axes>"
      ]
     },
     "metadata": {
      "needs_background": "light"
     },
     "output_type": "display_data"
    }
   ],
   "source": [
    "plot_result_distribution(downstream_test_df[TARGET_FEATURE], predict_results['output'].ravel(), fluxnet_modis_test_df[TARGET_FEATURE])"
   ]
  },
  {
   "cell_type": "code",
   "execution_count": null,
   "id": "bb6c9a9e-9428-4f59-99e4-f16ee3ccac43",
   "metadata": {
    "collapsed": true,
    "jupyter": {
     "outputs_hidden": true
    }
   },
   "outputs": [],
   "source": []
  }
 ],
 "metadata": {
  "kernelspec": {
   "display_name": "Python 3",
   "language": "python",
   "name": "python3"
  },
  "language_info": {
   "codemirror_mode": {
    "name": "ipython",
    "version": 3
   },
   "file_extension": ".py",
   "mimetype": "text/x-python",
   "name": "python",
   "nbconvert_exporter": "python",
   "pygments_lexer": "ipython3",
   "version": "3.9.18"
  }
 },
 "nbformat": 4,
 "nbformat_minor": 5
}
